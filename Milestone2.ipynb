{
 "cells": [
  {
   "cell_type": "markdown",
   "metadata": {},
   "source": [
    "*** Install the <a href='https://anaconda.org/conda-forge/jupyterlab-plotly-extension'> extension of plotly for jupyter lab</a> if some plot is not showing in the end of the notebook.***<br>\n"
   ]
  },
  {
   "cell_type": "markdown",
   "metadata": {},
   "source": [
    "# Data collection:\n",
    "\n",
    "   <b> Our data are collected from 5 sources: </b>\n",
    "<ul>\n",
    "    <li> Google BigQuery\n",
    "    <li>StackOverflow Annual Developper Survey (from 2012 to 2018)<a href='https://insights.stackoverflow.com/survey'> StackOverflow Annual Developper Survey</a>\n",
    "    <li>StackExchange archives   <a href=\"https://archive.org/download/stackexchange\" >Archive Org</a>   \n",
    "    <li>World Bank Open Data /UN Data/ Kaggle <a href=\"https://data.worldbank.org\" >World Bank</a>                   \n",
    "    <li>Unstructured data scraped from wikipedia and other sites\n",
    "\n",
    "</ul>\n",
    "\n",
    "### StackOverflow Annual Developper Survey:\n",
    "StackOverflow Annual Developper Survey contains more than 60 qusetions(questions vary each year), and number of people participating are as follows:\n",
    "\n",
    "\n",
    "| Year | Number of responses   |Number of Questions|\n",
    "|------|------|-----|\n",
    "|2012   | -|   -|\n",
    "|2013   | 9743|   128|\n",
    "|2014   | 7644|   120|\n",
    "|2015   | 26087|   222|\n",
    "|2016   | 56030|   66|\n",
    "|2017   | 51392|   154|\n",
    "|2018   | 98855|   129|\n",
    "\n",
    "\n",
    "Survey Questions include: 'Professional', 'ProgramHobby', 'Country', 'University',\n",
    "       'EmploymentStatus', 'FormalEducation' etc.\n",
    "       \n",
    "Since the schema is too different for years before 2016, we will only use the recent 4 years, i.e. 2016 - 2019, survey data in our analysis. \n",
    "\n",
    "### Google BigQuery:\n",
    "\n",
    "We queried from BigQeury 3 datasets:\n",
    "<ol>\n",
    "    <li>data of answers created between 2016 and 2019  (588.2MB)\n",
    "        <img src=\"./notebook_figures/answers.png\" alt=\"Alt text that describes the graphic\" title=\"Title text\" />\n",
    "    <li>data of questions created between 2016 and 2019 (624.8MB)\n",
    "        <img src=\"./notebook_figures/questions.png\" alt=\"Alt text that describes the graphic\" title=\"Title text\" />\n",
    "    <li>data of users registered between 2016 and 2019 (303.1MB)\n",
    "        <img src=\"./notebook_figures/users.png\" alt=\"Alt text that describes the graphic\" title=\"Title text\" />\n",
    "</ol>\n",
    "\n",
    "### World Bank Open Data/UN Data/Kaggle:\n",
    "\n",
    "<ul>\n",
    "    <li>Mean years of Schooling by country.csv  <a href='http://data.uis.unesco.org/Index.aspx?queryid=242'>  Education: Mean years of schooling</a>\n",
    "        <li>GDP per capita by country.csv  <a href='https://data.worldbank.org/indicator/NY.GDP.PCAP.CD?view=map'>GDP per capita (current US$)</a>\n",
    "            <li> Population by country.csv   <a href='https://data.worldbank.org/indicator/sp.pop.totl'> population.total</a>\n",
    "                <li > list-of-countries-by-number-of-internet-users.csv  <a href=\"https://www.kaggle.com/tanuprabhu/list-of-countries-by-number-of-internet-users\" >list-of-countries-by-number-of-internet-users</a>\n",
    "                \n",
    "### StackExchange archives:\n",
    "Currently, we have not used any data from the archives directly. But it could be a possible data source. <br>\n",
    "\n",
    "\n",
    "| Dataset | Updating Date   |Size|\n",
    "|------|------|-----|\n",
    "|stackoverflow.com-Badges.7z\t|02-Sep-2019 13:10\t|233.9M|\n",
    "|stackoverflow.com-Comments.7z\t|02-Sep-2019 13:22\t|4.1G|\n",
    "|stackoverflow.com-PostHistory.7z\t|03-Sep-2019 23:59\t|24.4G|\n",
    "|stackoverflow.com-PostLinks.7z\t|03-Sep-2019 16:11\t|82.1M|\n",
    "|stackoverflow.com-Posts.7z\t|04-Sep-2019 14:38\t|13.9G|\n",
    "|stackoverflow.com-Tags.7z\t|03-Sep-2019 16:11\t|787.6K|\n",
    "|stackoverflow.com-Users.7z\t|03-Sep-2019 16:27\t|477.2M|\n",
    "|stackoverflow.com-Votes.7z\t|03-Sep-2019 16:34\t|1.0G|"
   ]
  },
  {
   "cell_type": "markdown",
   "metadata": {},
   "source": [
    "# Research Direction: <br>StackOverflow as a social network - User activity analysis\n",
    "\n",
    "## Objective:\n",
    "For most people doing coding today, Stack Overflow should not be an unfamiliar site. It is being used by thousands and potentially millions of people from all over the world each day to find solutions to problems. The main idea of our project is that it would be interesting to see what are the users of Stackoverflow really like and how are they distributed around the world? Which countries contribute the most to the site, and in which ways? The information could be very interesting to Stackoverflow itself, since it would allow them to understand the users potential areas for growth. Since Stackoverflow is such a large and widely used site for help in programming, it is also interesting in a wider perspective since the results could reflect something about how the programming community works as a whole.\n",
    "\n",
    "Smaller Objective:\n",
    "1. __Time Evolution of StackOverflow User commuity__<br>\n",
    "StackOverflow has already a thorough analysis of its annual survey result, but primarily focused on a single year. In other words, we think some chronological persepectives and comparaisons could be done to complement the analysis already exists. In order to do so, we need to select the commom fields of all 4 years and concatenate these data of 4 years into a single dataset and try interpreting the temporal tendency.\n",
    "\n",
    "2. __Geographical distribution__<br>\n",
    "<ul>\n",
    "\n",
    "<li>How are the users distributed geographically? \n",
    "Which countries have the highest amount of users? users per capita? active users?<br>\n",
    "To answer these question, we make use of the SO survey data of a particular year, here 2016. (we may change it to 2018 to make it more recent)<br>\n",
    "We plan to make some geographical visulizations in this part for <b>milestone3</b>.<br><br>\n",
    "\n",
    "<li>StackOverflow as a question-answering website to some extent represents how knowlegde are shared and transported. Comibinng the <i>questions, answers, users</i> datasets, we should be able to draw flows of informations over a worldmap (arrows\n",
    " represent answers sent from one location to another location in the world )\n",
    " for <b>milestone3</b>.<br>For now, we have cleaned the dataset of users information, espeically the messy location data.<br><br> \n",
    "\n",
    "<li>In which countries are the users most active at asking questions and where are they most active at answering them? Are there countries where the users go to the site often but don't contribute that much? Do there exist patterns of questions asked in some countries being often answered in others? <b>milestone3</b>\n",
    "\n",
    "</ul>"
   ]
  },
  {
   "cell_type": "code",
   "execution_count": 1,
   "metadata": {
    "ExecuteTime": {
     "end_time": "2019-11-23T14:20:05.558693Z",
     "start_time": "2019-11-23T14:20:03.560316Z"
    }
   },
   "outputs": [],
   "source": [
    "import re\n",
    "import pycountry \n",
    "import pandas as pd\n",
    "import numpy as np\n",
    "import matplotlib.pyplot as plt\n",
    "import country_converter as coco\n",
    "import pycountry_convert as pc\n",
    "\n",
    "from requests import get\n",
    "from bs4 import BeautifulSoup\n",
    "from html.parser import HTMLParser\n",
    "from pyspark.sql import *\n",
    "from pyspark.sql.functions import *\n",
    "from pyspark import SparkContext\n",
    "from countryinfo import CountryInfo\n",
    "\n",
    "\n",
    "%matplotlib inline"
   ]
  },
  {
   "cell_type": "markdown",
   "metadata": {},
   "source": [
    "## Scraping data "
   ]
  },
  {
   "cell_type": "code",
   "execution_count": 211,
   "metadata": {
    "ExecuteTime": {
     "end_time": "2019-11-23T15:39:36.183011Z",
     "start_time": "2019-11-23T15:39:35.563494Z"
    }
   },
   "outputs": [],
   "source": [
    "''' Average English level of a country should play a role in the popularity of SO among \n",
    "the people. English-speaking countires like UK, USA and Canada have a large user community \n",
    "compared to countries with similar size. Therefore we want to fetch a dataset representing\n",
    "the English level of the countries in the world.\n",
    "\n",
    "we decide to scrape the 2019 EF_English_Proficiency data from wikipedia page '''\n",
    "EF_English_Proficiency = get('https://en.wikipedia.org/wiki/EF_English_Proficiency_Index', 'lxml')\n",
    "\n",
    "''' Grabbing the country names, scores and ranks '''\n",
    "EF_English_Proficiency = BeautifulSoup(EF_English_Proficiency.text, 'html.parser')\n",
    "\n",
    "EF_English_Proficiency=EF_English_Proficiency.table\n",
    "\n",
    "country_list=[p.text for p in EF_English_Proficiency.find_all('a') ] \n",
    "\n",
    "country_list=[country for country in country_list if country!='']\n",
    "\n",
    "headers=[p.text for p in EF_English_Proficiency.find_all('th') ] \n",
    "\n",
    "contents=[p.text.strip() for p in EF_English_Proficiency.find_all('td') ] \n",
    "\n",
    "\"\"\"In total there are 100 countries involed in the 2019 EF_English_Proficiency\n",
    "evaluation. All of them are retrived. \"\"\"\n",
    "score_list=[]\n",
    "rank_list=[]\n",
    "for i in range(int(len(contents)/4)):\n",
    "    rank_list.append(contents[4*i])\n",
    "    score_list.append(contents[4*i+2])\n",
    "\n",
    "d = {'Country': country_list,'2019 Score':score_list}\n",
    "\n",
    "EF_English_Proficiency=pd.DataFrame(d)\n",
    "\n",
    "\n"
   ]
  },
  {
   "cell_type": "code",
   "execution_count": 212,
   "metadata": {
    "ExecuteTime": {
     "end_time": "2019-11-23T15:39:38.523161Z",
     "start_time": "2019-11-23T15:39:36.662727Z"
    }
   },
   "outputs": [],
   "source": [
    "''' EF_English_Proficiency survey is targeted to non-anglosphere countries, so countries\n",
    "with English as native language like USA, UK, Canada,are not involved. In order to \n",
    "complement the English-level dataset, we scrape the TOEFL-exempt countries list from \n",
    "'https://graduate.seas.gwu.edu/toefl-exempt-countries' . And we fill the EF_English_Proficiency\n",
    "score of these countries by 85(much higher than the best score in the EF list,i.e. 70 \n",
    "for Netherlands)  ''' \n",
    "\n",
    "TOEFL_exempt=get('https://graduate.seas.gwu.edu/toefl-exempt-countries')\n",
    "TOEFL_exempt = BeautifulSoup(TOEFL_exempt.text, 'html.parser')\n",
    "TOEFL_exempt=TOEFL_exempt.find(\"div\", {\"class\": \"general-content-primary\"})\n",
    "country_list_sup=[p.text for p in TOEFL_exempt.find_all('li') ] \n",
    "\n",
    "country_list_sup.extend(['United States','Canada','Ireland'])\n",
    "\n",
    "score_list_sup=85*np.ones(len(country_list_sup))\n",
    "\n",
    "d_sup = {'Country': country_list_sup,'2019 Score':score_list_sup}\n",
    "EF_English_Proficiency_sup=pd.DataFrame(d_sup)\n",
    "\n",
    "EF_English_Proficiency=pd.concat([EF_English_Proficiency,EF_English_Proficiency_sup]) \n",
    "EF_English_Proficiency['code']=EF_English_Proficiency.Country.apply(lambda x: coco.convert(names=x,to='ISO3') )\n",
    "\n",
    "EF_English_Proficiency.to_pickle('../project_dataset/EF_English_Proficiency.pkl')"
   ]
  },
  {
   "cell_type": "markdown",
   "metadata": {},
   "source": [
    "# Data Preprocessing :\n",
    "\n",
    "<ul>\n",
    "<li><b>StackOverflow Annual Developper Survey:</b><br>\n",
    "The raw data contains a large percenage of NaN values in many rows and columns. This is comprehensible since the data is collected under the form of a survey so users may skip quite a lot questions. A preprocesssing to remove NaN and eventually fill NaN by a value is necessary for the following analysis.<br>\n",
    "    \n",
    "In addition, there are different questions in the user survey for each year. It is important to unify the data representation so as to make the comparison of the years easier. <br>\n",
    "\n",
    "Most of the answers are categorical. A mapping from categories to numerical values maybe necessary if some Machine Learning regression tasks will be performed.<br><br>\n",
    "    \n",
    "<li><b>Google BigQuery:</b><br>\n",
    "The data obtained from Google BigQuery is overall well structured and cleaned, except the location data in the <i>Users</i> file. Idealy, the location value of each user should be \"city name + country name \" or simply \"country name\" and should be writen in English, thus like the following ones: \"Moscow, Russia\", \"Michigan, United States\",\"Bangladesh\" etc. However, the real state of location data is much more complexe, we have typically data like these:\n",
    "<ul> \n",
    "<li><i><b>Deutschland,España,Россия,日本、東京都中央区日本橋室町</i></b>,i.e. country name in the local language rather than English\n",
    "<li> <i><b>munich,Shanghai </i></b>, i.e. only city name without country name\n",
    "<li> <i><b>Perth 西澳大利亚州澳大利亚,  Algérie</i></b>, i.e. location name in another language rather than the local language nor English.\n",
    "<li> <i><b> Sigapore </i></b>, i.e.Spelling error\n",
    "<li> <i><b> Internet, Somewhere, Browser, Earth City ,In the desert eating dessert contemplating whether I should desert...</i></b>, i.e.Non Sense Values\n",
    "<li> <i><b> Bulgaria/Denmark, Germany and Norway </i></b>, i.e. double location\n",
    "</ul><br>\n",
    "\n",
    "<li><b>World Bank Open Data /UN Data/ Kaggle World Bank:</b><br>\n",
    "These data are typically of small size and easy to handle. We will discuss them one by one in detail in the comments of codes.<br><br>\n",
    "    \n",
    "<li><b>StackExchange Archives:</b><br>\n",
    "We haven't made any use of these data. Thus no preprocessing is done for the moment, but similarly to the data obtained from Google BigQuery, these data are globally well structured and well cleand."
   ]
  },
  {
   "cell_type": "markdown",
   "metadata": {
    "heading_collapsed": true
   },
   "source": [
    "## Preprocessing survey data of 2016"
   ]
  },
  {
   "cell_type": "markdown",
   "metadata": {},
   "source": [
    "Since there are 4 years of user survey data we'll be using and we will clean the 4 years to have the same schema, here we will just show some exploratory statstics on the data of one year to show how the data is like. The detailed cleaning code will be in 'survey_cleaning.ipynb'. \n",
    "<b><center>What the final schema will look like:</center></b>\n",
    "\n",
    "    \n",
    "| Field | Description | Possible Values |\n",
    "|-------|-------------|-----------------|\n",
    "| Hobby  | Whether the user code as a hobby | Yes / No |\n",
    "| Country  | The country the user is from | Country Code in iso3 format |\n",
    "| YearsCoding | How many years of experience the user have with coding | '0 - 2 years', '2 - 5 years', '6 - 10 years', '11+ years' |\n",
    "|JobSatisfaction|The level of satisfaction of the user towards their job | real numbers from 1 to 7, 0 if the user does not fill this field|\n",
    "|ConvertedSalary|Salary of the user in USD|positive real numbers, 0 if the user does not fill this field|\n",
    "|LanguageWorkedWith|The language that the user use extensively recently|List of programming languages or empty list|\n",
    "|LanguageDesireNextYear|The language that the user wants to work with|List of programming languages or empty list|\n",
    "|Gender|Gender of the user|'Male', 'Female', 'Transgender', 'Prefer not to disclose'|\n",
    "|StackOverflowVisit|Visit frequency to stackoverflow of the user |'I have never visited Stack Overflow (before today)', 'Multiple times per day', 'Daily or almost daily', 'A few times per week', 'A few times per month or weekly', 'Less than once per month or monthly'|\n",
    "|StackOverflowParticipate|Participation frequency to stackoverflow of the user (ask/answer questions, voting, commenting etc)| 'I have never visited Stack Overflow (before today)', 'Multiple times per day', 'Daily or almost daily', 'A few times per week', 'A few times per month or weekly', 'Less than once per month or monthly'|\n",
    "|Year|The year that the data is obtained| 2016, 2017, 2018, 2019|\n",
    "|Age*| The age of the user| real numbers|\n",
    "\n",
    "*: Only the age field of year 2019 is kept, as the age field is missing in year 2017 and the values in 2016 and 2018 are in different categorical representation. We have decided to only keep the age data of year 2019 since the values here are in real numbers and we think probably the user doing the survey are similar across the years that it may cause some heavy bias if all 4 years are kept."
   ]
  },
  {
   "cell_type": "markdown",
   "metadata": {},
   "source": [
    "### Here in the exploratory analysis, we will not use the cleaned data for distribution analysis."
   ]
  },
  {
   "cell_type": "code",
   "execution_count": 2,
   "metadata": {
    "ExecuteTime": {
     "end_time": "2019-11-23T20:54:18.461257Z",
     "start_time": "2019-11-23T20:54:15.398595Z"
    },
    "hidden": true,
    "scrolled": true
   },
   "outputs": [],
   "source": [
    "# to download the survey data of 2016 :\n",
    "# https://drive.google.com/file/d/117TtVjOoRp483y9Lujqx9ropv7XXJ56Z/view?usp=sharing\n",
    "\n",
    "\n",
    "\n",
    "# read the 2016 data and drop the ones that have less than 10 non-na fields \n",
    "path16 = './data/2016 Stack Overflow Survey Results/2016 Stack Overflow Survey Responses.csv'\n",
    "survey16 = pd.read_csv(path16)\n",
    "survey16.dropna(thresh=10,inplace=True)"
   ]
  },
  {
   "cell_type": "code",
   "execution_count": 3,
   "metadata": {
    "ExecuteTime": {
     "end_time": "2019-11-23T20:55:15.074885Z",
     "start_time": "2019-11-23T20:55:15.069590Z"
    },
    "hidden": true
   },
   "outputs": [
    {
     "data": {
      "text/plain": [
       "Index(['Unnamed: 0', 'collector', 'country', 'un_subregion', 'so_region',\n",
       "       'age_range', 'age_midpoint', 'gender', 'self_identification',\n",
       "       'occupation', 'occupation_group', 'experience_range',\n",
       "       'experience_midpoint', 'salary_range', 'salary_midpoint',\n",
       "       'big_mac_index', 'tech_do', 'tech_want', 'aliens',\n",
       "       'programming_ability', 'employment_status', 'industry',\n",
       "       'company_size_range', 'team_size_range', 'women_on_team', 'remote',\n",
       "       'job_satisfaction', 'job_discovery', 'dev_environment',\n",
       "       'commit_frequency', 'hobby', 'dogs_vs_cats', 'desktop_os',\n",
       "       'unit_testing', 'rep_range', 'visit_frequency', 'why_learn_new_tech',\n",
       "       'education', 'open_to_new_job', 'new_job_value', 'job_search_annoyance',\n",
       "       'interview_likelihood', 'how_to_improve_interview_process',\n",
       "       'star_wars_vs_star_trek', 'agree_tech', 'agree_notice',\n",
       "       'agree_problemsolving', 'agree_diversity', 'agree_adblocker',\n",
       "       'agree_alcohol', 'agree_loveboss', 'agree_nightcode', 'agree_legacy',\n",
       "       'agree_mars', 'important_variety', 'important_control',\n",
       "       'important_sameend', 'important_newtech', 'important_buildnew',\n",
       "       'important_buildexisting', 'important_promotion',\n",
       "       'important_companymission', 'important_wfh', 'important_ownoffice',\n",
       "       'developer_challenges', 'why_stack_overflow'],\n",
       "      dtype='object')"
      ]
     },
     "execution_count": 3,
     "metadata": {},
     "output_type": "execute_result"
    }
   ],
   "source": [
    "survey16.columns"
   ]
  },
  {
   "cell_type": "code",
   "execution_count": 4,
   "metadata": {
    "ExecuteTime": {
     "end_time": "2019-11-19T14:33:52.550217Z",
     "start_time": "2019-11-19T14:33:52.519762Z"
    },
    "hidden": true,
    "scrolled": true
   },
   "outputs": [],
   "source": [
    "# getting the fields of interest and save it to pickle\n",
    "survey16_cleaned=survey16[['country','job_satisfaction', 'tech_do', 'tech_want', 'visit_frequency','age_range'\n",
    "         ,'gender', 'hobby', 'experience_range','experience_range','salary_midpoint']].dropna(thresh=5)\n",
    "survey16_cleaned.to_pickle('survey2016_cleaned.pkl')"
   ]
  },
  {
   "cell_type": "markdown",
   "metadata": {},
   "source": [
    "## Distribution by programming language"
   ]
  },
  {
   "cell_type": "code",
   "execution_count": 5,
   "metadata": {
    "ExecuteTime": {
     "end_time": "2019-11-16T15:39:45.120225Z",
     "start_time": "2019-11-16T15:39:43.067919Z"
    },
    "hidden": true
   },
   "outputs": [
    {
     "data": {
      "image/png": "[encoded data removed]",
      "text/plain": [
       "<Figure size 1440x1440 with 1 Axes>"
      ]
     },
     "metadata": {
      "needs_background": "light"
     },
     "output_type": "display_data"
    }
   ],
   "source": [
    "# plot the frequency distribution of programming language \n",
    "\n",
    "fig = plt.figure(figsize=(20, 20))\n",
    "survey16.tech_do.dropna().apply(lambda x: str(x).split('; ')).explode(\n",
    ").value_counts().sort_values(ascending=False).plot.barh()\n",
    "plt.title('Use of programming language among the users of the user survey')\n",
    "plt.show()"
   ]
  },
  {
   "cell_type": "markdown",
   "metadata": {},
   "source": [
    "## Distribution by visit frequency"
   ]
  },
  {
   "cell_type": "code",
   "execution_count": 6,
   "metadata": {
    "ExecuteTime": {
     "end_time": "2019-11-16T14:52:36.517446Z",
     "start_time": "2019-11-16T14:52:36.499099Z"
    },
    "hidden": true
   },
   "outputs": [
    {
     "data": {
      "text/plain": [
       "array(['Multiple times a day', 'Once a week', nan, 'Once a day',\n",
       "       'Very rarely',\n",
       "       'I have never been on Stack Overflow. I just love taking surveys.',\n",
       "       'Once a month'], dtype=object)"
      ]
     },
     "execution_count": 6,
     "metadata": {},
     "output_type": "execute_result"
    }
   ],
   "source": [
    "survey16.visit_frequency.unique()"
   ]
  },
  {
   "cell_type": "code",
   "execution_count": 7,
   "metadata": {
    "ExecuteTime": {
     "end_time": "2019-11-16T14:52:37.269126Z",
     "start_time": "2019-11-16T14:52:37.177710Z"
    },
    "hidden": true
   },
   "outputs": [],
   "source": [
    "survey16.visit_frequency = survey16.visit_frequency.astype('category').cat.set_categories([\n",
    "    'I have never been on Stack Overflow. I just love taking surveys.',\n",
    "    'Very rarely', 'Once a month', 'Once a week', 'Once a day','Multiple times a day'], ordered=True)"
   ]
  },
  {
   "cell_type": "code",
   "execution_count": 8,
   "metadata": {
    "ExecuteTime": {
     "end_time": "2019-11-16T14:52:39.021569Z",
     "start_time": "2019-11-16T14:52:38.826112Z"
    },
    "hidden": true
   },
   "outputs": [
    {
     "data": {
      "text/plain": [
       "country\n",
       "United States     13445\n",
       "United Kingdom     4520\n",
       "India              4151\n",
       "Germany            3848\n",
       "Canada             2013\n",
       "                  ...  \n",
       "Rwanda                1\n",
       "Namibia               1\n",
       "Chad                  1\n",
       "Niger                 1\n",
       "Guinea                1\n",
       "Name: User Count, Length: 167, dtype: int64"
      ]
     },
     "metadata": {},
     "output_type": "display_data"
    }
   ],
   "source": [
    "ByCountryCount=survey16.groupby(['country']).count()\n",
    "display(ByCountryCount.rename(columns={'Unnamed: 0': 'User Count'})['User Count'].sort_values(ascending=False))"
   ]
  },
  {
   "cell_type": "code",
   "execution_count": 9,
   "metadata": {
    "ExecuteTime": {
     "end_time": "2019-11-16T14:52:41.086368Z",
     "start_time": "2019-11-16T14:52:40.881277Z"
    },
    "hidden": true
   },
   "outputs": [
    {
     "data": {
      "image/png": "[encoded data removed]",
      "text/plain": [
       "<Figure size 432x288 with 1 Axes>"
      ]
     },
     "metadata": {
      "needs_background": "light"
     },
     "output_type": "display_data"
    }
   ],
   "source": [
    "visit_frequency=survey16.visit_frequency[pd.notna(survey16.visit_frequency)].value_counts().sort_values()\n",
    "\n",
    "visit_frequency.plot.barh()\n",
    "plt.title('Distribution of the visit frequency')\n",
    "plt.show()"
   ]
  },
  {
   "cell_type": "markdown",
   "metadata": {},
   "source": [
    "### Correlation of visit frequency with other factors"
   ]
  },
  {
   "cell_type": "code",
   "execution_count": 10,
   "metadata": {
    "ExecuteTime": {
     "end_time": "2019-11-15T18:21:30.163821Z",
     "start_time": "2019-11-15T18:21:27.368Z"
    },
    "hidden": true,
    "scrolled": true
   },
   "outputs": [],
   "source": [
    "frequencydf=survey16.groupby(by='visit_frequency').mean()[['experience_midpoint', 'age_midpoint',\n",
    "                                               'programming_ability']].reset_index()\\\n",
    "                                                .sort_values(by='visit_frequency')"
   ]
  },
  {
   "cell_type": "code",
   "execution_count": 11,
   "metadata": {
    "ExecuteTime": {
     "end_time": "2019-11-15T18:21:30.165308Z",
     "start_time": "2019-11-15T18:21:27.536Z"
    },
    "hidden": true,
    "scrolled": true
   },
   "outputs": [
    {
     "data": {
      "image/png": "[encoded data removed]",
      "text/plain": [
       "<Figure size 432x288 with 1 Axes>"
      ]
     },
     "metadata": {
      "needs_background": "light"
     },
     "output_type": "display_data"
    }
   ],
   "source": [
    "# correlation of visit frequency to level of experience\n",
    "frequencydf.plot.barh(x=\"visit_frequency\",y=\"experience_midpoint\")\n",
    "plt.title('Correlation of visit frequency to level of experience')\n",
    "plt.show()"
   ]
  },
  {
   "cell_type": "code",
   "execution_count": 12,
   "metadata": {
    "ExecuteTime": {
     "end_time": "2019-11-15T18:21:30.167180Z",
     "start_time": "2019-11-15T18:21:27.728Z"
    },
    "hidden": true
   },
   "outputs": [
    {
     "data": {
      "image/png": "[encoded data removed]",
      "text/plain": [
       "<Figure size 432x288 with 1 Axes>"
      ]
     },
     "metadata": {
      "needs_background": "light"
     },
     "output_type": "display_data"
    }
   ],
   "source": [
    "# correleation of visit frequency to same-claimed programming ability\n",
    "frequencydf.plot.barh(x=\"visit_frequency\",y=\"programming_ability\")\n",
    "plt.title('Correlation of visit frequency to same-claimed programming ability')\n",
    "plt.show()"
   ]
  },
  {
   "cell_type": "code",
   "execution_count": 13,
   "metadata": {
    "ExecuteTime": {
     "end_time": "2019-11-15T18:21:30.168872Z",
     "start_time": "2019-11-15T18:21:27.905Z"
    },
    "hidden": true
   },
   "outputs": [
    {
     "data": {
      "image/png": "[encoded data removed]",
      "text/plain": [
       "<Figure size 432x288 with 1 Axes>"
      ]
     },
     "metadata": {
      "needs_background": "light"
     },
     "output_type": "display_data"
    }
   ],
   "source": [
    "# correleation of visit frequency to age group\n",
    "frequencydf.plot.barh(x=\"visit_frequency\",y=\"age_midpoint\")\n",
    "plt.title('Correlation of visit frequency to age')\n",
    "plt.show()"
   ]
  },
  {
   "cell_type": "code",
   "execution_count": 14,
   "metadata": {
    "ExecuteTime": {
     "end_time": "2019-11-15T18:18:38.850296Z",
     "start_time": "2019-11-15T18:18:35.752Z"
    },
    "hidden": true
   },
   "outputs": [
    {
     "data": {
      "image/png": "[encoded data removed]",
      "text/plain": [
       "<Figure size 720x720 with 9 Axes>"
      ]
     },
     "metadata": {
      "needs_background": "light"
     },
     "output_type": "display_data"
    }
   ],
   "source": [
    "# correlation matrix\n",
    "pd.plotting.scatter_matrix(frequencydf, alpha=1,figsize=(10,10),marker='*')\n",
    "plt.show()"
   ]
  },
  {
   "cell_type": "markdown",
   "metadata": {},
   "source": [
    "### We have found out there are not obvious correlation among age, level of experience and the self-proclaimed programming ability with the visit frequency. "
   ]
  },
  {
   "cell_type": "markdown",
   "metadata": {
    "heading_collapsed": true
   },
   "source": [
    "## Distribution of company size of stackoverflow users"
   ]
  },
  {
   "cell_type": "code",
   "execution_count": 15,
   "metadata": {
    "ExecuteTime": {
     "end_time": "2019-11-24T10:38:43.185929Z",
     "start_time": "2019-11-24T10:38:42.805637Z"
    },
    "hidden": true
   },
   "outputs": [
    {
     "data": {
      "text/plain": [
       "1        100-499 employees\n",
       "3        100-499 employees\n",
       "7          10-19 employees\n",
       "9            5-9 employees\n",
       "11       100-499 employees\n",
       "               ...        \n",
       "56012        5-9 employees\n",
       "56017      20-99 employees\n",
       "56019      20-99 employees\n",
       "56022      10-19 employees\n",
       "56029      20-99 employees\n",
       "Name: company_size_range, Length: 38136, dtype: object"
      ]
     },
     "execution_count": 15,
     "metadata": {},
     "output_type": "execute_result"
    }
   ],
   "source": [
    "# drop entries with NaN and of which the content is not in the form ______ employees\n",
    "company_size_range=survey16.company_size_range.dropna()[survey16.company_size_range.dropna().str.endswith('employees')]\n",
    "company_size_range"
   ]
  },
  {
   "cell_type": "code",
   "execution_count": 16,
   "metadata": {
    "ExecuteTime": {
     "end_time": "2019-11-24T10:38:44.739398Z",
     "start_time": "2019-11-24T10:38:44.658424Z"
    },
    "hidden": true
   },
   "outputs": [
    {
     "data": {
      "text/plain": [
       "20-99 employees          8615\n",
       "100-499 employees        6801\n",
       "10,000+ employees        4707\n",
       "10-19 employees          3972\n",
       "1-4 employees            3701\n",
       "1,000-4,999 employees    3596\n",
       "5-9 employees            3069\n",
       "500-999 employees        2304\n",
       "5,000-9,999 employees    1371\n",
       "Name: company_size_range, dtype: int64"
      ]
     },
     "execution_count": 16,
     "metadata": {},
     "output_type": "execute_result"
    }
   ],
   "source": [
    "# raw distribution of company size of interviewers\n",
    "company_size_range.value_counts()"
   ]
  },
  {
   "cell_type": "code",
   "execution_count": 17,
   "metadata": {
    "ExecuteTime": {
     "end_time": "2019-11-24T10:38:46.121067Z",
     "start_time": "2019-11-24T10:38:45.149364Z"
    },
    "hidden": true
   },
   "outputs": [
    {
     "data": {
      "image/png": "[encoded data removed]",
      "text/plain": [
       "<Figure size 1152x720 with 1 Axes>"
      ]
     },
     "metadata": {
      "needs_background": "light"
     },
     "output_type": "display_data"
    }
   ],
   "source": [
    "# sort the category and output the value counts accordingly\n",
    "No_by_Category=company_size_range.apply(lambda x: (\n",
    "    re.match(r'(.+)[-+]', str(x)).group(0)[:-1])).apply(\n",
    "    lambda a: int(a.replace(',', ''))).value_counts().sort_index().tolist()\n",
    "\n",
    "# visualization of distribution of company size\n",
    "fig,ax=plt.subplots(figsize=(16,10))\n",
    "labels = ['1-4', '5-9', '10-19', '20-99', '100-499','500-999','1000-4999','5000-9999',\n",
    "         '10000+']\n",
    "rects=ax.bar(range(len(No_by_Category)),No_by_Category)\n",
    "\n",
    "\n",
    "# add some text for labels, title and custom x-axis tick labels\n",
    "ax.set_ylabel('Size of company')\n",
    "ax.set_xlabel('# of employees')\n",
    "ax.set_title('Size of company distribution of StackOverflow users')\n",
    "ax.set_xticks(range(len(No_by_Category)))\n",
    "ax.set_xticklabels(labels)\n",
    "\n",
    "def autolabel(rects):\n",
    "    \"\"\"Attach a text label above each bar in *rects*, displaying its height.\"\"\"\n",
    "    for rect in rects:\n",
    "        height = rect.get_height()\n",
    "        ax.annotate('{}'.format(height),\n",
    "                    xy=(rect.get_x() + rect.get_width() / 2, height),\n",
    "                    xytext=(0, 3),  # 3 points vertical offset\n",
    "                    textcoords=\"offset points\",\n",
    "                    ha='center', va='bottom')\n",
    "\n",
    "autolabel(rects)"
   ]
  },
  {
   "cell_type": "markdown",
   "metadata": {
    "ExecuteTime": {
     "end_time": "2019-11-09T08:49:28.425208Z",
     "start_time": "2019-11-09T08:49:28.210887Z"
    }
   },
   "source": [
    "## Distribution by geographic location"
   ]
  },
  {
   "cell_type": "markdown",
   "metadata": {},
   "source": [
    "### The stackoverflow user survey data could be merged with some general geographical data to gain more insights onto the reason behind the number of users."
   ]
  },
  {
   "cell_type": "markdown",
   "metadata": {
    "heading_collapsed": true
   },
   "source": [
    "### Processing geographic field"
   ]
  },
  {
   "cell_type": "code",
   "execution_count": 18,
   "metadata": {
    "ExecuteTime": {
     "end_time": "2019-11-23T16:22:38.441665Z",
     "start_time": "2019-11-23T16:22:38.426163Z"
    },
    "hidden": true,
    "scrolled": true
   },
   "outputs": [],
   "source": [
    "survey16['country']\n",
    "country=pd.DataFrame(survey16.country.dropna().value_counts())\n",
    "country.reset_index(inplace=True)\n",
    "country.rename({'country':'UserNumber','index':'country'},axis='columns',inplace=True)"
   ]
  },
  {
   "cell_type": "code",
   "execution_count": 19,
   "metadata": {
    "ExecuteTime": {
     "end_time": "2019-11-22T14:57:25.282447Z",
     "start_time": "2019-11-22T14:57:21.288063Z"
    },
    "collapsed": true,
    "hidden": true,
    "jupyter": {
     "outputs_hidden": true
    }
   },
   "outputs": [
    {
     "name": "stderr",
     "output_type": "stream",
     "text": [
      "WARNING:root:Other (please specify) not found in regex\n"
     ]
    }
   ],
   "source": [
    "# convert the country field into iso3 format and add the population information about the country to the daraframe\n",
    "country['code']=country.country.apply(lambda x: coco.convert(names=x,to='ISO3') )"
   ]
  },
  {
   "cell_type": "code",
   "execution_count": 20,
   "metadata": {
    "ExecuteTime": {
     "end_time": "2019-11-22T14:57:25.943911Z",
     "start_time": "2019-11-22T14:57:25.920629Z"
    },
    "hidden": true
   },
   "outputs": [],
   "source": [
    "# add the population data by group\n",
    "path_pop='./data/population_worldbank.csv'\n",
    "population_stats=pd.read_csv(path_pop,skiprows=2,header = 1\n",
    "                            ).drop(['2019','Unnamed: 64'],axis=1).dropna()\n",
    "\n",
    "country=country.merge(population_stats[['Country Code','2018']],left_on='code',right_on='Country Code',how='left')\n",
    "country.rename({'2018':'population18(million)'},axis='columns',inplace=True)\n",
    "country['population18(million)']=country['population18(million)']/1e6"
   ]
  },
  {
   "cell_type": "code",
   "execution_count": 21,
   "metadata": {
    "ExecuteTime": {
     "end_time": "2019-11-22T14:57:26.882949Z",
     "start_time": "2019-11-22T14:57:26.877846Z"
    },
    "hidden": true
   },
   "outputs": [],
   "source": [
    "# calculate user per capital from the user survey \n",
    "country['User per capita index']=country['UserNumber']/country['population18(million)']\n",
    "country.drop(columns='Country Code',inplace=True)"
   ]
  },
  {
   "cell_type": "code",
   "execution_count": 22,
   "metadata": {
    "ExecuteTime": {
     "end_time": "2019-11-22T14:57:28.303117Z",
     "start_time": "2019-11-22T14:57:28.294300Z"
    },
    "hidden": true
   },
   "outputs": [],
   "source": [
    "# add number of internet users data into the dataframe \n",
    "path='./data/Countries by number of Internet Users - Sheet1.csv'\n",
    "internetUsers_stats=pd.read_csv(path).dropna()"
   ]
  },
  {
   "cell_type": "code",
   "execution_count": 23,
   "metadata": {
    "ExecuteTime": {
     "end_time": "2019-11-22T14:57:28.869970Z",
     "start_time": "2019-11-22T14:57:28.858537Z"
    },
    "hidden": true
   },
   "outputs": [],
   "source": [
    "path='./data/education.csv'\n",
    "education=pd.read_csv(path)"
   ]
  },
  {
   "cell_type": "code",
   "execution_count": 24,
   "metadata": {
    "ExecuteTime": {
     "end_time": "2019-11-22T14:57:35.622872Z",
     "start_time": "2019-11-22T14:57:35.614614Z"
    },
    "hidden": true,
    "scrolled": true
   },
   "outputs": [],
   "source": [
    "education=education.groupby(by='Country').mean().drop(['TIME', \n",
    "     'Time', 'Flag Codes', 'Flags'],axis=1)"
   ]
  },
  {
   "cell_type": "code",
   "execution_count": 25,
   "metadata": {
    "ExecuteTime": {
     "end_time": "2019-11-22T14:57:37.409507Z",
     "start_time": "2019-11-22T14:57:36.046481Z"
    },
    "hidden": true
   },
   "outputs": [],
   "source": [
    "# add education data into the dataframe \n",
    "education.rename(columns={'Value':'mean year by school'},inplace=True)\n",
    "education['country']=education.index\n",
    "education['code']=education.country.apply(lambda x: coco.convert(names=x,to='ISO3') )\n"
   ]
  },
  {
   "cell_type": "code",
   "execution_count": 26,
   "metadata": {
    "ExecuteTime": {
     "end_time": "2019-11-22T14:57:37.414882Z",
     "start_time": "2019-11-22T14:57:37.411204Z"
    },
    "hidden": true
   },
   "outputs": [
    {
     "data": {
      "text/plain": [
       "Index(['mean year by school', 'country', 'code'], dtype='object')"
      ]
     },
     "execution_count": 26,
     "metadata": {},
     "output_type": "execute_result"
    }
   ],
   "source": [
    "education.columns"
   ]
  },
  {
   "cell_type": "code",
   "execution_count": 27,
   "metadata": {
    "ExecuteTime": {
     "end_time": "2019-11-22T14:57:40.620141Z",
     "start_time": "2019-11-22T14:57:37.884801Z"
    },
    "collapsed": true,
    "hidden": true,
    "jupyter": {
     "outputs_hidden": true
    }
   },
   "outputs": [
    {
     "name": "stderr",
     "output_type": "stream",
     "text": [
      "WARNING:root:Ascension not found in regex\n"
     ]
    }
   ],
   "source": [
    "internetUsers_stats['code']=internetUsers_stats['Country or Area'].apply(lambda x: coco.convert(names=x,to='ISO3') )"
   ]
  },
  {
   "cell_type": "code",
   "execution_count": 28,
   "metadata": {
    "ExecuteTime": {
     "end_time": "2019-11-22T14:57:41.691458Z",
     "start_time": "2019-11-22T14:57:41.685455Z"
    },
    "hidden": true
   },
   "outputs": [],
   "source": [
    "# rename the columns names to avoid ambiguities\n",
    "internetUsers_stats.rename(columns={'Rank':\"Rank # users\",'Rank.1':'Rank percentage'\n",
    "                            ,'Percentage':'Internet Percentage'},inplace=True)\n",
    "internetUsers_stats=internetUsers_stats[internetUsers_stats['Rank percentage']!='-']"
   ]
  },
  {
   "cell_type": "code",
   "execution_count": 29,
   "metadata": {
    "ExecuteTime": {
     "end_time": "2019-11-22T14:57:42.823438Z",
     "start_time": "2019-11-22T14:57:42.811138Z"
    },
    "hidden": true,
    "scrolled": true
   },
   "outputs": [
    {
     "data": {
      "text/html": [
       "<div>\n",
       "<style scoped>\n",
       "    .dataframe tbody tr th:only-of-type {\n",
       "        vertical-align: middle;\n",
       "    }\n",
       "\n",
       "    .dataframe tbody tr th {\n",
       "        vertical-align: top;\n",
       "    }\n",
       "\n",
       "    .dataframe thead th {\n",
       "        text-align: right;\n",
       "    }\n",
       "</style>\n",
       "<table border=\"1\" class=\"dataframe\">\n",
       "  <thead>\n",
       "    <tr style=\"text-align: right;\">\n",
       "      <th></th>\n",
       "      <th>Country or Area</th>\n",
       "      <th>Internet Users</th>\n",
       "      <th>Population</th>\n",
       "      <th>Rank # users</th>\n",
       "      <th>Internet Percentage</th>\n",
       "      <th>Rank percentage</th>\n",
       "      <th>code</th>\n",
       "    </tr>\n",
       "  </thead>\n",
       "  <tbody>\n",
       "    <tr>\n",
       "      <th>0</th>\n",
       "      <td>China</td>\n",
       "      <td>765,367,947</td>\n",
       "      <td>1,409,517,397</td>\n",
       "      <td>1</td>\n",
       "      <td>54.30%</td>\n",
       "      <td>116</td>\n",
       "      <td>CHN</td>\n",
       "    </tr>\n",
       "    <tr>\n",
       "      <th>1</th>\n",
       "      <td>India</td>\n",
       "      <td>461,347,554</td>\n",
       "      <td>1,339,180,127</td>\n",
       "      <td>2</td>\n",
       "      <td>34.45%</td>\n",
       "      <td>145</td>\n",
       "      <td>IND</td>\n",
       "    </tr>\n",
       "    <tr>\n",
       "      <th>2</th>\n",
       "      <td>United States</td>\n",
       "      <td>244,090,854</td>\n",
       "      <td>324,459,463</td>\n",
       "      <td>3</td>\n",
       "      <td>75.23%</td>\n",
       "      <td>68</td>\n",
       "      <td>USA</td>\n",
       "    </tr>\n",
       "    <tr>\n",
       "      <th>3</th>\n",
       "      <td>Brazil</td>\n",
       "      <td>141,206,801</td>\n",
       "      <td>209,288,278</td>\n",
       "      <td>4</td>\n",
       "      <td>67.47%</td>\n",
       "      <td>83</td>\n",
       "      <td>BRA</td>\n",
       "    </tr>\n",
       "    <tr>\n",
       "      <th>4</th>\n",
       "      <td>Japan</td>\n",
       "      <td>115,845,120</td>\n",
       "      <td>127,484,450</td>\n",
       "      <td>5</td>\n",
       "      <td>90.87%</td>\n",
       "      <td>23</td>\n",
       "      <td>JPN</td>\n",
       "    </tr>\n",
       "    <tr>\n",
       "      <th>...</th>\n",
       "      <td>...</td>\n",
       "      <td>...</td>\n",
       "      <td>...</td>\n",
       "      <td>...</td>\n",
       "      <td>...</td>\n",
       "      <td>...</td>\n",
       "      <td>...</td>\n",
       "    </tr>\n",
       "    <tr>\n",
       "      <th>206</th>\n",
       "      <td>Anguilla</td>\n",
       "      <td>12,043</td>\n",
       "      <td>14,909</td>\n",
       "      <td>207</td>\n",
       "      <td>81.57% (2016)</td>\n",
       "      <td>44</td>\n",
       "      <td>AIA</td>\n",
       "    </tr>\n",
       "    <tr>\n",
       "      <th>207</th>\n",
       "      <td>Nauru</td>\n",
       "      <td>6,475</td>\n",
       "      <td>11,359</td>\n",
       "      <td>208</td>\n",
       "      <td>57.00%</td>\n",
       "      <td>110</td>\n",
       "      <td>NRU</td>\n",
       "    </tr>\n",
       "    <tr>\n",
       "      <th>208</th>\n",
       "      <td>Tuvalu</td>\n",
       "      <td>5,520</td>\n",
       "      <td>11,192</td>\n",
       "      <td>209</td>\n",
       "      <td>49.32%</td>\n",
       "      <td>124</td>\n",
       "      <td>TUV</td>\n",
       "    </tr>\n",
       "    <tr>\n",
       "      <th>211</th>\n",
       "      <td>Montserrat</td>\n",
       "      <td>2,833</td>\n",
       "      <td>5,177</td>\n",
       "      <td>212</td>\n",
       "      <td>54.55% (2013)</td>\n",
       "      <td>115</td>\n",
       "      <td>MSR</td>\n",
       "    </tr>\n",
       "    <tr>\n",
       "      <th>213</th>\n",
       "      <td>Niue</td>\n",
       "      <td>1,034</td>\n",
       "      <td>1,618</td>\n",
       "      <td>214</td>\n",
       "      <td>86.90% (2013)</td>\n",
       "      <td>30</td>\n",
       "      <td>NIU</td>\n",
       "    </tr>\n",
       "  </tbody>\n",
       "</table>\n",
       "<p>209 rows × 7 columns</p>\n",
       "</div>"
      ],
      "text/plain": [
       "    Country or Area Internet Users     Population  Rank # users  \\\n",
       "0             China    765,367,947  1,409,517,397             1   \n",
       "1             India    461,347,554  1,339,180,127             2   \n",
       "2     United States    244,090,854    324,459,463             3   \n",
       "3            Brazil    141,206,801    209,288,278             4   \n",
       "4             Japan    115,845,120    127,484,450             5   \n",
       "..              ...            ...            ...           ...   \n",
       "206        Anguilla         12,043         14,909           207   \n",
       "207           Nauru          6,475         11,359           208   \n",
       "208          Tuvalu          5,520         11,192           209   \n",
       "211      Montserrat          2,833          5,177           212   \n",
       "213            Niue          1,034          1,618           214   \n",
       "\n",
       "    Internet Percentage Rank percentage code  \n",
       "0                54.30%             116  CHN  \n",
       "1                34.45%             145  IND  \n",
       "2                75.23%              68  USA  \n",
       "3                67.47%              83  BRA  \n",
       "4                90.87%              23  JPN  \n",
       "..                  ...             ...  ...  \n",
       "206       81.57% (2016)              44  AIA  \n",
       "207              57.00%             110  NRU  \n",
       "208              49.32%             124  TUV  \n",
       "211       54.55% (2013)             115  MSR  \n",
       "213       86.90% (2013)              30  NIU  \n",
       "\n",
       "[209 rows x 7 columns]"
      ]
     },
     "execution_count": 29,
     "metadata": {},
     "output_type": "execute_result"
    }
   ],
   "source": [
    "internetUsers_stats"
   ]
  },
  {
   "cell_type": "code",
   "execution_count": 30,
   "metadata": {
    "ExecuteTime": {
     "end_time": "2019-11-22T14:57:43.577992Z",
     "start_time": "2019-11-22T14:57:43.573580Z"
    },
    "hidden": true
   },
   "outputs": [
    {
     "data": {
      "text/plain": [
       "Index(['Country or Area', 'Internet Users', 'Population', 'Rank # users',\n",
       "       'Internet Percentage', 'Rank percentage', 'code'],\n",
       "      dtype='object')"
      ]
     },
     "execution_count": 30,
     "metadata": {},
     "output_type": "execute_result"
    }
   ],
   "source": [
    "internetUsers_stats.columns"
   ]
  },
  {
   "cell_type": "code",
   "execution_count": 31,
   "metadata": {
    "ExecuteTime": {
     "end_time": "2019-11-22T14:57:44.216233Z",
     "start_time": "2019-11-22T14:57:44.202115Z"
    },
    "hidden": true
   },
   "outputs": [],
   "source": [
    "country=country.merge(internetUsers_stats[['Internet Users','Rank # users',\n",
    "       'Internet Percentage', 'Rank percentage','code']],left_on='code',right_on='code',how='left')\n",
    "\n",
    "country=country.merge(education[['mean year by school','code']],left_on='code',right_on='code',how='left')"
   ]
  },
  {
   "cell_type": "code",
   "execution_count": 32,
   "metadata": {
    "ExecuteTime": {
     "end_time": "2019-11-22T15:02:40.824306Z",
     "start_time": "2019-11-22T15:02:40.819852Z"
    },
    "hidden": true
   },
   "outputs": [],
   "source": [
    "country.to_pickle('./data_ML')"
   ]
  },
  {
   "cell_type": "code",
   "execution_count": 33,
   "metadata": {
    "ExecuteTime": {
     "end_time": "2019-11-23T18:49:01.521330Z",
     "start_time": "2019-11-23T18:49:01.508512Z"
    },
    "hidden": true
   },
   "outputs": [
    {
     "data": {
      "text/plain": [
       "country                  False\n",
       "UserNumber               False\n",
       "code                     False\n",
       "population18(million)    False\n",
       "User per capita index    False\n",
       "Internet Users           False\n",
       "Rank # users             False\n",
       "Internet Percentage      False\n",
       "Rank percentage          False\n",
       "dtype: bool"
      ]
     },
     "execution_count": 33,
     "metadata": {},
     "output_type": "execute_result"
    }
   ],
   "source": [
    "# load the data for ML if needed\n",
    "# country=pd.read_pickle('./data_ML')\n",
    "\n",
    "# drop the mean year by school column as there are too many null values, including Canada and India\n",
    "country.drop(columns='mean year by school',inplace=True)\n",
    "\n",
    "# drop countries with NaN, incluing Vatican, Kosova, North Korea(all small countries, total 9 countries \n",
    "country.dropna(inplace=True)\n",
    "\n",
    "# check if all columns are removed\n",
    "country.isnull().any()"
   ]
  },
  {
   "cell_type": "code",
   "execution_count": 34,
   "metadata": {
    "ExecuteTime": {
     "end_time": "2019-11-23T18:49:02.445765Z",
     "start_time": "2019-11-23T18:49:02.431649Z"
    },
    "hidden": true
   },
   "outputs": [],
   "source": [
    "# merge with english proficiency score as stackoverflow are mostly in english, proficiency may affect the\n",
    "# usage rate of stackoverflow\n",
    "EF_English_Proficiency=pd.read_pickle('./data/EF_English_Proficiency.pkl')\n",
    "\n",
    "country=country.merge(EF_English_Proficiency[['2019 Score',\n",
    "       'code']],left_on='code',right_on='code',how='left')\n",
    "country.rename({'2019 Score':'2019 EF Score'},axis='columns',inplace=True)\n",
    "\n",
    "country.set_index('country',drop=False)\n",
    "\n",
    "country['2019 EF Score']=country['2019 EF Score'].astype('float')\n",
    "\n",
    "country.fillna(value=country['2019 EF Score'].mean(),inplace=True)"
   ]
  },
  {
   "cell_type": "code",
   "execution_count": 35,
   "metadata": {
    "ExecuteTime": {
     "end_time": "2019-11-23T18:49:02.985685Z",
     "start_time": "2019-11-23T18:49:02.966176Z"
    },
    "hidden": true
   },
   "outputs": [],
   "source": [
    "path='./data/gdp_per_capita.csv'\n",
    "gdp_per_capita=pd.read_csv(path,usecols=['Country Code','2018','2017','2016'],header=2)\n",
    "\n",
    "gdp_per_capita['gdp per capita']=gdp_per_capita[['2016','2017','2018']].mean(axis=1,skipna=True)\n",
    "\n",
    "country=country.merge(gdp_per_capita[['gdp per capita',\n",
    "       'Country Code']],left_on='code',right_on='Country Code',how='left')\n",
    "\n",
    "country['Internet Percentage']=country['Internet Percentage'].str.strip('%').astype('float')\n",
    "\n",
    "'''\n",
    "Countries arranged by Number of Universities in Top Ranks\n",
    "https://www.webometrics.info/en/node/54\n",
    "''';\n",
    "\n",
    "country.fillna(value=country['gdp per capita'].mean(),inplace=True)"
   ]
  },
  {
   "cell_type": "code",
   "execution_count": 36,
   "metadata": {
    "ExecuteTime": {
     "end_time": "2019-11-23T19:19:04.504771Z",
     "start_time": "2019-11-23T19:19:04.500288Z"
    },
    "hidden": true
   },
   "outputs": [],
   "source": [
    "country.to_pickle('./country_for_ML.pkl')"
   ]
  },
  {
   "cell_type": "markdown",
   "metadata": {
    "heading_collapsed": true
   },
   "source": [
    "### Plotting stackoverflow users distribution by countries "
   ]
  },
  {
   "cell_type": "code",
   "execution_count": 58,
   "metadata": {
    "ExecuteTime": {
     "end_time": "2019-11-23T19:19:41.312199Z",
     "start_time": "2019-11-23T19:19:40.003554Z"
    },
    "hidden": true
   },
   "outputs": [
    {
     "data": {
      "application/vnd.plotly.v1+json": {
       "config": {
        "plotlyServerURL": "https://plot.ly"
       },
       "data": [
        {
         "colorbar": {
          "title": {
           "text": "number of users in survey"
          }
         },
         "colorscale": [
          [
           0,
           "rgb(255,245,240)"
          ],
          [
           0.125,
           "rgb(254,224,210)"
          ],
          [
           0.25,
           "rgb(252,187,161)"
          ],
          [
           0.375,
           "rgb(252,146,114)"
          ],
          [
           0.5,
           "rgb(251,106,74)"
          ],
          [
           0.625,
           "rgb(239,59,44)"
          ],
          [
           0.75,
           "rgb(203,24,29)"
          ],
          [
           0.875,
           "rgb(165,15,21)"
          ],
          [
           1,
           "rgb(103,0,13)"
          ]
         ],
         "locations": [
          "USA",
          "GBR",
          "IND",
          "DEU",
          "CAN",
          "CAN",
          "POL",
          "FRA",
          "RUS",
          "SWE",
          "NLD",
          "ITA",
          "AUS",
          "ESP",
          "BRA",
          "ROU",
          "UKR",
          "DNK",
          "CHE",
          "BEL",
          "PRT",
          "AUT",
          "ZAF",
          "MEX",
          "FIN",
          "ISR",
          "TUR",
          "IRL",
          "GRC",
          "CZE",
          "NOR",
          "NZL",
          "PAK",
          "ARG",
          "CHN",
          "IRN",
          "KOR",
          "HUN",
          "BGR",
          "PHL",
          "SGP",
          "SVN",
          "BGD",
          "BLR",
          "JPN",
          "LTU",
          "IDN",
          "HRV",
          "MYS",
          "VNM",
          "LKA",
          "SVK",
          "EGY",
          "CHL",
          "HKG",
          "COL",
          "EST",
          "DOM",
          "LVA",
          "THA",
          "NPL",
          "ARE",
          "KEN",
          "MAR",
          "NGA",
          "NGA",
          "BIH",
          "PER",
          "TUN",
          "VEN",
          "URY",
          "JOR",
          "KAZ",
          "GEO",
          "LBN",
          "MKD",
          "AFG",
          "MLT",
          "ARM",
          "DZA",
          "CRI",
          "CYP",
          "SAU",
          "GHA",
          "AZE",
          "LUX",
          "ALB",
          "CUB",
          "MDA",
          "ISL",
          "UZB",
          "ECU",
          "GTM",
          "MMR",
          "PRY",
          "BOL",
          "MNG",
          "SYR",
          "UGA",
          "PAN",
          "KHM",
          "JAM",
          "TTO",
          "ETH",
          "BHR",
          "KGZ",
          "ZWE",
          "SLV",
          "AND",
          "MUS",
          "HND",
          "QAT",
          "TZA",
          "IRQ",
          "SDN",
          "NIC",
          "BHS",
          "CMR",
          "AGO",
          "MDG",
          "FJI",
          "MDV",
          "BWA",
          "LIE",
          "CIV",
          "HTI",
          "PRI",
          "GUY",
          "MNE",
          "LAO",
          "BRB",
          "SUR",
          "BMU",
          "FSM",
          "BEN",
          "ZMB",
          "DJI",
          "BLZ",
          "YEM",
          "MWI",
          "KNA",
          "TLS",
          "OMN",
          "GIN",
          "SOM",
          "TJK",
          "BTN",
          "GAB",
          "SMR",
          "MOZ",
          "NAM",
          "DMA",
          "TCD",
          "NER",
          "BFA",
          "MRT",
          "MCO",
          "TGO",
          "SLE",
          "RWA"
         ],
         "type": "choropleth",
         "z": [
          13445,
          4520,
          4151,
          3848,
          2013,
          2013,
          1951,
          1602,
          1409,
          1321,
          1175,
          1131,
          1115,
          1022,
          1012,
          822,
          799,
          603,
          570,
          538,
          483,
          479,
          477,
          440,
          438,
          437,
          434,
          419,
          390,
          369,
          360,
          353,
          334,
          319,
          316,
          313,
          231,
          231,
          213,
          173,
          166,
          154,
          151,
          146,
          145,
          143,
          143,
          137,
          124,
          117,
          110,
          109,
          105,
          98,
          87,
          86,
          79,
          75,
          66,
          62,
          62,
          56,
          52,
          48,
          47,
          47,
          46,
          46,
          44,
          42,
          41,
          37,
          35,
          35,
          35,
          34,
          32,
          31,
          29,
          28,
          27,
          27,
          26,
          25,
          25,
          25,
          23,
          23,
          23,
          22,
          18,
          18,
          18,
          17,
          15,
          14,
          13,
          12,
          12,
          12,
          12,
          11,
          11,
          11,
          10,
          10,
          9,
          9,
          8,
          8,
          8,
          8,
          7,
          7,
          7,
          6,
          6,
          6,
          6,
          5,
          4,
          4,
          4,
          3,
          3,
          3,
          3,
          3,
          2,
          2,
          2,
          2,
          2,
          2,
          2,
          2,
          2,
          2,
          2,
          2,
          1,
          1,
          1,
          1,
          1,
          1,
          1,
          1,
          1,
          1,
          1,
          1,
          1,
          1,
          1,
          1,
          1,
          1,
          1,
          1
         ]
        }
       ],
       "layout": {
        "autosize": true,
        "geo": {
         "scope": "world"
        },
        "template": {
         "data": {
          "bar": [
           {
            "error_x": {
             "color": "#2a3f5f"
            },
            "error_y": {
             "color": "#2a3f5f"
            },
            "marker": {
             "line": {
              "color": "#E5ECF6",
              "width": 0.5
             }
            },
            "type": "bar"
           }
          ],
          "barpolar": [
           {
            "marker": {
             "line": {
              "color": "#E5ECF6",
              "width": 0.5
             }
            },
            "type": "barpolar"
           }
          ],
          "carpet": [
           {
            "aaxis": {
             "endlinecolor": "#2a3f5f",
             "gridcolor": "white",
             "linecolor": "white",
             "minorgridcolor": "white",
             "startlinecolor": "#2a3f5f"
            },
            "baxis": {
             "endlinecolor": "#2a3f5f",
             "gridcolor": "white",
             "linecolor": "white",
             "minorgridcolor": "white",
             "startlinecolor": "#2a3f5f"
            },
            "type": "carpet"
           }
          ],
          "choropleth": [
           {
            "colorbar": {
             "outlinewidth": 0,
             "ticks": ""
            },
            "type": "choropleth"
           }
          ],
          "contour": [
           {
            "colorbar": {
             "outlinewidth": 0,
             "ticks": ""
            },
            "colorscale": [
             [
              0,
              "#0d0887"
             ],
             [
              0.1111111111111111,
              "#46039f"
             ],
             [
              0.2222222222222222,
              "#7201a8"
             ],
             [
              0.3333333333333333,
              "#9c179e"
             ],
             [
              0.4444444444444444,
              "#bd3786"
             ],
             [
              0.5555555555555556,
              "#d8576b"
             ],
             [
              0.6666666666666666,
              "#ed7953"
             ],
             [
              0.7777777777777778,
              "#fb9f3a"
             ],
             [
              0.8888888888888888,
              "#fdca26"
             ],
             [
              1,
              "#f0f921"
             ]
            ],
            "type": "contour"
           }
          ],
          "contourcarpet": [
           {
            "colorbar": {
             "outlinewidth": 0,
             "ticks": ""
            },
            "type": "contourcarpet"
           }
          ],
          "heatmap": [
           {
            "colorbar": {
             "outlinewidth": 0,
             "ticks": ""
            },
            "colorscale": [
             [
              0,
              "#0d0887"
             ],
             [
              0.1111111111111111,
              "#46039f"
             ],
             [
              0.2222222222222222,
              "#7201a8"
             ],
             [
              0.3333333333333333,
              "#9c179e"
             ],
             [
              0.4444444444444444,
              "#bd3786"
             ],
             [
              0.5555555555555556,
              "#d8576b"
             ],
             [
              0.6666666666666666,
              "#ed7953"
             ],
             [
              0.7777777777777778,
              "#fb9f3a"
             ],
             [
              0.8888888888888888,
              "#fdca26"
             ],
             [
              1,
              "#f0f921"
             ]
            ],
            "type": "heatmap"
           }
          ],
          "heatmapgl": [
           {
            "colorbar": {
             "outlinewidth": 0,
             "ticks": ""
            },
            "colorscale": [
             [
              0,
              "#0d0887"
             ],
             [
              0.1111111111111111,
              "#46039f"
             ],
             [
              0.2222222222222222,
              "#7201a8"
             ],
             [
              0.3333333333333333,
              "#9c179e"
             ],
             [
              0.4444444444444444,
              "#bd3786"
             ],
             [
              0.5555555555555556,
              "#d8576b"
             ],
             [
              0.6666666666666666,
              "#ed7953"
             ],
             [
              0.7777777777777778,
              "#fb9f3a"
             ],
             [
              0.8888888888888888,
              "#fdca26"
             ],
             [
              1,
              "#f0f921"
             ]
            ],
            "type": "heatmapgl"
           }
          ],
          "histogram": [
           {
            "marker": {
             "colorbar": {
              "outlinewidth": 0,
              "ticks": ""
             }
            },
            "type": "histogram"
           }
          ],
          "histogram2d": [
           {
            "colorbar": {
             "outlinewidth": 0,
             "ticks": ""
            },
            "colorscale": [
             [
              0,
              "#0d0887"
             ],
             [
              0.1111111111111111,
              "#46039f"
             ],
             [
              0.2222222222222222,
              "#7201a8"
             ],
             [
              0.3333333333333333,
              "#9c179e"
             ],
             [
              0.4444444444444444,
              "#bd3786"
             ],
             [
              0.5555555555555556,
              "#d8576b"
             ],
             [
              0.6666666666666666,
              "#ed7953"
             ],
             [
              0.7777777777777778,
              "#fb9f3a"
             ],
             [
              0.8888888888888888,
              "#fdca26"
             ],
             [
              1,
              "#f0f921"
             ]
            ],
            "type": "histogram2d"
           }
          ],
          "histogram2dcontour": [
           {
            "colorbar": {
             "outlinewidth": 0,
             "ticks": ""
            },
            "colorscale": [
             [
              0,
              "#0d0887"
             ],
             [
              0.1111111111111111,
              "#46039f"
             ],
             [
              0.2222222222222222,
              "#7201a8"
             ],
             [
              0.3333333333333333,
              "#9c179e"
             ],
             [
              0.4444444444444444,
              "#bd3786"
             ],
             [
              0.5555555555555556,
              "#d8576b"
             ],
             [
              0.6666666666666666,
              "#ed7953"
             ],
             [
              0.7777777777777778,
              "#fb9f3a"
             ],
             [
              0.8888888888888888,
              "#fdca26"
             ],
             [
              1,
              "#f0f921"
             ]
            ],
            "type": "histogram2dcontour"
           }
          ],
          "mesh3d": [
           {
            "colorbar": {
             "outlinewidth": 0,
             "ticks": ""
            },
            "type": "mesh3d"
           }
          ],
          "parcoords": [
           {
            "line": {
             "colorbar": {
              "outlinewidth": 0,
              "ticks": ""
             }
            },
            "type": "parcoords"
           }
          ],
          "pie": [
           {
            "automargin": true,
            "type": "pie"
           }
          ],
          "scatter": [
           {
            "marker": {
             "colorbar": {
              "outlinewidth": 0,
              "ticks": ""
             }
            },
            "type": "scatter"
           }
          ],
          "scatter3d": [
           {
            "line": {
             "colorbar": {
              "outlinewidth": 0,
              "ticks": ""
             }
            },
            "marker": {
             "colorbar": {
              "outlinewidth": 0,
              "ticks": ""
             }
            },
            "type": "scatter3d"
           }
          ],
          "scattercarpet": [
           {
            "marker": {
             "colorbar": {
              "outlinewidth": 0,
              "ticks": ""
             }
            },
            "type": "scattercarpet"
           }
          ],
          "scattergeo": [
           {
            "marker": {
             "colorbar": {
              "outlinewidth": 0,
              "ticks": ""
             }
            },
            "type": "scattergeo"
           }
          ],
          "scattergl": [
           {
            "marker": {
             "colorbar": {
              "outlinewidth": 0,
              "ticks": ""
             }
            },
            "type": "scattergl"
           }
          ],
          "scattermapbox": [
           {
            "marker": {
             "colorbar": {
              "outlinewidth": 0,
              "ticks": ""
             }
            },
            "type": "scattermapbox"
           }
          ],
          "scatterpolar": [
           {
            "marker": {
             "colorbar": {
              "outlinewidth": 0,
              "ticks": ""
             }
            },
            "type": "scatterpolar"
           }
          ],
          "scatterpolargl": [
           {
            "marker": {
             "colorbar": {
              "outlinewidth": 0,
              "ticks": ""
             }
            },
            "type": "scatterpolargl"
           }
          ],
          "scatterternary": [
           {
            "marker": {
             "colorbar": {
              "outlinewidth": 0,
              "ticks": ""
             }
            },
            "type": "scatterternary"
           }
          ],
          "surface": [
           {
            "colorbar": {
             "outlinewidth": 0,
             "ticks": ""
            },
            "colorscale": [
             [
              0,
              "#0d0887"
             ],
             [
              0.1111111111111111,
              "#46039f"
             ],
             [
              0.2222222222222222,
              "#7201a8"
             ],
             [
              0.3333333333333333,
              "#9c179e"
             ],
             [
              0.4444444444444444,
              "#bd3786"
             ],
             [
              0.5555555555555556,
              "#d8576b"
             ],
             [
              0.6666666666666666,
              "#ed7953"
             ],
             [
              0.7777777777777778,
              "#fb9f3a"
             ],
             [
              0.8888888888888888,
              "#fdca26"
             ],
             [
              1,
              "#f0f921"
             ]
            ],
            "type": "surface"
           }
          ],
          "table": [
           {
            "cells": {
             "fill": {
              "color": "#EBF0F8"
             },
             "line": {
              "color": "white"
             }
            },
            "header": {
             "fill": {
              "color": "#C8D4E3"
             },
             "line": {
              "color": "white"
             }
            },
            "type": "table"
           }
          ]
         },
         "layout": {
          "annotationdefaults": {
           "arrowcolor": "#2a3f5f",
           "arrowhead": 0,
           "arrowwidth": 1
          },
          "coloraxis": {
           "colorbar": {
            "outlinewidth": 0,
            "ticks": ""
           }
          },
          "colorscale": {
           "diverging": [
            [
             0,
             "#8e0152"
            ],
            [
             0.1,
             "#c51b7d"
            ],
            [
             0.2,
             "#de77ae"
            ],
            [
             0.3,
             "#f1b6da"
            ],
            [
             0.4,
             "#fde0ef"
            ],
            [
             0.5,
             "#f7f7f7"
            ],
            [
             0.6,
             "#e6f5d0"
            ],
            [
             0.7,
             "#b8e186"
            ],
            [
             0.8,
             "#7fbc41"
            ],
            [
             0.9,
             "#4d9221"
            ],
            [
             1,
             "#276419"
            ]
           ],
           "sequential": [
            [
             0,
             "#0d0887"
            ],
            [
             0.1111111111111111,
             "#46039f"
            ],
            [
             0.2222222222222222,
             "#7201a8"
            ],
            [
             0.3333333333333333,
             "#9c179e"
            ],
            [
             0.4444444444444444,
             "#bd3786"
            ],
            [
             0.5555555555555556,
             "#d8576b"
            ],
            [
             0.6666666666666666,
             "#ed7953"
            ],
            [
             0.7777777777777778,
             "#fb9f3a"
            ],
            [
             0.8888888888888888,
             "#fdca26"
            ],
            [
             1,
             "#f0f921"
            ]
           ],
           "sequentialminus": [
            [
             0,
             "#0d0887"
            ],
            [
             0.1111111111111111,
             "#46039f"
            ],
            [
             0.2222222222222222,
             "#7201a8"
            ],
            [
             0.3333333333333333,
             "#9c179e"
            ],
            [
             0.4444444444444444,
             "#bd3786"
            ],
            [
             0.5555555555555556,
             "#d8576b"
            ],
            [
             0.6666666666666666,
             "#ed7953"
            ],
            [
             0.7777777777777778,
             "#fb9f3a"
            ],
            [
             0.8888888888888888,
             "#fdca26"
            ],
            [
             1,
             "#f0f921"
            ]
           ]
          },
          "colorway": [
           "#636efa",
           "#EF553B",
           "#00cc96",
           "#ab63fa",
           "#FFA15A",
           "#19d3f3",
           "#FF6692",
           "#B6E880",
           "#FF97FF",
           "#FECB52"
          ],
          "font": {
           "color": "#2a3f5f"
          },
          "geo": {
           "bgcolor": "white",
           "lakecolor": "white",
           "landcolor": "#E5ECF6",
           "showlakes": true,
           "showland": true,
           "subunitcolor": "white"
          },
          "hoverlabel": {
           "align": "left"
          },
          "hovermode": "closest",
          "mapbox": {
           "style": "light"
          },
          "paper_bgcolor": "white",
          "plot_bgcolor": "#E5ECF6",
          "polar": {
           "angularaxis": {
            "gridcolor": "white",
            "linecolor": "white",
            "ticks": ""
           },
           "bgcolor": "#E5ECF6",
           "radialaxis": {
            "gridcolor": "white",
            "linecolor": "white",
            "ticks": ""
           }
          },
          "scene": {
           "xaxis": {
            "backgroundcolor": "#E5ECF6",
            "gridcolor": "white",
            "gridwidth": 2,
            "linecolor": "white",
            "showbackground": true,
            "ticks": "",
            "zerolinecolor": "white"
           },
           "yaxis": {
            "backgroundcolor": "#E5ECF6",
            "gridcolor": "white",
            "gridwidth": 2,
            "linecolor": "white",
            "showbackground": true,
            "ticks": "",
            "zerolinecolor": "white"
           },
           "zaxis": {
            "backgroundcolor": "#E5ECF6",
            "gridcolor": "white",
            "gridwidth": 2,
            "linecolor": "white",
            "showbackground": true,
            "ticks": "",
            "zerolinecolor": "white"
           }
          },
          "shapedefaults": {
           "line": {
            "color": "#2a3f5f"
           }
          },
          "ternary": {
           "aaxis": {
            "gridcolor": "white",
            "linecolor": "white",
            "ticks": ""
           },
           "baxis": {
            "gridcolor": "white",
            "linecolor": "white",
            "ticks": ""
           },
           "bgcolor": "#E5ECF6",
           "caxis": {
            "gridcolor": "white",
            "linecolor": "white",
            "ticks": ""
           }
          },
          "title": {
           "x": 0.05
          },
          "xaxis": {
           "automargin": true,
           "gridcolor": "white",
           "linecolor": "white",
           "ticks": "",
           "title": {
            "standoff": 15
           },
           "zerolinecolor": "white",
           "zerolinewidth": 2
          },
          "yaxis": {
           "automargin": true,
           "gridcolor": "white",
           "linecolor": "white",
           "ticks": "",
           "title": {
            "standoff": 15
           },
           "zerolinecolor": "white",
           "zerolinewidth": 2
          }
         }
        },
        "title": {
         "text": "2016 Stockoverflow survey users by country"
        }
       }
      },
      "image/png": "[encoded data removed]",
      "text/html": [
       "<div>\n",
       "        \n",
       "        \n",
       "            <div id=\"4adf2131-8371-44bf-bce6-fce8538f1a39\" class=\"plotly-graph-div\" style=\"height:525px; width:100%;\"></div>\n",
       "            <script type=\"text/javascript\">\n",
       "                require([\"plotly\"], function(Plotly) {\n",
       "                    window.PLOTLYENV=window.PLOTLYENV || {};\n",
       "                    \n",
       "                if (document.getElementById(\"4adf2131-8371-44bf-bce6-fce8538f1a39\")) {\n",
       "                    Plotly.newPlot(\n",
       "                        '4adf2131-8371-44bf-bce6-fce8538f1a39',\n",
       "                        [{\"colorbar\": {\"title\": {\"text\": \"number of users in survey\"}}, \"colorscale\": [[0.0, \"rgb(255,245,240)\"], [0.125, \"rgb(254,224,210)\"], [0.25, \"rgb(252,187,161)\"], [0.375, \"rgb(252,146,114)\"], [0.5, \"rgb(251,106,74)\"], [0.625, \"rgb(239,59,44)\"], [0.75, \"rgb(203,24,29)\"], [0.875, \"rgb(165,15,21)\"], [1.0, \"rgb(103,0,13)\"]], \"locations\": [\"USA\", \"GBR\", \"IND\", \"DEU\", \"CAN\", \"CAN\", \"POL\", \"FRA\", \"RUS\", \"SWE\", \"NLD\", \"ITA\", \"AUS\", \"ESP\", \"BRA\", \"ROU\", \"UKR\", \"DNK\", \"CHE\", \"BEL\", \"PRT\", \"AUT\", \"ZAF\", \"MEX\", \"FIN\", \"ISR\", \"TUR\", \"IRL\", \"GRC\", \"CZE\", \"NOR\", \"NZL\", \"PAK\", \"ARG\", \"CHN\", \"IRN\", \"KOR\", \"HUN\", \"BGR\", \"PHL\", \"SGP\", \"SVN\", \"BGD\", \"BLR\", \"JPN\", \"LTU\", \"IDN\", \"HRV\", \"MYS\", \"VNM\", \"LKA\", \"SVK\", \"EGY\", \"CHL\", \"HKG\", \"COL\", \"EST\", \"DOM\", \"LVA\", \"THA\", \"NPL\", \"ARE\", \"KEN\", \"MAR\", \"NGA\", \"NGA\", \"BIH\", \"PER\", \"TUN\", \"VEN\", \"URY\", \"JOR\", \"KAZ\", \"GEO\", \"LBN\", \"MKD\", \"AFG\", \"MLT\", \"ARM\", \"DZA\", \"CRI\", \"CYP\", \"SAU\", \"GHA\", \"AZE\", \"LUX\", \"ALB\", \"CUB\", \"MDA\", \"ISL\", \"UZB\", \"ECU\", \"GTM\", \"MMR\", \"PRY\", \"BOL\", \"MNG\", \"SYR\", \"UGA\", \"PAN\", \"KHM\", \"JAM\", \"TTO\", \"ETH\", \"BHR\", \"KGZ\", \"ZWE\", \"SLV\", \"AND\", \"MUS\", \"HND\", \"QAT\", \"TZA\", \"IRQ\", \"SDN\", \"NIC\", \"BHS\", \"CMR\", \"AGO\", \"MDG\", \"FJI\", \"MDV\", \"BWA\", \"LIE\", \"CIV\", \"HTI\", \"PRI\", \"GUY\", \"MNE\", \"LAO\", \"BRB\", \"SUR\", \"BMU\", \"FSM\", \"BEN\", \"ZMB\", \"DJI\", \"BLZ\", \"YEM\", \"MWI\", \"KNA\", \"TLS\", \"OMN\", \"GIN\", \"SOM\", \"TJK\", \"BTN\", \"GAB\", \"SMR\", \"MOZ\", \"NAM\", \"DMA\", \"TCD\", \"NER\", \"BFA\", \"MRT\", \"MCO\", \"TGO\", \"SLE\", \"RWA\"], \"type\": \"choropleth\", \"z\": [13445, 4520, 4151, 3848, 2013, 2013, 1951, 1602, 1409, 1321, 1175, 1131, 1115, 1022, 1012, 822, 799, 603, 570, 538, 483, 479, 477, 440, 438, 437, 434, 419, 390, 369, 360, 353, 334, 319, 316, 313, 231, 231, 213, 173, 166, 154, 151, 146, 145, 143, 143, 137, 124, 117, 110, 109, 105, 98, 87, 86, 79, 75, 66, 62, 62, 56, 52, 48, 47, 47, 46, 46, 44, 42, 41, 37, 35, 35, 35, 34, 32, 31, 29, 28, 27, 27, 26, 25, 25, 25, 23, 23, 23, 22, 18, 18, 18, 17, 15, 14, 13, 12, 12, 12, 12, 11, 11, 11, 10, 10, 9, 9, 8, 8, 8, 8, 7, 7, 7, 6, 6, 6, 6, 5, 4, 4, 4, 3, 3, 3, 3, 3, 2, 2, 2, 2, 2, 2, 2, 2, 2, 2, 2, 2, 1, 1, 1, 1, 1, 1, 1, 1, 1, 1, 1, 1, 1, 1, 1, 1, 1, 1, 1, 1]}],\n",
       "                        {\"geo\": {\"scope\": \"world\"}, \"template\": {\"data\": {\"bar\": [{\"error_x\": {\"color\": \"#2a3f5f\"}, \"error_y\": {\"color\": \"#2a3f5f\"}, \"marker\": {\"line\": {\"color\": \"#E5ECF6\", \"width\": 0.5}}, \"type\": \"bar\"}], \"barpolar\": [{\"marker\": {\"line\": {\"color\": \"#E5ECF6\", \"width\": 0.5}}, \"type\": \"barpolar\"}], \"carpet\": [{\"aaxis\": {\"endlinecolor\": \"#2a3f5f\", \"gridcolor\": \"white\", \"linecolor\": \"white\", \"minorgridcolor\": \"white\", \"startlinecolor\": \"#2a3f5f\"}, \"baxis\": {\"endlinecolor\": \"#2a3f5f\", \"gridcolor\": \"white\", \"linecolor\": \"white\", \"minorgridcolor\": \"white\", \"startlinecolor\": \"#2a3f5f\"}, \"type\": \"carpet\"}], \"choropleth\": [{\"colorbar\": {\"outlinewidth\": 0, \"ticks\": \"\"}, \"type\": \"choropleth\"}], \"contour\": [{\"colorbar\": {\"outlinewidth\": 0, \"ticks\": \"\"}, \"colorscale\": [[0.0, \"#0d0887\"], [0.1111111111111111, \"#46039f\"], [0.2222222222222222, \"#7201a8\"], [0.3333333333333333, \"#9c179e\"], [0.4444444444444444, \"#bd3786\"], [0.5555555555555556, \"#d8576b\"], [0.6666666666666666, \"#ed7953\"], [0.7777777777777778, \"#fb9f3a\"], [0.8888888888888888, \"#fdca26\"], [1.0, \"#f0f921\"]], \"type\": \"contour\"}], \"contourcarpet\": [{\"colorbar\": {\"outlinewidth\": 0, \"ticks\": \"\"}, \"type\": \"contourcarpet\"}], \"heatmap\": [{\"colorbar\": {\"outlinewidth\": 0, \"ticks\": \"\"}, \"colorscale\": [[0.0, \"#0d0887\"], [0.1111111111111111, \"#46039f\"], [0.2222222222222222, \"#7201a8\"], [0.3333333333333333, \"#9c179e\"], [0.4444444444444444, \"#bd3786\"], [0.5555555555555556, \"#d8576b\"], [0.6666666666666666, \"#ed7953\"], [0.7777777777777778, \"#fb9f3a\"], [0.8888888888888888, \"#fdca26\"], [1.0, \"#f0f921\"]], \"type\": \"heatmap\"}], \"heatmapgl\": [{\"colorbar\": {\"outlinewidth\": 0, \"ticks\": \"\"}, \"colorscale\": [[0.0, \"#0d0887\"], [0.1111111111111111, \"#46039f\"], [0.2222222222222222, \"#7201a8\"], [0.3333333333333333, \"#9c179e\"], [0.4444444444444444, \"#bd3786\"], [0.5555555555555556, \"#d8576b\"], [0.6666666666666666, \"#ed7953\"], [0.7777777777777778, \"#fb9f3a\"], [0.8888888888888888, \"#fdca26\"], [1.0, \"#f0f921\"]], \"type\": \"heatmapgl\"}], \"histogram\": [{\"marker\": {\"colorbar\": {\"outlinewidth\": 0, \"ticks\": \"\"}}, \"type\": \"histogram\"}], \"histogram2d\": [{\"colorbar\": {\"outlinewidth\": 0, \"ticks\": \"\"}, \"colorscale\": [[0.0, \"#0d0887\"], [0.1111111111111111, \"#46039f\"], [0.2222222222222222, \"#7201a8\"], [0.3333333333333333, \"#9c179e\"], [0.4444444444444444, \"#bd3786\"], [0.5555555555555556, \"#d8576b\"], [0.6666666666666666, \"#ed7953\"], [0.7777777777777778, \"#fb9f3a\"], [0.8888888888888888, \"#fdca26\"], [1.0, \"#f0f921\"]], \"type\": \"histogram2d\"}], \"histogram2dcontour\": [{\"colorbar\": {\"outlinewidth\": 0, \"ticks\": \"\"}, \"colorscale\": [[0.0, \"#0d0887\"], [0.1111111111111111, \"#46039f\"], [0.2222222222222222, \"#7201a8\"], [0.3333333333333333, \"#9c179e\"], [0.4444444444444444, \"#bd3786\"], [0.5555555555555556, \"#d8576b\"], [0.6666666666666666, \"#ed7953\"], [0.7777777777777778, \"#fb9f3a\"], [0.8888888888888888, \"#fdca26\"], [1.0, \"#f0f921\"]], \"type\": \"histogram2dcontour\"}], \"mesh3d\": [{\"colorbar\": {\"outlinewidth\": 0, \"ticks\": \"\"}, \"type\": \"mesh3d\"}], \"parcoords\": [{\"line\": {\"colorbar\": {\"outlinewidth\": 0, \"ticks\": \"\"}}, \"type\": \"parcoords\"}], \"pie\": [{\"automargin\": true, \"type\": \"pie\"}], \"scatter\": [{\"marker\": {\"colorbar\": {\"outlinewidth\": 0, \"ticks\": \"\"}}, \"type\": \"scatter\"}], \"scatter3d\": [{\"line\": {\"colorbar\": {\"outlinewidth\": 0, \"ticks\": \"\"}}, \"marker\": {\"colorbar\": {\"outlinewidth\": 0, \"ticks\": \"\"}}, \"type\": \"scatter3d\"}], \"scattercarpet\": [{\"marker\": {\"colorbar\": {\"outlinewidth\": 0, \"ticks\": \"\"}}, \"type\": \"scattercarpet\"}], \"scattergeo\": [{\"marker\": {\"colorbar\": {\"outlinewidth\": 0, \"ticks\": \"\"}}, \"type\": \"scattergeo\"}], \"scattergl\": [{\"marker\": {\"colorbar\": {\"outlinewidth\": 0, \"ticks\": \"\"}}, \"type\": \"scattergl\"}], \"scattermapbox\": [{\"marker\": {\"colorbar\": {\"outlinewidth\": 0, \"ticks\": \"\"}}, \"type\": \"scattermapbox\"}], \"scatterpolar\": [{\"marker\": {\"colorbar\": {\"outlinewidth\": 0, \"ticks\": \"\"}}, \"type\": \"scatterpolar\"}], \"scatterpolargl\": [{\"marker\": {\"colorbar\": {\"outlinewidth\": 0, \"ticks\": \"\"}}, \"type\": \"scatterpolargl\"}], \"scatterternary\": [{\"marker\": {\"colorbar\": {\"outlinewidth\": 0, \"ticks\": \"\"}}, \"type\": \"scatterternary\"}], \"surface\": [{\"colorbar\": {\"outlinewidth\": 0, \"ticks\": \"\"}, \"colorscale\": [[0.0, \"#0d0887\"], [0.1111111111111111, \"#46039f\"], [0.2222222222222222, \"#7201a8\"], [0.3333333333333333, \"#9c179e\"], [0.4444444444444444, \"#bd3786\"], [0.5555555555555556, \"#d8576b\"], [0.6666666666666666, \"#ed7953\"], [0.7777777777777778, \"#fb9f3a\"], [0.8888888888888888, \"#fdca26\"], [1.0, \"#f0f921\"]], \"type\": \"surface\"}], \"table\": [{\"cells\": {\"fill\": {\"color\": \"#EBF0F8\"}, \"line\": {\"color\": \"white\"}}, \"header\": {\"fill\": {\"color\": \"#C8D4E3\"}, \"line\": {\"color\": \"white\"}}, \"type\": \"table\"}]}, \"layout\": {\"annotationdefaults\": {\"arrowcolor\": \"#2a3f5f\", \"arrowhead\": 0, \"arrowwidth\": 1}, \"coloraxis\": {\"colorbar\": {\"outlinewidth\": 0, \"ticks\": \"\"}}, \"colorscale\": {\"diverging\": [[0, \"#8e0152\"], [0.1, \"#c51b7d\"], [0.2, \"#de77ae\"], [0.3, \"#f1b6da\"], [0.4, \"#fde0ef\"], [0.5, \"#f7f7f7\"], [0.6, \"#e6f5d0\"], [0.7, \"#b8e186\"], [0.8, \"#7fbc41\"], [0.9, \"#4d9221\"], [1, \"#276419\"]], \"sequential\": [[0.0, \"#0d0887\"], [0.1111111111111111, \"#46039f\"], [0.2222222222222222, \"#7201a8\"], [0.3333333333333333, \"#9c179e\"], [0.4444444444444444, \"#bd3786\"], [0.5555555555555556, \"#d8576b\"], [0.6666666666666666, \"#ed7953\"], [0.7777777777777778, \"#fb9f3a\"], [0.8888888888888888, \"#fdca26\"], [1.0, \"#f0f921\"]], \"sequentialminus\": [[0.0, \"#0d0887\"], [0.1111111111111111, \"#46039f\"], [0.2222222222222222, \"#7201a8\"], [0.3333333333333333, \"#9c179e\"], [0.4444444444444444, \"#bd3786\"], [0.5555555555555556, \"#d8576b\"], [0.6666666666666666, \"#ed7953\"], [0.7777777777777778, \"#fb9f3a\"], [0.8888888888888888, \"#fdca26\"], [1.0, \"#f0f921\"]]}, \"colorway\": [\"#636efa\", \"#EF553B\", \"#00cc96\", \"#ab63fa\", \"#FFA15A\", \"#19d3f3\", \"#FF6692\", \"#B6E880\", \"#FF97FF\", \"#FECB52\"], \"font\": {\"color\": \"#2a3f5f\"}, \"geo\": {\"bgcolor\": \"white\", \"lakecolor\": \"white\", \"landcolor\": \"#E5ECF6\", \"showlakes\": true, \"showland\": true, \"subunitcolor\": \"white\"}, \"hoverlabel\": {\"align\": \"left\"}, \"hovermode\": \"closest\", \"mapbox\": {\"style\": \"light\"}, \"paper_bgcolor\": \"white\", \"plot_bgcolor\": \"#E5ECF6\", \"polar\": {\"angularaxis\": {\"gridcolor\": \"white\", \"linecolor\": \"white\", \"ticks\": \"\"}, \"bgcolor\": \"#E5ECF6\", \"radialaxis\": {\"gridcolor\": \"white\", \"linecolor\": \"white\", \"ticks\": \"\"}}, \"scene\": {\"xaxis\": {\"backgroundcolor\": \"#E5ECF6\", \"gridcolor\": \"white\", \"gridwidth\": 2, \"linecolor\": \"white\", \"showbackground\": true, \"ticks\": \"\", \"zerolinecolor\": \"white\"}, \"yaxis\": {\"backgroundcolor\": \"#E5ECF6\", \"gridcolor\": \"white\", \"gridwidth\": 2, \"linecolor\": \"white\", \"showbackground\": true, \"ticks\": \"\", \"zerolinecolor\": \"white\"}, \"zaxis\": {\"backgroundcolor\": \"#E5ECF6\", \"gridcolor\": \"white\", \"gridwidth\": 2, \"linecolor\": \"white\", \"showbackground\": true, \"ticks\": \"\", \"zerolinecolor\": \"white\"}}, \"shapedefaults\": {\"line\": {\"color\": \"#2a3f5f\"}}, \"ternary\": {\"aaxis\": {\"gridcolor\": \"white\", \"linecolor\": \"white\", \"ticks\": \"\"}, \"baxis\": {\"gridcolor\": \"white\", \"linecolor\": \"white\", \"ticks\": \"\"}, \"bgcolor\": \"#E5ECF6\", \"caxis\": {\"gridcolor\": \"white\", \"linecolor\": \"white\", \"ticks\": \"\"}}, \"title\": {\"x\": 0.05}, \"xaxis\": {\"automargin\": true, \"gridcolor\": \"white\", \"linecolor\": \"white\", \"ticks\": \"\", \"title\": {\"standoff\": 15}, \"zerolinecolor\": \"white\", \"zerolinewidth\": 2}, \"yaxis\": {\"automargin\": true, \"gridcolor\": \"white\", \"linecolor\": \"white\", \"ticks\": \"\", \"title\": {\"standoff\": 15}, \"zerolinecolor\": \"white\", \"zerolinewidth\": 2}}}, \"title\": {\"text\": \"2016 Stockoverflow survey users by country\"}},\n",
       "                        {\"responsive\": true}\n",
       "                    ).then(function(){\n",
       "                            \n",
       "var gd = document.getElementById('4adf2131-8371-44bf-bce6-fce8538f1a39');\n",
       "var x = new MutationObserver(function (mutations, observer) {{\n",
       "        var display = window.getComputedStyle(gd).display;\n",
       "        if (!display || display === 'none') {{\n",
       "            console.log([gd, 'removed!']);\n",
       "            Plotly.purge(gd);\n",
       "            observer.disconnect();\n",
       "        }}\n",
       "}});\n",
       "\n",
       "// Listen for the removal of the full notebook cells\n",
       "var notebookContainer = gd.closest('#notebook-container');\n",
       "if (notebookContainer) {{\n",
       "    x.observe(notebookContainer, {childList: true});\n",
       "}}\n",
       "\n",
       "// Listen for the clearing of the current output cell\n",
       "var outputEl = gd.closest('.output');\n",
       "if (outputEl) {{\n",
       "    x.observe(outputEl, {childList: true});\n",
       "}}\n",
       "\n",
       "                        })\n",
       "                };\n",
       "                });\n",
       "            </script>\n",
       "        </div>"
      ]
     },
     "metadata": {},
     "output_type": "display_data"
    }
   ],
   "source": [
    "import plotly.graph_objects as go\n",
    "\n",
    "fig1 = go.Figure(data=go.Choropleth(\n",
    "    locations=country['code'], # Spatial coordinates\n",
    "    z = country['UserNumber'], # Data to be color-coded\n",
    "    colorscale = 'Reds',\n",
    "    colorbar_title = \"number of users in survey\",\n",
    "))\n",
    "\n",
    "fig1.update_layout(\n",
    "    title_text = '2016 Stockoverflow survey users by country',geo_scope=\"world\"\n",
    ")\n",
    "\n",
    "fig1.show()\n"
   ]
  },
  {
   "cell_type": "code",
   "execution_count": 62,
   "metadata": {
    "ExecuteTime": {
     "end_time": "2019-11-15T19:17:30.017958Z",
     "start_time": "2019-11-15T19:17:29.849798Z"
    },
    "hidden": true
   },
   "outputs": [
    {
     "data": {
      "application/vnd.plotly.v1+json": {
       "config": {
        "plotlyServerURL": "https://plot.ly"
       },
       "data": [
        {
         "colorbar": {
          "title": {
           "text": "number of users per million capita"
          }
         },
         "colorscale": [
          [
           0,
           "rgb(255,245,240)"
          ],
          [
           0.125,
           "rgb(254,224,210)"
          ],
          [
           0.25,
           "rgb(252,187,161)"
          ],
          [
           0.375,
           "rgb(252,146,114)"
          ],
          [
           0.5,
           "rgb(251,106,74)"
          ],
          [
           0.625,
           "rgb(239,59,44)"
          ],
          [
           0.75,
           "rgb(203,24,29)"
          ],
          [
           0.875,
           "rgb(165,15,21)"
          ],
          [
           1,
           "rgb(103,0,13)"
          ]
         ],
         "locations": [
          "USA",
          "GBR",
          "IND",
          "DEU",
          "CAN",
          "CAN",
          "POL",
          "FRA",
          "RUS",
          "SWE",
          "NLD",
          "ITA",
          "AUS",
          "ESP",
          "BRA",
          "ROU",
          "UKR",
          "DNK",
          "CHE",
          "BEL",
          "PRT",
          "AUT",
          "ZAF",
          "MEX",
          "FIN",
          "ISR",
          "TUR",
          "IRL",
          "GRC",
          "CZE",
          "NOR",
          "NZL",
          "PAK",
          "ARG",
          "CHN",
          "IRN",
          "KOR",
          "HUN",
          "BGR",
          "PHL",
          "SGP",
          "SVN",
          "BGD",
          "BLR",
          "JPN",
          "LTU",
          "IDN",
          "HRV",
          "MYS",
          "VNM",
          "LKA",
          "SVK",
          "EGY",
          "CHL",
          "HKG",
          "COL",
          "EST",
          "DOM",
          "LVA",
          "THA",
          "NPL",
          "ARE",
          "KEN",
          "MAR",
          "NGA",
          "NGA",
          "BIH",
          "PER",
          "TUN",
          "VEN",
          "URY",
          "JOR",
          "KAZ",
          "GEO",
          "LBN",
          "MKD",
          "AFG",
          "MLT",
          "ARM",
          "DZA",
          "CRI",
          "CYP",
          "SAU",
          "GHA",
          "AZE",
          "LUX",
          "ALB",
          "CUB",
          "MDA",
          "ISL",
          "UZB",
          "ECU",
          "GTM",
          "MMR",
          "PRY",
          "BOL",
          "MNG",
          "SYR",
          "UGA",
          "PAN",
          "KHM",
          "JAM",
          "TTO",
          "ETH",
          "BHR",
          "KGZ",
          "ZWE",
          "SLV",
          "AND",
          "MUS",
          "HND",
          "QAT",
          "TZA",
          "IRQ",
          "SDN",
          "NIC",
          "BHS",
          "CMR",
          "AGO",
          "MDG",
          "FJI",
          "MDV",
          "BWA",
          "LIE",
          "CIV",
          "HTI",
          "PRI",
          "GUY",
          "MNE",
          "LAO",
          "BRB",
          "SUR",
          "BMU",
          "FSM",
          "BEN",
          "ZMB",
          "DJI",
          "BLZ",
          "YEM",
          "MWI",
          "KNA",
          "TLS",
          "OMN",
          "GIN",
          "SOM",
          "TJK",
          "BTN",
          "GAB",
          "SMR",
          "MOZ",
          "NAM",
          "DMA",
          "TCD",
          "NER",
          "BFA",
          "MRT",
          "MCO",
          "TGO",
          "SLE",
          "RWA"
         ],
         "type": "choropleth",
         "z": [
          41.09516596936112,
          67.98117901954626,
          3.0688650175269676,
          46.40174150269918,
          54.319000025257125,
          54.319000025257125,
          51.37110560414263,
          23.91500089181158,
          9.75234646370158,
          129.7237845760286,
          68.19098373589904,
          18.715472249695576,
          44.613617860715806,
          21.873244803194197,
          4.831256134281002,
          42.21026504349198,
          17.905758608501593,
          104.01131808730948,
          66.92856479442422,
          47.101803281157146,
          46.97638400888874,
          54.14242079014703,
          8.255505721376993,
          3.486783837184692,
          79.37586647456983,
          49.190661653796795,
          5.272126519763356,
          86.32934624990676,
          36.35459262907838,
          34.72714020118213,
          67.74129449097686,
          72.25463105106948,
          1.5738753282460718,
          7.169425112343094,
          0.22689250608517084,
          3.826393284843599,
          4.473687513043414,
          23.646748290601135,
          30.323668862119273,
          1.6220992248034687,
          29.439535096536844,
          74.4907060751524,
          0.9358187083409998,
          15.392098961497192,
          1.1459814382620284,
          51.2630608779319,
          0.5342530256327317,
          33.50124712671785,
          3.9329389504793824,
          1.2246128980312463,
          5.076142131979695,
          20.010974826377257,
          1.066817362239207,
          5.232482396434223,
          11.67628506240773,
          1.732170751350212,
          59.80843132326533,
          7.057385483334455,
          34.2582720750443,
          0.8930047252624873,
          2.207358471562334,
          5.814581912351615,
          1.0118107501389781,
          1.3322550209222324,
          0.2399492655357194,
          0.2399492655357194,
          13.839044095105521,
          1.4379828027260153,
          3.804515683424175,
          1.4547875412687723,
          11.886473164547347,
          3.7163478425244807,
          1.9150275991041827,
          9.380863039399625,
          5.11029103107422,
          16.322940741003897,
          0.8608540759261457,
          64.111844146175,
          9.824593736110057,
          0.6630604231097491,
          5.400603787503443,
          22.703098132039536,
          0.7715145664769146,
          0.8398531694782039,
          2.514500116371065,
          41.13682436879656,
          8.024069417271146,
          2.028551778078552,
          6.486395631215131,
          62.221769700260765,
          0.5461927332091251,
          1.0535954030930166,
          1.0436109355815495,
          0.3165240741228629,
          2.1563897205764575,
          1.2331388086223178,
          4.100677305716218,
          0.7097952873496794,
          0.2808782379028844,
          2.872962620601584,
          0.7384707182206204,
          3.748055696107644,
          7.914477594113931,
          0.1007099511383699,
          6.371703519537873,
          1.5833306944488426,
          0.6233110866680822,
          1.4017067180999585,
          103.88800872659273,
          6.3225962476971915,
          0.834417902769871,
          2.875962953283217,
          0.12429341854984809,
          0.18213230090337623,
          0.16745797337145507,
          0.9280006087683994,
          15.55855201742558,
          0.2379419260693021,
          0.19474347124135527,
          0.19038648761604438,
          4.527534768637314,
          7.7565077099686635,
          1.774523695658539,
          79.13479293062517,
          0.11966861844853705,
          0.26970714119780176,
          0.9389221736799459,
          3.8510713680545927,
          3.213651591962657,
          0.28322566273742983,
          6.977368903960007,
          3.472276476542168,
          31.265632816408207,
          17.755681818181817,
          0.17413945505495493,
          0.11526167107984396,
          2.085679723021733,
          5.220964259889159,
          0.07017867174021035,
          0.11023343859708107,
          19.069049026525047,
          0.7886609483490171,
          0.20706150120002495,
          0.08055214954216575,
          0.06663044635602754,
          0.1098800033447473,
          1.325567276515985,
          0.4718594802467825,
          29.598934438360217,
          0.0339029457659323,
          0.4084541847152359,
          13.961605584642236,
          0.06460886985454153,
          0.04455742623473529,
          0.05062897643145203,
          0.22710142054209564,
          25.851817382762007,
          0.1267572676913217,
          0.1307163228348083,
          0.0812879985829876
         ]
        }
       ],
       "layout": {
        "autosize": true,
        "geo": {
         "scope": "world"
        },
        "template": {
         "data": {
          "bar": [
           {
            "error_x": {
             "color": "#2a3f5f"
            },
            "error_y": {
             "color": "#2a3f5f"
            },
            "marker": {
             "line": {
              "color": "#E5ECF6",
              "width": 0.5
             }
            },
            "type": "bar"
           }
          ],
          "barpolar": [
           {
            "marker": {
             "line": {
              "color": "#E5ECF6",
              "width": 0.5
             }
            },
            "type": "barpolar"
           }
          ],
          "carpet": [
           {
            "aaxis": {
             "endlinecolor": "#2a3f5f",
             "gridcolor": "white",
             "linecolor": "white",
             "minorgridcolor": "white",
             "startlinecolor": "#2a3f5f"
            },
            "baxis": {
             "endlinecolor": "#2a3f5f",
             "gridcolor": "white",
             "linecolor": "white",
             "minorgridcolor": "white",
             "startlinecolor": "#2a3f5f"
            },
            "type": "carpet"
           }
          ],
          "choropleth": [
           {
            "colorbar": {
             "outlinewidth": 0,
             "ticks": ""
            },
            "type": "choropleth"
           }
          ],
          "contour": [
           {
            "colorbar": {
             "outlinewidth": 0,
             "ticks": ""
            },
            "colorscale": [
             [
              0,
              "#0d0887"
             ],
             [
              0.1111111111111111,
              "#46039f"
             ],
             [
              0.2222222222222222,
              "#7201a8"
             ],
             [
              0.3333333333333333,
              "#9c179e"
             ],
             [
              0.4444444444444444,
              "#bd3786"
             ],
             [
              0.5555555555555556,
              "#d8576b"
             ],
             [
              0.6666666666666666,
              "#ed7953"
             ],
             [
              0.7777777777777778,
              "#fb9f3a"
             ],
             [
              0.8888888888888888,
              "#fdca26"
             ],
             [
              1,
              "#f0f921"
             ]
            ],
            "type": "contour"
           }
          ],
          "contourcarpet": [
           {
            "colorbar": {
             "outlinewidth": 0,
             "ticks": ""
            },
            "type": "contourcarpet"
           }
          ],
          "heatmap": [
           {
            "colorbar": {
             "outlinewidth": 0,
             "ticks": ""
            },
            "colorscale": [
             [
              0,
              "#0d0887"
             ],
             [
              0.1111111111111111,
              "#46039f"
             ],
             [
              0.2222222222222222,
              "#7201a8"
             ],
             [
              0.3333333333333333,
              "#9c179e"
             ],
             [
              0.4444444444444444,
              "#bd3786"
             ],
             [
              0.5555555555555556,
              "#d8576b"
             ],
             [
              0.6666666666666666,
              "#ed7953"
             ],
             [
              0.7777777777777778,
              "#fb9f3a"
             ],
             [
              0.8888888888888888,
              "#fdca26"
             ],
             [
              1,
              "#f0f921"
             ]
            ],
            "type": "heatmap"
           }
          ],
          "heatmapgl": [
           {
            "colorbar": {
             "outlinewidth": 0,
             "ticks": ""
            },
            "colorscale": [
             [
              0,
              "#0d0887"
             ],
             [
              0.1111111111111111,
              "#46039f"
             ],
             [
              0.2222222222222222,
              "#7201a8"
             ],
             [
              0.3333333333333333,
              "#9c179e"
             ],
             [
              0.4444444444444444,
              "#bd3786"
             ],
             [
              0.5555555555555556,
              "#d8576b"
             ],
             [
              0.6666666666666666,
              "#ed7953"
             ],
             [
              0.7777777777777778,
              "#fb9f3a"
             ],
             [
              0.8888888888888888,
              "#fdca26"
             ],
             [
              1,
              "#f0f921"
             ]
            ],
            "type": "heatmapgl"
           }
          ],
          "histogram": [
           {
            "marker": {
             "colorbar": {
              "outlinewidth": 0,
              "ticks": ""
             }
            },
            "type": "histogram"
           }
          ],
          "histogram2d": [
           {
            "colorbar": {
             "outlinewidth": 0,
             "ticks": ""
            },
            "colorscale": [
             [
              0,
              "#0d0887"
             ],
             [
              0.1111111111111111,
              "#46039f"
             ],
             [
              0.2222222222222222,
              "#7201a8"
             ],
             [
              0.3333333333333333,
              "#9c179e"
             ],
             [
              0.4444444444444444,
              "#bd3786"
             ],
             [
              0.5555555555555556,
              "#d8576b"
             ],
             [
              0.6666666666666666,
              "#ed7953"
             ],
             [
              0.7777777777777778,
              "#fb9f3a"
             ],
             [
              0.8888888888888888,
              "#fdca26"
             ],
             [
              1,
              "#f0f921"
             ]
            ],
            "type": "histogram2d"
           }
          ],
          "histogram2dcontour": [
           {
            "colorbar": {
             "outlinewidth": 0,
             "ticks": ""
            },
            "colorscale": [
             [
              0,
              "#0d0887"
             ],
             [
              0.1111111111111111,
              "#46039f"
             ],
             [
              0.2222222222222222,
              "#7201a8"
             ],
             [
              0.3333333333333333,
              "#9c179e"
             ],
             [
              0.4444444444444444,
              "#bd3786"
             ],
             [
              0.5555555555555556,
              "#d8576b"
             ],
             [
              0.6666666666666666,
              "#ed7953"
             ],
             [
              0.7777777777777778,
              "#fb9f3a"
             ],
             [
              0.8888888888888888,
              "#fdca26"
             ],
             [
              1,
              "#f0f921"
             ]
            ],
            "type": "histogram2dcontour"
           }
          ],
          "mesh3d": [
           {
            "colorbar": {
             "outlinewidth": 0,
             "ticks": ""
            },
            "type": "mesh3d"
           }
          ],
          "parcoords": [
           {
            "line": {
             "colorbar": {
              "outlinewidth": 0,
              "ticks": ""
             }
            },
            "type": "parcoords"
           }
          ],
          "pie": [
           {
            "automargin": true,
            "type": "pie"
           }
          ],
          "scatter": [
           {
            "marker": {
             "colorbar": {
              "outlinewidth": 0,
              "ticks": ""
             }
            },
            "type": "scatter"
           }
          ],
          "scatter3d": [
           {
            "line": {
             "colorbar": {
              "outlinewidth": 0,
              "ticks": ""
             }
            },
            "marker": {
             "colorbar": {
              "outlinewidth": 0,
              "ticks": ""
             }
            },
            "type": "scatter3d"
           }
          ],
          "scattercarpet": [
           {
            "marker": {
             "colorbar": {
              "outlinewidth": 0,
              "ticks": ""
             }
            },
            "type": "scattercarpet"
           }
          ],
          "scattergeo": [
           {
            "marker": {
             "colorbar": {
              "outlinewidth": 0,
              "ticks": ""
             }
            },
            "type": "scattergeo"
           }
          ],
          "scattergl": [
           {
            "marker": {
             "colorbar": {
              "outlinewidth": 0,
              "ticks": ""
             }
            },
            "type": "scattergl"
           }
          ],
          "scattermapbox": [
           {
            "marker": {
             "colorbar": {
              "outlinewidth": 0,
              "ticks": ""
             }
            },
            "type": "scattermapbox"
           }
          ],
          "scatterpolar": [
           {
            "marker": {
             "colorbar": {
              "outlinewidth": 0,
              "ticks": ""
             }
            },
            "type": "scatterpolar"
           }
          ],
          "scatterpolargl": [
           {
            "marker": {
             "colorbar": {
              "outlinewidth": 0,
              "ticks": ""
             }
            },
            "type": "scatterpolargl"
           }
          ],
          "scatterternary": [
           {
            "marker": {
             "colorbar": {
              "outlinewidth": 0,
              "ticks": ""
             }
            },
            "type": "scatterternary"
           }
          ],
          "surface": [
           {
            "colorbar": {
             "outlinewidth": 0,
             "ticks": ""
            },
            "colorscale": [
             [
              0,
              "#0d0887"
             ],
             [
              0.1111111111111111,
              "#46039f"
             ],
             [
              0.2222222222222222,
              "#7201a8"
             ],
             [
              0.3333333333333333,
              "#9c179e"
             ],
             [
              0.4444444444444444,
              "#bd3786"
             ],
             [
              0.5555555555555556,
              "#d8576b"
             ],
             [
              0.6666666666666666,
              "#ed7953"
             ],
             [
              0.7777777777777778,
              "#fb9f3a"
             ],
             [
              0.8888888888888888,
              "#fdca26"
             ],
             [
              1,
              "#f0f921"
             ]
            ],
            "type": "surface"
           }
          ],
          "table": [
           {
            "cells": {
             "fill": {
              "color": "#EBF0F8"
             },
             "line": {
              "color": "white"
             }
            },
            "header": {
             "fill": {
              "color": "#C8D4E3"
             },
             "line": {
              "color": "white"
             }
            },
            "type": "table"
           }
          ]
         },
         "layout": {
          "annotationdefaults": {
           "arrowcolor": "#2a3f5f",
           "arrowhead": 0,
           "arrowwidth": 1
          },
          "coloraxis": {
           "colorbar": {
            "outlinewidth": 0,
            "ticks": ""
           }
          },
          "colorscale": {
           "diverging": [
            [
             0,
             "#8e0152"
            ],
            [
             0.1,
             "#c51b7d"
            ],
            [
             0.2,
             "#de77ae"
            ],
            [
             0.3,
             "#f1b6da"
            ],
            [
             0.4,
             "#fde0ef"
            ],
            [
             0.5,
             "#f7f7f7"
            ],
            [
             0.6,
             "#e6f5d0"
            ],
            [
             0.7,
             "#b8e186"
            ],
            [
             0.8,
             "#7fbc41"
            ],
            [
             0.9,
             "#4d9221"
            ],
            [
             1,
             "#276419"
            ]
           ],
           "sequential": [
            [
             0,
             "#0d0887"
            ],
            [
             0.1111111111111111,
             "#46039f"
            ],
            [
             0.2222222222222222,
             "#7201a8"
            ],
            [
             0.3333333333333333,
             "#9c179e"
            ],
            [
             0.4444444444444444,
             "#bd3786"
            ],
            [
             0.5555555555555556,
             "#d8576b"
            ],
            [
             0.6666666666666666,
             "#ed7953"
            ],
            [
             0.7777777777777778,
             "#fb9f3a"
            ],
            [
             0.8888888888888888,
             "#fdca26"
            ],
            [
             1,
             "#f0f921"
            ]
           ],
           "sequentialminus": [
            [
             0,
             "#0d0887"
            ],
            [
             0.1111111111111111,
             "#46039f"
            ],
            [
             0.2222222222222222,
             "#7201a8"
            ],
            [
             0.3333333333333333,
             "#9c179e"
            ],
            [
             0.4444444444444444,
             "#bd3786"
            ],
            [
             0.5555555555555556,
             "#d8576b"
            ],
            [
             0.6666666666666666,
             "#ed7953"
            ],
            [
             0.7777777777777778,
             "#fb9f3a"
            ],
            [
             0.8888888888888888,
             "#fdca26"
            ],
            [
             1,
             "#f0f921"
            ]
           ]
          },
          "colorway": [
           "#636efa",
           "#EF553B",
           "#00cc96",
           "#ab63fa",
           "#FFA15A",
           "#19d3f3",
           "#FF6692",
           "#B6E880",
           "#FF97FF",
           "#FECB52"
          ],
          "font": {
           "color": "#2a3f5f"
          },
          "geo": {
           "bgcolor": "white",
           "lakecolor": "white",
           "landcolor": "#E5ECF6",
           "showlakes": true,
           "showland": true,
           "subunitcolor": "white"
          },
          "hoverlabel": {
           "align": "left"
          },
          "hovermode": "closest",
          "mapbox": {
           "style": "light"
          },
          "paper_bgcolor": "white",
          "plot_bgcolor": "#E5ECF6",
          "polar": {
           "angularaxis": {
            "gridcolor": "white",
            "linecolor": "white",
            "ticks": ""
           },
           "bgcolor": "#E5ECF6",
           "radialaxis": {
            "gridcolor": "white",
            "linecolor": "white",
            "ticks": ""
           }
          },
          "scene": {
           "xaxis": {
            "backgroundcolor": "#E5ECF6",
            "gridcolor": "white",
            "gridwidth": 2,
            "linecolor": "white",
            "showbackground": true,
            "ticks": "",
            "zerolinecolor": "white"
           },
           "yaxis": {
            "backgroundcolor": "#E5ECF6",
            "gridcolor": "white",
            "gridwidth": 2,
            "linecolor": "white",
            "showbackground": true,
            "ticks": "",
            "zerolinecolor": "white"
           },
           "zaxis": {
            "backgroundcolor": "#E5ECF6",
            "gridcolor": "white",
            "gridwidth": 2,
            "linecolor": "white",
            "showbackground": true,
            "ticks": "",
            "zerolinecolor": "white"
           }
          },
          "shapedefaults": {
           "line": {
            "color": "#2a3f5f"
           }
          },
          "ternary": {
           "aaxis": {
            "gridcolor": "white",
            "linecolor": "white",
            "ticks": ""
           },
           "baxis": {
            "gridcolor": "white",
            "linecolor": "white",
            "ticks": ""
           },
           "bgcolor": "#E5ECF6",
           "caxis": {
            "gridcolor": "white",
            "linecolor": "white",
            "ticks": ""
           }
          },
          "title": {
           "x": 0.05
          },
          "xaxis": {
           "automargin": true,
           "gridcolor": "white",
           "linecolor": "white",
           "ticks": "",
           "title": {
            "standoff": 15
           },
           "zerolinecolor": "white",
           "zerolinewidth": 2
          },
          "yaxis": {
           "automargin": true,
           "gridcolor": "white",
           "linecolor": "white",
           "ticks": "",
           "title": {
            "standoff": 15
           },
           "zerolinecolor": "white",
           "zerolinewidth": 2
          }
         }
        },
        "title": {
         "text": "2016 Stockoverflow survey users by country (per capital)"
        }
       }
      },
      "image/png": "[encoded data removed]",
      "text/html": [
       "<div>\n",
       "        \n",
       "        \n",
       "            <div id=\"7d2917d9-0a9d-40b3-ad34-45e0056aaba3\" class=\"plotly-graph-div\" style=\"height:525px; width:100%;\"></div>\n",
       "            <script type=\"text/javascript\">\n",
       "                require([\"plotly\"], function(Plotly) {\n",
       "                    window.PLOTLYENV=window.PLOTLYENV || {};\n",
       "                    \n",
       "                if (document.getElementById(\"7d2917d9-0a9d-40b3-ad34-45e0056aaba3\")) {\n",
       "                    Plotly.newPlot(\n",
       "                        '7d2917d9-0a9d-40b3-ad34-45e0056aaba3',\n",
       "                        [{\"colorbar\": {\"title\": {\"text\": \"number of users per million capita\"}}, \"colorscale\": [[0.0, \"rgb(255,245,240)\"], [0.125, \"rgb(254,224,210)\"], [0.25, \"rgb(252,187,161)\"], [0.375, \"rgb(252,146,114)\"], [0.5, \"rgb(251,106,74)\"], [0.625, \"rgb(239,59,44)\"], [0.75, \"rgb(203,24,29)\"], [0.875, \"rgb(165,15,21)\"], [1.0, \"rgb(103,0,13)\"]], \"locations\": [\"USA\", \"GBR\", \"IND\", \"DEU\", \"CAN\", \"CAN\", \"POL\", \"FRA\", \"RUS\", \"SWE\", \"NLD\", \"ITA\", \"AUS\", \"ESP\", \"BRA\", \"ROU\", \"UKR\", \"DNK\", \"CHE\", \"BEL\", \"PRT\", \"AUT\", \"ZAF\", \"MEX\", \"FIN\", \"ISR\", \"TUR\", \"IRL\", \"GRC\", \"CZE\", \"NOR\", \"NZL\", \"PAK\", \"ARG\", \"CHN\", \"IRN\", \"KOR\", \"HUN\", \"BGR\", \"PHL\", \"SGP\", \"SVN\", \"BGD\", \"BLR\", \"JPN\", \"LTU\", \"IDN\", \"HRV\", \"MYS\", \"VNM\", \"LKA\", \"SVK\", \"EGY\", \"CHL\", \"HKG\", \"COL\", \"EST\", \"DOM\", \"LVA\", \"THA\", \"NPL\", \"ARE\", \"KEN\", \"MAR\", \"NGA\", \"NGA\", \"BIH\", \"PER\", \"TUN\", \"VEN\", \"URY\", \"JOR\", \"KAZ\", \"GEO\", \"LBN\", \"MKD\", \"AFG\", \"MLT\", \"ARM\", \"DZA\", \"CRI\", \"CYP\", \"SAU\", \"GHA\", \"AZE\", \"LUX\", \"ALB\", \"CUB\", \"MDA\", \"ISL\", \"UZB\", \"ECU\", \"GTM\", \"MMR\", \"PRY\", \"BOL\", \"MNG\", \"SYR\", \"UGA\", \"PAN\", \"KHM\", \"JAM\", \"TTO\", \"ETH\", \"BHR\", \"KGZ\", \"ZWE\", \"SLV\", \"AND\", \"MUS\", \"HND\", \"QAT\", \"TZA\", \"IRQ\", \"SDN\", \"NIC\", \"BHS\", \"CMR\", \"AGO\", \"MDG\", \"FJI\", \"MDV\", \"BWA\", \"LIE\", \"CIV\", \"HTI\", \"PRI\", \"GUY\", \"MNE\", \"LAO\", \"BRB\", \"SUR\", \"BMU\", \"FSM\", \"BEN\", \"ZMB\", \"DJI\", \"BLZ\", \"YEM\", \"MWI\", \"KNA\", \"TLS\", \"OMN\", \"GIN\", \"SOM\", \"TJK\", \"BTN\", \"GAB\", \"SMR\", \"MOZ\", \"NAM\", \"DMA\", \"TCD\", \"NER\", \"BFA\", \"MRT\", \"MCO\", \"TGO\", \"SLE\", \"RWA\"], \"type\": \"choropleth\", \"z\": [41.09516596936112, 67.98117901954626, 3.0688650175269676, 46.40174150269918, 54.319000025257125, 54.319000025257125, 51.37110560414263, 23.91500089181158, 9.75234646370158, 129.7237845760286, 68.19098373589904, 18.715472249695576, 44.613617860715806, 21.873244803194197, 4.831256134281002, 42.21026504349198, 17.905758608501593, 104.01131808730948, 66.92856479442422, 47.101803281157146, 46.97638400888874, 54.14242079014703, 8.255505721376993, 3.486783837184692, 79.37586647456983, 49.190661653796795, 5.272126519763356, 86.32934624990676, 36.35459262907838, 34.72714020118213, 67.74129449097686, 72.25463105106948, 1.5738753282460718, 7.169425112343094, 0.22689250608517084, 3.826393284843599, 4.473687513043414, 23.646748290601135, 30.323668862119273, 1.6220992248034687, 29.439535096536844, 74.4907060751524, 0.9358187083409998, 15.392098961497192, 1.1459814382620284, 51.2630608779319, 0.5342530256327317, 33.50124712671785, 3.9329389504793824, 1.2246128980312463, 5.076142131979695, 20.010974826377257, 1.066817362239207, 5.232482396434223, 11.67628506240773, 1.732170751350212, 59.80843132326533, 7.057385483334455, 34.2582720750443, 0.8930047252624873, 2.207358471562334, 5.814581912351615, 1.0118107501389781, 1.3322550209222324, 0.2399492655357194, 0.2399492655357194, 13.839044095105521, 1.4379828027260153, 3.804515683424175, 1.4547875412687723, 11.886473164547347, 3.7163478425244807, 1.9150275991041827, 9.380863039399625, 5.11029103107422, 16.322940741003897, 0.8608540759261457, 64.111844146175, 9.824593736110057, 0.6630604231097491, 5.400603787503443, 22.703098132039536, 0.7715145664769146, 0.8398531694782039, 2.514500116371065, 41.13682436879656, 8.024069417271146, 2.028551778078552, 6.486395631215131, 62.221769700260765, 0.5461927332091251, 1.0535954030930166, 1.0436109355815495, 0.3165240741228629, 2.1563897205764575, 1.2331388086223178, 4.100677305716218, 0.7097952873496794, 0.2808782379028844, 2.872962620601584, 0.7384707182206204, 3.748055696107644, 7.914477594113931, 0.1007099511383699, 6.371703519537873, 1.5833306944488426, 0.6233110866680822, 1.4017067180999585, 103.88800872659273, 6.3225962476971915, 0.834417902769871, 2.875962953283217, 0.12429341854984809, 0.18213230090337623, 0.16745797337145507, 0.9280006087683994, 15.55855201742558, 0.2379419260693021, 0.19474347124135527, 0.19038648761604438, 4.527534768637314, 7.7565077099686635, 1.774523695658539, 79.13479293062517, 0.11966861844853705, 0.26970714119780176, 0.9389221736799459, 3.8510713680545927, 3.213651591962657, 0.28322566273742983, 6.977368903960007, 3.472276476542168, 31.265632816408207, 17.755681818181817, 0.17413945505495493, 0.11526167107984396, 2.085679723021733, 5.220964259889159, 0.07017867174021035, 0.11023343859708107, 19.069049026525047, 0.7886609483490171, 0.20706150120002495, 0.08055214954216575, 0.06663044635602754, 0.1098800033447473, 1.325567276515985, 0.4718594802467825, 29.598934438360217, 0.0339029457659323, 0.4084541847152359, 13.961605584642236, 0.06460886985454153, 0.04455742623473529, 0.05062897643145203, 0.22710142054209564, 25.851817382762007, 0.1267572676913217, 0.1307163228348083, 0.0812879985829876]}],\n",
       "                        {\"geo\": {\"scope\": \"world\"}, \"template\": {\"data\": {\"bar\": [{\"error_x\": {\"color\": \"#2a3f5f\"}, \"error_y\": {\"color\": \"#2a3f5f\"}, \"marker\": {\"line\": {\"color\": \"#E5ECF6\", \"width\": 0.5}}, \"type\": \"bar\"}], \"barpolar\": [{\"marker\": {\"line\": {\"color\": \"#E5ECF6\", \"width\": 0.5}}, \"type\": \"barpolar\"}], \"carpet\": [{\"aaxis\": {\"endlinecolor\": \"#2a3f5f\", \"gridcolor\": \"white\", \"linecolor\": \"white\", \"minorgridcolor\": \"white\", \"startlinecolor\": \"#2a3f5f\"}, \"baxis\": {\"endlinecolor\": \"#2a3f5f\", \"gridcolor\": \"white\", \"linecolor\": \"white\", \"minorgridcolor\": \"white\", \"startlinecolor\": \"#2a3f5f\"}, \"type\": \"carpet\"}], \"choropleth\": [{\"colorbar\": {\"outlinewidth\": 0, \"ticks\": \"\"}, \"type\": \"choropleth\"}], \"contour\": [{\"colorbar\": {\"outlinewidth\": 0, \"ticks\": \"\"}, \"colorscale\": [[0.0, \"#0d0887\"], [0.1111111111111111, \"#46039f\"], [0.2222222222222222, \"#7201a8\"], [0.3333333333333333, \"#9c179e\"], [0.4444444444444444, \"#bd3786\"], [0.5555555555555556, \"#d8576b\"], [0.6666666666666666, \"#ed7953\"], [0.7777777777777778, \"#fb9f3a\"], [0.8888888888888888, \"#fdca26\"], [1.0, \"#f0f921\"]], \"type\": \"contour\"}], \"contourcarpet\": [{\"colorbar\": {\"outlinewidth\": 0, \"ticks\": \"\"}, \"type\": \"contourcarpet\"}], \"heatmap\": [{\"colorbar\": {\"outlinewidth\": 0, \"ticks\": \"\"}, \"colorscale\": [[0.0, \"#0d0887\"], [0.1111111111111111, \"#46039f\"], [0.2222222222222222, \"#7201a8\"], [0.3333333333333333, \"#9c179e\"], [0.4444444444444444, \"#bd3786\"], [0.5555555555555556, \"#d8576b\"], [0.6666666666666666, \"#ed7953\"], [0.7777777777777778, \"#fb9f3a\"], [0.8888888888888888, \"#fdca26\"], [1.0, \"#f0f921\"]], \"type\": \"heatmap\"}], \"heatmapgl\": [{\"colorbar\": {\"outlinewidth\": 0, \"ticks\": \"\"}, \"colorscale\": [[0.0, \"#0d0887\"], [0.1111111111111111, \"#46039f\"], [0.2222222222222222, \"#7201a8\"], [0.3333333333333333, \"#9c179e\"], [0.4444444444444444, \"#bd3786\"], [0.5555555555555556, \"#d8576b\"], [0.6666666666666666, \"#ed7953\"], [0.7777777777777778, \"#fb9f3a\"], [0.8888888888888888, \"#fdca26\"], [1.0, \"#f0f921\"]], \"type\": \"heatmapgl\"}], \"histogram\": [{\"marker\": {\"colorbar\": {\"outlinewidth\": 0, \"ticks\": \"\"}}, \"type\": \"histogram\"}], \"histogram2d\": [{\"colorbar\": {\"outlinewidth\": 0, \"ticks\": \"\"}, \"colorscale\": [[0.0, \"#0d0887\"], [0.1111111111111111, \"#46039f\"], [0.2222222222222222, \"#7201a8\"], [0.3333333333333333, \"#9c179e\"], [0.4444444444444444, \"#bd3786\"], [0.5555555555555556, \"#d8576b\"], [0.6666666666666666, \"#ed7953\"], [0.7777777777777778, \"#fb9f3a\"], [0.8888888888888888, \"#fdca26\"], [1.0, \"#f0f921\"]], \"type\": \"histogram2d\"}], \"histogram2dcontour\": [{\"colorbar\": {\"outlinewidth\": 0, \"ticks\": \"\"}, \"colorscale\": [[0.0, \"#0d0887\"], [0.1111111111111111, \"#46039f\"], [0.2222222222222222, \"#7201a8\"], [0.3333333333333333, \"#9c179e\"], [0.4444444444444444, \"#bd3786\"], [0.5555555555555556, \"#d8576b\"], [0.6666666666666666, \"#ed7953\"], [0.7777777777777778, \"#fb9f3a\"], [0.8888888888888888, \"#fdca26\"], [1.0, \"#f0f921\"]], \"type\": \"histogram2dcontour\"}], \"mesh3d\": [{\"colorbar\": {\"outlinewidth\": 0, \"ticks\": \"\"}, \"type\": \"mesh3d\"}], \"parcoords\": [{\"line\": {\"colorbar\": {\"outlinewidth\": 0, \"ticks\": \"\"}}, \"type\": \"parcoords\"}], \"pie\": [{\"automargin\": true, \"type\": \"pie\"}], \"scatter\": [{\"marker\": {\"colorbar\": {\"outlinewidth\": 0, \"ticks\": \"\"}}, \"type\": \"scatter\"}], \"scatter3d\": [{\"line\": {\"colorbar\": {\"outlinewidth\": 0, \"ticks\": \"\"}}, \"marker\": {\"colorbar\": {\"outlinewidth\": 0, \"ticks\": \"\"}}, \"type\": \"scatter3d\"}], \"scattercarpet\": [{\"marker\": {\"colorbar\": {\"outlinewidth\": 0, \"ticks\": \"\"}}, \"type\": \"scattercarpet\"}], \"scattergeo\": [{\"marker\": {\"colorbar\": {\"outlinewidth\": 0, \"ticks\": \"\"}}, \"type\": \"scattergeo\"}], \"scattergl\": [{\"marker\": {\"colorbar\": {\"outlinewidth\": 0, \"ticks\": \"\"}}, \"type\": \"scattergl\"}], \"scattermapbox\": [{\"marker\": {\"colorbar\": {\"outlinewidth\": 0, \"ticks\": \"\"}}, \"type\": \"scattermapbox\"}], \"scatterpolar\": [{\"marker\": {\"colorbar\": {\"outlinewidth\": 0, \"ticks\": \"\"}}, \"type\": \"scatterpolar\"}], \"scatterpolargl\": [{\"marker\": {\"colorbar\": {\"outlinewidth\": 0, \"ticks\": \"\"}}, \"type\": \"scatterpolargl\"}], \"scatterternary\": [{\"marker\": {\"colorbar\": {\"outlinewidth\": 0, \"ticks\": \"\"}}, \"type\": \"scatterternary\"}], \"surface\": [{\"colorbar\": {\"outlinewidth\": 0, \"ticks\": \"\"}, \"colorscale\": [[0.0, \"#0d0887\"], [0.1111111111111111, \"#46039f\"], [0.2222222222222222, \"#7201a8\"], [0.3333333333333333, \"#9c179e\"], [0.4444444444444444, \"#bd3786\"], [0.5555555555555556, \"#d8576b\"], [0.6666666666666666, \"#ed7953\"], [0.7777777777777778, \"#fb9f3a\"], [0.8888888888888888, \"#fdca26\"], [1.0, \"#f0f921\"]], \"type\": \"surface\"}], \"table\": [{\"cells\": {\"fill\": {\"color\": \"#EBF0F8\"}, \"line\": {\"color\": \"white\"}}, \"header\": {\"fill\": {\"color\": \"#C8D4E3\"}, \"line\": {\"color\": \"white\"}}, \"type\": \"table\"}]}, \"layout\": {\"annotationdefaults\": {\"arrowcolor\": \"#2a3f5f\", \"arrowhead\": 0, \"arrowwidth\": 1}, \"coloraxis\": {\"colorbar\": {\"outlinewidth\": 0, \"ticks\": \"\"}}, \"colorscale\": {\"diverging\": [[0, \"#8e0152\"], [0.1, \"#c51b7d\"], [0.2, \"#de77ae\"], [0.3, \"#f1b6da\"], [0.4, \"#fde0ef\"], [0.5, \"#f7f7f7\"], [0.6, \"#e6f5d0\"], [0.7, \"#b8e186\"], [0.8, \"#7fbc41\"], [0.9, \"#4d9221\"], [1, \"#276419\"]], \"sequential\": [[0.0, \"#0d0887\"], [0.1111111111111111, \"#46039f\"], [0.2222222222222222, \"#7201a8\"], [0.3333333333333333, \"#9c179e\"], [0.4444444444444444, \"#bd3786\"], [0.5555555555555556, \"#d8576b\"], [0.6666666666666666, \"#ed7953\"], [0.7777777777777778, \"#fb9f3a\"], [0.8888888888888888, \"#fdca26\"], [1.0, \"#f0f921\"]], \"sequentialminus\": [[0.0, \"#0d0887\"], [0.1111111111111111, \"#46039f\"], [0.2222222222222222, \"#7201a8\"], [0.3333333333333333, \"#9c179e\"], [0.4444444444444444, \"#bd3786\"], [0.5555555555555556, \"#d8576b\"], [0.6666666666666666, \"#ed7953\"], [0.7777777777777778, \"#fb9f3a\"], [0.8888888888888888, \"#fdca26\"], [1.0, \"#f0f921\"]]}, \"colorway\": [\"#636efa\", \"#EF553B\", \"#00cc96\", \"#ab63fa\", \"#FFA15A\", \"#19d3f3\", \"#FF6692\", \"#B6E880\", \"#FF97FF\", \"#FECB52\"], \"font\": {\"color\": \"#2a3f5f\"}, \"geo\": {\"bgcolor\": \"white\", \"lakecolor\": \"white\", \"landcolor\": \"#E5ECF6\", \"showlakes\": true, \"showland\": true, \"subunitcolor\": \"white\"}, \"hoverlabel\": {\"align\": \"left\"}, \"hovermode\": \"closest\", \"mapbox\": {\"style\": \"light\"}, \"paper_bgcolor\": \"white\", \"plot_bgcolor\": \"#E5ECF6\", \"polar\": {\"angularaxis\": {\"gridcolor\": \"white\", \"linecolor\": \"white\", \"ticks\": \"\"}, \"bgcolor\": \"#E5ECF6\", \"radialaxis\": {\"gridcolor\": \"white\", \"linecolor\": \"white\", \"ticks\": \"\"}}, \"scene\": {\"xaxis\": {\"backgroundcolor\": \"#E5ECF6\", \"gridcolor\": \"white\", \"gridwidth\": 2, \"linecolor\": \"white\", \"showbackground\": true, \"ticks\": \"\", \"zerolinecolor\": \"white\"}, \"yaxis\": {\"backgroundcolor\": \"#E5ECF6\", \"gridcolor\": \"white\", \"gridwidth\": 2, \"linecolor\": \"white\", \"showbackground\": true, \"ticks\": \"\", \"zerolinecolor\": \"white\"}, \"zaxis\": {\"backgroundcolor\": \"#E5ECF6\", \"gridcolor\": \"white\", \"gridwidth\": 2, \"linecolor\": \"white\", \"showbackground\": true, \"ticks\": \"\", \"zerolinecolor\": \"white\"}}, \"shapedefaults\": {\"line\": {\"color\": \"#2a3f5f\"}}, \"ternary\": {\"aaxis\": {\"gridcolor\": \"white\", \"linecolor\": \"white\", \"ticks\": \"\"}, \"baxis\": {\"gridcolor\": \"white\", \"linecolor\": \"white\", \"ticks\": \"\"}, \"bgcolor\": \"#E5ECF6\", \"caxis\": {\"gridcolor\": \"white\", \"linecolor\": \"white\", \"ticks\": \"\"}}, \"title\": {\"x\": 0.05}, \"xaxis\": {\"automargin\": true, \"gridcolor\": \"white\", \"linecolor\": \"white\", \"ticks\": \"\", \"title\": {\"standoff\": 15}, \"zerolinecolor\": \"white\", \"zerolinewidth\": 2}, \"yaxis\": {\"automargin\": true, \"gridcolor\": \"white\", \"linecolor\": \"white\", \"ticks\": \"\", \"title\": {\"standoff\": 15}, \"zerolinecolor\": \"white\", \"zerolinewidth\": 2}}}, \"title\": {\"text\": \"2016 Stockoverflow survey users by country (per capital)\"}},\n",
       "                        {\"responsive\": true}\n",
       "                    ).then(function(){\n",
       "                            \n",
       "var gd = document.getElementById('7d2917d9-0a9d-40b3-ad34-45e0056aaba3');\n",
       "var x = new MutationObserver(function (mutations, observer) {{\n",
       "        var display = window.getComputedStyle(gd).display;\n",
       "        if (!display || display === 'none') {{\n",
       "            console.log([gd, 'removed!']);\n",
       "            Plotly.purge(gd);\n",
       "            observer.disconnect();\n",
       "        }}\n",
       "}});\n",
       "\n",
       "// Listen for the removal of the full notebook cells\n",
       "var notebookContainer = gd.closest('#notebook-container');\n",
       "if (notebookContainer) {{\n",
       "    x.observe(notebookContainer, {childList: true});\n",
       "}}\n",
       "\n",
       "// Listen for the clearing of the current output cell\n",
       "var outputEl = gd.closest('.output');\n",
       "if (outputEl) {{\n",
       "    x.observe(outputEl, {childList: true});\n",
       "}}\n",
       "\n",
       "                        })\n",
       "                };\n",
       "                });\n",
       "            </script>\n",
       "        </div>"
      ]
     },
     "metadata": {},
     "output_type": "display_data"
    }
   ],
   "source": [
    "fig2 = go.Figure(data=go.Choropleth(\n",
    "    locations=country['code'], # Spatial coordinates\n",
    "    z = country['User per capita index'], # Data to be color-coded\n",
    "    colorscale = 'Reds',\n",
    "    colorbar_title = \"number of users per million capita\",\n",
    "))\n",
    "\n",
    "fig2.update_layout(\n",
    "    title_text = '2016 Stockoverflow survey users by country (per capital)',geo_scope=\"world\"\n",
    ")\n",
    "\n",
    "fig2.show()"
   ]
  },
  {
   "cell_type": "markdown",
   "metadata": {
    "heading_collapsed": true
   },
   "source": [
    "## Strange Observation: Chinese Stackoverflow User"
   ]
  },
  {
   "cell_type": "markdown",
   "metadata": {
    "ExecuteTime": {
     "end_time": "2019-11-24T09:55:56.958847Z",
     "start_time": "2019-11-24T09:55:56.851008Z"
    },
    "hidden": true
   },
   "source": [
    "The result of StackOverflow Survey showed that the number of users of Stackoverflow in China is <b>ranked 34th</b> , thus <b>between Norway and Iran, only 1/15 of users in India</b>. This is apparently a surprising result provided the population, number of programmers in China. This may due to some actual facts that China does large scale internet censorship, which may  not necessarily block the Stackoverflow but certainly slow down the visit of Stackoverflow from mainland China. This might cause that the actual \n",
    "number of users of Stackoverflow in China is <b>significently lower </b>than other countries like India,\n",
    "USA or Brazil.  <br><br>\n",
    "We could use machine learning algorithm to get a better sense about Chinese stackoverflow users (in milestone 3 most likely) .\n",
    "\n",
    "<ol>\n",
    "<li> Potential statisical data of world countries as features for regression. Including:\n",
    "<ul>\n",
    "<li>Internet penertration rate,\n",
    "<li>population,\n",
    "<li>mean schooling years,\n",
    "<li>gdp per capita,\n",
    "<li>Average English Level, etc\n",
    "</ol>"
   ]
  },
  {
   "cell_type": "markdown",
   "metadata": {
    "heading_collapsed": true
   },
   "source": [
    "## Distribution by Age Range\n"
   ]
  },
  {
   "cell_type": "code",
   "execution_count": 39,
   "metadata": {
    "ExecuteTime": {
     "end_time": "2019-11-15T19:17:35.602504Z",
     "start_time": "2019-11-15T19:17:35.588451Z"
    },
    "hidden": true
   },
   "outputs": [],
   "source": [
    "age_range=pd.DataFrame(survey16.age_range.dropna().value_counts())\n",
    "age_range.reset_index(inplace=True)\n",
    "age_range.rename({'age_range':'Number','index':'age_range'},axis='columns',inplace=True)"
   ]
  },
  {
   "cell_type": "code",
   "execution_count": 40,
   "metadata": {
    "ExecuteTime": {
     "end_time": "2019-11-15T19:17:36.020663Z",
     "start_time": "2019-11-15T19:17:36.013709Z"
    },
    "hidden": true
   },
   "outputs": [
    {
     "data": {
      "text/html": [
       "<div>\n",
       "<style scoped>\n",
       "    .dataframe tbody tr th:only-of-type {\n",
       "        vertical-align: middle;\n",
       "    }\n",
       "\n",
       "    .dataframe tbody tr th {\n",
       "        vertical-align: top;\n",
       "    }\n",
       "\n",
       "    .dataframe thead th {\n",
       "        text-align: right;\n",
       "    }\n",
       "</style>\n",
       "<table border=\"1\" class=\"dataframe\">\n",
       "  <thead>\n",
       "    <tr style=\"text-align: right;\">\n",
       "      <th></th>\n",
       "      <th>age_range</th>\n",
       "      <th>Number</th>\n",
       "    </tr>\n",
       "  </thead>\n",
       "  <tbody>\n",
       "    <tr>\n",
       "      <th>0</th>\n",
       "      <td>25-29</td>\n",
       "      <td>15363</td>\n",
       "    </tr>\n",
       "    <tr>\n",
       "      <th>1</th>\n",
       "      <td>20-24</td>\n",
       "      <td>12687</td>\n",
       "    </tr>\n",
       "    <tr>\n",
       "      <th>2</th>\n",
       "      <td>30-34</td>\n",
       "      <td>9837</td>\n",
       "    </tr>\n",
       "    <tr>\n",
       "      <th>3</th>\n",
       "      <td>35-39</td>\n",
       "      <td>5554</td>\n",
       "    </tr>\n",
       "    <tr>\n",
       "      <th>4</th>\n",
       "      <td>40-49</td>\n",
       "      <td>4848</td>\n",
       "    </tr>\n",
       "    <tr>\n",
       "      <th>5</th>\n",
       "      <td>&lt; 20</td>\n",
       "      <td>3805</td>\n",
       "    </tr>\n",
       "    <tr>\n",
       "      <th>6</th>\n",
       "      <td>50-59</td>\n",
       "      <td>1609</td>\n",
       "    </tr>\n",
       "    <tr>\n",
       "      <th>7</th>\n",
       "      <td>&gt; 60</td>\n",
       "      <td>399</td>\n",
       "    </tr>\n",
       "    <tr>\n",
       "      <th>8</th>\n",
       "      <td>Prefer not to disclose</td>\n",
       "      <td>305</td>\n",
       "    </tr>\n",
       "  </tbody>\n",
       "</table>\n",
       "</div>"
      ],
      "text/plain": [
       "                age_range  Number\n",
       "0                   25-29   15363\n",
       "1                   20-24   12687\n",
       "2                   30-34    9837\n",
       "3                   35-39    5554\n",
       "4                   40-49    4848\n",
       "5                    < 20    3805\n",
       "6                   50-59    1609\n",
       "7                    > 60     399\n",
       "8  Prefer not to disclose     305"
      ]
     },
     "execution_count": 40,
     "metadata": {},
     "output_type": "execute_result"
    }
   ],
   "source": [
    "age_range"
   ]
  },
  {
   "cell_type": "code",
   "execution_count": 41,
   "metadata": {
    "ExecuteTime": {
     "end_time": "2019-11-15T19:17:36.211313Z",
     "start_time": "2019-11-15T19:17:36.207086Z"
    },
    "hidden": true
   },
   "outputs": [
    {
     "data": {
      "text/plain": [
       "['25-29',\n",
       " '20-24',\n",
       " '30-34',\n",
       " '35-39',\n",
       " '40-49',\n",
       " '< 20',\n",
       " '50-59',\n",
       " '> 60',\n",
       " 'Prefer not to disclose']"
      ]
     },
     "execution_count": 41,
     "metadata": {},
     "output_type": "execute_result"
    }
   ],
   "source": [
    "list(age_range.age_range.to_list())"
   ]
  },
  {
   "cell_type": "code",
   "execution_count": 42,
   "metadata": {
    "ExecuteTime": {
     "end_time": "2019-11-15T19:17:36.400800Z",
     "start_time": "2019-11-15T19:17:36.395715Z"
    },
    "hidden": true
   },
   "outputs": [],
   "source": [
    "age_range.age_range = age_range.age_range.astype('category').cat.set_categories([\n",
    "    '< 20', '20-24', '25-29', '30-34', '35-39', '40-49', '50-59', '> 60', 'Prefer \\\n",
    "    not to disclose'], ordered=True)"
   ]
  },
  {
   "cell_type": "code",
   "execution_count": 43,
   "metadata": {
    "ExecuteTime": {
     "end_time": "2019-11-15T19:17:36.551507Z",
     "start_time": "2019-11-15T19:17:36.545864Z"
    },
    "hidden": true
   },
   "outputs": [],
   "source": [
    "age_range['age_range']=age_range['age_range'].sort_values()"
   ]
  },
  {
   "cell_type": "code",
   "execution_count": 44,
   "metadata": {
    "ExecuteTime": {
     "end_time": "2019-11-15T19:17:36.696848Z",
     "start_time": "2019-11-15T19:17:36.691974Z"
    },
    "hidden": true
   },
   "outputs": [],
   "source": [
    "age_range.sort_values(by='age_range',inplace=True)\n",
    "\n",
    "age_range[\"age_range\"] = age_range[\"age_range\"].astype('category')\n",
    "\n",
    "age_range.sort_values(by='age_range',inplace=True)\n",
    "#age_range['m'] = pd.Categorical(df['m'], [\"March\", \"April\", \"Dec\"])"
   ]
  },
  {
   "cell_type": "code",
   "execution_count": 45,
   "metadata": {
    "ExecuteTime": {
     "end_time": "2019-11-15T19:17:37.137132Z",
     "start_time": "2019-11-15T19:17:36.959169Z"
    },
    "hidden": true
   },
   "outputs": [
    {
     "data": {
      "image/png": "[encoded data removed]",
      "text/plain": [
       "<Figure size 432x288 with 1 Axes>"
      ]
     },
     "metadata": {
      "needs_background": "light"
     },
     "output_type": "display_data"
    }
   ],
   "source": [
    "age_range.plot.barh(x='age_range',y='Number')\n",
    "plt.title('Distribution of users in different age range from the user survey')\n",
    "plt.show()"
   ]
  },
  {
   "cell_type": "code",
   "execution_count": 46,
   "metadata": {
    "ExecuteTime": {
     "end_time": "2019-11-15T19:17:37.207890Z",
     "start_time": "2019-11-15T19:17:37.162754Z"
    },
    "hidden": true
   },
   "outputs": [
    {
     "data": {
      "text/plain": [
       "country\n",
       "Afghanistan    29.865385\n",
       "Albania        24.608696\n",
       "Algeria        27.129630\n",
       "Andorra        32.000000\n",
       "Angola         23.166667\n",
       "                 ...    \n",
       "Venezuela      29.797619\n",
       "Vietnam        27.401709\n",
       "Yemen          43.500000\n",
       "Zambia         27.000000\n",
       "Zimbabwe       31.388889\n",
       "Name: age_midpoint, Length: 167, dtype: float64"
      ]
     },
     "execution_count": 46,
     "metadata": {},
     "output_type": "execute_result"
    }
   ],
   "source": [
    "# mid point of the age of the users in user survey\n",
    "survey16.groupby(['country']).mean().age_midpoint"
   ]
  },
  {
   "cell_type": "markdown",
   "metadata": {
    "heading_collapsed": true
   },
   "source": [
    "## Active user analysis visit frequency and country"
   ]
  },
  {
   "cell_type": "code",
   "execution_count": 47,
   "metadata": {
    "ExecuteTime": {
     "end_time": "2019-11-15T19:17:41.227179Z",
     "start_time": "2019-11-15T19:17:41.138869Z"
    },
    "hidden": true
   },
   "outputs": [],
   "source": [
    "# count users whose visit frequency is 'Multiple times a day'(active users) and group them by country \n",
    "active_users=survey16[survey16['visit_frequency'].isin(['Multiple times a day'])].groupby(\n",
    "    'country').count().sort_values(by='collector', ascending=False).reset_index()\\\n",
    "[['country', 'collector']].rename({'collector':'active_users'},axis=1)\n",
    "\n",
    "# merge this table \"active users number by country\" with the one about \"users number by country\"\n",
    "active_users=active_users.merge(country[['country','UserNumber']],left_on='country',right_on='country')"
   ]
  },
  {
   "cell_type": "code",
   "execution_count": 48,
   "metadata": {
    "ExecuteTime": {
     "end_time": "2019-11-15T19:17:41.940048Z",
     "start_time": "2019-11-15T19:17:41.228847Z"
    },
    "hidden": true
   },
   "outputs": [],
   "source": [
    "# create a new column representing the rate of active users by country\n",
    "active_users['active_rate'] = active_users['active_users'] / \\\n",
    "    active_users[\"UserNumber\"]\n",
    "\n",
    "# remove countries of which the participants are less than 100 to avoid random risk\n",
    "active_users = active_users[active_users['UserNumber'] > 100].sort_values(\n",
    "    by='active_rate', ascending=False).reset_index(drop=True)\n",
    "\n",
    "# add \"code\" column to represent the country 3 letter code (this will be useful for plotting maps)\n",
    "active_users['code']=active_users.country.apply(lambda x: coco.convert(names=x,to='ISO3') )\n",
    "\n",
    "# add corresponding continent code to each country\n",
    "active_users['cont']=active_users['code'].apply(lambda x : pc.country_alpha2_to_continent_code\\\n",
    "                                                (pc.country_alpha3_to_country_alpha2(x)))"
   ]
  },
  {
   "cell_type": "code",
   "execution_count": 49,
   "metadata": {
    "ExecuteTime": {
     "end_time": "2019-11-15T19:17:41.946239Z",
     "start_time": "2019-11-15T19:17:41.941784Z"
    },
    "hidden": true
   },
   "outputs": [],
   "source": [
    "active_users['color']=active_users['cont'].map({'AS':\"blue\",\"SA\":'green',\"EU\":'red','NA':'yellow'\n",
    "                                                ,'AF':'cyan','OC':'orange'})"
   ]
  },
  {
   "cell_type": "code",
   "execution_count": 64,
   "metadata": {
    "ExecuteTime": {
     "end_time": "2019-11-15T19:17:41.963414Z",
     "start_time": "2019-11-15T19:17:41.948312Z"
    },
    "hidden": true
   },
   "outputs": [
    {
     "name": "stdout",
     "output_type": "stream",
     "text": [
      "Top 20 most active country in stackoverflow by user rate in survey 2016:\n"
     ]
    },
    {
     "data": {
      "text/html": [
       "<div>\n",
       "<style scoped>\n",
       "    .dataframe tbody tr th:only-of-type {\n",
       "        vertical-align: middle;\n",
       "    }\n",
       "\n",
       "    .dataframe tbody tr th {\n",
       "        vertical-align: top;\n",
       "    }\n",
       "\n",
       "    .dataframe thead th {\n",
       "        text-align: right;\n",
       "    }\n",
       "</style>\n",
       "<table border=\"1\" class=\"dataframe\">\n",
       "  <thead>\n",
       "    <tr style=\"text-align: right;\">\n",
       "      <th></th>\n",
       "      <th>country</th>\n",
       "      <th>active_users</th>\n",
       "      <th>UserNumber</th>\n",
       "      <th>active_rate</th>\n",
       "      <th>code</th>\n",
       "      <th>cont</th>\n",
       "      <th>color</th>\n",
       "      <th>text</th>\n",
       "    </tr>\n",
       "  </thead>\n",
       "  <tbody>\n",
       "    <tr>\n",
       "      <th>0</th>\n",
       "      <td>Indonesia</td>\n",
       "      <td>100</td>\n",
       "      <td>143</td>\n",
       "      <td>0.699</td>\n",
       "      <td>IDN</td>\n",
       "      <td>AS</td>\n",
       "      <td>blue</td>\n",
       "      <td>Indonesia&lt;br&gt;active user proportion 69.8999999...</td>\n",
       "    </tr>\n",
       "    <tr>\n",
       "      <th>1</th>\n",
       "      <td>Bangladesh</td>\n",
       "      <td>104</td>\n",
       "      <td>151</td>\n",
       "      <td>0.689</td>\n",
       "      <td>BGD</td>\n",
       "      <td>AS</td>\n",
       "      <td>blue</td>\n",
       "      <td>Bangladesh&lt;br&gt;active user proportion 68.899999...</td>\n",
       "    </tr>\n",
       "    <tr>\n",
       "      <th>2</th>\n",
       "      <td>Vietnam</td>\n",
       "      <td>79</td>\n",
       "      <td>117</td>\n",
       "      <td>0.675</td>\n",
       "      <td>VNM</td>\n",
       "      <td>AS</td>\n",
       "      <td>blue</td>\n",
       "      <td>Vietnam&lt;br&gt;active user proportion 67.5%&lt;br&gt;act...</td>\n",
       "    </tr>\n",
       "    <tr>\n",
       "      <th>3</th>\n",
       "      <td>Singapore</td>\n",
       "      <td>110</td>\n",
       "      <td>166</td>\n",
       "      <td>0.663</td>\n",
       "      <td>SGP</td>\n",
       "      <td>AS</td>\n",
       "      <td>blue</td>\n",
       "      <td>Singapore&lt;br&gt;active user proportion 66.3%&lt;br&gt;a...</td>\n",
       "    </tr>\n",
       "    <tr>\n",
       "      <th>4</th>\n",
       "      <td>Bulgaria</td>\n",
       "      <td>137</td>\n",
       "      <td>213</td>\n",
       "      <td>0.643</td>\n",
       "      <td>BGR</td>\n",
       "      <td>EU</td>\n",
       "      <td>red</td>\n",
       "      <td>Bulgaria&lt;br&gt;active user proportion 64.3%&lt;br&gt;ac...</td>\n",
       "    </tr>\n",
       "    <tr>\n",
       "      <th>5</th>\n",
       "      <td>Philippines</td>\n",
       "      <td>105</td>\n",
       "      <td>173</td>\n",
       "      <td>0.607</td>\n",
       "      <td>PHL</td>\n",
       "      <td>AS</td>\n",
       "      <td>blue</td>\n",
       "      <td>Philippines&lt;br&gt;active user proportion 60.69999...</td>\n",
       "    </tr>\n",
       "    <tr>\n",
       "      <th>6</th>\n",
       "      <td>Malaysia</td>\n",
       "      <td>72</td>\n",
       "      <td>124</td>\n",
       "      <td>0.581</td>\n",
       "      <td>MYS</td>\n",
       "      <td>AS</td>\n",
       "      <td>blue</td>\n",
       "      <td>Malaysia&lt;br&gt;active user proportion 58.09999999...</td>\n",
       "    </tr>\n",
       "    <tr>\n",
       "      <th>7</th>\n",
       "      <td>Pakistan</td>\n",
       "      <td>192</td>\n",
       "      <td>334</td>\n",
       "      <td>0.575</td>\n",
       "      <td>PAK</td>\n",
       "      <td>AS</td>\n",
       "      <td>blue</td>\n",
       "      <td>Pakistan&lt;br&gt;active user proportion 57.49999999...</td>\n",
       "    </tr>\n",
       "    <tr>\n",
       "      <th>8</th>\n",
       "      <td>Argentina</td>\n",
       "      <td>181</td>\n",
       "      <td>319</td>\n",
       "      <td>0.567</td>\n",
       "      <td>ARG</td>\n",
       "      <td>SA</td>\n",
       "      <td>green</td>\n",
       "      <td>Argentina&lt;br&gt;active user proportion 56.6999999...</td>\n",
       "    </tr>\n",
       "    <tr>\n",
       "      <th>9</th>\n",
       "      <td>Brazil</td>\n",
       "      <td>573</td>\n",
       "      <td>1012</td>\n",
       "      <td>0.566</td>\n",
       "      <td>BRA</td>\n",
       "      <td>SA</td>\n",
       "      <td>green</td>\n",
       "      <td>Brazil&lt;br&gt;active user proportion 56.5999999999...</td>\n",
       "    </tr>\n",
       "    <tr>\n",
       "      <th>10</th>\n",
       "      <td>Egypt</td>\n",
       "      <td>59</td>\n",
       "      <td>105</td>\n",
       "      <td>0.562</td>\n",
       "      <td>EGY</td>\n",
       "      <td>AF</td>\n",
       "      <td>cyan</td>\n",
       "      <td>Egypt&lt;br&gt;active user proportion 56.2%&lt;br&gt;activ...</td>\n",
       "    </tr>\n",
       "    <tr>\n",
       "      <th>11</th>\n",
       "      <td>Sri Lanka</td>\n",
       "      <td>60</td>\n",
       "      <td>110</td>\n",
       "      <td>0.545</td>\n",
       "      <td>LKA</td>\n",
       "      <td>AS</td>\n",
       "      <td>blue</td>\n",
       "      <td>Sri Lanka&lt;br&gt;active user proportion 54.5000000...</td>\n",
       "    </tr>\n",
       "    <tr>\n",
       "      <th>12</th>\n",
       "      <td>India</td>\n",
       "      <td>2234</td>\n",
       "      <td>4151</td>\n",
       "      <td>0.538</td>\n",
       "      <td>IND</td>\n",
       "      <td>AS</td>\n",
       "      <td>blue</td>\n",
       "      <td>India&lt;br&gt;active user proportion 53.80000000000...</td>\n",
       "    </tr>\n",
       "    <tr>\n",
       "      <th>13</th>\n",
       "      <td>Japan</td>\n",
       "      <td>76</td>\n",
       "      <td>145</td>\n",
       "      <td>0.524</td>\n",
       "      <td>JPN</td>\n",
       "      <td>AS</td>\n",
       "      <td>blue</td>\n",
       "      <td>Japan&lt;br&gt;active user proportion 52.40000000000...</td>\n",
       "    </tr>\n",
       "    <tr>\n",
       "      <th>14</th>\n",
       "      <td>Iran</td>\n",
       "      <td>163</td>\n",
       "      <td>313</td>\n",
       "      <td>0.521</td>\n",
       "      <td>IRN</td>\n",
       "      <td>AS</td>\n",
       "      <td>blue</td>\n",
       "      <td>Iran&lt;br&gt;active user proportion 52.1%&lt;br&gt;active...</td>\n",
       "    </tr>\n",
       "    <tr>\n",
       "      <th>15</th>\n",
       "      <td>Turkey</td>\n",
       "      <td>224</td>\n",
       "      <td>434</td>\n",
       "      <td>0.516</td>\n",
       "      <td>TUR</td>\n",
       "      <td>AS</td>\n",
       "      <td>blue</td>\n",
       "      <td>Turkey&lt;br&gt;active user proportion 51.6%&lt;br&gt;acti...</td>\n",
       "    </tr>\n",
       "    <tr>\n",
       "      <th>16</th>\n",
       "      <td>Spain</td>\n",
       "      <td>526</td>\n",
       "      <td>1022</td>\n",
       "      <td>0.515</td>\n",
       "      <td>ESP</td>\n",
       "      <td>EU</td>\n",
       "      <td>red</td>\n",
       "      <td>Spain&lt;br&gt;active user proportion 51.5%&lt;br&gt;activ...</td>\n",
       "    </tr>\n",
       "    <tr>\n",
       "      <th>17</th>\n",
       "      <td>South Africa</td>\n",
       "      <td>243</td>\n",
       "      <td>477</td>\n",
       "      <td>0.509</td>\n",
       "      <td>ZAF</td>\n",
       "      <td>AF</td>\n",
       "      <td>cyan</td>\n",
       "      <td>South Africa&lt;br&gt;active user proportion 50.9%&lt;b...</td>\n",
       "    </tr>\n",
       "    <tr>\n",
       "      <th>18</th>\n",
       "      <td>Romania</td>\n",
       "      <td>418</td>\n",
       "      <td>822</td>\n",
       "      <td>0.509</td>\n",
       "      <td>ROU</td>\n",
       "      <td>EU</td>\n",
       "      <td>red</td>\n",
       "      <td>Romania&lt;br&gt;active user proportion 50.9%&lt;br&gt;act...</td>\n",
       "    </tr>\n",
       "    <tr>\n",
       "      <th>19</th>\n",
       "      <td>Israel</td>\n",
       "      <td>220</td>\n",
       "      <td>437</td>\n",
       "      <td>0.503</td>\n",
       "      <td>ISR</td>\n",
       "      <td>AS</td>\n",
       "      <td>blue</td>\n",
       "      <td>Israel&lt;br&gt;active user proportion 50.3%&lt;br&gt;acti...</td>\n",
       "    </tr>\n",
       "  </tbody>\n",
       "</table>\n",
       "</div>"
      ],
      "text/plain": [
       "         country  active_users  UserNumber  active_rate code cont  color  \\\n",
       "0      Indonesia           100         143        0.699  IDN   AS   blue   \n",
       "1     Bangladesh           104         151        0.689  BGD   AS   blue   \n",
       "2        Vietnam            79         117        0.675  VNM   AS   blue   \n",
       "3      Singapore           110         166        0.663  SGP   AS   blue   \n",
       "4       Bulgaria           137         213        0.643  BGR   EU    red   \n",
       "5    Philippines           105         173        0.607  PHL   AS   blue   \n",
       "6       Malaysia            72         124        0.581  MYS   AS   blue   \n",
       "7       Pakistan           192         334        0.575  PAK   AS   blue   \n",
       "8      Argentina           181         319        0.567  ARG   SA  green   \n",
       "9         Brazil           573        1012        0.566  BRA   SA  green   \n",
       "10         Egypt            59         105        0.562  EGY   AF   cyan   \n",
       "11     Sri Lanka            60         110        0.545  LKA   AS   blue   \n",
       "12         India          2234        4151        0.538  IND   AS   blue   \n",
       "13         Japan            76         145        0.524  JPN   AS   blue   \n",
       "14          Iran           163         313        0.521  IRN   AS   blue   \n",
       "15        Turkey           224         434        0.516  TUR   AS   blue   \n",
       "16         Spain           526        1022        0.515  ESP   EU    red   \n",
       "17  South Africa           243         477        0.509  ZAF   AF   cyan   \n",
       "18       Romania           418         822        0.509  ROU   EU    red   \n",
       "19        Israel           220         437        0.503  ISR   AS   blue   \n",
       "\n",
       "                                                 text  \n",
       "0   Indonesia<br>active user proportion 69.8999999...  \n",
       "1   Bangladesh<br>active user proportion 68.899999...  \n",
       "2   Vietnam<br>active user proportion 67.5%<br>act...  \n",
       "3   Singapore<br>active user proportion 66.3%<br>a...  \n",
       "4   Bulgaria<br>active user proportion 64.3%<br>ac...  \n",
       "5   Philippines<br>active user proportion 60.69999...  \n",
       "6   Malaysia<br>active user proportion 58.09999999...  \n",
       "7   Pakistan<br>active user proportion 57.49999999...  \n",
       "8   Argentina<br>active user proportion 56.6999999...  \n",
       "9   Brazil<br>active user proportion 56.5999999999...  \n",
       "10  Egypt<br>active user proportion 56.2%<br>activ...  \n",
       "11  Sri Lanka<br>active user proportion 54.5000000...  \n",
       "12  India<br>active user proportion 53.80000000000...  \n",
       "13  Japan<br>active user proportion 52.40000000000...  \n",
       "14  Iran<br>active user proportion 52.1%<br>active...  \n",
       "15  Turkey<br>active user proportion 51.6%<br>acti...  \n",
       "16  Spain<br>active user proportion 51.5%<br>activ...  \n",
       "17  South Africa<br>active user proportion 50.9%<b...  \n",
       "18  Romania<br>active user proportion 50.9%<br>act...  \n",
       "19  Israel<br>active user proportion 50.3%<br>acti...  "
      ]
     },
     "execution_count": 64,
     "metadata": {},
     "output_type": "execute_result"
    }
   ],
   "source": [
    "print('Top 20 most active country in stackoverflow by user rate in survey 2016:')\n",
    "active_users.head(20)"
   ]
  },
  {
   "cell_type": "code",
   "execution_count": 69,
   "metadata": {
    "ExecuteTime": {
     "end_time": "2019-11-15T19:17:42.161692Z",
     "start_time": "2019-11-15T19:17:41.964793Z"
    },
    "hidden": true
   },
   "outputs": [
    {
     "data": {
      "application/vnd.plotly.v1+json": {
       "config": {
        "plotlyServerURL": "https://plot.ly"
       },
       "data": [
        {
         "locationmode": "ISO-3",
         "locations": [
          "IDN",
          "BGD",
          "VNM",
          "SGP",
          "BGR",
          "PHL",
          "MYS",
          "PAK",
          "ARG",
          "BRA",
          "EGY",
          "LKA",
          "IND",
          "JPN",
          "IRN",
          "TUR",
          "ESP",
          "ZAF",
          "ROU",
          "ISR",
          "ITA",
          "AUS",
          "MEX",
          "NZL",
          "HUN",
          "HRV",
          "SVN",
          "GBR",
          "GRC",
          "CAN",
          "CAN",
          "LTU",
          "IRL",
          "SVK",
          "USA",
          "FRA",
          "BLR",
          "CHE",
          "NLD",
          "PRT",
          "UKR",
          "CHN",
          "DNK",
          "BEL",
          "DEU",
          "AUT",
          "CZE",
          "NOR",
          "KOR",
          "SWE",
          "RUS",
          "POL",
          "FIN"
         ],
         "marker": {
          "color": [
           "blue",
           "blue",
           "blue",
           "blue",
           "red",
           "blue",
           "blue",
           "blue",
           "green",
           "green",
           "cyan",
           "blue",
           "blue",
           "blue",
           "blue",
           "blue",
           "red",
           "cyan",
           "red",
           "blue",
           "red",
           "orange",
           "yellow",
           "orange",
           "red",
           "red",
           "red",
           "red",
           "red",
           "yellow",
           "yellow",
           "red",
           "red",
           "red",
           "yellow",
           "red",
           "red",
           "red",
           "red",
           "red",
           "red",
           "blue",
           "red",
           "red",
           "red",
           "red",
           "red",
           "red",
           "blue",
           "red",
           "red",
           "red",
           "red"
          ],
          "line": {
           "color": "rgb(40,40,40)",
           "width": 0.5
          },
          "size": [
           1085.7214761859198,
           982.4014172182585,
           854.0587625261516,
           757.4821706418101,
           620.1739480127128,
           432.68068157447635,
           333.61912567456767,
           314.1906602856942,
           290.03453439173467,
           287.1486425560541,
           275.8893832347826,
           232.7581659076621,
           217.02227542494765,
           188.670102405666,
           183.09405819371815,
           174.16445560511082,
           172.43149031685434,
           162.38986205348914,
           162.38986205348914,
           152.93301269561476,
           149.90473614904667,
           148.4131591025766,
           148.4131591025766,
           146.9364234956948,
           145.47438165361004,
           142.5937958969891,
           139.7702495600029,
           127.7403898460288,
           120.30136866321547,
           119.10435004481377,
           119.10435004481377,
           116.7459258989899,
           109.94717245212343,
           107.77007257140055,
           105.63608215665951,
           102.51406411049346,
           98.49443016194631,
           97.51439420705401,
           93.69080011947398,
           83.93141691026881,
           83.93141691026881,
           79.04363169956446,
           76.70753933829559,
           74.44048894034542,
           72.96646849963281,
           70.80998345427655,
           68.71723217384643,
           68.03348428941966,
           66.68633104092515,
           66.02279096040989,
           59.739891704145194,
           47.942386080819254,
           43.38006483585162
          ],
          "sizemode": "area"
         },
         "name": "Continent labels will be filled in milestone 3",
         "text": [
          "Indonesia<br>active user proportion 69.89999999999999%<br>active user number 100<br>user number 143",
          "Bangladesh<br>active user proportion 68.89999999999999%<br>active user number 104<br>user number 151",
          "Vietnam<br>active user proportion 67.5%<br>active user number 79<br>user number 117",
          "Singapore<br>active user proportion 66.3%<br>active user number 110<br>user number 166",
          "Bulgaria<br>active user proportion 64.3%<br>active user number 137<br>user number 213",
          "Philippines<br>active user proportion 60.699999999999996%<br>active user number 105<br>user number 173",
          "Malaysia<br>active user proportion 58.099999999999994%<br>active user number 72<br>user number 124",
          "Pakistan<br>active user proportion 57.49999999999999%<br>active user number 192<br>user number 334",
          "Argentina<br>active user proportion 56.699999999999996%<br>active user number 181<br>user number 319",
          "Brazil<br>active user proportion 56.599999999999994%<br>active user number 573<br>user number 1012",
          "Egypt<br>active user proportion 56.2%<br>active user number 59<br>user number 105",
          "Sri Lanka<br>active user proportion 54.50000000000001%<br>active user number 60<br>user number 110",
          "India<br>active user proportion 53.800000000000004%<br>active user number 2234<br>user number 4151",
          "Japan<br>active user proportion 52.400000000000006%<br>active user number 76<br>user number 145",
          "Iran<br>active user proportion 52.1%<br>active user number 163<br>user number 313",
          "Turkey<br>active user proportion 51.6%<br>active user number 224<br>user number 434",
          "Spain<br>active user proportion 51.5%<br>active user number 526<br>user number 1022",
          "South Africa<br>active user proportion 50.9%<br>active user number 243<br>user number 477",
          "Romania<br>active user proportion 50.9%<br>active user number 418<br>user number 822",
          "Israel<br>active user proportion 50.3%<br>active user number 220<br>user number 437",
          "Italy<br>active user proportion 50.1%<br>active user number 567<br>user number 1131",
          "Australia<br>active user proportion 50.0%<br>active user number 558<br>user number 1115",
          "Mexico<br>active user proportion 50.0%<br>active user number 220<br>user number 440",
          "New Zealand<br>active user proportion 49.9%<br>active user number 176<br>user number 353",
          "Hungary<br>active user proportion 49.8%<br>active user number 115<br>user number 231",
          "Croatia<br>active user proportion 49.6%<br>active user number 68<br>user number 137",
          "Slovenia<br>active user proportion 49.4%<br>active user number 76<br>user number 154",
          "United Kingdom<br>active user proportion 48.5%<br>active user number 2190<br>user number 4520",
          "Greece<br>active user proportion 47.9%<br>active user number 187<br>user number 390",
          "Canada<br>active user proportion 47.8%<br>active user number 962<br>user number 2013",
          "Canada<br>active user proportion 47.8%<br>active user number 962<br>user number 2013",
          "Lithuania<br>active user proportion 47.599999999999994%<br>active user number 68<br>user number 143",
          "Ireland {Republic}<br>active user proportion 47.0%<br>active user number 197<br>user number 419",
          "Slovakia<br>active user proportion 46.800000000000004%<br>active user number 51<br>user number 109",
          "United States<br>active user proportion 46.6%<br>active user number 6263<br>user number 13445",
          "France<br>active user proportion 46.300000000000004%<br>active user number 742<br>user number 1602",
          "Belarus<br>active user proportion 45.9%<br>active user number 67<br>user number 146",
          "Switzerland<br>active user proportion 45.800000000000004%<br>active user number 261<br>user number 570",
          "Netherlands<br>active user proportion 45.4%<br>active user number 534<br>user number 1175",
          "Portugal<br>active user proportion 44.3%<br>active user number 214<br>user number 483",
          "Ukraine<br>active user proportion 44.3%<br>active user number 354<br>user number 799",
          "China<br>active user proportion 43.7%<br>active user number 138<br>user number 316",
          "Denmark<br>active user proportion 43.4%<br>active user number 262<br>user number 603",
          "Belgium<br>active user proportion 43.1%<br>active user number 232<br>user number 538",
          "Germany<br>active user proportion 42.9%<br>active user number 1652<br>user number 3848",
          "Austria<br>active user proportion 42.6%<br>active user number 204<br>user number 479",
          "Czech Republic<br>active user proportion 42.3%<br>active user number 156<br>user number 369",
          "Norway<br>active user proportion 42.199999999999996%<br>active user number 152<br>user number 360",
          "Korea South<br>active user proportion 42.0%<br>active user number 97<br>user number 231",
          "Sweden<br>active user proportion 41.9%<br>active user number 554<br>user number 1321",
          "Russian Federation<br>active user proportion 40.9%<br>active user number 576<br>user number 1409",
          "Poland<br>active user proportion 38.7%<br>active user number 756<br>user number 1951",
          "Finland<br>active user proportion 37.7%<br>active user number 165<br>user number 438"
         ],
         "type": "scattergeo"
        }
       ],
       "layout": {
        "autosize": true,
        "geo": {
         "landcolor": "rgb(217, 217, 217)",
         "scope": "world"
        },
        "showlegend": true,
        "template": {
         "data": {
          "bar": [
           {
            "error_x": {
             "color": "#2a3f5f"
            },
            "error_y": {
             "color": "#2a3f5f"
            },
            "marker": {
             "line": {
              "color": "#E5ECF6",
              "width": 0.5
             }
            },
            "type": "bar"
           }
          ],
          "barpolar": [
           {
            "marker": {
             "line": {
              "color": "#E5ECF6",
              "width": 0.5
             }
            },
            "type": "barpolar"
           }
          ],
          "carpet": [
           {
            "aaxis": {
             "endlinecolor": "#2a3f5f",
             "gridcolor": "white",
             "linecolor": "white",
             "minorgridcolor": "white",
             "startlinecolor": "#2a3f5f"
            },
            "baxis": {
             "endlinecolor": "#2a3f5f",
             "gridcolor": "white",
             "linecolor": "white",
             "minorgridcolor": "white",
             "startlinecolor": "#2a3f5f"
            },
            "type": "carpet"
           }
          ],
          "choropleth": [
           {
            "colorbar": {
             "outlinewidth": 0,
             "ticks": ""
            },
            "type": "choropleth"
           }
          ],
          "contour": [
           {
            "colorbar": {
             "outlinewidth": 0,
             "ticks": ""
            },
            "colorscale": [
             [
              0,
              "#0d0887"
             ],
             [
              0.1111111111111111,
              "#46039f"
             ],
             [
              0.2222222222222222,
              "#7201a8"
             ],
             [
              0.3333333333333333,
              "#9c179e"
             ],
             [
              0.4444444444444444,
              "#bd3786"
             ],
             [
              0.5555555555555556,
              "#d8576b"
             ],
             [
              0.6666666666666666,
              "#ed7953"
             ],
             [
              0.7777777777777778,
              "#fb9f3a"
             ],
             [
              0.8888888888888888,
              "#fdca26"
             ],
             [
              1,
              "#f0f921"
             ]
            ],
            "type": "contour"
           }
          ],
          "contourcarpet": [
           {
            "colorbar": {
             "outlinewidth": 0,
             "ticks": ""
            },
            "type": "contourcarpet"
           }
          ],
          "heatmap": [
           {
            "colorbar": {
             "outlinewidth": 0,
             "ticks": ""
            },
            "colorscale": [
             [
              0,
              "#0d0887"
             ],
             [
              0.1111111111111111,
              "#46039f"
             ],
             [
              0.2222222222222222,
              "#7201a8"
             ],
             [
              0.3333333333333333,
              "#9c179e"
             ],
             [
              0.4444444444444444,
              "#bd3786"
             ],
             [
              0.5555555555555556,
              "#d8576b"
             ],
             [
              0.6666666666666666,
              "#ed7953"
             ],
             [
              0.7777777777777778,
              "#fb9f3a"
             ],
             [
              0.8888888888888888,
              "#fdca26"
             ],
             [
              1,
              "#f0f921"
             ]
            ],
            "type": "heatmap"
           }
          ],
          "heatmapgl": [
           {
            "colorbar": {
             "outlinewidth": 0,
             "ticks": ""
            },
            "colorscale": [
             [
              0,
              "#0d0887"
             ],
             [
              0.1111111111111111,
              "#46039f"
             ],
             [
              0.2222222222222222,
              "#7201a8"
             ],
             [
              0.3333333333333333,
              "#9c179e"
             ],
             [
              0.4444444444444444,
              "#bd3786"
             ],
             [
              0.5555555555555556,
              "#d8576b"
             ],
             [
              0.6666666666666666,
              "#ed7953"
             ],
             [
              0.7777777777777778,
              "#fb9f3a"
             ],
             [
              0.8888888888888888,
              "#fdca26"
             ],
             [
              1,
              "#f0f921"
             ]
            ],
            "type": "heatmapgl"
           }
          ],
          "histogram": [
           {
            "marker": {
             "colorbar": {
              "outlinewidth": 0,
              "ticks": ""
             }
            },
            "type": "histogram"
           }
          ],
          "histogram2d": [
           {
            "colorbar": {
             "outlinewidth": 0,
             "ticks": ""
            },
            "colorscale": [
             [
              0,
              "#0d0887"
             ],
             [
              0.1111111111111111,
              "#46039f"
             ],
             [
              0.2222222222222222,
              "#7201a8"
             ],
             [
              0.3333333333333333,
              "#9c179e"
             ],
             [
              0.4444444444444444,
              "#bd3786"
             ],
             [
              0.5555555555555556,
              "#d8576b"
             ],
             [
              0.6666666666666666,
              "#ed7953"
             ],
             [
              0.7777777777777778,
              "#fb9f3a"
             ],
             [
              0.8888888888888888,
              "#fdca26"
             ],
             [
              1,
              "#f0f921"
             ]
            ],
            "type": "histogram2d"
           }
          ],
          "histogram2dcontour": [
           {
            "colorbar": {
             "outlinewidth": 0,
             "ticks": ""
            },
            "colorscale": [
             [
              0,
              "#0d0887"
             ],
             [
              0.1111111111111111,
              "#46039f"
             ],
             [
              0.2222222222222222,
              "#7201a8"
             ],
             [
              0.3333333333333333,
              "#9c179e"
             ],
             [
              0.4444444444444444,
              "#bd3786"
             ],
             [
              0.5555555555555556,
              "#d8576b"
             ],
             [
              0.6666666666666666,
              "#ed7953"
             ],
             [
              0.7777777777777778,
              "#fb9f3a"
             ],
             [
              0.8888888888888888,
              "#fdca26"
             ],
             [
              1,
              "#f0f921"
             ]
            ],
            "type": "histogram2dcontour"
           }
          ],
          "mesh3d": [
           {
            "colorbar": {
             "outlinewidth": 0,
             "ticks": ""
            },
            "type": "mesh3d"
           }
          ],
          "parcoords": [
           {
            "line": {
             "colorbar": {
              "outlinewidth": 0,
              "ticks": ""
             }
            },
            "type": "parcoords"
           }
          ],
          "pie": [
           {
            "automargin": true,
            "type": "pie"
           }
          ],
          "scatter": [
           {
            "marker": {
             "colorbar": {
              "outlinewidth": 0,
              "ticks": ""
             }
            },
            "type": "scatter"
           }
          ],
          "scatter3d": [
           {
            "line": {
             "colorbar": {
              "outlinewidth": 0,
              "ticks": ""
             }
            },
            "marker": {
             "colorbar": {
              "outlinewidth": 0,
              "ticks": ""
             }
            },
            "type": "scatter3d"
           }
          ],
          "scattercarpet": [
           {
            "marker": {
             "colorbar": {
              "outlinewidth": 0,
              "ticks": ""
             }
            },
            "type": "scattercarpet"
           }
          ],
          "scattergeo": [
           {
            "marker": {
             "colorbar": {
              "outlinewidth": 0,
              "ticks": ""
             }
            },
            "type": "scattergeo"
           }
          ],
          "scattergl": [
           {
            "marker": {
             "colorbar": {
              "outlinewidth": 0,
              "ticks": ""
             }
            },
            "type": "scattergl"
           }
          ],
          "scattermapbox": [
           {
            "marker": {
             "colorbar": {
              "outlinewidth": 0,
              "ticks": ""
             }
            },
            "type": "scattermapbox"
           }
          ],
          "scatterpolar": [
           {
            "marker": {
             "colorbar": {
              "outlinewidth": 0,
              "ticks": ""
             }
            },
            "type": "scatterpolar"
           }
          ],
          "scatterpolargl": [
           {
            "marker": {
             "colorbar": {
              "outlinewidth": 0,
              "ticks": ""
             }
            },
            "type": "scatterpolargl"
           }
          ],
          "scatterternary": [
           {
            "marker": {
             "colorbar": {
              "outlinewidth": 0,
              "ticks": ""
             }
            },
            "type": "scatterternary"
           }
          ],
          "surface": [
           {
            "colorbar": {
             "outlinewidth": 0,
             "ticks": ""
            },
            "colorscale": [
             [
              0,
              "#0d0887"
             ],
             [
              0.1111111111111111,
              "#46039f"
             ],
             [
              0.2222222222222222,
              "#7201a8"
             ],
             [
              0.3333333333333333,
              "#9c179e"
             ],
             [
              0.4444444444444444,
              "#bd3786"
             ],
             [
              0.5555555555555556,
              "#d8576b"
             ],
             [
              0.6666666666666666,
              "#ed7953"
             ],
             [
              0.7777777777777778,
              "#fb9f3a"
             ],
             [
              0.8888888888888888,
              "#fdca26"
             ],
             [
              1,
              "#f0f921"
             ]
            ],
            "type": "surface"
           }
          ],
          "table": [
           {
            "cells": {
             "fill": {
              "color": "#EBF0F8"
             },
             "line": {
              "color": "white"
             }
            },
            "header": {
             "fill": {
              "color": "#C8D4E3"
             },
             "line": {
              "color": "white"
             }
            },
            "type": "table"
           }
          ]
         },
         "layout": {
          "annotationdefaults": {
           "arrowcolor": "#2a3f5f",
           "arrowhead": 0,
           "arrowwidth": 1
          },
          "coloraxis": {
           "colorbar": {
            "outlinewidth": 0,
            "ticks": ""
           }
          },
          "colorscale": {
           "diverging": [
            [
             0,
             "#8e0152"
            ],
            [
             0.1,
             "#c51b7d"
            ],
            [
             0.2,
             "#de77ae"
            ],
            [
             0.3,
             "#f1b6da"
            ],
            [
             0.4,
             "#fde0ef"
            ],
            [
             0.5,
             "#f7f7f7"
            ],
            [
             0.6,
             "#e6f5d0"
            ],
            [
             0.7,
             "#b8e186"
            ],
            [
             0.8,
             "#7fbc41"
            ],
            [
             0.9,
             "#4d9221"
            ],
            [
             1,
             "#276419"
            ]
           ],
           "sequential": [
            [
             0,
             "#0d0887"
            ],
            [
             0.1111111111111111,
             "#46039f"
            ],
            [
             0.2222222222222222,
             "#7201a8"
            ],
            [
             0.3333333333333333,
             "#9c179e"
            ],
            [
             0.4444444444444444,
             "#bd3786"
            ],
            [
             0.5555555555555556,
             "#d8576b"
            ],
            [
             0.6666666666666666,
             "#ed7953"
            ],
            [
             0.7777777777777778,
             "#fb9f3a"
            ],
            [
             0.8888888888888888,
             "#fdca26"
            ],
            [
             1,
             "#f0f921"
            ]
           ],
           "sequentialminus": [
            [
             0,
             "#0d0887"
            ],
            [
             0.1111111111111111,
             "#46039f"
            ],
            [
             0.2222222222222222,
             "#7201a8"
            ],
            [
             0.3333333333333333,
             "#9c179e"
            ],
            [
             0.4444444444444444,
             "#bd3786"
            ],
            [
             0.5555555555555556,
             "#d8576b"
            ],
            [
             0.6666666666666666,
             "#ed7953"
            ],
            [
             0.7777777777777778,
             "#fb9f3a"
            ],
            [
             0.8888888888888888,
             "#fdca26"
            ],
            [
             1,
             "#f0f921"
            ]
           ]
          },
          "colorway": [
           "#636efa",
           "#EF553B",
           "#00cc96",
           "#ab63fa",
           "#FFA15A",
           "#19d3f3",
           "#FF6692",
           "#B6E880",
           "#FF97FF",
           "#FECB52"
          ],
          "font": {
           "color": "#2a3f5f"
          },
          "geo": {
           "bgcolor": "white",
           "lakecolor": "white",
           "landcolor": "#E5ECF6",
           "showlakes": true,
           "showland": true,
           "subunitcolor": "white"
          },
          "hoverlabel": {
           "align": "left"
          },
          "hovermode": "closest",
          "mapbox": {
           "style": "light"
          },
          "paper_bgcolor": "white",
          "plot_bgcolor": "#E5ECF6",
          "polar": {
           "angularaxis": {
            "gridcolor": "white",
            "linecolor": "white",
            "ticks": ""
           },
           "bgcolor": "#E5ECF6",
           "radialaxis": {
            "gridcolor": "white",
            "linecolor": "white",
            "ticks": ""
           }
          },
          "scene": {
           "xaxis": {
            "backgroundcolor": "#E5ECF6",
            "gridcolor": "white",
            "gridwidth": 2,
            "linecolor": "white",
            "showbackground": true,
            "ticks": "",
            "zerolinecolor": "white"
           },
           "yaxis": {
            "backgroundcolor": "#E5ECF6",
            "gridcolor": "white",
            "gridwidth": 2,
            "linecolor": "white",
            "showbackground": true,
            "ticks": "",
            "zerolinecolor": "white"
           },
           "zaxis": {
            "backgroundcolor": "#E5ECF6",
            "gridcolor": "white",
            "gridwidth": 2,
            "linecolor": "white",
            "showbackground": true,
            "ticks": "",
            "zerolinecolor": "white"
           }
          },
          "shapedefaults": {
           "line": {
            "color": "#2a3f5f"
           }
          },
          "ternary": {
           "aaxis": {
            "gridcolor": "white",
            "linecolor": "white",
            "ticks": ""
           },
           "baxis": {
            "gridcolor": "white",
            "linecolor": "white",
            "ticks": ""
           },
           "bgcolor": "#E5ECF6",
           "caxis": {
            "gridcolor": "white",
            "linecolor": "white",
            "ticks": ""
           }
          },
          "title": {
           "x": 0.05
          },
          "xaxis": {
           "automargin": true,
           "gridcolor": "white",
           "linecolor": "white",
           "ticks": "",
           "title": {
            "standoff": 15
           },
           "zerolinecolor": "white",
           "zerolinewidth": 2
          },
          "yaxis": {
           "automargin": true,
           "gridcolor": "white",
           "linecolor": "white",
           "ticks": "",
           "title": {
            "standoff": 15
           },
           "zerolinecolor": "white",
           "zerolinewidth": 2
          }
         }
        },
        "title": {
         "text": "Active user proportion by country"
        }
       }
      },
      "image/png": "[encoded data removed]",
      "text/html": [
       "<div>\n",
       "        \n",
       "        \n",
       "            <div id=\"501958ee-93fe-4a55-8fa1-4ea121564abc\" class=\"plotly-graph-div\" style=\"height:525px; width:100%;\"></div>\n",
       "            <script type=\"text/javascript\">\n",
       "                require([\"plotly\"], function(Plotly) {\n",
       "                    window.PLOTLYENV=window.PLOTLYENV || {};\n",
       "                    \n",
       "                if (document.getElementById(\"501958ee-93fe-4a55-8fa1-4ea121564abc\")) {\n",
       "                    Plotly.newPlot(\n",
       "                        '501958ee-93fe-4a55-8fa1-4ea121564abc',\n",
       "                        [{\"locationmode\": \"ISO-3\", \"locations\": [\"IDN\", \"BGD\", \"VNM\", \"SGP\", \"BGR\", \"PHL\", \"MYS\", \"PAK\", \"ARG\", \"BRA\", \"EGY\", \"LKA\", \"IND\", \"JPN\", \"IRN\", \"TUR\", \"ESP\", \"ZAF\", \"ROU\", \"ISR\", \"ITA\", \"AUS\", \"MEX\", \"NZL\", \"HUN\", \"HRV\", \"SVN\", \"GBR\", \"GRC\", \"CAN\", \"CAN\", \"LTU\", \"IRL\", \"SVK\", \"USA\", \"FRA\", \"BLR\", \"CHE\", \"NLD\", \"PRT\", \"UKR\", \"CHN\", \"DNK\", \"BEL\", \"DEU\", \"AUT\", \"CZE\", \"NOR\", \"KOR\", \"SWE\", \"RUS\", \"POL\", \"FIN\"], \"marker\": {\"color\": [\"blue\", \"blue\", \"blue\", \"blue\", \"red\", \"blue\", \"blue\", \"blue\", \"green\", \"green\", \"cyan\", \"blue\", \"blue\", \"blue\", \"blue\", \"blue\", \"red\", \"cyan\", \"red\", \"blue\", \"red\", \"orange\", \"yellow\", \"orange\", \"red\", \"red\", \"red\", \"red\", \"red\", \"yellow\", \"yellow\", \"red\", \"red\", \"red\", \"yellow\", \"red\", \"red\", \"red\", \"red\", \"red\", \"red\", \"blue\", \"red\", \"red\", \"red\", \"red\", \"red\", \"red\", \"blue\", \"red\", \"red\", \"red\", \"red\"], \"line\": {\"color\": \"rgb(40,40,40)\", \"width\": 0.5}, \"size\": [1085.7214761859198, 982.4014172182585, 854.0587625261516, 757.4821706418101, 620.1739480127128, 432.68068157447635, 333.61912567456767, 314.1906602856942, 290.03453439173467, 287.1486425560541, 275.8893832347826, 232.7581659076621, 217.02227542494765, 188.670102405666, 183.09405819371815, 174.16445560511082, 172.43149031685434, 162.38986205348914, 162.38986205348914, 152.93301269561476, 149.90473614904667, 148.4131591025766, 148.4131591025766, 146.9364234956948, 145.47438165361004, 142.5937958969891, 139.7702495600029, 127.7403898460288, 120.30136866321547, 119.10435004481377, 119.10435004481377, 116.7459258989899, 109.94717245212343, 107.77007257140055, 105.63608215665951, 102.51406411049346, 98.49443016194631, 97.51439420705401, 93.69080011947398, 83.93141691026881, 83.93141691026881, 79.04363169956446, 76.70753933829559, 74.44048894034542, 72.96646849963281, 70.80998345427655, 68.71723217384643, 68.03348428941966, 66.68633104092515, 66.02279096040989, 59.739891704145194, 47.942386080819254, 43.38006483585162], \"sizemode\": \"area\"}, \"name\": \"Continent labels will be filled in milestone 3\", \"text\": [\"Indonesia<br>active user proportion 69.89999999999999%<br>active user number 100<br>user number 143\", \"Bangladesh<br>active user proportion 68.89999999999999%<br>active user number 104<br>user number 151\", \"Vietnam<br>active user proportion 67.5%<br>active user number 79<br>user number 117\", \"Singapore<br>active user proportion 66.3%<br>active user number 110<br>user number 166\", \"Bulgaria<br>active user proportion 64.3%<br>active user number 137<br>user number 213\", \"Philippines<br>active user proportion 60.699999999999996%<br>active user number 105<br>user number 173\", \"Malaysia<br>active user proportion 58.099999999999994%<br>active user number 72<br>user number 124\", \"Pakistan<br>active user proportion 57.49999999999999%<br>active user number 192<br>user number 334\", \"Argentina<br>active user proportion 56.699999999999996%<br>active user number 181<br>user number 319\", \"Brazil<br>active user proportion 56.599999999999994%<br>active user number 573<br>user number 1012\", \"Egypt<br>active user proportion 56.2%<br>active user number 59<br>user number 105\", \"Sri Lanka<br>active user proportion 54.50000000000001%<br>active user number 60<br>user number 110\", \"India<br>active user proportion 53.800000000000004%<br>active user number 2234<br>user number 4151\", \"Japan<br>active user proportion 52.400000000000006%<br>active user number 76<br>user number 145\", \"Iran<br>active user proportion 52.1%<br>active user number 163<br>user number 313\", \"Turkey<br>active user proportion 51.6%<br>active user number 224<br>user number 434\", \"Spain<br>active user proportion 51.5%<br>active user number 526<br>user number 1022\", \"South Africa<br>active user proportion 50.9%<br>active user number 243<br>user number 477\", \"Romania<br>active user proportion 50.9%<br>active user number 418<br>user number 822\", \"Israel<br>active user proportion 50.3%<br>active user number 220<br>user number 437\", \"Italy<br>active user proportion 50.1%<br>active user number 567<br>user number 1131\", \"Australia<br>active user proportion 50.0%<br>active user number 558<br>user number 1115\", \"Mexico<br>active user proportion 50.0%<br>active user number 220<br>user number 440\", \"New Zealand<br>active user proportion 49.9%<br>active user number 176<br>user number 353\", \"Hungary<br>active user proportion 49.8%<br>active user number 115<br>user number 231\", \"Croatia<br>active user proportion 49.6%<br>active user number 68<br>user number 137\", \"Slovenia<br>active user proportion 49.4%<br>active user number 76<br>user number 154\", \"United Kingdom<br>active user proportion 48.5%<br>active user number 2190<br>user number 4520\", \"Greece<br>active user proportion 47.9%<br>active user number 187<br>user number 390\", \"Canada<br>active user proportion 47.8%<br>active user number 962<br>user number 2013\", \"Canada<br>active user proportion 47.8%<br>active user number 962<br>user number 2013\", \"Lithuania<br>active user proportion 47.599999999999994%<br>active user number 68<br>user number 143\", \"Ireland {Republic}<br>active user proportion 47.0%<br>active user number 197<br>user number 419\", \"Slovakia<br>active user proportion 46.800000000000004%<br>active user number 51<br>user number 109\", \"United States<br>active user proportion 46.6%<br>active user number 6263<br>user number 13445\", \"France<br>active user proportion 46.300000000000004%<br>active user number 742<br>user number 1602\", \"Belarus<br>active user proportion 45.9%<br>active user number 67<br>user number 146\", \"Switzerland<br>active user proportion 45.800000000000004%<br>active user number 261<br>user number 570\", \"Netherlands<br>active user proportion 45.4%<br>active user number 534<br>user number 1175\", \"Portugal<br>active user proportion 44.3%<br>active user number 214<br>user number 483\", \"Ukraine<br>active user proportion 44.3%<br>active user number 354<br>user number 799\", \"China<br>active user proportion 43.7%<br>active user number 138<br>user number 316\", \"Denmark<br>active user proportion 43.4%<br>active user number 262<br>user number 603\", \"Belgium<br>active user proportion 43.1%<br>active user number 232<br>user number 538\", \"Germany<br>active user proportion 42.9%<br>active user number 1652<br>user number 3848\", \"Austria<br>active user proportion 42.6%<br>active user number 204<br>user number 479\", \"Czech Republic<br>active user proportion 42.3%<br>active user number 156<br>user number 369\", \"Norway<br>active user proportion 42.199999999999996%<br>active user number 152<br>user number 360\", \"Korea South<br>active user proportion 42.0%<br>active user number 97<br>user number 231\", \"Sweden<br>active user proportion 41.9%<br>active user number 554<br>user number 1321\", \"Russian Federation<br>active user proportion 40.9%<br>active user number 576<br>user number 1409\", \"Poland<br>active user proportion 38.7%<br>active user number 756<br>user number 1951\", \"Finland<br>active user proportion 37.7%<br>active user number 165<br>user number 438\"], \"type\": \"scattergeo\"}],\n",
       "                        {\"geo\": {\"landcolor\": \"rgb(217, 217, 217)\", \"scope\": \"world\"}, \"showlegend\": true, \"template\": {\"data\": {\"bar\": [{\"error_x\": {\"color\": \"#2a3f5f\"}, \"error_y\": {\"color\": \"#2a3f5f\"}, \"marker\": {\"line\": {\"color\": \"#E5ECF6\", \"width\": 0.5}}, \"type\": \"bar\"}], \"barpolar\": [{\"marker\": {\"line\": {\"color\": \"#E5ECF6\", \"width\": 0.5}}, \"type\": \"barpolar\"}], \"carpet\": [{\"aaxis\": {\"endlinecolor\": \"#2a3f5f\", \"gridcolor\": \"white\", \"linecolor\": \"white\", \"minorgridcolor\": \"white\", \"startlinecolor\": \"#2a3f5f\"}, \"baxis\": {\"endlinecolor\": \"#2a3f5f\", \"gridcolor\": \"white\", \"linecolor\": \"white\", \"minorgridcolor\": \"white\", \"startlinecolor\": \"#2a3f5f\"}, \"type\": \"carpet\"}], \"choropleth\": [{\"colorbar\": {\"outlinewidth\": 0, \"ticks\": \"\"}, \"type\": \"choropleth\"}], \"contour\": [{\"colorbar\": {\"outlinewidth\": 0, \"ticks\": \"\"}, \"colorscale\": [[0.0, \"#0d0887\"], [0.1111111111111111, \"#46039f\"], [0.2222222222222222, \"#7201a8\"], [0.3333333333333333, \"#9c179e\"], [0.4444444444444444, \"#bd3786\"], [0.5555555555555556, \"#d8576b\"], [0.6666666666666666, \"#ed7953\"], [0.7777777777777778, \"#fb9f3a\"], [0.8888888888888888, \"#fdca26\"], [1.0, \"#f0f921\"]], \"type\": \"contour\"}], \"contourcarpet\": [{\"colorbar\": {\"outlinewidth\": 0, \"ticks\": \"\"}, \"type\": \"contourcarpet\"}], \"heatmap\": [{\"colorbar\": {\"outlinewidth\": 0, \"ticks\": \"\"}, \"colorscale\": [[0.0, \"#0d0887\"], [0.1111111111111111, \"#46039f\"], [0.2222222222222222, \"#7201a8\"], [0.3333333333333333, \"#9c179e\"], [0.4444444444444444, \"#bd3786\"], [0.5555555555555556, \"#d8576b\"], [0.6666666666666666, \"#ed7953\"], [0.7777777777777778, \"#fb9f3a\"], [0.8888888888888888, \"#fdca26\"], [1.0, \"#f0f921\"]], \"type\": \"heatmap\"}], \"heatmapgl\": [{\"colorbar\": {\"outlinewidth\": 0, \"ticks\": \"\"}, \"colorscale\": [[0.0, \"#0d0887\"], [0.1111111111111111, \"#46039f\"], [0.2222222222222222, \"#7201a8\"], [0.3333333333333333, \"#9c179e\"], [0.4444444444444444, \"#bd3786\"], [0.5555555555555556, \"#d8576b\"], [0.6666666666666666, \"#ed7953\"], [0.7777777777777778, \"#fb9f3a\"], [0.8888888888888888, \"#fdca26\"], [1.0, \"#f0f921\"]], \"type\": \"heatmapgl\"}], \"histogram\": [{\"marker\": {\"colorbar\": {\"outlinewidth\": 0, \"ticks\": \"\"}}, \"type\": \"histogram\"}], \"histogram2d\": [{\"colorbar\": {\"outlinewidth\": 0, \"ticks\": \"\"}, \"colorscale\": [[0.0, \"#0d0887\"], [0.1111111111111111, \"#46039f\"], [0.2222222222222222, \"#7201a8\"], [0.3333333333333333, \"#9c179e\"], [0.4444444444444444, \"#bd3786\"], [0.5555555555555556, \"#d8576b\"], [0.6666666666666666, \"#ed7953\"], [0.7777777777777778, \"#fb9f3a\"], [0.8888888888888888, \"#fdca26\"], [1.0, \"#f0f921\"]], \"type\": \"histogram2d\"}], \"histogram2dcontour\": [{\"colorbar\": {\"outlinewidth\": 0, \"ticks\": \"\"}, \"colorscale\": [[0.0, \"#0d0887\"], [0.1111111111111111, \"#46039f\"], [0.2222222222222222, \"#7201a8\"], [0.3333333333333333, \"#9c179e\"], [0.4444444444444444, \"#bd3786\"], [0.5555555555555556, \"#d8576b\"], [0.6666666666666666, \"#ed7953\"], [0.7777777777777778, \"#fb9f3a\"], [0.8888888888888888, \"#fdca26\"], [1.0, \"#f0f921\"]], \"type\": \"histogram2dcontour\"}], \"mesh3d\": [{\"colorbar\": {\"outlinewidth\": 0, \"ticks\": \"\"}, \"type\": \"mesh3d\"}], \"parcoords\": [{\"line\": {\"colorbar\": {\"outlinewidth\": 0, \"ticks\": \"\"}}, \"type\": \"parcoords\"}], \"pie\": [{\"automargin\": true, \"type\": \"pie\"}], \"scatter\": [{\"marker\": {\"colorbar\": {\"outlinewidth\": 0, \"ticks\": \"\"}}, \"type\": \"scatter\"}], \"scatter3d\": [{\"line\": {\"colorbar\": {\"outlinewidth\": 0, \"ticks\": \"\"}}, \"marker\": {\"colorbar\": {\"outlinewidth\": 0, \"ticks\": \"\"}}, \"type\": \"scatter3d\"}], \"scattercarpet\": [{\"marker\": {\"colorbar\": {\"outlinewidth\": 0, \"ticks\": \"\"}}, \"type\": \"scattercarpet\"}], \"scattergeo\": [{\"marker\": {\"colorbar\": {\"outlinewidth\": 0, \"ticks\": \"\"}}, \"type\": \"scattergeo\"}], \"scattergl\": [{\"marker\": {\"colorbar\": {\"outlinewidth\": 0, \"ticks\": \"\"}}, \"type\": \"scattergl\"}], \"scattermapbox\": [{\"marker\": {\"colorbar\": {\"outlinewidth\": 0, \"ticks\": \"\"}}, \"type\": \"scattermapbox\"}], \"scatterpolar\": [{\"marker\": {\"colorbar\": {\"outlinewidth\": 0, \"ticks\": \"\"}}, \"type\": \"scatterpolar\"}], \"scatterpolargl\": [{\"marker\": {\"colorbar\": {\"outlinewidth\": 0, \"ticks\": \"\"}}, \"type\": \"scatterpolargl\"}], \"scatterternary\": [{\"marker\": {\"colorbar\": {\"outlinewidth\": 0, \"ticks\": \"\"}}, \"type\": \"scatterternary\"}], \"surface\": [{\"colorbar\": {\"outlinewidth\": 0, \"ticks\": \"\"}, \"colorscale\": [[0.0, \"#0d0887\"], [0.1111111111111111, \"#46039f\"], [0.2222222222222222, \"#7201a8\"], [0.3333333333333333, \"#9c179e\"], [0.4444444444444444, \"#bd3786\"], [0.5555555555555556, \"#d8576b\"], [0.6666666666666666, \"#ed7953\"], [0.7777777777777778, \"#fb9f3a\"], [0.8888888888888888, \"#fdca26\"], [1.0, \"#f0f921\"]], \"type\": \"surface\"}], \"table\": [{\"cells\": {\"fill\": {\"color\": \"#EBF0F8\"}, \"line\": {\"color\": \"white\"}}, \"header\": {\"fill\": {\"color\": \"#C8D4E3\"}, \"line\": {\"color\": \"white\"}}, \"type\": \"table\"}]}, \"layout\": {\"annotationdefaults\": {\"arrowcolor\": \"#2a3f5f\", \"arrowhead\": 0, \"arrowwidth\": 1}, \"coloraxis\": {\"colorbar\": {\"outlinewidth\": 0, \"ticks\": \"\"}}, \"colorscale\": {\"diverging\": [[0, \"#8e0152\"], [0.1, \"#c51b7d\"], [0.2, \"#de77ae\"], [0.3, \"#f1b6da\"], [0.4, \"#fde0ef\"], [0.5, \"#f7f7f7\"], [0.6, \"#e6f5d0\"], [0.7, \"#b8e186\"], [0.8, \"#7fbc41\"], [0.9, \"#4d9221\"], [1, \"#276419\"]], \"sequential\": [[0.0, \"#0d0887\"], [0.1111111111111111, \"#46039f\"], [0.2222222222222222, \"#7201a8\"], [0.3333333333333333, \"#9c179e\"], [0.4444444444444444, \"#bd3786\"], [0.5555555555555556, \"#d8576b\"], [0.6666666666666666, \"#ed7953\"], [0.7777777777777778, \"#fb9f3a\"], [0.8888888888888888, \"#fdca26\"], [1.0, \"#f0f921\"]], \"sequentialminus\": [[0.0, \"#0d0887\"], [0.1111111111111111, \"#46039f\"], [0.2222222222222222, \"#7201a8\"], [0.3333333333333333, \"#9c179e\"], [0.4444444444444444, \"#bd3786\"], [0.5555555555555556, \"#d8576b\"], [0.6666666666666666, \"#ed7953\"], [0.7777777777777778, \"#fb9f3a\"], [0.8888888888888888, \"#fdca26\"], [1.0, \"#f0f921\"]]}, \"colorway\": [\"#636efa\", \"#EF553B\", \"#00cc96\", \"#ab63fa\", \"#FFA15A\", \"#19d3f3\", \"#FF6692\", \"#B6E880\", \"#FF97FF\", \"#FECB52\"], \"font\": {\"color\": \"#2a3f5f\"}, \"geo\": {\"bgcolor\": \"white\", \"lakecolor\": \"white\", \"landcolor\": \"#E5ECF6\", \"showlakes\": true, \"showland\": true, \"subunitcolor\": \"white\"}, \"hoverlabel\": {\"align\": \"left\"}, \"hovermode\": \"closest\", \"mapbox\": {\"style\": \"light\"}, \"paper_bgcolor\": \"white\", \"plot_bgcolor\": \"#E5ECF6\", \"polar\": {\"angularaxis\": {\"gridcolor\": \"white\", \"linecolor\": \"white\", \"ticks\": \"\"}, \"bgcolor\": \"#E5ECF6\", \"radialaxis\": {\"gridcolor\": \"white\", \"linecolor\": \"white\", \"ticks\": \"\"}}, \"scene\": {\"xaxis\": {\"backgroundcolor\": \"#E5ECF6\", \"gridcolor\": \"white\", \"gridwidth\": 2, \"linecolor\": \"white\", \"showbackground\": true, \"ticks\": \"\", \"zerolinecolor\": \"white\"}, \"yaxis\": {\"backgroundcolor\": \"#E5ECF6\", \"gridcolor\": \"white\", \"gridwidth\": 2, \"linecolor\": \"white\", \"showbackground\": true, \"ticks\": \"\", \"zerolinecolor\": \"white\"}, \"zaxis\": {\"backgroundcolor\": \"#E5ECF6\", \"gridcolor\": \"white\", \"gridwidth\": 2, \"linecolor\": \"white\", \"showbackground\": true, \"ticks\": \"\", \"zerolinecolor\": \"white\"}}, \"shapedefaults\": {\"line\": {\"color\": \"#2a3f5f\"}}, \"ternary\": {\"aaxis\": {\"gridcolor\": \"white\", \"linecolor\": \"white\", \"ticks\": \"\"}, \"baxis\": {\"gridcolor\": \"white\", \"linecolor\": \"white\", \"ticks\": \"\"}, \"bgcolor\": \"#E5ECF6\", \"caxis\": {\"gridcolor\": \"white\", \"linecolor\": \"white\", \"ticks\": \"\"}}, \"title\": {\"x\": 0.05}, \"xaxis\": {\"automargin\": true, \"gridcolor\": \"white\", \"linecolor\": \"white\", \"ticks\": \"\", \"title\": {\"standoff\": 15}, \"zerolinecolor\": \"white\", \"zerolinewidth\": 2}, \"yaxis\": {\"automargin\": true, \"gridcolor\": \"white\", \"linecolor\": \"white\", \"ticks\": \"\", \"title\": {\"standoff\": 15}, \"zerolinecolor\": \"white\", \"zerolinewidth\": 2}}}, \"title\": {\"text\": \"Active user proportion by country\"}},\n",
       "                        {\"responsive\": true}\n",
       "                    ).then(function(){\n",
       "                            \n",
       "var gd = document.getElementById('501958ee-93fe-4a55-8fa1-4ea121564abc');\n",
       "var x = new MutationObserver(function (mutations, observer) {{\n",
       "        var display = window.getComputedStyle(gd).display;\n",
       "        if (!display || display === 'none') {{\n",
       "            console.log([gd, 'removed!']);\n",
       "            Plotly.purge(gd);\n",
       "            observer.disconnect();\n",
       "        }}\n",
       "}});\n",
       "\n",
       "// Listen for the removal of the full notebook cells\n",
       "var notebookContainer = gd.closest('#notebook-container');\n",
       "if (notebookContainer) {{\n",
       "    x.observe(notebookContainer, {childList: true});\n",
       "}}\n",
       "\n",
       "// Listen for the clearing of the current output cell\n",
       "var outputEl = gd.closest('.output');\n",
       "if (outputEl) {{\n",
       "    x.observe(outputEl, {childList: true});\n",
       "}}\n",
       "\n",
       "                        })\n",
       "                };\n",
       "                });\n",
       "            </script>\n",
       "        </div>"
      ]
     },
     "metadata": {},
     "output_type": "display_data"
    }
   ],
   "source": [
    "import plotly.graph_objects as go\n",
    "\n",
    "active_users['text'] = active_users['country'] + '<br>active user proportion ' + (active_users['active_rate'].\\\n",
    "                        round(3)*100).astype(str)+'%'+'<br>active user number '+(active_users['active_users'])\\\n",
    "                        .astype(str)+'<br>user number '+(active_users['UserNumber']).astype(str)\n",
    "scale =10\n",
    "fig = go.Figure(data=go.Scattergeo(\n",
    "    locationmode = 'ISO-3',\n",
    "    locations=active_users['code'],\n",
    "    text = active_users['text'],\n",
    "    marker = dict(size = np.exp(active_users['active_rate']*scale),\n",
    "                  color = active_users['color'],\n",
    "                  line_color='rgb(40,40,40)',\n",
    "                  line_width=0.5,\n",
    "                  sizemode = 'area'),\n",
    "    name = 'Continent labels will be filled in milestone 3'\n",
    "    \n",
    "))\n",
    "\n",
    "fig.update_layout(\n",
    "        title_text = 'Active user proportion by country',\n",
    "        showlegend = True,\n",
    "        geo = dict(\n",
    "            scope = 'world',\n",
    "            landcolor = 'rgb(217, 217, 217)',))\n",
    "fig.show()"
   ]
  },
  {
   "cell_type": "code",
   "execution_count": 54,
   "metadata": {
    "ExecuteTime": {
     "end_time": "2019-11-15T19:17:42.166619Z",
     "start_time": "2019-11-15T19:17:42.163360Z"
    },
    "hidden": true
   },
   "outputs": [],
   "source": [
    "active_users['active_rate']=active_users['active_rate'].round(3)"
   ]
  },
  {
   "cell_type": "code",
   "execution_count": 81,
   "metadata": {
    "ExecuteTime": {
     "end_time": "2019-11-15T19:17:42.635445Z",
     "start_time": "2019-11-15T19:17:42.526121Z"
    },
    "hidden": true
   },
   "outputs": [
    {
     "data": {
      "application/vnd.plotly.v1+json": {
       "config": {
        "plotlyServerURL": "https://plot.ly"
       },
       "data": [
        {
         "colorbar": {
          "title": {
           "text": "active rate of users in survey"
          }
         },
         "colorscale": [
          [
           0,
           "rgb(243, 203, 211)"
          ],
          [
           0.16666666666666666,
           "rgb(234, 169, 189)"
          ],
          [
           0.3333333333333333,
           "rgb(221, 136, 172)"
          ],
          [
           0.5,
           "rgb(202, 105, 157)"
          ],
          [
           0.6666666666666666,
           "rgb(177, 77, 142)"
          ],
          [
           0.8333333333333334,
           "rgb(145, 53, 125)"
          ],
          [
           1,
           "rgb(108, 33, 103)"
          ]
         ],
         "locationmode": "ISO-3",
         "locations": [
          "IDN",
          "BGD",
          "VNM",
          "SGP",
          "BGR",
          "PHL",
          "MYS",
          "PAK",
          "ARG",
          "BRA",
          "EGY",
          "LKA",
          "IND",
          "JPN",
          "IRN",
          "TUR",
          "ESP",
          "ZAF",
          "ROU",
          "ISR",
          "ITA",
          "AUS",
          "MEX",
          "NZL",
          "HUN",
          "HRV",
          "SVN",
          "GBR",
          "GRC",
          "CAN",
          "CAN",
          "LTU",
          "IRL",
          "SVK",
          "USA",
          "FRA",
          "BLR",
          "CHE",
          "NLD",
          "PRT",
          "UKR",
          "CHN",
          "DNK",
          "BEL",
          "DEU",
          "AUT",
          "CZE",
          "NOR",
          "KOR",
          "SWE",
          "RUS",
          "POL",
          "FIN"
         ],
         "text": [
          "Indonesia<br>active user proportion 69.89999999999999%<br>active user number 100<br>user number 143",
          "Bangladesh<br>active user proportion 68.89999999999999%<br>active user number 104<br>user number 151",
          "Vietnam<br>active user proportion 67.5%<br>active user number 79<br>user number 117",
          "Singapore<br>active user proportion 66.3%<br>active user number 110<br>user number 166",
          "Bulgaria<br>active user proportion 64.3%<br>active user number 137<br>user number 213",
          "Philippines<br>active user proportion 60.699999999999996%<br>active user number 105<br>user number 173",
          "Malaysia<br>active user proportion 58.099999999999994%<br>active user number 72<br>user number 124",
          "Pakistan<br>active user proportion 57.49999999999999%<br>active user number 192<br>user number 334",
          "Argentina<br>active user proportion 56.699999999999996%<br>active user number 181<br>user number 319",
          "Brazil<br>active user proportion 56.599999999999994%<br>active user number 573<br>user number 1012",
          "Egypt<br>active user proportion 56.2%<br>active user number 59<br>user number 105",
          "Sri Lanka<br>active user proportion 54.50000000000001%<br>active user number 60<br>user number 110",
          "India<br>active user proportion 53.800000000000004%<br>active user number 2234<br>user number 4151",
          "Japan<br>active user proportion 52.400000000000006%<br>active user number 76<br>user number 145",
          "Iran<br>active user proportion 52.1%<br>active user number 163<br>user number 313",
          "Turkey<br>active user proportion 51.6%<br>active user number 224<br>user number 434",
          "Spain<br>active user proportion 51.5%<br>active user number 526<br>user number 1022",
          "South Africa<br>active user proportion 50.9%<br>active user number 243<br>user number 477",
          "Romania<br>active user proportion 50.9%<br>active user number 418<br>user number 822",
          "Israel<br>active user proportion 50.3%<br>active user number 220<br>user number 437",
          "Italy<br>active user proportion 50.1%<br>active user number 567<br>user number 1131",
          "Australia<br>active user proportion 50.0%<br>active user number 558<br>user number 1115",
          "Mexico<br>active user proportion 50.0%<br>active user number 220<br>user number 440",
          "New Zealand<br>active user proportion 49.9%<br>active user number 176<br>user number 353",
          "Hungary<br>active user proportion 49.8%<br>active user number 115<br>user number 231",
          "Croatia<br>active user proportion 49.6%<br>active user number 68<br>user number 137",
          "Slovenia<br>active user proportion 49.4%<br>active user number 76<br>user number 154",
          "United Kingdom<br>active user proportion 48.5%<br>active user number 2190<br>user number 4520",
          "Greece<br>active user proportion 47.9%<br>active user number 187<br>user number 390",
          "Canada<br>active user proportion 47.8%<br>active user number 962<br>user number 2013",
          "Canada<br>active user proportion 47.8%<br>active user number 962<br>user number 2013",
          "Lithuania<br>active user proportion 47.599999999999994%<br>active user number 68<br>user number 143",
          "Ireland {Republic}<br>active user proportion 47.0%<br>active user number 197<br>user number 419",
          "Slovakia<br>active user proportion 46.800000000000004%<br>active user number 51<br>user number 109",
          "United States<br>active user proportion 46.6%<br>active user number 6263<br>user number 13445",
          "France<br>active user proportion 46.300000000000004%<br>active user number 742<br>user number 1602",
          "Belarus<br>active user proportion 45.9%<br>active user number 67<br>user number 146",
          "Switzerland<br>active user proportion 45.800000000000004%<br>active user number 261<br>user number 570",
          "Netherlands<br>active user proportion 45.4%<br>active user number 534<br>user number 1175",
          "Portugal<br>active user proportion 44.3%<br>active user number 214<br>user number 483",
          "Ukraine<br>active user proportion 44.3%<br>active user number 354<br>user number 799",
          "China<br>active user proportion 43.7%<br>active user number 138<br>user number 316",
          "Denmark<br>active user proportion 43.4%<br>active user number 262<br>user number 603",
          "Belgium<br>active user proportion 43.1%<br>active user number 232<br>user number 538",
          "Germany<br>active user proportion 42.9%<br>active user number 1652<br>user number 3848",
          "Austria<br>active user proportion 42.6%<br>active user number 204<br>user number 479",
          "Czech Republic<br>active user proportion 42.3%<br>active user number 156<br>user number 369",
          "Norway<br>active user proportion 42.199999999999996%<br>active user number 152<br>user number 360",
          "Korea South<br>active user proportion 42.0%<br>active user number 97<br>user number 231",
          "Sweden<br>active user proportion 41.9%<br>active user number 554<br>user number 1321",
          "Russian Federation<br>active user proportion 40.9%<br>active user number 576<br>user number 1409",
          "Poland<br>active user proportion 38.7%<br>active user number 756<br>user number 1951",
          "Finland<br>active user proportion 37.7%<br>active user number 165<br>user number 438"
         ],
         "type": "choropleth",
         "z": [
          0.699,
          0.689,
          0.675,
          0.663,
          0.643,
          0.607,
          0.581,
          0.575,
          0.567,
          0.566,
          0.562,
          0.545,
          0.538,
          0.524,
          0.521,
          0.516,
          0.515,
          0.509,
          0.509,
          0.503,
          0.501,
          0.5,
          0.5,
          0.499,
          0.498,
          0.496,
          0.494,
          0.485,
          0.479,
          0.478,
          0.478,
          0.476,
          0.47,
          0.468,
          0.466,
          0.463,
          0.459,
          0.458,
          0.454,
          0.443,
          0.443,
          0.437,
          0.434,
          0.431,
          0.429,
          0.426,
          0.423,
          0.422,
          0.42,
          0.419,
          0.409,
          0.387,
          0.377
         ]
        }
       ],
       "layout": {
        "autosize": true,
        "geo": {
         "scope": "world"
        },
        "template": {
         "data": {
          "bar": [
           {
            "error_x": {
             "color": "#2a3f5f"
            },
            "error_y": {
             "color": "#2a3f5f"
            },
            "marker": {
             "line": {
              "color": "#E5ECF6",
              "width": 0.5
             }
            },
            "type": "bar"
           }
          ],
          "barpolar": [
           {
            "marker": {
             "line": {
              "color": "#E5ECF6",
              "width": 0.5
             }
            },
            "type": "barpolar"
           }
          ],
          "carpet": [
           {
            "aaxis": {
             "endlinecolor": "#2a3f5f",
             "gridcolor": "white",
             "linecolor": "white",
             "minorgridcolor": "white",
             "startlinecolor": "#2a3f5f"
            },
            "baxis": {
             "endlinecolor": "#2a3f5f",
             "gridcolor": "white",
             "linecolor": "white",
             "minorgridcolor": "white",
             "startlinecolor": "#2a3f5f"
            },
            "type": "carpet"
           }
          ],
          "choropleth": [
           {
            "colorbar": {
             "outlinewidth": 0,
             "ticks": ""
            },
            "type": "choropleth"
           }
          ],
          "contour": [
           {
            "colorbar": {
             "outlinewidth": 0,
             "ticks": ""
            },
            "colorscale": [
             [
              0,
              "#0d0887"
             ],
             [
              0.1111111111111111,
              "#46039f"
             ],
             [
              0.2222222222222222,
              "#7201a8"
             ],
             [
              0.3333333333333333,
              "#9c179e"
             ],
             [
              0.4444444444444444,
              "#bd3786"
             ],
             [
              0.5555555555555556,
              "#d8576b"
             ],
             [
              0.6666666666666666,
              "#ed7953"
             ],
             [
              0.7777777777777778,
              "#fb9f3a"
             ],
             [
              0.8888888888888888,
              "#fdca26"
             ],
             [
              1,
              "#f0f921"
             ]
            ],
            "type": "contour"
           }
          ],
          "contourcarpet": [
           {
            "colorbar": {
             "outlinewidth": 0,
             "ticks": ""
            },
            "type": "contourcarpet"
           }
          ],
          "heatmap": [
           {
            "colorbar": {
             "outlinewidth": 0,
             "ticks": ""
            },
            "colorscale": [
             [
              0,
              "#0d0887"
             ],
             [
              0.1111111111111111,
              "#46039f"
             ],
             [
              0.2222222222222222,
              "#7201a8"
             ],
             [
              0.3333333333333333,
              "#9c179e"
             ],
             [
              0.4444444444444444,
              "#bd3786"
             ],
             [
              0.5555555555555556,
              "#d8576b"
             ],
             [
              0.6666666666666666,
              "#ed7953"
             ],
             [
              0.7777777777777778,
              "#fb9f3a"
             ],
             [
              0.8888888888888888,
              "#fdca26"
             ],
             [
              1,
              "#f0f921"
             ]
            ],
            "type": "heatmap"
           }
          ],
          "heatmapgl": [
           {
            "colorbar": {
             "outlinewidth": 0,
             "ticks": ""
            },
            "colorscale": [
             [
              0,
              "#0d0887"
             ],
             [
              0.1111111111111111,
              "#46039f"
             ],
             [
              0.2222222222222222,
              "#7201a8"
             ],
             [
              0.3333333333333333,
              "#9c179e"
             ],
             [
              0.4444444444444444,
              "#bd3786"
             ],
             [
              0.5555555555555556,
              "#d8576b"
             ],
             [
              0.6666666666666666,
              "#ed7953"
             ],
             [
              0.7777777777777778,
              "#fb9f3a"
             ],
             [
              0.8888888888888888,
              "#fdca26"
             ],
             [
              1,
              "#f0f921"
             ]
            ],
            "type": "heatmapgl"
           }
          ],
          "histogram": [
           {
            "marker": {
             "colorbar": {
              "outlinewidth": 0,
              "ticks": ""
             }
            },
            "type": "histogram"
           }
          ],
          "histogram2d": [
           {
            "colorbar": {
             "outlinewidth": 0,
             "ticks": ""
            },
            "colorscale": [
             [
              0,
              "#0d0887"
             ],
             [
              0.1111111111111111,
              "#46039f"
             ],
             [
              0.2222222222222222,
              "#7201a8"
             ],
             [
              0.3333333333333333,
              "#9c179e"
             ],
             [
              0.4444444444444444,
              "#bd3786"
             ],
             [
              0.5555555555555556,
              "#d8576b"
             ],
             [
              0.6666666666666666,
              "#ed7953"
             ],
             [
              0.7777777777777778,
              "#fb9f3a"
             ],
             [
              0.8888888888888888,
              "#fdca26"
             ],
             [
              1,
              "#f0f921"
             ]
            ],
            "type": "histogram2d"
           }
          ],
          "histogram2dcontour": [
           {
            "colorbar": {
             "outlinewidth": 0,
             "ticks": ""
            },
            "colorscale": [
             [
              0,
              "#0d0887"
             ],
             [
              0.1111111111111111,
              "#46039f"
             ],
             [
              0.2222222222222222,
              "#7201a8"
             ],
             [
              0.3333333333333333,
              "#9c179e"
             ],
             [
              0.4444444444444444,
              "#bd3786"
             ],
             [
              0.5555555555555556,
              "#d8576b"
             ],
             [
              0.6666666666666666,
              "#ed7953"
             ],
             [
              0.7777777777777778,
              "#fb9f3a"
             ],
             [
              0.8888888888888888,
              "#fdca26"
             ],
             [
              1,
              "#f0f921"
             ]
            ],
            "type": "histogram2dcontour"
           }
          ],
          "mesh3d": [
           {
            "colorbar": {
             "outlinewidth": 0,
             "ticks": ""
            },
            "type": "mesh3d"
           }
          ],
          "parcoords": [
           {
            "line": {
             "colorbar": {
              "outlinewidth": 0,
              "ticks": ""
             }
            },
            "type": "parcoords"
           }
          ],
          "pie": [
           {
            "automargin": true,
            "type": "pie"
           }
          ],
          "scatter": [
           {
            "marker": {
             "colorbar": {
              "outlinewidth": 0,
              "ticks": ""
             }
            },
            "type": "scatter"
           }
          ],
          "scatter3d": [
           {
            "line": {
             "colorbar": {
              "outlinewidth": 0,
              "ticks": ""
             }
            },
            "marker": {
             "colorbar": {
              "outlinewidth": 0,
              "ticks": ""
             }
            },
            "type": "scatter3d"
           }
          ],
          "scattercarpet": [
           {
            "marker": {
             "colorbar": {
              "outlinewidth": 0,
              "ticks": ""
             }
            },
            "type": "scattercarpet"
           }
          ],
          "scattergeo": [
           {
            "marker": {
             "colorbar": {
              "outlinewidth": 0,
              "ticks": ""
             }
            },
            "type": "scattergeo"
           }
          ],
          "scattergl": [
           {
            "marker": {
             "colorbar": {
              "outlinewidth": 0,
              "ticks": ""
             }
            },
            "type": "scattergl"
           }
          ],
          "scattermapbox": [
           {
            "marker": {
             "colorbar": {
              "outlinewidth": 0,
              "ticks": ""
             }
            },
            "type": "scattermapbox"
           }
          ],
          "scatterpolar": [
           {
            "marker": {
             "colorbar": {
              "outlinewidth": 0,
              "ticks": ""
             }
            },
            "type": "scatterpolar"
           }
          ],
          "scatterpolargl": [
           {
            "marker": {
             "colorbar": {
              "outlinewidth": 0,
              "ticks": ""
             }
            },
            "type": "scatterpolargl"
           }
          ],
          "scatterternary": [
           {
            "marker": {
             "colorbar": {
              "outlinewidth": 0,
              "ticks": ""
             }
            },
            "type": "scatterternary"
           }
          ],
          "surface": [
           {
            "colorbar": {
             "outlinewidth": 0,
             "ticks": ""
            },
            "colorscale": [
             [
              0,
              "#0d0887"
             ],
             [
              0.1111111111111111,
              "#46039f"
             ],
             [
              0.2222222222222222,
              "#7201a8"
             ],
             [
              0.3333333333333333,
              "#9c179e"
             ],
             [
              0.4444444444444444,
              "#bd3786"
             ],
             [
              0.5555555555555556,
              "#d8576b"
             ],
             [
              0.6666666666666666,
              "#ed7953"
             ],
             [
              0.7777777777777778,
              "#fb9f3a"
             ],
             [
              0.8888888888888888,
              "#fdca26"
             ],
             [
              1,
              "#f0f921"
             ]
            ],
            "type": "surface"
           }
          ],
          "table": [
           {
            "cells": {
             "fill": {
              "color": "#EBF0F8"
             },
             "line": {
              "color": "white"
             }
            },
            "header": {
             "fill": {
              "color": "#C8D4E3"
             },
             "line": {
              "color": "white"
             }
            },
            "type": "table"
           }
          ]
         },
         "layout": {
          "annotationdefaults": {
           "arrowcolor": "#2a3f5f",
           "arrowhead": 0,
           "arrowwidth": 1
          },
          "coloraxis": {
           "colorbar": {
            "outlinewidth": 0,
            "ticks": ""
           }
          },
          "colorscale": {
           "diverging": [
            [
             0,
             "#8e0152"
            ],
            [
             0.1,
             "#c51b7d"
            ],
            [
             0.2,
             "#de77ae"
            ],
            [
             0.3,
             "#f1b6da"
            ],
            [
             0.4,
             "#fde0ef"
            ],
            [
             0.5,
             "#f7f7f7"
            ],
            [
             0.6,
             "#e6f5d0"
            ],
            [
             0.7,
             "#b8e186"
            ],
            [
             0.8,
             "#7fbc41"
            ],
            [
             0.9,
             "#4d9221"
            ],
            [
             1,
             "#276419"
            ]
           ],
           "sequential": [
            [
             0,
             "#0d0887"
            ],
            [
             0.1111111111111111,
             "#46039f"
            ],
            [
             0.2222222222222222,
             "#7201a8"
            ],
            [
             0.3333333333333333,
             "#9c179e"
            ],
            [
             0.4444444444444444,
             "#bd3786"
            ],
            [
             0.5555555555555556,
             "#d8576b"
            ],
            [
             0.6666666666666666,
             "#ed7953"
            ],
            [
             0.7777777777777778,
             "#fb9f3a"
            ],
            [
             0.8888888888888888,
             "#fdca26"
            ],
            [
             1,
             "#f0f921"
            ]
           ],
           "sequentialminus": [
            [
             0,
             "#0d0887"
            ],
            [
             0.1111111111111111,
             "#46039f"
            ],
            [
             0.2222222222222222,
             "#7201a8"
            ],
            [
             0.3333333333333333,
             "#9c179e"
            ],
            [
             0.4444444444444444,
             "#bd3786"
            ],
            [
             0.5555555555555556,
             "#d8576b"
            ],
            [
             0.6666666666666666,
             "#ed7953"
            ],
            [
             0.7777777777777778,
             "#fb9f3a"
            ],
            [
             0.8888888888888888,
             "#fdca26"
            ],
            [
             1,
             "#f0f921"
            ]
           ]
          },
          "colorway": [
           "#636efa",
           "#EF553B",
           "#00cc96",
           "#ab63fa",
           "#FFA15A",
           "#19d3f3",
           "#FF6692",
           "#B6E880",
           "#FF97FF",
           "#FECB52"
          ],
          "font": {
           "color": "#2a3f5f"
          },
          "geo": {
           "bgcolor": "white",
           "lakecolor": "white",
           "landcolor": "#E5ECF6",
           "showlakes": true,
           "showland": true,
           "subunitcolor": "white"
          },
          "hoverlabel": {
           "align": "left"
          },
          "hovermode": "closest",
          "mapbox": {
           "style": "light"
          },
          "paper_bgcolor": "white",
          "plot_bgcolor": "#E5ECF6",
          "polar": {
           "angularaxis": {
            "gridcolor": "white",
            "linecolor": "white",
            "ticks": ""
           },
           "bgcolor": "#E5ECF6",
           "radialaxis": {
            "gridcolor": "white",
            "linecolor": "white",
            "ticks": ""
           }
          },
          "scene": {
           "xaxis": {
            "backgroundcolor": "#E5ECF6",
            "gridcolor": "white",
            "gridwidth": 2,
            "linecolor": "white",
            "showbackground": true,
            "ticks": "",
            "zerolinecolor": "white"
           },
           "yaxis": {
            "backgroundcolor": "#E5ECF6",
            "gridcolor": "white",
            "gridwidth": 2,
            "linecolor": "white",
            "showbackground": true,
            "ticks": "",
            "zerolinecolor": "white"
           },
           "zaxis": {
            "backgroundcolor": "#E5ECF6",
            "gridcolor": "white",
            "gridwidth": 2,
            "linecolor": "white",
            "showbackground": true,
            "ticks": "",
            "zerolinecolor": "white"
           }
          },
          "shapedefaults": {
           "line": {
            "color": "#2a3f5f"
           }
          },
          "ternary": {
           "aaxis": {
            "gridcolor": "white",
            "linecolor": "white",
            "ticks": ""
           },
           "baxis": {
            "gridcolor": "white",
            "linecolor": "white",
            "ticks": ""
           },
           "bgcolor": "#E5ECF6",
           "caxis": {
            "gridcolor": "white",
            "linecolor": "white",
            "ticks": ""
           }
          },
          "title": {
           "x": 0.05
          },
          "xaxis": {
           "automargin": true,
           "gridcolor": "white",
           "linecolor": "white",
           "ticks": "",
           "title": {
            "standoff": 15
           },
           "zerolinecolor": "white",
           "zerolinewidth": 2
          },
          "yaxis": {
           "automargin": true,
           "gridcolor": "white",
           "linecolor": "white",
           "ticks": "",
           "title": {
            "standoff": 15
           },
           "zerolinecolor": "white",
           "zerolinewidth": 2
          }
         }
        },
        "title": {
         "text": "2016 active user rate from survey data"
        }
       }
      },
      "image/png": "[encoded data removed]",
      "text/html": [
       "<div>\n",
       "        \n",
       "        \n",
       "            <div id=\"fa0c72b0-6460-4ba4-839a-686183afb967\" class=\"plotly-graph-div\" style=\"height:525px; width:100%;\"></div>\n",
       "            <script type=\"text/javascript\">\n",
       "                require([\"plotly\"], function(Plotly) {\n",
       "                    window.PLOTLYENV=window.PLOTLYENV || {};\n",
       "                    \n",
       "                if (document.getElementById(\"fa0c72b0-6460-4ba4-839a-686183afb967\")) {\n",
       "                    Plotly.newPlot(\n",
       "                        'fa0c72b0-6460-4ba4-839a-686183afb967',\n",
       "                        [{\"colorbar\": {\"title\": {\"text\": \"active rate of users in survey\"}}, \"colorscale\": [[0.0, \"rgb(243, 203, 211)\"], [0.16666666666666666, \"rgb(234, 169, 189)\"], [0.3333333333333333, \"rgb(221, 136, 172)\"], [0.5, \"rgb(202, 105, 157)\"], [0.6666666666666666, \"rgb(177, 77, 142)\"], [0.8333333333333334, \"rgb(145, 53, 125)\"], [1.0, \"rgb(108, 33, 103)\"]], \"locationmode\": \"ISO-3\", \"locations\": [\"IDN\", \"BGD\", \"VNM\", \"SGP\", \"BGR\", \"PHL\", \"MYS\", \"PAK\", \"ARG\", \"BRA\", \"EGY\", \"LKA\", \"IND\", \"JPN\", \"IRN\", \"TUR\", \"ESP\", \"ZAF\", \"ROU\", \"ISR\", \"ITA\", \"AUS\", \"MEX\", \"NZL\", \"HUN\", \"HRV\", \"SVN\", \"GBR\", \"GRC\", \"CAN\", \"CAN\", \"LTU\", \"IRL\", \"SVK\", \"USA\", \"FRA\", \"BLR\", \"CHE\", \"NLD\", \"PRT\", \"UKR\", \"CHN\", \"DNK\", \"BEL\", \"DEU\", \"AUT\", \"CZE\", \"NOR\", \"KOR\", \"SWE\", \"RUS\", \"POL\", \"FIN\"], \"text\": [\"Indonesia<br>active user proportion 69.89999999999999%<br>active user number 100<br>user number 143\", \"Bangladesh<br>active user proportion 68.89999999999999%<br>active user number 104<br>user number 151\", \"Vietnam<br>active user proportion 67.5%<br>active user number 79<br>user number 117\", \"Singapore<br>active user proportion 66.3%<br>active user number 110<br>user number 166\", \"Bulgaria<br>active user proportion 64.3%<br>active user number 137<br>user number 213\", \"Philippines<br>active user proportion 60.699999999999996%<br>active user number 105<br>user number 173\", \"Malaysia<br>active user proportion 58.099999999999994%<br>active user number 72<br>user number 124\", \"Pakistan<br>active user proportion 57.49999999999999%<br>active user number 192<br>user number 334\", \"Argentina<br>active user proportion 56.699999999999996%<br>active user number 181<br>user number 319\", \"Brazil<br>active user proportion 56.599999999999994%<br>active user number 573<br>user number 1012\", \"Egypt<br>active user proportion 56.2%<br>active user number 59<br>user number 105\", \"Sri Lanka<br>active user proportion 54.50000000000001%<br>active user number 60<br>user number 110\", \"India<br>active user proportion 53.800000000000004%<br>active user number 2234<br>user number 4151\", \"Japan<br>active user proportion 52.400000000000006%<br>active user number 76<br>user number 145\", \"Iran<br>active user proportion 52.1%<br>active user number 163<br>user number 313\", \"Turkey<br>active user proportion 51.6%<br>active user number 224<br>user number 434\", \"Spain<br>active user proportion 51.5%<br>active user number 526<br>user number 1022\", \"South Africa<br>active user proportion 50.9%<br>active user number 243<br>user number 477\", \"Romania<br>active user proportion 50.9%<br>active user number 418<br>user number 822\", \"Israel<br>active user proportion 50.3%<br>active user number 220<br>user number 437\", \"Italy<br>active user proportion 50.1%<br>active user number 567<br>user number 1131\", \"Australia<br>active user proportion 50.0%<br>active user number 558<br>user number 1115\", \"Mexico<br>active user proportion 50.0%<br>active user number 220<br>user number 440\", \"New Zealand<br>active user proportion 49.9%<br>active user number 176<br>user number 353\", \"Hungary<br>active user proportion 49.8%<br>active user number 115<br>user number 231\", \"Croatia<br>active user proportion 49.6%<br>active user number 68<br>user number 137\", \"Slovenia<br>active user proportion 49.4%<br>active user number 76<br>user number 154\", \"United Kingdom<br>active user proportion 48.5%<br>active user number 2190<br>user number 4520\", \"Greece<br>active user proportion 47.9%<br>active user number 187<br>user number 390\", \"Canada<br>active user proportion 47.8%<br>active user number 962<br>user number 2013\", \"Canada<br>active user proportion 47.8%<br>active user number 962<br>user number 2013\", \"Lithuania<br>active user proportion 47.599999999999994%<br>active user number 68<br>user number 143\", \"Ireland {Republic}<br>active user proportion 47.0%<br>active user number 197<br>user number 419\", \"Slovakia<br>active user proportion 46.800000000000004%<br>active user number 51<br>user number 109\", \"United States<br>active user proportion 46.6%<br>active user number 6263<br>user number 13445\", \"France<br>active user proportion 46.300000000000004%<br>active user number 742<br>user number 1602\", \"Belarus<br>active user proportion 45.9%<br>active user number 67<br>user number 146\", \"Switzerland<br>active user proportion 45.800000000000004%<br>active user number 261<br>user number 570\", \"Netherlands<br>active user proportion 45.4%<br>active user number 534<br>user number 1175\", \"Portugal<br>active user proportion 44.3%<br>active user number 214<br>user number 483\", \"Ukraine<br>active user proportion 44.3%<br>active user number 354<br>user number 799\", \"China<br>active user proportion 43.7%<br>active user number 138<br>user number 316\", \"Denmark<br>active user proportion 43.4%<br>active user number 262<br>user number 603\", \"Belgium<br>active user proportion 43.1%<br>active user number 232<br>user number 538\", \"Germany<br>active user proportion 42.9%<br>active user number 1652<br>user number 3848\", \"Austria<br>active user proportion 42.6%<br>active user number 204<br>user number 479\", \"Czech Republic<br>active user proportion 42.3%<br>active user number 156<br>user number 369\", \"Norway<br>active user proportion 42.199999999999996%<br>active user number 152<br>user number 360\", \"Korea South<br>active user proportion 42.0%<br>active user number 97<br>user number 231\", \"Sweden<br>active user proportion 41.9%<br>active user number 554<br>user number 1321\", \"Russian Federation<br>active user proportion 40.9%<br>active user number 576<br>user number 1409\", \"Poland<br>active user proportion 38.7%<br>active user number 756<br>user number 1951\", \"Finland<br>active user proportion 37.7%<br>active user number 165<br>user number 438\"], \"type\": \"choropleth\", \"z\": [0.699, 0.689, 0.675, 0.663, 0.643, 0.607, 0.581, 0.575, 0.567, 0.566, 0.562, 0.545, 0.538, 0.524, 0.521, 0.516, 0.515, 0.509, 0.509, 0.503, 0.501, 0.5, 0.5, 0.499, 0.498, 0.496, 0.494, 0.485, 0.479, 0.478, 0.478, 0.476, 0.47, 0.468, 0.466, 0.463, 0.459, 0.458, 0.454, 0.443, 0.443, 0.437, 0.434, 0.431, 0.429, 0.426, 0.423, 0.422, 0.42, 0.419, 0.409, 0.387, 0.377]}],\n",
       "                        {\"geo\": {\"scope\": \"world\"}, \"template\": {\"data\": {\"bar\": [{\"error_x\": {\"color\": \"#2a3f5f\"}, \"error_y\": {\"color\": \"#2a3f5f\"}, \"marker\": {\"line\": {\"color\": \"#E5ECF6\", \"width\": 0.5}}, \"type\": \"bar\"}], \"barpolar\": [{\"marker\": {\"line\": {\"color\": \"#E5ECF6\", \"width\": 0.5}}, \"type\": \"barpolar\"}], \"carpet\": [{\"aaxis\": {\"endlinecolor\": \"#2a3f5f\", \"gridcolor\": \"white\", \"linecolor\": \"white\", \"minorgridcolor\": \"white\", \"startlinecolor\": \"#2a3f5f\"}, \"baxis\": {\"endlinecolor\": \"#2a3f5f\", \"gridcolor\": \"white\", \"linecolor\": \"white\", \"minorgridcolor\": \"white\", \"startlinecolor\": \"#2a3f5f\"}, \"type\": \"carpet\"}], \"choropleth\": [{\"colorbar\": {\"outlinewidth\": 0, \"ticks\": \"\"}, \"type\": \"choropleth\"}], \"contour\": [{\"colorbar\": {\"outlinewidth\": 0, \"ticks\": \"\"}, \"colorscale\": [[0.0, \"#0d0887\"], [0.1111111111111111, \"#46039f\"], [0.2222222222222222, \"#7201a8\"], [0.3333333333333333, \"#9c179e\"], [0.4444444444444444, \"#bd3786\"], [0.5555555555555556, \"#d8576b\"], [0.6666666666666666, \"#ed7953\"], [0.7777777777777778, \"#fb9f3a\"], [0.8888888888888888, \"#fdca26\"], [1.0, \"#f0f921\"]], \"type\": \"contour\"}], \"contourcarpet\": [{\"colorbar\": {\"outlinewidth\": 0, \"ticks\": \"\"}, \"type\": \"contourcarpet\"}], \"heatmap\": [{\"colorbar\": {\"outlinewidth\": 0, \"ticks\": \"\"}, \"colorscale\": [[0.0, \"#0d0887\"], [0.1111111111111111, \"#46039f\"], [0.2222222222222222, \"#7201a8\"], [0.3333333333333333, \"#9c179e\"], [0.4444444444444444, \"#bd3786\"], [0.5555555555555556, \"#d8576b\"], [0.6666666666666666, \"#ed7953\"], [0.7777777777777778, \"#fb9f3a\"], [0.8888888888888888, \"#fdca26\"], [1.0, \"#f0f921\"]], \"type\": \"heatmap\"}], \"heatmapgl\": [{\"colorbar\": {\"outlinewidth\": 0, \"ticks\": \"\"}, \"colorscale\": [[0.0, \"#0d0887\"], [0.1111111111111111, \"#46039f\"], [0.2222222222222222, \"#7201a8\"], [0.3333333333333333, \"#9c179e\"], [0.4444444444444444, \"#bd3786\"], [0.5555555555555556, \"#d8576b\"], [0.6666666666666666, \"#ed7953\"], [0.7777777777777778, \"#fb9f3a\"], [0.8888888888888888, \"#fdca26\"], [1.0, \"#f0f921\"]], \"type\": \"heatmapgl\"}], \"histogram\": [{\"marker\": {\"colorbar\": {\"outlinewidth\": 0, \"ticks\": \"\"}}, \"type\": \"histogram\"}], \"histogram2d\": [{\"colorbar\": {\"outlinewidth\": 0, \"ticks\": \"\"}, \"colorscale\": [[0.0, \"#0d0887\"], [0.1111111111111111, \"#46039f\"], [0.2222222222222222, \"#7201a8\"], [0.3333333333333333, \"#9c179e\"], [0.4444444444444444, \"#bd3786\"], [0.5555555555555556, \"#d8576b\"], [0.6666666666666666, \"#ed7953\"], [0.7777777777777778, \"#fb9f3a\"], [0.8888888888888888, \"#fdca26\"], [1.0, \"#f0f921\"]], \"type\": \"histogram2d\"}], \"histogram2dcontour\": [{\"colorbar\": {\"outlinewidth\": 0, \"ticks\": \"\"}, \"colorscale\": [[0.0, \"#0d0887\"], [0.1111111111111111, \"#46039f\"], [0.2222222222222222, \"#7201a8\"], [0.3333333333333333, \"#9c179e\"], [0.4444444444444444, \"#bd3786\"], [0.5555555555555556, \"#d8576b\"], [0.6666666666666666, \"#ed7953\"], [0.7777777777777778, \"#fb9f3a\"], [0.8888888888888888, \"#fdca26\"], [1.0, \"#f0f921\"]], \"type\": \"histogram2dcontour\"}], \"mesh3d\": [{\"colorbar\": {\"outlinewidth\": 0, \"ticks\": \"\"}, \"type\": \"mesh3d\"}], \"parcoords\": [{\"line\": {\"colorbar\": {\"outlinewidth\": 0, \"ticks\": \"\"}}, \"type\": \"parcoords\"}], \"pie\": [{\"automargin\": true, \"type\": \"pie\"}], \"scatter\": [{\"marker\": {\"colorbar\": {\"outlinewidth\": 0, \"ticks\": \"\"}}, \"type\": \"scatter\"}], \"scatter3d\": [{\"line\": {\"colorbar\": {\"outlinewidth\": 0, \"ticks\": \"\"}}, \"marker\": {\"colorbar\": {\"outlinewidth\": 0, \"ticks\": \"\"}}, \"type\": \"scatter3d\"}], \"scattercarpet\": [{\"marker\": {\"colorbar\": {\"outlinewidth\": 0, \"ticks\": \"\"}}, \"type\": \"scattercarpet\"}], \"scattergeo\": [{\"marker\": {\"colorbar\": {\"outlinewidth\": 0, \"ticks\": \"\"}}, \"type\": \"scattergeo\"}], \"scattergl\": [{\"marker\": {\"colorbar\": {\"outlinewidth\": 0, \"ticks\": \"\"}}, \"type\": \"scattergl\"}], \"scattermapbox\": [{\"marker\": {\"colorbar\": {\"outlinewidth\": 0, \"ticks\": \"\"}}, \"type\": \"scattermapbox\"}], \"scatterpolar\": [{\"marker\": {\"colorbar\": {\"outlinewidth\": 0, \"ticks\": \"\"}}, \"type\": \"scatterpolar\"}], \"scatterpolargl\": [{\"marker\": {\"colorbar\": {\"outlinewidth\": 0, \"ticks\": \"\"}}, \"type\": \"scatterpolargl\"}], \"scatterternary\": [{\"marker\": {\"colorbar\": {\"outlinewidth\": 0, \"ticks\": \"\"}}, \"type\": \"scatterternary\"}], \"surface\": [{\"colorbar\": {\"outlinewidth\": 0, \"ticks\": \"\"}, \"colorscale\": [[0.0, \"#0d0887\"], [0.1111111111111111, \"#46039f\"], [0.2222222222222222, \"#7201a8\"], [0.3333333333333333, \"#9c179e\"], [0.4444444444444444, \"#bd3786\"], [0.5555555555555556, \"#d8576b\"], [0.6666666666666666, \"#ed7953\"], [0.7777777777777778, \"#fb9f3a\"], [0.8888888888888888, \"#fdca26\"], [1.0, \"#f0f921\"]], \"type\": \"surface\"}], \"table\": [{\"cells\": {\"fill\": {\"color\": \"#EBF0F8\"}, \"line\": {\"color\": \"white\"}}, \"header\": {\"fill\": {\"color\": \"#C8D4E3\"}, \"line\": {\"color\": \"white\"}}, \"type\": \"table\"}]}, \"layout\": {\"annotationdefaults\": {\"arrowcolor\": \"#2a3f5f\", \"arrowhead\": 0, \"arrowwidth\": 1}, \"coloraxis\": {\"colorbar\": {\"outlinewidth\": 0, \"ticks\": \"\"}}, \"colorscale\": {\"diverging\": [[0, \"#8e0152\"], [0.1, \"#c51b7d\"], [0.2, \"#de77ae\"], [0.3, \"#f1b6da\"], [0.4, \"#fde0ef\"], [0.5, \"#f7f7f7\"], [0.6, \"#e6f5d0\"], [0.7, \"#b8e186\"], [0.8, \"#7fbc41\"], [0.9, \"#4d9221\"], [1, \"#276419\"]], \"sequential\": [[0.0, \"#0d0887\"], [0.1111111111111111, \"#46039f\"], [0.2222222222222222, \"#7201a8\"], [0.3333333333333333, \"#9c179e\"], [0.4444444444444444, \"#bd3786\"], [0.5555555555555556, \"#d8576b\"], [0.6666666666666666, \"#ed7953\"], [0.7777777777777778, \"#fb9f3a\"], [0.8888888888888888, \"#fdca26\"], [1.0, \"#f0f921\"]], \"sequentialminus\": [[0.0, \"#0d0887\"], [0.1111111111111111, \"#46039f\"], [0.2222222222222222, \"#7201a8\"], [0.3333333333333333, \"#9c179e\"], [0.4444444444444444, \"#bd3786\"], [0.5555555555555556, \"#d8576b\"], [0.6666666666666666, \"#ed7953\"], [0.7777777777777778, \"#fb9f3a\"], [0.8888888888888888, \"#fdca26\"], [1.0, \"#f0f921\"]]}, \"colorway\": [\"#636efa\", \"#EF553B\", \"#00cc96\", \"#ab63fa\", \"#FFA15A\", \"#19d3f3\", \"#FF6692\", \"#B6E880\", \"#FF97FF\", \"#FECB52\"], \"font\": {\"color\": \"#2a3f5f\"}, \"geo\": {\"bgcolor\": \"white\", \"lakecolor\": \"white\", \"landcolor\": \"#E5ECF6\", \"showlakes\": true, \"showland\": true, \"subunitcolor\": \"white\"}, \"hoverlabel\": {\"align\": \"left\"}, \"hovermode\": \"closest\", \"mapbox\": {\"style\": \"light\"}, \"paper_bgcolor\": \"white\", \"plot_bgcolor\": \"#E5ECF6\", \"polar\": {\"angularaxis\": {\"gridcolor\": \"white\", \"linecolor\": \"white\", \"ticks\": \"\"}, \"bgcolor\": \"#E5ECF6\", \"radialaxis\": {\"gridcolor\": \"white\", \"linecolor\": \"white\", \"ticks\": \"\"}}, \"scene\": {\"xaxis\": {\"backgroundcolor\": \"#E5ECF6\", \"gridcolor\": \"white\", \"gridwidth\": 2, \"linecolor\": \"white\", \"showbackground\": true, \"ticks\": \"\", \"zerolinecolor\": \"white\"}, \"yaxis\": {\"backgroundcolor\": \"#E5ECF6\", \"gridcolor\": \"white\", \"gridwidth\": 2, \"linecolor\": \"white\", \"showbackground\": true, \"ticks\": \"\", \"zerolinecolor\": \"white\"}, \"zaxis\": {\"backgroundcolor\": \"#E5ECF6\", \"gridcolor\": \"white\", \"gridwidth\": 2, \"linecolor\": \"white\", \"showbackground\": true, \"ticks\": \"\", \"zerolinecolor\": \"white\"}}, \"shapedefaults\": {\"line\": {\"color\": \"#2a3f5f\"}}, \"ternary\": {\"aaxis\": {\"gridcolor\": \"white\", \"linecolor\": \"white\", \"ticks\": \"\"}, \"baxis\": {\"gridcolor\": \"white\", \"linecolor\": \"white\", \"ticks\": \"\"}, \"bgcolor\": \"#E5ECF6\", \"caxis\": {\"gridcolor\": \"white\", \"linecolor\": \"white\", \"ticks\": \"\"}}, \"title\": {\"x\": 0.05}, \"xaxis\": {\"automargin\": true, \"gridcolor\": \"white\", \"linecolor\": \"white\", \"ticks\": \"\", \"title\": {\"standoff\": 15}, \"zerolinecolor\": \"white\", \"zerolinewidth\": 2}, \"yaxis\": {\"automargin\": true, \"gridcolor\": \"white\", \"linecolor\": \"white\", \"ticks\": \"\", \"title\": {\"standoff\": 15}, \"zerolinecolor\": \"white\", \"zerolinewidth\": 2}}}, \"title\": {\"text\": \"2016 active user rate from survey data\"}},\n",
       "                        {\"responsive\": true}\n",
       "                    ).then(function(){\n",
       "                            \n",
       "var gd = document.getElementById('fa0c72b0-6460-4ba4-839a-686183afb967');\n",
       "var x = new MutationObserver(function (mutations, observer) {{\n",
       "        var display = window.getComputedStyle(gd).display;\n",
       "        if (!display || display === 'none') {{\n",
       "            console.log([gd, 'removed!']);\n",
       "            Plotly.purge(gd);\n",
       "            observer.disconnect();\n",
       "        }}\n",
       "}});\n",
       "\n",
       "// Listen for the removal of the full notebook cells\n",
       "var notebookContainer = gd.closest('#notebook-container');\n",
       "if (notebookContainer) {{\n",
       "    x.observe(notebookContainer, {childList: true});\n",
       "}}\n",
       "\n",
       "// Listen for the clearing of the current output cell\n",
       "var outputEl = gd.closest('.output');\n",
       "if (outputEl) {{\n",
       "    x.observe(outputEl, {childList: true});\n",
       "}}\n",
       "\n",
       "                        })\n",
       "                };\n",
       "                });\n",
       "            </script>\n",
       "        </div>"
      ]
     },
     "metadata": {},
     "output_type": "display_data"
    }
   ],
   "source": [
    "import plotly.graph_objects as go\n",
    "\n",
    "active_users['text'] = active_users['country'] + '<br>active user proportion ' + (active_users['active_rate']\\\n",
    "                        *100).astype(str)+'%'+'<br>active user number '+(active_users['active_users'])\\\n",
    "                        .astype(str)+'<br>user number '+(active_users['UserNumber']).astype(str)\n",
    "\n",
    "fig1 = go.Figure(data=go.Choropleth(\n",
    "    locationmode = 'ISO-3',\n",
    "    locations=active_users['code'], # Spatial coordinates\n",
    "    z = active_users['active_rate'], # Data to be color-coded\n",
    "    colorscale = 'magenta',\n",
    "    text = active_users['text'],\n",
    "    colorbar_title = \"active rate of users in survey\",\n",
    "))\n",
    "\n",
    "fig1.update_layout(\n",
    "    title_text = '2016 active user rate from survey data',geo_scope=\"world\"\n",
    ")\n",
    "\n",
    "fig1.show()"
   ]
  },
  {
   "cell_type": "code",
   "execution_count": null,
   "metadata": {},
   "outputs": [],
   "source": []
  },
  {
   "cell_type": "markdown",
   "metadata": {},
   "source": []
  },
  {
   "cell_type": "code",
   "execution_count": null,
   "metadata": {},
   "outputs": [],
   "source": []
  }
 ],
 "metadata": {
  "kernelspec": {
   "display_name": "Python 3",
   "language": "python",
   "name": "python3"
  },
  "language_info": {
   "codemirror_mode": {
    "name": "ipython",
    "version": 3
   },
   "file_extension": ".py",
   "mimetype": "text/x-python",
   "name": "python",
   "nbconvert_exporter": "python",
   "pygments_lexer": "ipython3",
   "version": "3.7.3"
  }
 },
 "nbformat": 4,
 "nbformat_minor": 4
}
