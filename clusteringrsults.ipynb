{
 "cells": [
  {
   "cell_type": "code",
   "execution_count": 113,
   "metadata": {},
   "outputs": [],
   "source": [
    "import pandas as pd\n",
    "import matplotlib.pyplot as plt\n",
    "import numpy as np\n",
    "from sklearn.decomposition import NMF"
   ]
  },
  {
   "cell_type": "code",
   "execution_count": 187,
   "metadata": {},
   "outputs": [],
   "source": [
    "df16 = pd.read_pickle(\"data/survey2016_final.pkl\")\n",
    "df17 = pd.read_pickle(\"data/survey2017_final.pkl\")\n",
    "df17 = df17[[isinstance(x, str) for x in df17.Country]]\n",
    "df18 = pd.read_pickle(\"data/survey2018_final.pkl\")\n",
    "df19 = pd.read_pickle(\"data/survey2019_final.pkl\")\n",
    "survey_data = pd.concat([df16, df17, df18, df19], sort=True, ignore_index=True)"
   ]
  },
  {
   "cell_type": "code",
   "execution_count": 189,
   "metadata": {},
   "outputs": [
    {
     "data": {
      "text/html": [
       "<div>\n",
       "<style scoped>\n",
       "    .dataframe tbody tr th:only-of-type {\n",
       "        vertical-align: middle;\n",
       "    }\n",
       "\n",
       "    .dataframe tbody tr th {\n",
       "        vertical-align: top;\n",
       "    }\n",
       "\n",
       "    .dataframe thead th {\n",
       "        text-align: right;\n",
       "    }\n",
       "</style>\n",
       "<table border=\"1\" class=\"dataframe\">\n",
       "  <thead>\n",
       "    <tr style=\"text-align: right;\">\n",
       "      <th></th>\n",
       "      <th>Age</th>\n",
       "      <th>ConvertedSalary</th>\n",
       "      <th>Country</th>\n",
       "      <th>Gender</th>\n",
       "      <th>Hobby</th>\n",
       "      <th>JobSatisfaction</th>\n",
       "      <th>LanguageDesireNextYear</th>\n",
       "      <th>LanguageWorkedWith</th>\n",
       "      <th>StackOverflowParticipate</th>\n",
       "      <th>StackOverflowVisit</th>\n",
       "      <th>Year</th>\n",
       "      <th>YearsCoding</th>\n",
       "    </tr>\n",
       "  </thead>\n",
       "  <tbody>\n",
       "    <tr>\n",
       "      <td>0</td>\n",
       "      <td>30-34</td>\n",
       "      <td>45000.0</td>\n",
       "      <td>AFG</td>\n",
       "      <td>Male</td>\n",
       "      <td>Yes</td>\n",
       "      <td>7.0</td>\n",
       "      <td>[Swift]</td>\n",
       "      <td>[iOS,  Objective-C]</td>\n",
       "      <td>NA</td>\n",
       "      <td>Multiple times per day</td>\n",
       "      <td>2016</td>\n",
       "      <td>6 - 10 years</td>\n",
       "    </tr>\n",
       "    <tr>\n",
       "      <td>1</td>\n",
       "      <td>0</td>\n",
       "      <td>5000.0</td>\n",
       "      <td>AFG</td>\n",
       "      <td>Female</td>\n",
       "      <td>Yes</td>\n",
       "      <td>7.0</td>\n",
       "      <td>[]</td>\n",
       "      <td>[]</td>\n",
       "      <td>NA</td>\n",
       "      <td>A few times per week</td>\n",
       "      <td>2016</td>\n",
       "      <td>11+ years</td>\n",
       "    </tr>\n",
       "    <tr>\n",
       "      <td>2</td>\n",
       "      <td>0</td>\n",
       "      <td>210000.0</td>\n",
       "      <td>AFG</td>\n",
       "      <td>Prefer not to disclose</td>\n",
       "      <td>No</td>\n",
       "      <td>-1.0</td>\n",
       "      <td>[Android]</td>\n",
       "      <td>[Android,  Arduino / Raspberry Pi,  AngularJS,...</td>\n",
       "      <td>NA</td>\n",
       "      <td>Multiple times per day</td>\n",
       "      <td>2016</td>\n",
       "      <td>11+ years</td>\n",
       "    </tr>\n",
       "    <tr>\n",
       "      <td>3</td>\n",
       "      <td>25-29</td>\n",
       "      <td>5000.0</td>\n",
       "      <td>AFG</td>\n",
       "      <td>Male</td>\n",
       "      <td>No</td>\n",
       "      <td>7.0</td>\n",
       "      <td>[Android,  iOS]</td>\n",
       "      <td>[JavaScript,  PHP,  SQL,  WordPress]</td>\n",
       "      <td>NA</td>\n",
       "      <td>A few times per week</td>\n",
       "      <td>2016</td>\n",
       "      <td>0 - 2 years</td>\n",
       "    </tr>\n",
       "    <tr>\n",
       "      <td>4</td>\n",
       "      <td>20-24</td>\n",
       "      <td>5000.0</td>\n",
       "      <td>ALB</td>\n",
       "      <td>Male</td>\n",
       "      <td>Yes</td>\n",
       "      <td>5.5</td>\n",
       "      <td>[Android,  iOS,  Java,  JavaScript,  Node.js, ...</td>\n",
       "      <td>[PHP]</td>\n",
       "      <td>NA</td>\n",
       "      <td>Multiple times per day</td>\n",
       "      <td>2016</td>\n",
       "      <td>0 - 2 years</td>\n",
       "    </tr>\n",
       "  </tbody>\n",
       "</table>\n",
       "</div>"
      ],
      "text/plain": [
       "     Age  ConvertedSalary Country                  Gender Hobby  \\\n",
       "0  30-34          45000.0     AFG                    Male   Yes   \n",
       "1      0           5000.0     AFG                  Female   Yes   \n",
       "2      0         210000.0     AFG  Prefer not to disclose    No   \n",
       "3  25-29           5000.0     AFG                    Male    No   \n",
       "4  20-24           5000.0     ALB                    Male   Yes   \n",
       "\n",
       "   JobSatisfaction                             LanguageDesireNextYear  \\\n",
       "0              7.0                                            [Swift]   \n",
       "1              7.0                                                 []   \n",
       "2             -1.0                                          [Android]   \n",
       "3              7.0                                    [Android,  iOS]   \n",
       "4              5.5  [Android,  iOS,  Java,  JavaScript,  Node.js, ...   \n",
       "\n",
       "                                  LanguageWorkedWith StackOverflowParticipate  \\\n",
       "0                                [iOS,  Objective-C]                       NA   \n",
       "1                                                 []                       NA   \n",
       "2  [Android,  Arduino / Raspberry Pi,  AngularJS,...                       NA   \n",
       "3               [JavaScript,  PHP,  SQL,  WordPress]                       NA   \n",
       "4                                              [PHP]                       NA   \n",
       "\n",
       "       StackOverflowVisit  Year   YearsCoding  \n",
       "0  Multiple times per day  2016  6 - 10 years  \n",
       "1    A few times per week  2016     11+ years  \n",
       "2  Multiple times per day  2016     11+ years  \n",
       "3    A few times per week  2016   0 - 2 years  \n",
       "4  Multiple times per day  2016   0 - 2 years  "
      ]
     },
     "execution_count": 189,
     "metadata": {},
     "output_type": "execute_result"
    }
   ],
   "source": [
    "survey_data.head()"
   ]
  },
  {
   "cell_type": "code",
   "execution_count": 190,
   "metadata": {},
   "outputs": [],
   "source": [
    "mappings = {\"HTML\":\"HTML/CSS\", \"CSS\":\"HTML/CSS\", \"Bash/Shell\":\"Bash/Shell/PowerShell\"}\n",
    "def cleanLanguage(lang):\n",
    "    res = lang.strip()\n",
    "    if res in mappings:\n",
    "        res = mappings[res]\n",
    "    return res\n",
    "survey_data.LanguageWorkedWith = survey_data.LanguageWorkedWith.apply(lambda langs: list({cleanLanguage(lang) for lang in langs}))"
   ]
  },
  {
   "cell_type": "code",
   "execution_count": 191,
   "metadata": {},
   "outputs": [],
   "source": [
    "languages = list(survey_data.explode(\"LanguageWorkedWith\").LanguageWorkedWith.unique())\n",
    "exploded = survey_data.explode(\"LanguageWorkedWith\")\n",
    "exploded.LanguageWorkedWith.fillna(\"Nothing\", inplace=True)"
   ]
  },
  {
   "cell_type": "code",
   "execution_count": 192,
   "metadata": {},
   "outputs": [],
   "source": [
    "exploded.LanguageWorkedWith = exploded.LanguageWorkedWith.apply(lambda l: l.strip())"
   ]
  },
  {
   "cell_type": "code",
   "execution_count": 193,
   "metadata": {},
   "outputs": [
    {
     "name": "stderr",
     "output_type": "stream",
     "text": [
      "/home/severi/miniconda3/envs/ada/lib/python3.7/site-packages/ipykernel_launcher.py:2: SettingWithCopyWarning:\n",
      "\n",
      "\n",
      "A value is trying to be set on a copy of a slice from a DataFrame.\n",
      "Try using .loc[row_indexer,col_indexer] = value instead\n",
      "\n",
      "See the caveats in the documentation: http://pandas.pydata.org/pandas-docs/stable/user_guide/indexing.html#returning-a-view-versus-a-copy\n",
      "\n"
     ]
    }
   ],
   "source": [
    "langs = exploded[[\"LanguageWorkedWith\"]]\n",
    "langs[\"dummy\"] = True"
   ]
  },
  {
   "cell_type": "code",
   "execution_count": 194,
   "metadata": {},
   "outputs": [],
   "source": [
    "pivoted = langs.pivot(columns=\"LanguageWorkedWith\")[\"dummy\"]\n",
    "pivoted.index.rename(\"\", inplace=True)\n",
    "pivoted.fillna(False, inplace=True)"
   ]
  },
  {
   "cell_type": "code",
   "execution_count": 195,
   "metadata": {},
   "outputs": [
    {
     "data": {
      "text/html": [
       "<div>\n",
       "<style scoped>\n",
       "    .dataframe tbody tr th:only-of-type {\n",
       "        vertical-align: middle;\n",
       "    }\n",
       "\n",
       "    .dataframe tbody tr th {\n",
       "        vertical-align: top;\n",
       "    }\n",
       "\n",
       "    .dataframe thead th {\n",
       "        text-align: right;\n",
       "    }\n",
       "</style>\n",
       "<table border=\"1\" class=\"dataframe\">\n",
       "  <thead>\n",
       "    <tr style=\"text-align: right;\">\n",
       "      <th>LanguageWorkedWith</th>\n",
       "      <th>Android</th>\n",
       "      <th>AngularJS</th>\n",
       "      <th>Arduino / Raspberry Pi</th>\n",
       "      <th>Assembly</th>\n",
       "      <th>Bash/Shell/PowerShell</th>\n",
       "      <th>C</th>\n",
       "      <th>C#</th>\n",
       "      <th>C++</th>\n",
       "      <th>Cassandra</th>\n",
       "      <th>Clojure</th>\n",
       "      <th>...</th>\n",
       "      <th>Swift</th>\n",
       "      <th>TypeScript</th>\n",
       "      <th>VB.NET</th>\n",
       "      <th>VBA</th>\n",
       "      <th>Visual Basic</th>\n",
       "      <th>Visual Basic 6</th>\n",
       "      <th>WebAssembly</th>\n",
       "      <th>Windows Phone</th>\n",
       "      <th>WordPress</th>\n",
       "      <th>iOS</th>\n",
       "    </tr>\n",
       "    <tr>\n",
       "      <th></th>\n",
       "      <th></th>\n",
       "      <th></th>\n",
       "      <th></th>\n",
       "      <th></th>\n",
       "      <th></th>\n",
       "      <th></th>\n",
       "      <th></th>\n",
       "      <th></th>\n",
       "      <th></th>\n",
       "      <th></th>\n",
       "      <th></th>\n",
       "      <th></th>\n",
       "      <th></th>\n",
       "      <th></th>\n",
       "      <th></th>\n",
       "      <th></th>\n",
       "      <th></th>\n",
       "      <th></th>\n",
       "      <th></th>\n",
       "      <th></th>\n",
       "      <th></th>\n",
       "    </tr>\n",
       "  </thead>\n",
       "  <tbody>\n",
       "    <tr>\n",
       "      <td>0</td>\n",
       "      <td>False</td>\n",
       "      <td>False</td>\n",
       "      <td>False</td>\n",
       "      <td>False</td>\n",
       "      <td>False</td>\n",
       "      <td>False</td>\n",
       "      <td>False</td>\n",
       "      <td>False</td>\n",
       "      <td>False</td>\n",
       "      <td>False</td>\n",
       "      <td>...</td>\n",
       "      <td>False</td>\n",
       "      <td>False</td>\n",
       "      <td>False</td>\n",
       "      <td>False</td>\n",
       "      <td>False</td>\n",
       "      <td>False</td>\n",
       "      <td>False</td>\n",
       "      <td>False</td>\n",
       "      <td>False</td>\n",
       "      <td>True</td>\n",
       "    </tr>\n",
       "    <tr>\n",
       "      <td>1</td>\n",
       "      <td>False</td>\n",
       "      <td>False</td>\n",
       "      <td>False</td>\n",
       "      <td>False</td>\n",
       "      <td>False</td>\n",
       "      <td>False</td>\n",
       "      <td>False</td>\n",
       "      <td>False</td>\n",
       "      <td>False</td>\n",
       "      <td>False</td>\n",
       "      <td>...</td>\n",
       "      <td>False</td>\n",
       "      <td>False</td>\n",
       "      <td>False</td>\n",
       "      <td>False</td>\n",
       "      <td>False</td>\n",
       "      <td>False</td>\n",
       "      <td>False</td>\n",
       "      <td>False</td>\n",
       "      <td>False</td>\n",
       "      <td>False</td>\n",
       "    </tr>\n",
       "    <tr>\n",
       "      <td>2</td>\n",
       "      <td>True</td>\n",
       "      <td>True</td>\n",
       "      <td>True</td>\n",
       "      <td>False</td>\n",
       "      <td>False</td>\n",
       "      <td>True</td>\n",
       "      <td>True</td>\n",
       "      <td>True</td>\n",
       "      <td>True</td>\n",
       "      <td>True</td>\n",
       "      <td>...</td>\n",
       "      <td>True</td>\n",
       "      <td>False</td>\n",
       "      <td>False</td>\n",
       "      <td>False</td>\n",
       "      <td>True</td>\n",
       "      <td>False</td>\n",
       "      <td>False</td>\n",
       "      <td>True</td>\n",
       "      <td>True</td>\n",
       "      <td>True</td>\n",
       "    </tr>\n",
       "    <tr>\n",
       "      <td>3</td>\n",
       "      <td>False</td>\n",
       "      <td>False</td>\n",
       "      <td>False</td>\n",
       "      <td>False</td>\n",
       "      <td>False</td>\n",
       "      <td>False</td>\n",
       "      <td>False</td>\n",
       "      <td>False</td>\n",
       "      <td>False</td>\n",
       "      <td>False</td>\n",
       "      <td>...</td>\n",
       "      <td>False</td>\n",
       "      <td>False</td>\n",
       "      <td>False</td>\n",
       "      <td>False</td>\n",
       "      <td>False</td>\n",
       "      <td>False</td>\n",
       "      <td>False</td>\n",
       "      <td>False</td>\n",
       "      <td>True</td>\n",
       "      <td>False</td>\n",
       "    </tr>\n",
       "    <tr>\n",
       "      <td>4</td>\n",
       "      <td>False</td>\n",
       "      <td>False</td>\n",
       "      <td>False</td>\n",
       "      <td>False</td>\n",
       "      <td>False</td>\n",
       "      <td>False</td>\n",
       "      <td>False</td>\n",
       "      <td>False</td>\n",
       "      <td>False</td>\n",
       "      <td>False</td>\n",
       "      <td>...</td>\n",
       "      <td>False</td>\n",
       "      <td>False</td>\n",
       "      <td>False</td>\n",
       "      <td>False</td>\n",
       "      <td>False</td>\n",
       "      <td>False</td>\n",
       "      <td>False</td>\n",
       "      <td>False</td>\n",
       "      <td>False</td>\n",
       "      <td>False</td>\n",
       "    </tr>\n",
       "  </tbody>\n",
       "</table>\n",
       "<p>5 rows × 64 columns</p>\n",
       "</div>"
      ],
      "text/plain": [
       "LanguageWorkedWith  Android  AngularJS  Arduino / Raspberry Pi  Assembly  \\\n",
       "                                                                           \n",
       "0                     False      False                   False     False   \n",
       "1                     False      False                   False     False   \n",
       "2                      True       True                    True     False   \n",
       "3                     False      False                   False     False   \n",
       "4                     False      False                   False     False   \n",
       "\n",
       "LanguageWorkedWith  Bash/Shell/PowerShell      C     C#    C++  Cassandra  \\\n",
       "                                                                            \n",
       "0                                   False  False  False  False      False   \n",
       "1                                   False  False  False  False      False   \n",
       "2                                   False   True   True   True       True   \n",
       "3                                   False  False  False  False      False   \n",
       "4                                   False  False  False  False      False   \n",
       "\n",
       "LanguageWorkedWith  Clojure  ...  Swift  TypeScript  VB.NET    VBA  \\\n",
       "                             ...                                     \n",
       "0                     False  ...  False       False   False  False   \n",
       "1                     False  ...  False       False   False  False   \n",
       "2                      True  ...   True       False   False  False   \n",
       "3                     False  ...  False       False   False  False   \n",
       "4                     False  ...  False       False   False  False   \n",
       "\n",
       "LanguageWorkedWith  Visual Basic  Visual Basic 6  WebAssembly  Windows Phone  \\\n",
       "                                                                               \n",
       "0                          False           False        False          False   \n",
       "1                          False           False        False          False   \n",
       "2                           True           False        False           True   \n",
       "3                          False           False        False          False   \n",
       "4                          False           False        False          False   \n",
       "\n",
       "LanguageWorkedWith  WordPress    iOS  \n",
       "                                      \n",
       "0                       False   True  \n",
       "1                       False  False  \n",
       "2                        True   True  \n",
       "3                        True  False  \n",
       "4                       False  False  \n",
       "\n",
       "[5 rows x 64 columns]"
      ]
     },
     "execution_count": 195,
     "metadata": {},
     "output_type": "execute_result"
    }
   ],
   "source": [
    "pivoted.head()"
   ]
  },
  {
   "cell_type": "code",
   "execution_count": 196,
   "metadata": {},
   "outputs": [
    {
     "data": {
      "text/plain": [
       "['Android',\n",
       " 'AngularJS',\n",
       " 'Arduino / Raspberry Pi',\n",
       " 'Assembly',\n",
       " 'Bash/Shell/PowerShell',\n",
       " 'C',\n",
       " 'C#',\n",
       " 'C++',\n",
       " 'Cassandra',\n",
       " 'Clojure',\n",
       " 'Cloud (AWS, GAE, Azure, etc.)',\n",
       " 'Cobol',\n",
       " 'CoffeeScript',\n",
       " 'Common Lisp',\n",
       " 'Cordova',\n",
       " 'Dart',\n",
       " 'Delphi/Object Pascal',\n",
       " 'Elixir',\n",
       " 'Erlang',\n",
       " 'F#',\n",
       " 'Go',\n",
       " 'Groovy',\n",
       " 'HTML/CSS',\n",
       " 'Hack',\n",
       " 'Hadoop',\n",
       " 'Haskell',\n",
       " 'Java',\n",
       " 'JavaScript',\n",
       " 'Julia',\n",
       " 'Kotlin',\n",
       " 'LAMP',\n",
       " 'Lua',\n",
       " 'Matlab',\n",
       " 'MongoDB',\n",
       " 'Node.js',\n",
       " 'Nothing',\n",
       " 'Objective-C',\n",
       " 'Ocaml',\n",
       " 'Other(s):',\n",
       " 'PHP',\n",
       " 'Perl',\n",
       " 'Python',\n",
       " 'R',\n",
       " 'ReactJS',\n",
       " 'Redis',\n",
       " 'Ruby',\n",
       " 'Rust',\n",
       " 'SQL',\n",
       " 'SQL Server',\n",
       " 'Salesforce',\n",
       " 'Scala',\n",
       " 'SharePoint',\n",
       " 'Smalltalk',\n",
       " 'Spark',\n",
       " 'Swift',\n",
       " 'TypeScript',\n",
       " 'VB.NET',\n",
       " 'VBA',\n",
       " 'Visual Basic',\n",
       " 'Visual Basic 6',\n",
       " 'WebAssembly',\n",
       " 'Windows Phone',\n",
       " 'WordPress',\n",
       " 'iOS']"
      ]
     },
     "execution_count": 196,
     "metadata": {},
     "output_type": "execute_result"
    }
   ],
   "source": [
    "list(pivoted.columns)"
   ]
  },
  {
   "cell_type": "code",
   "execution_count": 197,
   "metadata": {},
   "outputs": [
    {
     "data": {
      "image/png": "[encoded data removed]",
      "text/plain": [
       "<Figure size 936x648 with 2 Axes>"
      ]
     },
     "metadata": {
      "needs_background": "light"
     },
     "output_type": "display_data"
    }
   ],
   "source": [
    "import seaborn as sns\n",
    "common_langs = list(pivoted.sum()[pivoted.sum() > 4000].index)\n",
    "plt.figure(figsize=(13,9))\n",
    "ax = sns.heatmap(pivoted[common_langs].corr(), linewidth=0.5, cmap=\"YlGnBu\")\n",
    "plt.show()"
   ]
  },
  {
   "cell_type": "code",
   "execution_count": 198,
   "metadata": {},
   "outputs": [],
   "source": [
    "nmf_model = NMF(6)\n",
    "W = nmf_model.fit_transform(pivoted)"
   ]
  },
  {
   "cell_type": "code",
   "execution_count": 199,
   "metadata": {},
   "outputs": [
    {
     "data": {
      "text/plain": [
       "0         AFG\n",
       "1         AFG\n",
       "2         AFG\n",
       "3         AFG\n",
       "4         ALB\n",
       "         ... \n",
       "246969    ITA\n",
       "246970    CZE\n",
       "246971    ESP\n",
       "246972    USA\n",
       "246973    ESP\n",
       "Name: Country, Length: 246974, dtype: object"
      ]
     },
     "execution_count": 199,
     "metadata": {},
     "output_type": "execute_result"
    }
   ],
   "source": [
    "usertypes.Country"
   ]
  },
  {
   "cell_type": "code",
   "execution_count": 200,
   "metadata": {},
   "outputs": [],
   "source": [
    "types = pd.DataFrame(nmf_model.components_, columns=pivoted.columns).T\n",
    "usertypes = pd.DataFrame(W)\n",
    "usertypes = survey_data[[\"Country\"]].merge(usertypes, left_index=True, right_index=True)\n",
    "type_by_country = usertypes.groupby(\"Country\").mean()#.apply(lambda row: row/row.sum(), axis=1)"
   ]
  },
  {
   "cell_type": "code",
   "execution_count": 203,
   "metadata": {},
   "outputs": [
    {
     "data": {
      "application/vnd.plotly.v1+json": {
       "config": {
        "plotlyServerURL": "https://plot.ly"
       },
       "data": [
        {
         "fill": "toself",
         "mode": "lines+markers+text",
         "r": [
          16.83616821354534,
          12.550051522865978,
          5.712583252760263,
          5.339467071160902,
          1.0656671851720114,
          0.7457049475470848,
          0.5280252767564577,
          0.48417996068079666,
          0.2697457354284732,
          0.2088789516401941
         ],
         "subplot": "polar",
         "theta": [
          "HTML/CSS",
          "JavaScript",
          "Bash/Shell/PowerShell",
          "TypeScript",
          "Ruby",
          "Go",
          "Other(s):",
          "Swift",
          "Kotlin",
          "Assembly"
         ],
         "type": "scatterpolar"
        },
        {
         "fill": "toself",
         "mode": "lines+markers+text",
         "r": [
          16.00059422300177,
          5.453098124832969,
          1.7997616144720388,
          1.5940894360696867,
          1.3895871933418664,
          1.1890667808259099,
          0.6669432334041755,
          0.4443560486559208,
          0.44028032785851023,
          0.3563273521020244
         ],
         "subplot": "polar2",
         "theta": [
          "Python",
          "Bash/Shell/PowerShell",
          "R",
          "Go",
          "SQL",
          "Ruby",
          "Scala",
          "Rust",
          "Matlab",
          "Other(s):"
         ],
         "type": "scatterpolar"
        },
        {
         "fill": "toself",
         "mode": "lines+markers+text",
         "r": [
          16.173181303416627,
          6.166591639524954,
          2.253627182175123,
          1.4828209272750201,
          1.1027909695530054,
          0.9693190821593206,
          0.8993579003077486,
          0.5135357164654518,
          0.4102868074743771,
          0.40123412893494814
         ],
         "subplot": "polar3",
         "theta": [
          "C#",
          "SQL",
          "JavaScript",
          "SQL Server",
          "VB.NET",
          "TypeScript",
          "VBA",
          "F#",
          "C++",
          "Visual Basic"
         ],
         "type": "scatterpolar"
        },
        {
         "fill": "toself",
         "mode": "lines+markers+text",
         "r": [
          18.648028962712182,
          1.3847988625415082,
          1.0620676892087881,
          1.0600346670650909,
          1.0469944926720915,
          1.0321804041104505,
          0.876043749227274,
          0.7513025650769757,
          0.6170887571098831,
          0.21671826792128338
         ],
         "subplot": "polar4",
         "theta": [
          "Java",
          "Kotlin",
          "Swift",
          "Scala",
          "Android",
          "SQL",
          "Objective-C",
          "JavaScript",
          "Groovy",
          "iOS"
         ],
         "type": "scatterpolar"
        },
        {
         "fill": "toself",
         "mode": "lines+markers+text",
         "r": [
          13.568228335636881,
          11.668804284358101,
          8.405672739554122,
          1.1250051612703185,
          1.122583011254601,
          1.0116523710701675,
          0.9756645083076908,
          0.8072196657921372,
          0.5941222399977976,
          0.4877494456620409
         ],
         "subplot": "polar5",
         "theta": [
          "SQL",
          "PHP",
          "JavaScript",
          "Node.js",
          "Ruby",
          "AngularJS",
          "LAMP",
          "WordPress",
          "MongoDB",
          "CoffeeScript"
         ],
         "type": "scatterpolar"
        },
        {
         "fill": "toself",
         "mode": "lines+markers+text",
         "r": [
          14.104592420901632,
          12.903073674172926,
          3.1101665953999467,
          1.3344272420956877,
          1.0652241284179351,
          0.8896827099774094,
          0.5013169109962653,
          0.4575503970309943,
          0.3908550454202245,
          0.35831030733386116
         ],
         "subplot": "polar6",
         "theta": [
          "C++",
          "C",
          "Assembly",
          "Objective-C",
          "Matlab",
          "Swift",
          "Rust",
          "Perl",
          "Lua",
          "PHP"
         ],
         "type": "scatterpolar"
        }
       ],
       "layout": {
        "autosize": true,
        "polar": {
         "angularaxis": {
          "type": "category"
         },
         "domain": {
          "x": [
           0,
           0.2888888888888889
          ],
          "y": [
           0.575,
           1
          ]
         },
         "radialaxis": {
          "autorange": true,
          "range": [
           -0.8234398003785561,
           1.3695777357037464
          ],
          "type": "log",
          "visible": true
         }
        },
        "polar2": {
         "angularaxis": {
          "type": "category"
         },
         "domain": {
          "x": [
           0.35555555555555557,
           0.6444444444444445
          ],
          "y": [
           0.575,
           1
          ]
         },
         "radialaxis": {
          "autorange": true,
          "range": [
           -0.5723829409996722,
           1.328368213171932
          ],
          "type": "log",
          "visible": true
         }
        },
        "polar3": {
         "angularaxis": {
          "type": "category"
         },
         "domain": {
          "x": [
           0.7111111111111111,
           1
          ],
          "y": [
           0.575,
           1
          ]
         },
         "radialaxis": {
          "autorange": true,
          "range": [
           -0.5173087186071171,
           1.329502040643849
          ],
          "type": "log",
          "visible": true
         }
        },
        "polar4": {
         "angularaxis": {
          "type": "category"
         },
         "domain": {
          "x": [
           0,
           0.2888888888888889
          ],
          "y": [
           0,
           0.425
          ]
         },
         "radialaxis": {
          "autorange": true,
          "range": [
           -0.8095734574718015,
           1.416101913522863
          ],
          "type": "log",
          "visible": true
         }
        },
        "polar5": {
         "angularaxis": {
          "type": "category"
         },
         "domain": {
          "x": [
           0.35555555555555557,
           0.6444444444444445
          ],
          "y": [
           0,
           0.425
          ]
         },
         "radialaxis": {
          "autorange": true,
          "range": [
           -0.42039918236829454,
           1.241119110435362
          ],
          "type": "log",
          "visible": true
         }
        },
        "polar6": {
         "angularaxis": {
          "type": "category"
         },
         "domain": {
          "x": [
           0.7111111111111111,
           1
          ],
          "y": [
           0,
           0.425
          ]
         },
         "radialaxis": {
          "autorange": true,
          "range": [
           0,
           15.090927555230417
          ],
          "type": "linear"
         }
        },
        "showlegend": false,
        "template": {
         "data": {
          "bar": [
           {
            "error_x": {
             "color": "#2a3f5f"
            },
            "error_y": {
             "color": "#2a3f5f"
            },
            "marker": {
             "line": {
              "color": "#E5ECF6",
              "width": 0.5
             }
            },
            "type": "bar"
           }
          ],
          "barpolar": [
           {
            "marker": {
             "line": {
              "color": "#E5ECF6",
              "width": 0.5
             }
            },
            "type": "barpolar"
           }
          ],
          "carpet": [
           {
            "aaxis": {
             "endlinecolor": "#2a3f5f",
             "gridcolor": "white",
             "linecolor": "white",
             "minorgridcolor": "white",
             "startlinecolor": "#2a3f5f"
            },
            "baxis": {
             "endlinecolor": "#2a3f5f",
             "gridcolor": "white",
             "linecolor": "white",
             "minorgridcolor": "white",
             "startlinecolor": "#2a3f5f"
            },
            "type": "carpet"
           }
          ],
          "choropleth": [
           {
            "colorbar": {
             "outlinewidth": 0,
             "ticks": ""
            },
            "type": "choropleth"
           }
          ],
          "contour": [
           {
            "colorbar": {
             "outlinewidth": 0,
             "ticks": ""
            },
            "colorscale": [
             [
              0,
              "#0d0887"
             ],
             [
              0.1111111111111111,
              "#46039f"
             ],
             [
              0.2222222222222222,
              "#7201a8"
             ],
             [
              0.3333333333333333,
              "#9c179e"
             ],
             [
              0.4444444444444444,
              "#bd3786"
             ],
             [
              0.5555555555555556,
              "#d8576b"
             ],
             [
              0.6666666666666666,
              "#ed7953"
             ],
             [
              0.7777777777777778,
              "#fb9f3a"
             ],
             [
              0.8888888888888888,
              "#fdca26"
             ],
             [
              1,
              "#f0f921"
             ]
            ],
            "type": "contour"
           }
          ],
          "contourcarpet": [
           {
            "colorbar": {
             "outlinewidth": 0,
             "ticks": ""
            },
            "type": "contourcarpet"
           }
          ],
          "heatmap": [
           {
            "colorbar": {
             "outlinewidth": 0,
             "ticks": ""
            },
            "colorscale": [
             [
              0,
              "#0d0887"
             ],
             [
              0.1111111111111111,
              "#46039f"
             ],
             [
              0.2222222222222222,
              "#7201a8"
             ],
             [
              0.3333333333333333,
              "#9c179e"
             ],
             [
              0.4444444444444444,
              "#bd3786"
             ],
             [
              0.5555555555555556,
              "#d8576b"
             ],
             [
              0.6666666666666666,
              "#ed7953"
             ],
             [
              0.7777777777777778,
              "#fb9f3a"
             ],
             [
              0.8888888888888888,
              "#fdca26"
             ],
             [
              1,
              "#f0f921"
             ]
            ],
            "type": "heatmap"
           }
          ],
          "heatmapgl": [
           {
            "colorbar": {
             "outlinewidth": 0,
             "ticks": ""
            },
            "colorscale": [
             [
              0,
              "#0d0887"
             ],
             [
              0.1111111111111111,
              "#46039f"
             ],
             [
              0.2222222222222222,
              "#7201a8"
             ],
             [
              0.3333333333333333,
              "#9c179e"
             ],
             [
              0.4444444444444444,
              "#bd3786"
             ],
             [
              0.5555555555555556,
              "#d8576b"
             ],
             [
              0.6666666666666666,
              "#ed7953"
             ],
             [
              0.7777777777777778,
              "#fb9f3a"
             ],
             [
              0.8888888888888888,
              "#fdca26"
             ],
             [
              1,
              "#f0f921"
             ]
            ],
            "type": "heatmapgl"
           }
          ],
          "histogram": [
           {
            "marker": {
             "colorbar": {
              "outlinewidth": 0,
              "ticks": ""
             }
            },
            "type": "histogram"
           }
          ],
          "histogram2d": [
           {
            "colorbar": {
             "outlinewidth": 0,
             "ticks": ""
            },
            "colorscale": [
             [
              0,
              "#0d0887"
             ],
             [
              0.1111111111111111,
              "#46039f"
             ],
             [
              0.2222222222222222,
              "#7201a8"
             ],
             [
              0.3333333333333333,
              "#9c179e"
             ],
             [
              0.4444444444444444,
              "#bd3786"
             ],
             [
              0.5555555555555556,
              "#d8576b"
             ],
             [
              0.6666666666666666,
              "#ed7953"
             ],
             [
              0.7777777777777778,
              "#fb9f3a"
             ],
             [
              0.8888888888888888,
              "#fdca26"
             ],
             [
              1,
              "#f0f921"
             ]
            ],
            "type": "histogram2d"
           }
          ],
          "histogram2dcontour": [
           {
            "colorbar": {
             "outlinewidth": 0,
             "ticks": ""
            },
            "colorscale": [
             [
              0,
              "#0d0887"
             ],
             [
              0.1111111111111111,
              "#46039f"
             ],
             [
              0.2222222222222222,
              "#7201a8"
             ],
             [
              0.3333333333333333,
              "#9c179e"
             ],
             [
              0.4444444444444444,
              "#bd3786"
             ],
             [
              0.5555555555555556,
              "#d8576b"
             ],
             [
              0.6666666666666666,
              "#ed7953"
             ],
             [
              0.7777777777777778,
              "#fb9f3a"
             ],
             [
              0.8888888888888888,
              "#fdca26"
             ],
             [
              1,
              "#f0f921"
             ]
            ],
            "type": "histogram2dcontour"
           }
          ],
          "mesh3d": [
           {
            "colorbar": {
             "outlinewidth": 0,
             "ticks": ""
            },
            "type": "mesh3d"
           }
          ],
          "parcoords": [
           {
            "line": {
             "colorbar": {
              "outlinewidth": 0,
              "ticks": ""
             }
            },
            "type": "parcoords"
           }
          ],
          "pie": [
           {
            "automargin": true,
            "type": "pie"
           }
          ],
          "scatter": [
           {
            "marker": {
             "colorbar": {
              "outlinewidth": 0,
              "ticks": ""
             }
            },
            "type": "scatter"
           }
          ],
          "scatter3d": [
           {
            "line": {
             "colorbar": {
              "outlinewidth": 0,
              "ticks": ""
             }
            },
            "marker": {
             "colorbar": {
              "outlinewidth": 0,
              "ticks": ""
             }
            },
            "type": "scatter3d"
           }
          ],
          "scattercarpet": [
           {
            "marker": {
             "colorbar": {
              "outlinewidth": 0,
              "ticks": ""
             }
            },
            "type": "scattercarpet"
           }
          ],
          "scattergeo": [
           {
            "marker": {
             "colorbar": {
              "outlinewidth": 0,
              "ticks": ""
             }
            },
            "type": "scattergeo"
           }
          ],
          "scattergl": [
           {
            "marker": {
             "colorbar": {
              "outlinewidth": 0,
              "ticks": ""
             }
            },
            "type": "scattergl"
           }
          ],
          "scattermapbox": [
           {
            "marker": {
             "colorbar": {
              "outlinewidth": 0,
              "ticks": ""
             }
            },
            "type": "scattermapbox"
           }
          ],
          "scatterpolar": [
           {
            "marker": {
             "colorbar": {
              "outlinewidth": 0,
              "ticks": ""
             }
            },
            "type": "scatterpolar"
           }
          ],
          "scatterpolargl": [
           {
            "marker": {
             "colorbar": {
              "outlinewidth": 0,
              "ticks": ""
             }
            },
            "type": "scatterpolargl"
           }
          ],
          "scatterternary": [
           {
            "marker": {
             "colorbar": {
              "outlinewidth": 0,
              "ticks": ""
             }
            },
            "type": "scatterternary"
           }
          ],
          "surface": [
           {
            "colorbar": {
             "outlinewidth": 0,
             "ticks": ""
            },
            "colorscale": [
             [
              0,
              "#0d0887"
             ],
             [
              0.1111111111111111,
              "#46039f"
             ],
             [
              0.2222222222222222,
              "#7201a8"
             ],
             [
              0.3333333333333333,
              "#9c179e"
             ],
             [
              0.4444444444444444,
              "#bd3786"
             ],
             [
              0.5555555555555556,
              "#d8576b"
             ],
             [
              0.6666666666666666,
              "#ed7953"
             ],
             [
              0.7777777777777778,
              "#fb9f3a"
             ],
             [
              0.8888888888888888,
              "#fdca26"
             ],
             [
              1,
              "#f0f921"
             ]
            ],
            "type": "surface"
           }
          ],
          "table": [
           {
            "cells": {
             "fill": {
              "color": "#EBF0F8"
             },
             "line": {
              "color": "white"
             }
            },
            "header": {
             "fill": {
              "color": "#C8D4E3"
             },
             "line": {
              "color": "white"
             }
            },
            "type": "table"
           }
          ]
         },
         "layout": {
          "annotationdefaults": {
           "arrowcolor": "#2a3f5f",
           "arrowhead": 0,
           "arrowwidth": 1
          },
          "coloraxis": {
           "colorbar": {
            "outlinewidth": 0,
            "ticks": ""
           }
          },
          "colorscale": {
           "diverging": [
            [
             0,
             "#8e0152"
            ],
            [
             0.1,
             "#c51b7d"
            ],
            [
             0.2,
             "#de77ae"
            ],
            [
             0.3,
             "#f1b6da"
            ],
            [
             0.4,
             "#fde0ef"
            ],
            [
             0.5,
             "#f7f7f7"
            ],
            [
             0.6,
             "#e6f5d0"
            ],
            [
             0.7,
             "#b8e186"
            ],
            [
             0.8,
             "#7fbc41"
            ],
            [
             0.9,
             "#4d9221"
            ],
            [
             1,
             "#276419"
            ]
           ],
           "sequential": [
            [
             0,
             "#0d0887"
            ],
            [
             0.1111111111111111,
             "#46039f"
            ],
            [
             0.2222222222222222,
             "#7201a8"
            ],
            [
             0.3333333333333333,
             "#9c179e"
            ],
            [
             0.4444444444444444,
             "#bd3786"
            ],
            [
             0.5555555555555556,
             "#d8576b"
            ],
            [
             0.6666666666666666,
             "#ed7953"
            ],
            [
             0.7777777777777778,
             "#fb9f3a"
            ],
            [
             0.8888888888888888,
             "#fdca26"
            ],
            [
             1,
             "#f0f921"
            ]
           ],
           "sequentialminus": [
            [
             0,
             "#0d0887"
            ],
            [
             0.1111111111111111,
             "#46039f"
            ],
            [
             0.2222222222222222,
             "#7201a8"
            ],
            [
             0.3333333333333333,
             "#9c179e"
            ],
            [
             0.4444444444444444,
             "#bd3786"
            ],
            [
             0.5555555555555556,
             "#d8576b"
            ],
            [
             0.6666666666666666,
             "#ed7953"
            ],
            [
             0.7777777777777778,
             "#fb9f3a"
            ],
            [
             0.8888888888888888,
             "#fdca26"
            ],
            [
             1,
             "#f0f921"
            ]
           ]
          },
          "colorway": [
           "#636efa",
           "#EF553B",
           "#00cc96",
           "#ab63fa",
           "#FFA15A",
           "#19d3f3",
           "#FF6692",
           "#B6E880",
           "#FF97FF",
           "#FECB52"
          ],
          "font": {
           "color": "#2a3f5f"
          },
          "geo": {
           "bgcolor": "white",
           "lakecolor": "white",
           "landcolor": "#E5ECF6",
           "showlakes": true,
           "showland": true,
           "subunitcolor": "white"
          },
          "hoverlabel": {
           "align": "left"
          },
          "hovermode": "closest",
          "mapbox": {
           "style": "light"
          },
          "paper_bgcolor": "white",
          "plot_bgcolor": "#E5ECF6",
          "polar": {
           "angularaxis": {
            "gridcolor": "white",
            "linecolor": "white",
            "ticks": ""
           },
           "bgcolor": "#E5ECF6",
           "radialaxis": {
            "gridcolor": "white",
            "linecolor": "white",
            "ticks": ""
           }
          },
          "scene": {
           "xaxis": {
            "backgroundcolor": "#E5ECF6",
            "gridcolor": "white",
            "gridwidth": 2,
            "linecolor": "white",
            "showbackground": true,
            "ticks": "",
            "zerolinecolor": "white"
           },
           "yaxis": {
            "backgroundcolor": "#E5ECF6",
            "gridcolor": "white",
            "gridwidth": 2,
            "linecolor": "white",
            "showbackground": true,
            "ticks": "",
            "zerolinecolor": "white"
           },
           "zaxis": {
            "backgroundcolor": "#E5ECF6",
            "gridcolor": "white",
            "gridwidth": 2,
            "linecolor": "white",
            "showbackground": true,
            "ticks": "",
            "zerolinecolor": "white"
           }
          },
          "shapedefaults": {
           "line": {
            "color": "#2a3f5f"
           }
          },
          "ternary": {
           "aaxis": {
            "gridcolor": "white",
            "linecolor": "white",
            "ticks": ""
           },
           "baxis": {
            "gridcolor": "white",
            "linecolor": "white",
            "ticks": ""
           },
           "bgcolor": "#E5ECF6",
           "caxis": {
            "gridcolor": "white",
            "linecolor": "white",
            "ticks": ""
           }
          },
          "title": {
           "x": 0.05
          },
          "xaxis": {
           "automargin": true,
           "gridcolor": "white",
           "linecolor": "white",
           "ticks": "",
           "title": {
            "standoff": 15
           },
           "zerolinecolor": "white",
           "zerolinewidth": 2
          },
          "yaxis": {
           "automargin": true,
           "gridcolor": "white",
           "linecolor": "white",
           "ticks": "",
           "title": {
            "standoff": 15
           },
           "zerolinecolor": "white",
           "zerolinewidth": 2
          }
         }
        }
       }
      },
      "image/png": "[encoded data removed]",
      "text/html": [
       "<div>\n",
       "        \n",
       "        \n",
       "            <div id=\"ba050777-3d50-4366-87c0-0c2c1ddaa89f\" class=\"plotly-graph-div\" style=\"height:525px; width:100%;\"></div>\n",
       "            <script type=\"text/javascript\">\n",
       "                require([\"plotly\"], function(Plotly) {\n",
       "                    window.PLOTLYENV=window.PLOTLYENV || {};\n",
       "                    \n",
       "                if (document.getElementById(\"ba050777-3d50-4366-87c0-0c2c1ddaa89f\")) {\n",
       "                    Plotly.newPlot(\n",
       "                        'ba050777-3d50-4366-87c0-0c2c1ddaa89f',\n",
       "                        [{\"fill\": \"toself\", \"mode\": \"lines+markers+text\", \"r\": [16.83616821354534, 12.550051522865978, 5.712583252760263, 5.339467071160902, 1.0656671851720114, 0.7457049475470848, 0.5280252767564577, 0.48417996068079666, 0.2697457354284732, 0.2088789516401941], \"subplot\": \"polar\", \"theta\": [\"HTML/CSS\", \"JavaScript\", \"Bash/Shell/PowerShell\", \"TypeScript\", \"Ruby\", \"Go\", \"Other(s):\", \"Swift\", \"Kotlin\", \"Assembly\"], \"type\": \"scatterpolar\"}, {\"fill\": \"toself\", \"mode\": \"lines+markers+text\", \"r\": [16.00059422300177, 5.453098124832969, 1.7997616144720388, 1.5940894360696867, 1.3895871933418664, 1.1890667808259099, 0.6669432334041755, 0.4443560486559208, 0.44028032785851023, 0.3563273521020244], \"subplot\": \"polar2\", \"theta\": [\"Python\", \"Bash/Shell/PowerShell\", \"R\", \"Go\", \"SQL\", \"Ruby\", \"Scala\", \"Rust\", \"Matlab\", \"Other(s):\"], \"type\": \"scatterpolar\"}, {\"fill\": \"toself\", \"mode\": \"lines+markers+text\", \"r\": [16.173181303416627, 6.166591639524954, 2.253627182175123, 1.4828209272750201, 1.1027909695530054, 0.9693190821593206, 0.8993579003077486, 0.5135357164654518, 0.4102868074743771, 0.40123412893494814], \"subplot\": \"polar3\", \"theta\": [\"C#\", \"SQL\", \"JavaScript\", \"SQL Server\", \"VB.NET\", \"TypeScript\", \"VBA\", \"F#\", \"C++\", \"Visual Basic\"], \"type\": \"scatterpolar\"}, {\"fill\": \"toself\", \"mode\": \"lines+markers+text\", \"r\": [18.648028962712182, 1.3847988625415082, 1.0620676892087881, 1.0600346670650909, 1.0469944926720915, 1.0321804041104505, 0.876043749227274, 0.7513025650769757, 0.6170887571098831, 0.21671826792128338], \"subplot\": \"polar4\", \"theta\": [\"Java\", \"Kotlin\", \"Swift\", \"Scala\", \"Android\", \"SQL\", \"Objective-C\", \"JavaScript\", \"Groovy\", \"iOS\"], \"type\": \"scatterpolar\"}, {\"fill\": \"toself\", \"mode\": \"lines+markers+text\", \"r\": [13.568228335636881, 11.668804284358101, 8.405672739554122, 1.1250051612703185, 1.122583011254601, 1.0116523710701675, 0.9756645083076908, 0.8072196657921372, 0.5941222399977976, 0.4877494456620409], \"subplot\": \"polar5\", \"theta\": [\"SQL\", \"PHP\", \"JavaScript\", \"Node.js\", \"Ruby\", \"AngularJS\", \"LAMP\", \"WordPress\", \"MongoDB\", \"CoffeeScript\"], \"type\": \"scatterpolar\"}, {\"fill\": \"toself\", \"mode\": \"lines+markers+text\", \"r\": [14.104592420901632, 12.903073674172926, 3.1101665953999467, 1.3344272420956877, 1.0652241284179351, 0.8896827099774094, 0.5013169109962653, 0.4575503970309943, 0.3908550454202245, 0.35831030733386116], \"subplot\": \"polar6\", \"theta\": [\"C++\", \"C\", \"Assembly\", \"Objective-C\", \"Matlab\", \"Swift\", \"Rust\", \"Perl\", \"Lua\", \"PHP\"], \"type\": \"scatterpolar\"}],\n",
       "                        {\"polar\": {\"domain\": {\"x\": [0.0, 0.2888888888888889], \"y\": [0.575, 1.0]}, \"radialaxis\": {\"type\": \"log\", \"visible\": true}}, \"polar2\": {\"domain\": {\"x\": [0.35555555555555557, 0.6444444444444445], \"y\": [0.575, 1.0]}, \"radialaxis\": {\"type\": \"log\", \"visible\": true}}, \"polar3\": {\"domain\": {\"x\": [0.7111111111111111, 1.0], \"y\": [0.575, 1.0]}, \"radialaxis\": {\"type\": \"log\", \"visible\": true}}, \"polar4\": {\"domain\": {\"x\": [0.0, 0.2888888888888889], \"y\": [0.0, 0.425]}, \"radialaxis\": {\"type\": \"log\", \"visible\": true}}, \"polar5\": {\"domain\": {\"x\": [0.35555555555555557, 0.6444444444444445], \"y\": [0.0, 0.425]}, \"radialaxis\": {\"type\": \"log\", \"visible\": true}}, \"polar6\": {\"domain\": {\"x\": [0.7111111111111111, 1.0], \"y\": [0.0, 0.425]}}, \"showlegend\": false, \"template\": {\"data\": {\"bar\": [{\"error_x\": {\"color\": \"#2a3f5f\"}, \"error_y\": {\"color\": \"#2a3f5f\"}, \"marker\": {\"line\": {\"color\": \"#E5ECF6\", \"width\": 0.5}}, \"type\": \"bar\"}], \"barpolar\": [{\"marker\": {\"line\": {\"color\": \"#E5ECF6\", \"width\": 0.5}}, \"type\": \"barpolar\"}], \"carpet\": [{\"aaxis\": {\"endlinecolor\": \"#2a3f5f\", \"gridcolor\": \"white\", \"linecolor\": \"white\", \"minorgridcolor\": \"white\", \"startlinecolor\": \"#2a3f5f\"}, \"baxis\": {\"endlinecolor\": \"#2a3f5f\", \"gridcolor\": \"white\", \"linecolor\": \"white\", \"minorgridcolor\": \"white\", \"startlinecolor\": \"#2a3f5f\"}, \"type\": \"carpet\"}], \"choropleth\": [{\"colorbar\": {\"outlinewidth\": 0, \"ticks\": \"\"}, \"type\": \"choropleth\"}], \"contour\": [{\"colorbar\": {\"outlinewidth\": 0, \"ticks\": \"\"}, \"colorscale\": [[0.0, \"#0d0887\"], [0.1111111111111111, \"#46039f\"], [0.2222222222222222, \"#7201a8\"], [0.3333333333333333, \"#9c179e\"], [0.4444444444444444, \"#bd3786\"], [0.5555555555555556, \"#d8576b\"], [0.6666666666666666, \"#ed7953\"], [0.7777777777777778, \"#fb9f3a\"], [0.8888888888888888, \"#fdca26\"], [1.0, \"#f0f921\"]], \"type\": \"contour\"}], \"contourcarpet\": [{\"colorbar\": {\"outlinewidth\": 0, \"ticks\": \"\"}, \"type\": \"contourcarpet\"}], \"heatmap\": [{\"colorbar\": {\"outlinewidth\": 0, \"ticks\": \"\"}, \"colorscale\": [[0.0, \"#0d0887\"], [0.1111111111111111, \"#46039f\"], [0.2222222222222222, \"#7201a8\"], [0.3333333333333333, \"#9c179e\"], [0.4444444444444444, \"#bd3786\"], [0.5555555555555556, \"#d8576b\"], [0.6666666666666666, \"#ed7953\"], [0.7777777777777778, \"#fb9f3a\"], [0.8888888888888888, \"#fdca26\"], [1.0, \"#f0f921\"]], \"type\": \"heatmap\"}], \"heatmapgl\": [{\"colorbar\": {\"outlinewidth\": 0, \"ticks\": \"\"}, \"colorscale\": [[0.0, \"#0d0887\"], [0.1111111111111111, \"#46039f\"], [0.2222222222222222, \"#7201a8\"], [0.3333333333333333, \"#9c179e\"], [0.4444444444444444, \"#bd3786\"], [0.5555555555555556, \"#d8576b\"], [0.6666666666666666, \"#ed7953\"], [0.7777777777777778, \"#fb9f3a\"], [0.8888888888888888, \"#fdca26\"], [1.0, \"#f0f921\"]], \"type\": \"heatmapgl\"}], \"histogram\": [{\"marker\": {\"colorbar\": {\"outlinewidth\": 0, \"ticks\": \"\"}}, \"type\": \"histogram\"}], \"histogram2d\": [{\"colorbar\": {\"outlinewidth\": 0, \"ticks\": \"\"}, \"colorscale\": [[0.0, \"#0d0887\"], [0.1111111111111111, \"#46039f\"], [0.2222222222222222, \"#7201a8\"], [0.3333333333333333, \"#9c179e\"], [0.4444444444444444, \"#bd3786\"], [0.5555555555555556, \"#d8576b\"], [0.6666666666666666, \"#ed7953\"], [0.7777777777777778, \"#fb9f3a\"], [0.8888888888888888, \"#fdca26\"], [1.0, \"#f0f921\"]], \"type\": \"histogram2d\"}], \"histogram2dcontour\": [{\"colorbar\": {\"outlinewidth\": 0, \"ticks\": \"\"}, \"colorscale\": [[0.0, \"#0d0887\"], [0.1111111111111111, \"#46039f\"], [0.2222222222222222, \"#7201a8\"], [0.3333333333333333, \"#9c179e\"], [0.4444444444444444, \"#bd3786\"], [0.5555555555555556, \"#d8576b\"], [0.6666666666666666, \"#ed7953\"], [0.7777777777777778, \"#fb9f3a\"], [0.8888888888888888, \"#fdca26\"], [1.0, \"#f0f921\"]], \"type\": \"histogram2dcontour\"}], \"mesh3d\": [{\"colorbar\": {\"outlinewidth\": 0, \"ticks\": \"\"}, \"type\": \"mesh3d\"}], \"parcoords\": [{\"line\": {\"colorbar\": {\"outlinewidth\": 0, \"ticks\": \"\"}}, \"type\": \"parcoords\"}], \"pie\": [{\"automargin\": true, \"type\": \"pie\"}], \"scatter\": [{\"marker\": {\"colorbar\": {\"outlinewidth\": 0, \"ticks\": \"\"}}, \"type\": \"scatter\"}], \"scatter3d\": [{\"line\": {\"colorbar\": {\"outlinewidth\": 0, \"ticks\": \"\"}}, \"marker\": {\"colorbar\": {\"outlinewidth\": 0, \"ticks\": \"\"}}, \"type\": \"scatter3d\"}], \"scattercarpet\": [{\"marker\": {\"colorbar\": {\"outlinewidth\": 0, \"ticks\": \"\"}}, \"type\": \"scattercarpet\"}], \"scattergeo\": [{\"marker\": {\"colorbar\": {\"outlinewidth\": 0, \"ticks\": \"\"}}, \"type\": \"scattergeo\"}], \"scattergl\": [{\"marker\": {\"colorbar\": {\"outlinewidth\": 0, \"ticks\": \"\"}}, \"type\": \"scattergl\"}], \"scattermapbox\": [{\"marker\": {\"colorbar\": {\"outlinewidth\": 0, \"ticks\": \"\"}}, \"type\": \"scattermapbox\"}], \"scatterpolar\": [{\"marker\": {\"colorbar\": {\"outlinewidth\": 0, \"ticks\": \"\"}}, \"type\": \"scatterpolar\"}], \"scatterpolargl\": [{\"marker\": {\"colorbar\": {\"outlinewidth\": 0, \"ticks\": \"\"}}, \"type\": \"scatterpolargl\"}], \"scatterternary\": [{\"marker\": {\"colorbar\": {\"outlinewidth\": 0, \"ticks\": \"\"}}, \"type\": \"scatterternary\"}], \"surface\": [{\"colorbar\": {\"outlinewidth\": 0, \"ticks\": \"\"}, \"colorscale\": [[0.0, \"#0d0887\"], [0.1111111111111111, \"#46039f\"], [0.2222222222222222, \"#7201a8\"], [0.3333333333333333, \"#9c179e\"], [0.4444444444444444, \"#bd3786\"], [0.5555555555555556, \"#d8576b\"], [0.6666666666666666, \"#ed7953\"], [0.7777777777777778, \"#fb9f3a\"], [0.8888888888888888, \"#fdca26\"], [1.0, \"#f0f921\"]], \"type\": \"surface\"}], \"table\": [{\"cells\": {\"fill\": {\"color\": \"#EBF0F8\"}, \"line\": {\"color\": \"white\"}}, \"header\": {\"fill\": {\"color\": \"#C8D4E3\"}, \"line\": {\"color\": \"white\"}}, \"type\": \"table\"}]}, \"layout\": {\"annotationdefaults\": {\"arrowcolor\": \"#2a3f5f\", \"arrowhead\": 0, \"arrowwidth\": 1}, \"coloraxis\": {\"colorbar\": {\"outlinewidth\": 0, \"ticks\": \"\"}}, \"colorscale\": {\"diverging\": [[0, \"#8e0152\"], [0.1, \"#c51b7d\"], [0.2, \"#de77ae\"], [0.3, \"#f1b6da\"], [0.4, \"#fde0ef\"], [0.5, \"#f7f7f7\"], [0.6, \"#e6f5d0\"], [0.7, \"#b8e186\"], [0.8, \"#7fbc41\"], [0.9, \"#4d9221\"], [1, \"#276419\"]], \"sequential\": [[0.0, \"#0d0887\"], [0.1111111111111111, \"#46039f\"], [0.2222222222222222, \"#7201a8\"], [0.3333333333333333, \"#9c179e\"], [0.4444444444444444, \"#bd3786\"], [0.5555555555555556, \"#d8576b\"], [0.6666666666666666, \"#ed7953\"], [0.7777777777777778, \"#fb9f3a\"], [0.8888888888888888, \"#fdca26\"], [1.0, \"#f0f921\"]], \"sequentialminus\": [[0.0, \"#0d0887\"], [0.1111111111111111, \"#46039f\"], [0.2222222222222222, \"#7201a8\"], [0.3333333333333333, \"#9c179e\"], [0.4444444444444444, \"#bd3786\"], [0.5555555555555556, \"#d8576b\"], [0.6666666666666666, \"#ed7953\"], [0.7777777777777778, \"#fb9f3a\"], [0.8888888888888888, \"#fdca26\"], [1.0, \"#f0f921\"]]}, \"colorway\": [\"#636efa\", \"#EF553B\", \"#00cc96\", \"#ab63fa\", \"#FFA15A\", \"#19d3f3\", \"#FF6692\", \"#B6E880\", \"#FF97FF\", \"#FECB52\"], \"font\": {\"color\": \"#2a3f5f\"}, \"geo\": {\"bgcolor\": \"white\", \"lakecolor\": \"white\", \"landcolor\": \"#E5ECF6\", \"showlakes\": true, \"showland\": true, \"subunitcolor\": \"white\"}, \"hoverlabel\": {\"align\": \"left\"}, \"hovermode\": \"closest\", \"mapbox\": {\"style\": \"light\"}, \"paper_bgcolor\": \"white\", \"plot_bgcolor\": \"#E5ECF6\", \"polar\": {\"angularaxis\": {\"gridcolor\": \"white\", \"linecolor\": \"white\", \"ticks\": \"\"}, \"bgcolor\": \"#E5ECF6\", \"radialaxis\": {\"gridcolor\": \"white\", \"linecolor\": \"white\", \"ticks\": \"\"}}, \"scene\": {\"xaxis\": {\"backgroundcolor\": \"#E5ECF6\", \"gridcolor\": \"white\", \"gridwidth\": 2, \"linecolor\": \"white\", \"showbackground\": true, \"ticks\": \"\", \"zerolinecolor\": \"white\"}, \"yaxis\": {\"backgroundcolor\": \"#E5ECF6\", \"gridcolor\": \"white\", \"gridwidth\": 2, \"linecolor\": \"white\", \"showbackground\": true, \"ticks\": \"\", \"zerolinecolor\": \"white\"}, \"zaxis\": {\"backgroundcolor\": \"#E5ECF6\", \"gridcolor\": \"white\", \"gridwidth\": 2, \"linecolor\": \"white\", \"showbackground\": true, \"ticks\": \"\", \"zerolinecolor\": \"white\"}}, \"shapedefaults\": {\"line\": {\"color\": \"#2a3f5f\"}}, \"ternary\": {\"aaxis\": {\"gridcolor\": \"white\", \"linecolor\": \"white\", \"ticks\": \"\"}, \"baxis\": {\"gridcolor\": \"white\", \"linecolor\": \"white\", \"ticks\": \"\"}, \"bgcolor\": \"#E5ECF6\", \"caxis\": {\"gridcolor\": \"white\", \"linecolor\": \"white\", \"ticks\": \"\"}}, \"title\": {\"x\": 0.05}, \"xaxis\": {\"automargin\": true, \"gridcolor\": \"white\", \"linecolor\": \"white\", \"ticks\": \"\", \"title\": {\"standoff\": 15}, \"zerolinecolor\": \"white\", \"zerolinewidth\": 2}, \"yaxis\": {\"automargin\": true, \"gridcolor\": \"white\", \"linecolor\": \"white\", \"ticks\": \"\", \"title\": {\"standoff\": 15}, \"zerolinecolor\": \"white\", \"zerolinewidth\": 2}}}},\n",
       "                        {\"responsive\": true}\n",
       "                    ).then(function(){\n",
       "                            \n",
       "var gd = document.getElementById('ba050777-3d50-4366-87c0-0c2c1ddaa89f');\n",
       "var x = new MutationObserver(function (mutations, observer) {{\n",
       "        var display = window.getComputedStyle(gd).display;\n",
       "        if (!display || display === 'none') {{\n",
       "            console.log([gd, 'removed!']);\n",
       "            Plotly.purge(gd);\n",
       "            observer.disconnect();\n",
       "        }}\n",
       "}});\n",
       "\n",
       "// Listen for the removal of the full notebook cells\n",
       "var notebookContainer = gd.closest('#notebook-container');\n",
       "if (notebookContainer) {{\n",
       "    x.observe(notebookContainer, {childList: true});\n",
       "}}\n",
       "\n",
       "// Listen for the clearing of the current output cell\n",
       "var outputEl = gd.closest('.output');\n",
       "if (outputEl) {{\n",
       "    x.observe(outputEl, {childList: true});\n",
       "}}\n",
       "\n",
       "                        })\n",
       "                };\n",
       "                });\n",
       "            </script>\n",
       "        </div>"
      ]
     },
     "metadata": {},
     "output_type": "display_data"
    }
   ],
   "source": [
    "\"\"\"Plot the most significant programming languages for each user group\"\"\"\n",
    "\n",
    "from plotly.subplots import make_subplots\n",
    "import plotly.graph_objects as go\n",
    "\n",
    "fig = make_subplots(rows=2, cols=3)\n",
    "fig = make_subplots(\n",
    "    rows=2, cols=3,\n",
    "    specs=[[{\"type\": \"polar\"}, {\"type\": \"polar\"}, {\"type\": \"polar\"}],\n",
    "           [{\"type\": \"polar\"}, {\"type\": \"polar\"}, {\"type\": \"polar\"}]],\n",
    ")\n",
    "\n",
    "for i in range(6):\n",
    "    for_polar = types[i].nlargest(10)\n",
    "    x = (i % 3 + 1)\n",
    "    y = (int(i / 3) + 1)\n",
    "    fig.add_trace(\n",
    "        go.Scatterpolar(\n",
    "            r=for_polar,\n",
    "            theta=list(for_polar.index),\n",
    "            fill='toself',\n",
    "            mode=\"lines+markers+text\",\n",
    "            subplot=\"polar2\"\n",
    "        ),\n",
    "        row=y, col=x\n",
    "    )\n",
    "\n",
    "#Apparently these can be formatted by \n",
    "subaxes = [\"polar{}\".format(i) if i != 0 else \"polar\" for i in range(6)]\n",
    "fig.update_layout(\n",
    "    {subax: dict(\n",
    "        radialaxis=dict(\n",
    "            visible=True,\n",
    "            type=\"log\"\n",
    "        ),\n",
    "    ) for subax in subaxes}\n",
    ")\n",
    "\n",
    "fig.update_layout(\n",
    "    showlegend=False\n",
    ")\n",
    "\n",
    "fig.show()"
   ]
  },
  {
   "cell_type": "code",
   "execution_count": null,
   "metadata": {},
   "outputs": [],
   "source": []
  },
  {
   "cell_type": "code",
   "execution_count": 202,
   "metadata": {},
   "outputs": [
    {
     "data": {
      "application/vnd.plotly.v1+json": {
       "config": {
        "plotlyServerURL": "https://plot.ly"
       },
       "data": [
        {
         "colorbar": {
          "title": {
           "text": "Amount of type"
          }
         },
         "colorscale": [
          [
           0,
           "rgb(247,251,255)"
          ],
          [
           0.125,
           "rgb(222,235,247)"
          ],
          [
           0.25,
           "rgb(198,219,239)"
          ],
          [
           0.375,
           "rgb(158,202,225)"
          ],
          [
           0.5,
           "rgb(107,174,214)"
          ],
          [
           0.625,
           "rgb(66,146,198)"
          ],
          [
           0.75,
           "rgb(33,113,181)"
          ],
          [
           0.875,
           "rgb(8,81,156)"
          ],
          [
           1,
           "rgb(8,48,107)"
          ]
         ],
         "locations": [
          "ARG",
          "AUS",
          "AUT",
          "BEL",
          "BGD",
          "BGR",
          "BLR",
          "BRA",
          "CAN",
          "CHE",
          "CHL",
          "CHN",
          "COL",
          "CZE",
          "DEU",
          "DNK",
          "EGY",
          "ESP",
          "FIN",
          "FRA",
          "GBR",
          "GRC",
          "HKG",
          "HRV",
          "HUN",
          "IDN",
          "IND",
          "IRL",
          "IRN",
          "ISR",
          "ITA",
          "JPN",
          "KOR",
          "LKA",
          "LTU",
          "MEX",
          "MYS",
          "NA",
          "NGA",
          "NLD",
          "NOR",
          "NPL",
          "NZL",
          "PAK",
          "PHL",
          "POL",
          "PRT",
          "ROU",
          "RUS",
          "SGP",
          "SRB",
          "SVK",
          "SVN",
          "SWE",
          "TUR",
          "UKR",
          "USA",
          "VNM",
          "ZAF"
         ],
         "name": "2",
         "type": "choropleth",
         "visible": true,
         "z": [
          0.028044340432531838,
          0.02995117848829772,
          0.027385389515125428,
          0.02778571876012927,
          0.030087650084633797,
          0.02770988565386224,
          0.024282695176516093,
          0.029243197226668283,
          0.027780316476700997,
          0.026290833976218213,
          0.026680407679088195,
          0.022737863964338266,
          0.030585138915552274,
          0.02532258404964107,
          0.024692334643821433,
          0.024940030512991766,
          0.027818897058329493,
          0.025810332403856433,
          0.027820602597981685,
          0.026254087408445644,
          0.026262731860750396,
          0.023565834266713374,
          0.02809887824313402,
          0.025563249460349585,
          0.026590143454860615,
          0.026400643105247167,
          0.025644266299976067,
          0.025100099346733032,
          0.024185456479394407,
          0.025276255266415814,
          0.026418181806904986,
          0.027219758086891917,
          0.018740193228772895,
          0.031920039998534,
          0.02496433564020559,
          0.027623471963609487,
          0.028896632690503667,
          0.016607853066913147,
          0.03401535252945318,
          0.027701283532041546,
          0.028785091156852224,
          0.028430867047129386,
          0.0285379234525981,
          0.027321541557727275,
          0.026627377769388488,
          0.02277403335884658,
          0.024879426222226456,
          0.021936845711654593,
          0.022279795145834808,
          0.02717020945824815,
          0.026134886001388066,
          0.0273595968774853,
          0.024651263891752945,
          0.024773604017113295,
          0.02527504901767767,
          0.023393234874100884,
          0.028432616374331008,
          0.026768425581256926,
          0.02648519271446493
         ]
        },
        {
         "colorbar": {
          "title": {
           "text": "Amount of type"
          }
         },
         "colorscale": [
          [
           0,
           "rgb(247,251,255)"
          ],
          [
           0.125,
           "rgb(222,235,247)"
          ],
          [
           0.25,
           "rgb(198,219,239)"
          ],
          [
           0.375,
           "rgb(158,202,225)"
          ],
          [
           0.5,
           "rgb(107,174,214)"
          ],
          [
           0.625,
           "rgb(66,146,198)"
          ],
          [
           0.75,
           "rgb(33,113,181)"
          ],
          [
           0.875,
           "rgb(8,81,156)"
          ],
          [
           1,
           "rgb(8,48,107)"
          ]
         ],
         "locations": [
          "ARG",
          "AUS",
          "AUT",
          "BEL",
          "BGD",
          "BGR",
          "BLR",
          "BRA",
          "CAN",
          "CHE",
          "CHL",
          "CHN",
          "COL",
          "CZE",
          "DEU",
          "DNK",
          "EGY",
          "ESP",
          "FIN",
          "FRA",
          "GBR",
          "GRC",
          "HKG",
          "HRV",
          "HUN",
          "IDN",
          "IND",
          "IRL",
          "IRN",
          "ISR",
          "ITA",
          "JPN",
          "KOR",
          "LKA",
          "LTU",
          "MEX",
          "MYS",
          "NA",
          "NGA",
          "NLD",
          "NOR",
          "NPL",
          "NZL",
          "PAK",
          "PHL",
          "POL",
          "PRT",
          "ROU",
          "RUS",
          "SGP",
          "SRB",
          "SVK",
          "SVN",
          "SWE",
          "TUR",
          "UKR",
          "USA",
          "VNM",
          "ZAF"
         ],
         "name": "2",
         "type": "choropleth",
         "visible": false,
         "z": [
          0.018689704981212193,
          0.023833024143448747,
          0.021679167546290425,
          0.021339926512125466,
          0.018321545495993862,
          0.016164802124394168,
          0.01762781657698737,
          0.021602526313451925,
          0.026384654438939635,
          0.026565325506421548,
          0.02687875949247057,
          0.02599984323769027,
          0.019274865479270036,
          0.022802959205154762,
          0.02353623215849795,
          0.020789214443467662,
          0.019215694902075222,
          0.022126761504146247,
          0.026545701781075046,
          0.02465190486041791,
          0.022750802485560034,
          0.021012743277012247,
          0.026100676035319386,
          0.01837388461388583,
          0.02078959178868526,
          0.016320242777100386,
          0.01714177201065163,
          0.024972756159480254,
          0.01945233354921185,
          0.027092018382183225,
          0.021755489310725934,
          0.027670309082361733,
          0.02409893481332191,
          0.017927033957282276,
          0.01767577453798931,
          0.020048618543070298,
          0.015965459040252292,
          0.018130621775703435,
          0.016884447147173135,
          0.023766075615933507,
          0.02299538405017412,
          0.019316119060654134,
          0.024160881004124116,
          0.01294325358736026,
          0.01656992453702674,
          0.02108844724344627,
          0.018795231851114813,
          0.015774681709622335,
          0.02343560003996237,
          0.024820293151584856,
          0.016052510189762403,
          0.020730440014059996,
          0.023373321980350414,
          0.022141809722693626,
          0.020013925730499316,
          0.016084781926311603,
          0.027557603506407867,
          0.016518768123640813,
          0.01697011522364859
         ]
        },
        {
         "colorbar": {
          "title": {
           "text": "Amount of type"
          }
         },
         "colorscale": [
          [
           0,
           "rgb(247,251,255)"
          ],
          [
           0.125,
           "rgb(222,235,247)"
          ],
          [
           0.25,
           "rgb(198,219,239)"
          ],
          [
           0.375,
           "rgb(158,202,225)"
          ],
          [
           0.5,
           "rgb(107,174,214)"
          ],
          [
           0.625,
           "rgb(66,146,198)"
          ],
          [
           0.75,
           "rgb(33,113,181)"
          ],
          [
           0.875,
           "rgb(8,81,156)"
          ],
          [
           1,
           "rgb(8,48,107)"
          ]
         ],
         "locations": [
          "ARG",
          "AUS",
          "AUT",
          "BEL",
          "BGD",
          "BGR",
          "BLR",
          "BRA",
          "CAN",
          "CHE",
          "CHL",
          "CHN",
          "COL",
          "CZE",
          "DEU",
          "DNK",
          "EGY",
          "ESP",
          "FIN",
          "FRA",
          "GBR",
          "GRC",
          "HKG",
          "HRV",
          "HUN",
          "IDN",
          "IND",
          "IRL",
          "IRN",
          "ISR",
          "ITA",
          "JPN",
          "KOR",
          "LKA",
          "LTU",
          "MEX",
          "MYS",
          "NA",
          "NGA",
          "NLD",
          "NOR",
          "NPL",
          "NZL",
          "PAK",
          "PHL",
          "POL",
          "PRT",
          "ROU",
          "RUS",
          "SGP",
          "SRB",
          "SVK",
          "SVN",
          "SWE",
          "TUR",
          "UKR",
          "USA",
          "VNM",
          "ZAF"
         ],
         "name": "2",
         "type": "choropleth",
         "visible": false,
         "z": [
          0.018094840070707982,
          0.024869826050495668,
          0.02336574619238605,
          0.024167279827858004,
          0.016720436519604514,
          0.022862675028861985,
          0.021902671735407157,
          0.019945534179771168,
          0.022581847186772898,
          0.021826133676624684,
          0.01721404867912058,
          0.012617976672973676,
          0.017667580794136706,
          0.022197189990831947,
          0.018383152164374604,
          0.031081076851284743,
          0.02051414445236414,
          0.01562900116482516,
          0.018893306370939607,
          0.01580423842714784,
          0.025202138521641586,
          0.01843008745748271,
          0.019042109258834507,
          0.022900313697764813,
          0.020795733022303354,
          0.016518635824521104,
          0.01359433479770564,
          0.020359588798438712,
          0.02610806567084332,
          0.020992315905743148,
          0.01872725189552258,
          0.015390117212744352,
          0.014094555823278582,
          0.02228358032855374,
          0.02350259733689407,
          0.023524364185636637,
          0.021243059291379554,
          0.01760685834483705,
          0.01291257257075854,
          0.02242741196530885,
          0.023752118001471655,
          0.013468672779994778,
          0.028090353926610155,
          0.023516787928043636,
          0.01996359286014161,
          0.019536774737513692,
          0.022864427712907757,
          0.01932307306018555,
          0.019137145231291886,
          0.01914765947371851,
          0.02126707364258199,
          0.01847650082469314,
          0.023103042605107826,
          0.024473435610953064,
          0.02771931819948352,
          0.016632274761327337,
          0.022455686893330173,
          0.020383418017401934,
          0.03015853683601282
         ]
        },
        {
         "colorbar": {
          "title": {
           "text": "Amount of type"
          }
         },
         "colorscale": [
          [
           0,
           "rgb(247,251,255)"
          ],
          [
           0.125,
           "rgb(222,235,247)"
          ],
          [
           0.25,
           "rgb(198,219,239)"
          ],
          [
           0.375,
           "rgb(158,202,225)"
          ],
          [
           0.5,
           "rgb(107,174,214)"
          ],
          [
           0.625,
           "rgb(66,146,198)"
          ],
          [
           0.75,
           "rgb(33,113,181)"
          ],
          [
           0.875,
           "rgb(8,81,156)"
          ],
          [
           1,
           "rgb(8,48,107)"
          ]
         ],
         "locations": [
          "ARG",
          "AUS",
          "AUT",
          "BEL",
          "BGD",
          "BGR",
          "BLR",
          "BRA",
          "CAN",
          "CHE",
          "CHL",
          "CHN",
          "COL",
          "CZE",
          "DEU",
          "DNK",
          "EGY",
          "ESP",
          "FIN",
          "FRA",
          "GBR",
          "GRC",
          "HKG",
          "HRV",
          "HUN",
          "IDN",
          "IND",
          "IRL",
          "IRN",
          "ISR",
          "ITA",
          "JPN",
          "KOR",
          "LKA",
          "LTU",
          "MEX",
          "MYS",
          "NA",
          "NGA",
          "NLD",
          "NOR",
          "NPL",
          "NZL",
          "PAK",
          "PHL",
          "POL",
          "PRT",
          "ROU",
          "RUS",
          "SGP",
          "SRB",
          "SVK",
          "SVN",
          "SWE",
          "TUR",
          "UKR",
          "USA",
          "VNM",
          "ZAF"
         ],
         "name": "2",
         "type": "choropleth",
         "visible": false,
         "z": [
          0.020454963335650375,
          0.01684427162909099,
          0.027610352225027175,
          0.02280409253740124,
          0.023463628072730548,
          0.019030280308306242,
          0.020533798875089885,
          0.02428142581638222,
          0.02075100511425086,
          0.025842674603398015,
          0.02267907420024565,
          0.02325070896662475,
          0.021916856459400873,
          0.020858712178614403,
          0.025797832218588793,
          0.015781470082151094,
          0.021494635196868093,
          0.025723686834478184,
          0.02079033897356896,
          0.022203584552102824,
          0.016641946853435924,
          0.024023449976729276,
          0.024070253354610348,
          0.020785947935371446,
          0.023581115562986733,
          0.024859706819737055,
          0.025566987708027886,
          0.022981376370831055,
          0.021914630024171884,
          0.023440754351557364,
          0.026204105423249364,
          0.022314525750616557,
          0.028289024676114334,
          0.03587924367953263,
          0.016788611094892877,
          0.023245800312960127,
          0.026184430996063917,
          0.02075163325147853,
          0.021710980390283057,
          0.020573523496967106,
          0.020279576671107483,
          0.02189979237880409,
          0.01722657599568359,
          0.0231540272560446,
          0.02401693430412807,
          0.020335415663174213,
          0.0231590312309798,
          0.019592650372895197,
          0.01878484829816861,
          0.025733809894069076,
          0.022702118449533525,
          0.02385762335211293,
          0.02357949711184937,
          0.019334590950061018,
          0.025606807822955928,
          0.017761308577904172,
          0.01995539837626774,
          0.020334709150326948,
          0.01992302403425687
         ]
        },
        {
         "colorbar": {
          "title": {
           "text": "Amount of type"
          }
         },
         "colorscale": [
          [
           0,
           "rgb(247,251,255)"
          ],
          [
           0.125,
           "rgb(222,235,247)"
          ],
          [
           0.25,
           "rgb(198,219,239)"
          ],
          [
           0.375,
           "rgb(158,202,225)"
          ],
          [
           0.5,
           "rgb(107,174,214)"
          ],
          [
           0.625,
           "rgb(66,146,198)"
          ],
          [
           0.75,
           "rgb(33,113,181)"
          ],
          [
           0.875,
           "rgb(8,81,156)"
          ],
          [
           1,
           "rgb(8,48,107)"
          ]
         ],
         "locations": [
          "ARG",
          "AUS",
          "AUT",
          "BEL",
          "BGD",
          "BGR",
          "BLR",
          "BRA",
          "CAN",
          "CHE",
          "CHL",
          "CHN",
          "COL",
          "CZE",
          "DEU",
          "DNK",
          "EGY",
          "ESP",
          "FIN",
          "FRA",
          "GBR",
          "GRC",
          "HKG",
          "HRV",
          "HUN",
          "IDN",
          "IND",
          "IRL",
          "IRN",
          "ISR",
          "ITA",
          "JPN",
          "KOR",
          "LKA",
          "LTU",
          "MEX",
          "MYS",
          "NA",
          "NGA",
          "NLD",
          "NOR",
          "NPL",
          "NZL",
          "PAK",
          "PHL",
          "POL",
          "PRT",
          "ROU",
          "RUS",
          "SGP",
          "SRB",
          "SVK",
          "SVN",
          "SWE",
          "TUR",
          "UKR",
          "USA",
          "VNM",
          "ZAF"
         ],
         "name": "2",
         "type": "choropleth",
         "visible": false,
         "z": [
          0.030594824628700355,
          0.025640277799941807,
          0.02747676173301581,
          0.028303606190468896,
          0.03504342693134841,
          0.025134791744809797,
          0.020298454828063087,
          0.028491854481372703,
          0.025675601613678586,
          0.025570291947743712,
          0.03248174743446105,
          0.018240226588584315,
          0.02932578324977062,
          0.02550853151890818,
          0.02608021049256601,
          0.025379314166021995,
          0.02594681398343108,
          0.029432893362259082,
          0.02636786743807575,
          0.029503090267992856,
          0.025962046068683815,
          0.02933001752123149,
          0.02905092169986056,
          0.02502922351981986,
          0.025283231816655566,
          0.03683398307812854,
          0.02532558408986,
          0.025973646418058476,
          0.026899139493865614,
          0.02021425838592846,
          0.03189091788742732,
          0.023963406455917456,
          0.01994601961484646,
          0.03537419108599479,
          0.02909163825726496,
          0.03201089127583685,
          0.031929885278043274,
          0.026250654938865012,
          0.03232273227070989,
          0.029451659622816883,
          0.023741242288823572,
          0.032750075036778334,
          0.024916023544629764,
          0.03141611339602759,
          0.03637050888523963,
          0.024483754708829904,
          0.029003266873526713,
          0.028394422063438715,
          0.022673549391212102,
          0.023052979584890446,
          0.028847314366399937,
          0.028298480108856897,
          0.03181137733314293,
          0.023429038375415503,
          0.024300362834880993,
          0.023783592872488442,
          0.024746161378427157,
          0.024510906004020117,
          0.02746352206155438
         ]
        },
        {
         "colorbar": {
          "title": {
           "text": "Amount of type"
          }
         },
         "colorscale": [
          [
           0,
           "rgb(247,251,255)"
          ],
          [
           0.125,
           "rgb(222,235,247)"
          ],
          [
           0.25,
           "rgb(198,219,239)"
          ],
          [
           0.375,
           "rgb(158,202,225)"
          ],
          [
           0.5,
           "rgb(107,174,214)"
          ],
          [
           0.625,
           "rgb(66,146,198)"
          ],
          [
           0.75,
           "rgb(33,113,181)"
          ],
          [
           0.875,
           "rgb(8,81,156)"
          ],
          [
           1,
           "rgb(8,48,107)"
          ]
         ],
         "locations": [
          "ARG",
          "AUS",
          "AUT",
          "BEL",
          "BGD",
          "BGR",
          "BLR",
          "BRA",
          "CAN",
          "CHE",
          "CHL",
          "CHN",
          "COL",
          "CZE",
          "DEU",
          "DNK",
          "EGY",
          "ESP",
          "FIN",
          "FRA",
          "GBR",
          "GRC",
          "HKG",
          "HRV",
          "HUN",
          "IDN",
          "IND",
          "IRL",
          "IRN",
          "ISR",
          "ITA",
          "JPN",
          "KOR",
          "LKA",
          "LTU",
          "MEX",
          "MYS",
          "NA",
          "NGA",
          "NLD",
          "NOR",
          "NPL",
          "NZL",
          "PAK",
          "PHL",
          "POL",
          "PRT",
          "ROU",
          "RUS",
          "SGP",
          "SRB",
          "SVK",
          "SVN",
          "SWE",
          "TUR",
          "UKR",
          "USA",
          "VNM",
          "ZAF"
         ],
         "name": "2",
         "type": "choropleth",
         "visible": false,
         "z": [
          0.011163733340420647,
          0.013167568001428286,
          0.01908856209121332,
          0.01342890002705208,
          0.021320337441704806,
          0.013591484471845761,
          0.012739510724069307,
          0.013688238283843622,
          0.016188528938700555,
          0.017318191008350373,
          0.01372173145879763,
          0.019508895003757437,
          0.00825099219088746,
          0.01722428503399291,
          0.01801246775966771,
          0.01103587865971654,
          0.019545778182551356,
          0.012945176971230125,
          0.01412772896833605,
          0.019278396696062464,
          0.011497480719916898,
          0.017519701117272395,
          0.014527818102927963,
          0.01666544833949935,
          0.01535100167601583,
          0.01509437099346992,
          0.019637067384851725,
          0.010987442292784066,
          0.02023929436007344,
          0.015657478241059782,
          0.020045795210986508,
          0.01873806786032927,
          0.026420530228216554,
          0.01763353093367145,
          0.011811876695467457,
          0.012803121678602387,
          0.01622261140065782,
          0.01776826081492955,
          0.009679738779277925,
          0.012512654857604852,
          0.01282259556594881,
          0.025593000390159146,
          0.014078108275151133,
          0.022438655548183833,
          0.014120460699712374,
          0.01522386382812656,
          0.013766344906488126,
          0.01619298274275431,
          0.01683151254799296,
          0.014400700123095696,
          0.015181976373487178,
          0.0190221756346922,
          0.01633350208833883,
          0.01442918404675534,
          0.01877523431387267,
          0.012568549019406301,
          0.014242190107788636,
          0.017291651994725085,
          0.009867226045108209
         ]
        }
       ],
       "layout": {
        "annotations": [
         {
          "align": "left",
          "showarrow": false,
          "text": "Programmer type:",
          "x": 0,
          "y": 1.15,
          "yref": "paper"
         }
        ],
        "autosize": true,
        "geo": {},
        "template": {
         "data": {
          "bar": [
           {
            "error_x": {
             "color": "#2a3f5f"
            },
            "error_y": {
             "color": "#2a3f5f"
            },
            "marker": {
             "line": {
              "color": "#E5ECF6",
              "width": 0.5
             }
            },
            "type": "bar"
           }
          ],
          "barpolar": [
           {
            "marker": {
             "line": {
              "color": "#E5ECF6",
              "width": 0.5
             }
            },
            "type": "barpolar"
           }
          ],
          "carpet": [
           {
            "aaxis": {
             "endlinecolor": "#2a3f5f",
             "gridcolor": "white",
             "linecolor": "white",
             "minorgridcolor": "white",
             "startlinecolor": "#2a3f5f"
            },
            "baxis": {
             "endlinecolor": "#2a3f5f",
             "gridcolor": "white",
             "linecolor": "white",
             "minorgridcolor": "white",
             "startlinecolor": "#2a3f5f"
            },
            "type": "carpet"
           }
          ],
          "choropleth": [
           {
            "colorbar": {
             "outlinewidth": 0,
             "ticks": ""
            },
            "type": "choropleth"
           }
          ],
          "contour": [
           {
            "colorbar": {
             "outlinewidth": 0,
             "ticks": ""
            },
            "colorscale": [
             [
              0,
              "#0d0887"
             ],
             [
              0.1111111111111111,
              "#46039f"
             ],
             [
              0.2222222222222222,
              "#7201a8"
             ],
             [
              0.3333333333333333,
              "#9c179e"
             ],
             [
              0.4444444444444444,
              "#bd3786"
             ],
             [
              0.5555555555555556,
              "#d8576b"
             ],
             [
              0.6666666666666666,
              "#ed7953"
             ],
             [
              0.7777777777777778,
              "#fb9f3a"
             ],
             [
              0.8888888888888888,
              "#fdca26"
             ],
             [
              1,
              "#f0f921"
             ]
            ],
            "type": "contour"
           }
          ],
          "contourcarpet": [
           {
            "colorbar": {
             "outlinewidth": 0,
             "ticks": ""
            },
            "type": "contourcarpet"
           }
          ],
          "heatmap": [
           {
            "colorbar": {
             "outlinewidth": 0,
             "ticks": ""
            },
            "colorscale": [
             [
              0,
              "#0d0887"
             ],
             [
              0.1111111111111111,
              "#46039f"
             ],
             [
              0.2222222222222222,
              "#7201a8"
             ],
             [
              0.3333333333333333,
              "#9c179e"
             ],
             [
              0.4444444444444444,
              "#bd3786"
             ],
             [
              0.5555555555555556,
              "#d8576b"
             ],
             [
              0.6666666666666666,
              "#ed7953"
             ],
             [
              0.7777777777777778,
              "#fb9f3a"
             ],
             [
              0.8888888888888888,
              "#fdca26"
             ],
             [
              1,
              "#f0f921"
             ]
            ],
            "type": "heatmap"
           }
          ],
          "heatmapgl": [
           {
            "colorbar": {
             "outlinewidth": 0,
             "ticks": ""
            },
            "colorscale": [
             [
              0,
              "#0d0887"
             ],
             [
              0.1111111111111111,
              "#46039f"
             ],
             [
              0.2222222222222222,
              "#7201a8"
             ],
             [
              0.3333333333333333,
              "#9c179e"
             ],
             [
              0.4444444444444444,
              "#bd3786"
             ],
             [
              0.5555555555555556,
              "#d8576b"
             ],
             [
              0.6666666666666666,
              "#ed7953"
             ],
             [
              0.7777777777777778,
              "#fb9f3a"
             ],
             [
              0.8888888888888888,
              "#fdca26"
             ],
             [
              1,
              "#f0f921"
             ]
            ],
            "type": "heatmapgl"
           }
          ],
          "histogram": [
           {
            "marker": {
             "colorbar": {
              "outlinewidth": 0,
              "ticks": ""
             }
            },
            "type": "histogram"
           }
          ],
          "histogram2d": [
           {
            "colorbar": {
             "outlinewidth": 0,
             "ticks": ""
            },
            "colorscale": [
             [
              0,
              "#0d0887"
             ],
             [
              0.1111111111111111,
              "#46039f"
             ],
             [
              0.2222222222222222,
              "#7201a8"
             ],
             [
              0.3333333333333333,
              "#9c179e"
             ],
             [
              0.4444444444444444,
              "#bd3786"
             ],
             [
              0.5555555555555556,
              "#d8576b"
             ],
             [
              0.6666666666666666,
              "#ed7953"
             ],
             [
              0.7777777777777778,
              "#fb9f3a"
             ],
             [
              0.8888888888888888,
              "#fdca26"
             ],
             [
              1,
              "#f0f921"
             ]
            ],
            "type": "histogram2d"
           }
          ],
          "histogram2dcontour": [
           {
            "colorbar": {
             "outlinewidth": 0,
             "ticks": ""
            },
            "colorscale": [
             [
              0,
              "#0d0887"
             ],
             [
              0.1111111111111111,
              "#46039f"
             ],
             [
              0.2222222222222222,
              "#7201a8"
             ],
             [
              0.3333333333333333,
              "#9c179e"
             ],
             [
              0.4444444444444444,
              "#bd3786"
             ],
             [
              0.5555555555555556,
              "#d8576b"
             ],
             [
              0.6666666666666666,
              "#ed7953"
             ],
             [
              0.7777777777777778,
              "#fb9f3a"
             ],
             [
              0.8888888888888888,
              "#fdca26"
             ],
             [
              1,
              "#f0f921"
             ]
            ],
            "type": "histogram2dcontour"
           }
          ],
          "mesh3d": [
           {
            "colorbar": {
             "outlinewidth": 0,
             "ticks": ""
            },
            "type": "mesh3d"
           }
          ],
          "parcoords": [
           {
            "line": {
             "colorbar": {
              "outlinewidth": 0,
              "ticks": ""
             }
            },
            "type": "parcoords"
           }
          ],
          "pie": [
           {
            "automargin": true,
            "type": "pie"
           }
          ],
          "scatter": [
           {
            "marker": {
             "colorbar": {
              "outlinewidth": 0,
              "ticks": ""
             }
            },
            "type": "scatter"
           }
          ],
          "scatter3d": [
           {
            "line": {
             "colorbar": {
              "outlinewidth": 0,
              "ticks": ""
             }
            },
            "marker": {
             "colorbar": {
              "outlinewidth": 0,
              "ticks": ""
             }
            },
            "type": "scatter3d"
           }
          ],
          "scattercarpet": [
           {
            "marker": {
             "colorbar": {
              "outlinewidth": 0,
              "ticks": ""
             }
            },
            "type": "scattercarpet"
           }
          ],
          "scattergeo": [
           {
            "marker": {
             "colorbar": {
              "outlinewidth": 0,
              "ticks": ""
             }
            },
            "type": "scattergeo"
           }
          ],
          "scattergl": [
           {
            "marker": {
             "colorbar": {
              "outlinewidth": 0,
              "ticks": ""
             }
            },
            "type": "scattergl"
           }
          ],
          "scattermapbox": [
           {
            "marker": {
             "colorbar": {
              "outlinewidth": 0,
              "ticks": ""
             }
            },
            "type": "scattermapbox"
           }
          ],
          "scatterpolar": [
           {
            "marker": {
             "colorbar": {
              "outlinewidth": 0,
              "ticks": ""
             }
            },
            "type": "scatterpolar"
           }
          ],
          "scatterpolargl": [
           {
            "marker": {
             "colorbar": {
              "outlinewidth": 0,
              "ticks": ""
             }
            },
            "type": "scatterpolargl"
           }
          ],
          "scatterternary": [
           {
            "marker": {
             "colorbar": {
              "outlinewidth": 0,
              "ticks": ""
             }
            },
            "type": "scatterternary"
           }
          ],
          "surface": [
           {
            "colorbar": {
             "outlinewidth": 0,
             "ticks": ""
            },
            "colorscale": [
             [
              0,
              "#0d0887"
             ],
             [
              0.1111111111111111,
              "#46039f"
             ],
             [
              0.2222222222222222,
              "#7201a8"
             ],
             [
              0.3333333333333333,
              "#9c179e"
             ],
             [
              0.4444444444444444,
              "#bd3786"
             ],
             [
              0.5555555555555556,
              "#d8576b"
             ],
             [
              0.6666666666666666,
              "#ed7953"
             ],
             [
              0.7777777777777778,
              "#fb9f3a"
             ],
             [
              0.8888888888888888,
              "#fdca26"
             ],
             [
              1,
              "#f0f921"
             ]
            ],
            "type": "surface"
           }
          ],
          "table": [
           {
            "cells": {
             "fill": {
              "color": "#EBF0F8"
             },
             "line": {
              "color": "white"
             }
            },
            "header": {
             "fill": {
              "color": "#C8D4E3"
             },
             "line": {
              "color": "white"
             }
            },
            "type": "table"
           }
          ]
         },
         "layout": {
          "annotationdefaults": {
           "arrowcolor": "#2a3f5f",
           "arrowhead": 0,
           "arrowwidth": 1
          },
          "coloraxis": {
           "colorbar": {
            "outlinewidth": 0,
            "ticks": ""
           }
          },
          "colorscale": {
           "diverging": [
            [
             0,
             "#8e0152"
            ],
            [
             0.1,
             "#c51b7d"
            ],
            [
             0.2,
             "#de77ae"
            ],
            [
             0.3,
             "#f1b6da"
            ],
            [
             0.4,
             "#fde0ef"
            ],
            [
             0.5,
             "#f7f7f7"
            ],
            [
             0.6,
             "#e6f5d0"
            ],
            [
             0.7,
             "#b8e186"
            ],
            [
             0.8,
             "#7fbc41"
            ],
            [
             0.9,
             "#4d9221"
            ],
            [
             1,
             "#276419"
            ]
           ],
           "sequential": [
            [
             0,
             "#0d0887"
            ],
            [
             0.1111111111111111,
             "#46039f"
            ],
            [
             0.2222222222222222,
             "#7201a8"
            ],
            [
             0.3333333333333333,
             "#9c179e"
            ],
            [
             0.4444444444444444,
             "#bd3786"
            ],
            [
             0.5555555555555556,
             "#d8576b"
            ],
            [
             0.6666666666666666,
             "#ed7953"
            ],
            [
             0.7777777777777778,
             "#fb9f3a"
            ],
            [
             0.8888888888888888,
             "#fdca26"
            ],
            [
             1,
             "#f0f921"
            ]
           ],
           "sequentialminus": [
            [
             0,
             "#0d0887"
            ],
            [
             0.1111111111111111,
             "#46039f"
            ],
            [
             0.2222222222222222,
             "#7201a8"
            ],
            [
             0.3333333333333333,
             "#9c179e"
            ],
            [
             0.4444444444444444,
             "#bd3786"
            ],
            [
             0.5555555555555556,
             "#d8576b"
            ],
            [
             0.6666666666666666,
             "#ed7953"
            ],
            [
             0.7777777777777778,
             "#fb9f3a"
            ],
            [
             0.8888888888888888,
             "#fdca26"
            ],
            [
             1,
             "#f0f921"
            ]
           ]
          },
          "colorway": [
           "#636efa",
           "#EF553B",
           "#00cc96",
           "#ab63fa",
           "#FFA15A",
           "#19d3f3",
           "#FF6692",
           "#B6E880",
           "#FF97FF",
           "#FECB52"
          ],
          "font": {
           "color": "#2a3f5f"
          },
          "geo": {
           "bgcolor": "white",
           "lakecolor": "white",
           "landcolor": "#E5ECF6",
           "showlakes": true,
           "showland": true,
           "subunitcolor": "white"
          },
          "hoverlabel": {
           "align": "left"
          },
          "hovermode": "closest",
          "mapbox": {
           "style": "light"
          },
          "paper_bgcolor": "white",
          "plot_bgcolor": "#E5ECF6",
          "polar": {
           "angularaxis": {
            "gridcolor": "white",
            "linecolor": "white",
            "ticks": ""
           },
           "bgcolor": "#E5ECF6",
           "radialaxis": {
            "gridcolor": "white",
            "linecolor": "white",
            "ticks": ""
           }
          },
          "scene": {
           "xaxis": {
            "backgroundcolor": "#E5ECF6",
            "gridcolor": "white",
            "gridwidth": 2,
            "linecolor": "white",
            "showbackground": true,
            "ticks": "",
            "zerolinecolor": "white"
           },
           "yaxis": {
            "backgroundcolor": "#E5ECF6",
            "gridcolor": "white",
            "gridwidth": 2,
            "linecolor": "white",
            "showbackground": true,
            "ticks": "",
            "zerolinecolor": "white"
           },
           "zaxis": {
            "backgroundcolor": "#E5ECF6",
            "gridcolor": "white",
            "gridwidth": 2,
            "linecolor": "white",
            "showbackground": true,
            "ticks": "",
            "zerolinecolor": "white"
           }
          },
          "shapedefaults": {
           "line": {
            "color": "#2a3f5f"
           }
          },
          "ternary": {
           "aaxis": {
            "gridcolor": "white",
            "linecolor": "white",
            "ticks": ""
           },
           "baxis": {
            "gridcolor": "white",
            "linecolor": "white",
            "ticks": ""
           },
           "bgcolor": "#E5ECF6",
           "caxis": {
            "gridcolor": "white",
            "linecolor": "white",
            "ticks": ""
           }
          },
          "title": {
           "x": 0.05
          },
          "xaxis": {
           "automargin": true,
           "gridcolor": "white",
           "linecolor": "white",
           "ticks": "",
           "title": {
            "standoff": 15
           },
           "zerolinecolor": "white",
           "zerolinewidth": 2
          },
          "yaxis": {
           "automargin": true,
           "gridcolor": "white",
           "linecolor": "white",
           "ticks": "",
           "title": {
            "standoff": 15
           },
           "zerolinecolor": "white",
           "zerolinewidth": 2
          }
         }
        },
        "title": {
         "text": "Amount of type"
        },
        "updatemenus": [
         {
          "active": 0,
          "buttons": [
           {
            "args": [
             {
              "visible": [
               true,
               false,
               false,
               false,
               false,
               false
              ]
             }
            ],
            "label": "Frontend web",
            "method": "update"
           },
           {
            "args": [
             {
              "visible": [
               false,
               true,
               false,
               false,
               false,
               false
              ]
             }
            ],
            "label": "Script/Python",
            "method": "update"
           },
           {
            "args": [
             {
              "visible": [
               false,
               false,
               true,
               false,
               false,
               false
              ]
             }
            ],
            "label": "C#",
            "method": "update"
           },
           {
            "args": [
             {
              "visible": [
               false,
               false,
               false,
               true,
               false,
               false
              ]
             }
            ],
            "label": "Java",
            "method": "update"
           },
           {
            "args": [
             {
              "visible": [
               false,
               false,
               false,
               false,
               true,
               false
              ]
             }
            ],
            "label": "Backend web",
            "method": "update"
           },
           {
            "args": [
             {
              "visible": [
               false,
               false,
               false,
               false,
               false,
               true
              ]
             }
            ],
            "label": "Low-level",
            "method": "update"
           }
          ],
          "direction": "left",
          "pad": {
           "r": 10,
           "t": 10
          },
          "showactive": true,
          "type": "buttons",
          "x": 0.15,
          "xanchor": "left",
          "y": 1.2,
          "yanchor": "top"
         }
        ]
       }
      },
      "image/png": "[encoded data removed]",
      "text/html": [
       "<div>\n",
       "        \n",
       "        \n",
       "            <div id=\"6085fe27-d10e-4a2a-adb4-d8e7419b3b5a\" class=\"plotly-graph-div\" style=\"height:525px; width:100%;\"></div>\n",
       "            <script type=\"text/javascript\">\n",
       "                require([\"plotly\"], function(Plotly) {\n",
       "                    window.PLOTLYENV=window.PLOTLYENV || {};\n",
       "                    \n",
       "                if (document.getElementById(\"6085fe27-d10e-4a2a-adb4-d8e7419b3b5a\")) {\n",
       "                    Plotly.newPlot(\n",
       "                        '6085fe27-d10e-4a2a-adb4-d8e7419b3b5a',\n",
       "                        [{\"colorbar\": {\"title\": {\"text\": \"Amount of type\"}}, \"colorscale\": [[0.0, \"rgb(247,251,255)\"], [0.125, \"rgb(222,235,247)\"], [0.25, \"rgb(198,219,239)\"], [0.375, \"rgb(158,202,225)\"], [0.5, \"rgb(107,174,214)\"], [0.625, \"rgb(66,146,198)\"], [0.75, \"rgb(33,113,181)\"], [0.875, \"rgb(8,81,156)\"], [1.0, \"rgb(8,48,107)\"]], \"locations\": [\"ARG\", \"AUS\", \"AUT\", \"BEL\", \"BGD\", \"BGR\", \"BLR\", \"BRA\", \"CAN\", \"CHE\", \"CHL\", \"CHN\", \"COL\", \"CZE\", \"DEU\", \"DNK\", \"EGY\", \"ESP\", \"FIN\", \"FRA\", \"GBR\", \"GRC\", \"HKG\", \"HRV\", \"HUN\", \"IDN\", \"IND\", \"IRL\", \"IRN\", \"ISR\", \"ITA\", \"JPN\", \"KOR\", \"LKA\", \"LTU\", \"MEX\", \"MYS\", \"NA\", \"NGA\", \"NLD\", \"NOR\", \"NPL\", \"NZL\", \"PAK\", \"PHL\", \"POL\", \"PRT\", \"ROU\", \"RUS\", \"SGP\", \"SRB\", \"SVK\", \"SVN\", \"SWE\", \"TUR\", \"UKR\", \"USA\", \"VNM\", \"ZAF\"], \"name\": \"2\", \"type\": \"choropleth\", \"visible\": true, \"z\": [0.028044340432531838, 0.02995117848829772, 0.027385389515125428, 0.02778571876012927, 0.030087650084633797, 0.02770988565386224, 0.024282695176516093, 0.029243197226668283, 0.027780316476700997, 0.026290833976218213, 0.026680407679088195, 0.022737863964338266, 0.030585138915552274, 0.02532258404964107, 0.024692334643821433, 0.024940030512991766, 0.027818897058329493, 0.025810332403856433, 0.027820602597981685, 0.026254087408445644, 0.026262731860750396, 0.023565834266713374, 0.02809887824313402, 0.025563249460349585, 0.026590143454860615, 0.026400643105247167, 0.025644266299976067, 0.025100099346733032, 0.024185456479394407, 0.025276255266415814, 0.026418181806904986, 0.027219758086891917, 0.018740193228772895, 0.031920039998534, 0.02496433564020559, 0.027623471963609487, 0.028896632690503667, 0.016607853066913147, 0.03401535252945318, 0.027701283532041546, 0.028785091156852224, 0.028430867047129386, 0.0285379234525981, 0.027321541557727275, 0.026627377769388488, 0.02277403335884658, 0.024879426222226456, 0.021936845711654593, 0.022279795145834808, 0.02717020945824815, 0.026134886001388066, 0.0273595968774853, 0.024651263891752945, 0.024773604017113295, 0.02527504901767767, 0.023393234874100884, 0.028432616374331008, 0.026768425581256926, 0.02648519271446493]}, {\"colorbar\": {\"title\": {\"text\": \"Amount of type\"}}, \"colorscale\": [[0.0, \"rgb(247,251,255)\"], [0.125, \"rgb(222,235,247)\"], [0.25, \"rgb(198,219,239)\"], [0.375, \"rgb(158,202,225)\"], [0.5, \"rgb(107,174,214)\"], [0.625, \"rgb(66,146,198)\"], [0.75, \"rgb(33,113,181)\"], [0.875, \"rgb(8,81,156)\"], [1.0, \"rgb(8,48,107)\"]], \"locations\": [\"ARG\", \"AUS\", \"AUT\", \"BEL\", \"BGD\", \"BGR\", \"BLR\", \"BRA\", \"CAN\", \"CHE\", \"CHL\", \"CHN\", \"COL\", \"CZE\", \"DEU\", \"DNK\", \"EGY\", \"ESP\", \"FIN\", \"FRA\", \"GBR\", \"GRC\", \"HKG\", \"HRV\", \"HUN\", \"IDN\", \"IND\", \"IRL\", \"IRN\", \"ISR\", \"ITA\", \"JPN\", \"KOR\", \"LKA\", \"LTU\", \"MEX\", \"MYS\", \"NA\", \"NGA\", \"NLD\", \"NOR\", \"NPL\", \"NZL\", \"PAK\", \"PHL\", \"POL\", \"PRT\", \"ROU\", \"RUS\", \"SGP\", \"SRB\", \"SVK\", \"SVN\", \"SWE\", \"TUR\", \"UKR\", \"USA\", \"VNM\", \"ZAF\"], \"name\": \"2\", \"type\": \"choropleth\", \"visible\": false, \"z\": [0.018689704981212193, 0.023833024143448747, 0.021679167546290425, 0.021339926512125466, 0.018321545495993862, 0.016164802124394168, 0.01762781657698737, 0.021602526313451925, 0.026384654438939635, 0.026565325506421548, 0.02687875949247057, 0.02599984323769027, 0.019274865479270036, 0.022802959205154762, 0.02353623215849795, 0.020789214443467662, 0.019215694902075222, 0.022126761504146247, 0.026545701781075046, 0.02465190486041791, 0.022750802485560034, 0.021012743277012247, 0.026100676035319386, 0.01837388461388583, 0.02078959178868526, 0.016320242777100386, 0.01714177201065163, 0.024972756159480254, 0.01945233354921185, 0.027092018382183225, 0.021755489310725934, 0.027670309082361733, 0.02409893481332191, 0.017927033957282276, 0.01767577453798931, 0.020048618543070298, 0.015965459040252292, 0.018130621775703435, 0.016884447147173135, 0.023766075615933507, 0.02299538405017412, 0.019316119060654134, 0.024160881004124116, 0.01294325358736026, 0.01656992453702674, 0.02108844724344627, 0.018795231851114813, 0.015774681709622335, 0.02343560003996237, 0.024820293151584856, 0.016052510189762403, 0.020730440014059996, 0.023373321980350414, 0.022141809722693626, 0.020013925730499316, 0.016084781926311603, 0.027557603506407867, 0.016518768123640813, 0.01697011522364859]}, {\"colorbar\": {\"title\": {\"text\": \"Amount of type\"}}, \"colorscale\": [[0.0, \"rgb(247,251,255)\"], [0.125, \"rgb(222,235,247)\"], [0.25, \"rgb(198,219,239)\"], [0.375, \"rgb(158,202,225)\"], [0.5, \"rgb(107,174,214)\"], [0.625, \"rgb(66,146,198)\"], [0.75, \"rgb(33,113,181)\"], [0.875, \"rgb(8,81,156)\"], [1.0, \"rgb(8,48,107)\"]], \"locations\": [\"ARG\", \"AUS\", \"AUT\", \"BEL\", \"BGD\", \"BGR\", \"BLR\", \"BRA\", \"CAN\", \"CHE\", \"CHL\", \"CHN\", \"COL\", \"CZE\", \"DEU\", \"DNK\", \"EGY\", \"ESP\", \"FIN\", \"FRA\", \"GBR\", \"GRC\", \"HKG\", \"HRV\", \"HUN\", \"IDN\", \"IND\", \"IRL\", \"IRN\", \"ISR\", \"ITA\", \"JPN\", \"KOR\", \"LKA\", \"LTU\", \"MEX\", \"MYS\", \"NA\", \"NGA\", \"NLD\", \"NOR\", \"NPL\", \"NZL\", \"PAK\", \"PHL\", \"POL\", \"PRT\", \"ROU\", \"RUS\", \"SGP\", \"SRB\", \"SVK\", \"SVN\", \"SWE\", \"TUR\", \"UKR\", \"USA\", \"VNM\", \"ZAF\"], \"name\": \"2\", \"type\": \"choropleth\", \"visible\": false, \"z\": [0.018094840070707982, 0.024869826050495668, 0.02336574619238605, 0.024167279827858004, 0.016720436519604514, 0.022862675028861985, 0.021902671735407157, 0.019945534179771168, 0.022581847186772898, 0.021826133676624684, 0.01721404867912058, 0.012617976672973676, 0.017667580794136706, 0.022197189990831947, 0.018383152164374604, 0.031081076851284743, 0.02051414445236414, 0.01562900116482516, 0.018893306370939607, 0.01580423842714784, 0.025202138521641586, 0.01843008745748271, 0.019042109258834507, 0.022900313697764813, 0.020795733022303354, 0.016518635824521104, 0.01359433479770564, 0.020359588798438712, 0.02610806567084332, 0.020992315905743148, 0.01872725189552258, 0.015390117212744352, 0.014094555823278582, 0.02228358032855374, 0.02350259733689407, 0.023524364185636637, 0.021243059291379554, 0.01760685834483705, 0.01291257257075854, 0.02242741196530885, 0.023752118001471655, 0.013468672779994778, 0.028090353926610155, 0.023516787928043636, 0.01996359286014161, 0.019536774737513692, 0.022864427712907757, 0.01932307306018555, 0.019137145231291886, 0.01914765947371851, 0.02126707364258199, 0.01847650082469314, 0.023103042605107826, 0.024473435610953064, 0.02771931819948352, 0.016632274761327337, 0.022455686893330173, 0.020383418017401934, 0.03015853683601282]}, {\"colorbar\": {\"title\": {\"text\": \"Amount of type\"}}, \"colorscale\": [[0.0, \"rgb(247,251,255)\"], [0.125, \"rgb(222,235,247)\"], [0.25, \"rgb(198,219,239)\"], [0.375, \"rgb(158,202,225)\"], [0.5, \"rgb(107,174,214)\"], [0.625, \"rgb(66,146,198)\"], [0.75, \"rgb(33,113,181)\"], [0.875, \"rgb(8,81,156)\"], [1.0, \"rgb(8,48,107)\"]], \"locations\": [\"ARG\", \"AUS\", \"AUT\", \"BEL\", \"BGD\", \"BGR\", \"BLR\", \"BRA\", \"CAN\", \"CHE\", \"CHL\", \"CHN\", \"COL\", \"CZE\", \"DEU\", \"DNK\", \"EGY\", \"ESP\", \"FIN\", \"FRA\", \"GBR\", \"GRC\", \"HKG\", \"HRV\", \"HUN\", \"IDN\", \"IND\", \"IRL\", \"IRN\", \"ISR\", \"ITA\", \"JPN\", \"KOR\", \"LKA\", \"LTU\", \"MEX\", \"MYS\", \"NA\", \"NGA\", \"NLD\", \"NOR\", \"NPL\", \"NZL\", \"PAK\", \"PHL\", \"POL\", \"PRT\", \"ROU\", \"RUS\", \"SGP\", \"SRB\", \"SVK\", \"SVN\", \"SWE\", \"TUR\", \"UKR\", \"USA\", \"VNM\", \"ZAF\"], \"name\": \"2\", \"type\": \"choropleth\", \"visible\": false, \"z\": [0.020454963335650375, 0.01684427162909099, 0.027610352225027175, 0.02280409253740124, 0.023463628072730548, 0.019030280308306242, 0.020533798875089885, 0.02428142581638222, 0.02075100511425086, 0.025842674603398015, 0.02267907420024565, 0.02325070896662475, 0.021916856459400873, 0.020858712178614403, 0.025797832218588793, 0.015781470082151094, 0.021494635196868093, 0.025723686834478184, 0.02079033897356896, 0.022203584552102824, 0.016641946853435924, 0.024023449976729276, 0.024070253354610348, 0.020785947935371446, 0.023581115562986733, 0.024859706819737055, 0.025566987708027886, 0.022981376370831055, 0.021914630024171884, 0.023440754351557364, 0.026204105423249364, 0.022314525750616557, 0.028289024676114334, 0.03587924367953263, 0.016788611094892877, 0.023245800312960127, 0.026184430996063917, 0.02075163325147853, 0.021710980390283057, 0.020573523496967106, 0.020279576671107483, 0.02189979237880409, 0.01722657599568359, 0.0231540272560446, 0.02401693430412807, 0.020335415663174213, 0.0231590312309798, 0.019592650372895197, 0.01878484829816861, 0.025733809894069076, 0.022702118449533525, 0.02385762335211293, 0.02357949711184937, 0.019334590950061018, 0.025606807822955928, 0.017761308577904172, 0.01995539837626774, 0.020334709150326948, 0.01992302403425687]}, {\"colorbar\": {\"title\": {\"text\": \"Amount of type\"}}, \"colorscale\": [[0.0, \"rgb(247,251,255)\"], [0.125, \"rgb(222,235,247)\"], [0.25, \"rgb(198,219,239)\"], [0.375, \"rgb(158,202,225)\"], [0.5, \"rgb(107,174,214)\"], [0.625, \"rgb(66,146,198)\"], [0.75, \"rgb(33,113,181)\"], [0.875, \"rgb(8,81,156)\"], [1.0, \"rgb(8,48,107)\"]], \"locations\": [\"ARG\", \"AUS\", \"AUT\", \"BEL\", \"BGD\", \"BGR\", \"BLR\", \"BRA\", \"CAN\", \"CHE\", \"CHL\", \"CHN\", \"COL\", \"CZE\", \"DEU\", \"DNK\", \"EGY\", \"ESP\", \"FIN\", \"FRA\", \"GBR\", \"GRC\", \"HKG\", \"HRV\", \"HUN\", \"IDN\", \"IND\", \"IRL\", \"IRN\", \"ISR\", \"ITA\", \"JPN\", \"KOR\", \"LKA\", \"LTU\", \"MEX\", \"MYS\", \"NA\", \"NGA\", \"NLD\", \"NOR\", \"NPL\", \"NZL\", \"PAK\", \"PHL\", \"POL\", \"PRT\", \"ROU\", \"RUS\", \"SGP\", \"SRB\", \"SVK\", \"SVN\", \"SWE\", \"TUR\", \"UKR\", \"USA\", \"VNM\", \"ZAF\"], \"name\": \"2\", \"type\": \"choropleth\", \"visible\": false, \"z\": [0.030594824628700355, 0.025640277799941807, 0.02747676173301581, 0.028303606190468896, 0.03504342693134841, 0.025134791744809797, 0.020298454828063087, 0.028491854481372703, 0.025675601613678586, 0.025570291947743712, 0.03248174743446105, 0.018240226588584315, 0.02932578324977062, 0.02550853151890818, 0.02608021049256601, 0.025379314166021995, 0.02594681398343108, 0.029432893362259082, 0.02636786743807575, 0.029503090267992856, 0.025962046068683815, 0.02933001752123149, 0.02905092169986056, 0.02502922351981986, 0.025283231816655566, 0.03683398307812854, 0.02532558408986, 0.025973646418058476, 0.026899139493865614, 0.02021425838592846, 0.03189091788742732, 0.023963406455917456, 0.01994601961484646, 0.03537419108599479, 0.02909163825726496, 0.03201089127583685, 0.031929885278043274, 0.026250654938865012, 0.03232273227070989, 0.029451659622816883, 0.023741242288823572, 0.032750075036778334, 0.024916023544629764, 0.03141611339602759, 0.03637050888523963, 0.024483754708829904, 0.029003266873526713, 0.028394422063438715, 0.022673549391212102, 0.023052979584890446, 0.028847314366399937, 0.028298480108856897, 0.03181137733314293, 0.023429038375415503, 0.024300362834880993, 0.023783592872488442, 0.024746161378427157, 0.024510906004020117, 0.02746352206155438]}, {\"colorbar\": {\"title\": {\"text\": \"Amount of type\"}}, \"colorscale\": [[0.0, \"rgb(247,251,255)\"], [0.125, \"rgb(222,235,247)\"], [0.25, \"rgb(198,219,239)\"], [0.375, \"rgb(158,202,225)\"], [0.5, \"rgb(107,174,214)\"], [0.625, \"rgb(66,146,198)\"], [0.75, \"rgb(33,113,181)\"], [0.875, \"rgb(8,81,156)\"], [1.0, \"rgb(8,48,107)\"]], \"locations\": [\"ARG\", \"AUS\", \"AUT\", \"BEL\", \"BGD\", \"BGR\", \"BLR\", \"BRA\", \"CAN\", \"CHE\", \"CHL\", \"CHN\", \"COL\", \"CZE\", \"DEU\", \"DNK\", \"EGY\", \"ESP\", \"FIN\", \"FRA\", \"GBR\", \"GRC\", \"HKG\", \"HRV\", \"HUN\", \"IDN\", \"IND\", \"IRL\", \"IRN\", \"ISR\", \"ITA\", \"JPN\", \"KOR\", \"LKA\", \"LTU\", \"MEX\", \"MYS\", \"NA\", \"NGA\", \"NLD\", \"NOR\", \"NPL\", \"NZL\", \"PAK\", \"PHL\", \"POL\", \"PRT\", \"ROU\", \"RUS\", \"SGP\", \"SRB\", \"SVK\", \"SVN\", \"SWE\", \"TUR\", \"UKR\", \"USA\", \"VNM\", \"ZAF\"], \"name\": \"2\", \"type\": \"choropleth\", \"visible\": false, \"z\": [0.011163733340420647, 0.013167568001428286, 0.01908856209121332, 0.01342890002705208, 0.021320337441704806, 0.013591484471845761, 0.012739510724069307, 0.013688238283843622, 0.016188528938700555, 0.017318191008350373, 0.01372173145879763, 0.019508895003757437, 0.00825099219088746, 0.01722428503399291, 0.01801246775966771, 0.01103587865971654, 0.019545778182551356, 0.012945176971230125, 0.01412772896833605, 0.019278396696062464, 0.011497480719916898, 0.017519701117272395, 0.014527818102927963, 0.01666544833949935, 0.01535100167601583, 0.01509437099346992, 0.019637067384851725, 0.010987442292784066, 0.02023929436007344, 0.015657478241059782, 0.020045795210986508, 0.01873806786032927, 0.026420530228216554, 0.01763353093367145, 0.011811876695467457, 0.012803121678602387, 0.01622261140065782, 0.01776826081492955, 0.009679738779277925, 0.012512654857604852, 0.01282259556594881, 0.025593000390159146, 0.014078108275151133, 0.022438655548183833, 0.014120460699712374, 0.01522386382812656, 0.013766344906488126, 0.01619298274275431, 0.01683151254799296, 0.014400700123095696, 0.015181976373487178, 0.0190221756346922, 0.01633350208833883, 0.01442918404675534, 0.01877523431387267, 0.012568549019406301, 0.014242190107788636, 0.017291651994725085, 0.009867226045108209]}],\n",
       "                        {\"annotations\": [{\"align\": \"left\", \"showarrow\": false, \"text\": \"Programmer type:\", \"x\": 0, \"y\": 1.15, \"yref\": \"paper\"}], \"template\": {\"data\": {\"bar\": [{\"error_x\": {\"color\": \"#2a3f5f\"}, \"error_y\": {\"color\": \"#2a3f5f\"}, \"marker\": {\"line\": {\"color\": \"#E5ECF6\", \"width\": 0.5}}, \"type\": \"bar\"}], \"barpolar\": [{\"marker\": {\"line\": {\"color\": \"#E5ECF6\", \"width\": 0.5}}, \"type\": \"barpolar\"}], \"carpet\": [{\"aaxis\": {\"endlinecolor\": \"#2a3f5f\", \"gridcolor\": \"white\", \"linecolor\": \"white\", \"minorgridcolor\": \"white\", \"startlinecolor\": \"#2a3f5f\"}, \"baxis\": {\"endlinecolor\": \"#2a3f5f\", \"gridcolor\": \"white\", \"linecolor\": \"white\", \"minorgridcolor\": \"white\", \"startlinecolor\": \"#2a3f5f\"}, \"type\": \"carpet\"}], \"choropleth\": [{\"colorbar\": {\"outlinewidth\": 0, \"ticks\": \"\"}, \"type\": \"choropleth\"}], \"contour\": [{\"colorbar\": {\"outlinewidth\": 0, \"ticks\": \"\"}, \"colorscale\": [[0.0, \"#0d0887\"], [0.1111111111111111, \"#46039f\"], [0.2222222222222222, \"#7201a8\"], [0.3333333333333333, \"#9c179e\"], [0.4444444444444444, \"#bd3786\"], [0.5555555555555556, \"#d8576b\"], [0.6666666666666666, \"#ed7953\"], [0.7777777777777778, \"#fb9f3a\"], [0.8888888888888888, \"#fdca26\"], [1.0, \"#f0f921\"]], \"type\": \"contour\"}], \"contourcarpet\": [{\"colorbar\": {\"outlinewidth\": 0, \"ticks\": \"\"}, \"type\": \"contourcarpet\"}], \"heatmap\": [{\"colorbar\": {\"outlinewidth\": 0, \"ticks\": \"\"}, \"colorscale\": [[0.0, \"#0d0887\"], [0.1111111111111111, \"#46039f\"], [0.2222222222222222, \"#7201a8\"], [0.3333333333333333, \"#9c179e\"], [0.4444444444444444, \"#bd3786\"], [0.5555555555555556, \"#d8576b\"], [0.6666666666666666, \"#ed7953\"], [0.7777777777777778, \"#fb9f3a\"], [0.8888888888888888, \"#fdca26\"], [1.0, \"#f0f921\"]], \"type\": \"heatmap\"}], \"heatmapgl\": [{\"colorbar\": {\"outlinewidth\": 0, \"ticks\": \"\"}, \"colorscale\": [[0.0, \"#0d0887\"], [0.1111111111111111, \"#46039f\"], [0.2222222222222222, \"#7201a8\"], [0.3333333333333333, \"#9c179e\"], [0.4444444444444444, \"#bd3786\"], [0.5555555555555556, \"#d8576b\"], [0.6666666666666666, \"#ed7953\"], [0.7777777777777778, \"#fb9f3a\"], [0.8888888888888888, \"#fdca26\"], [1.0, \"#f0f921\"]], \"type\": \"heatmapgl\"}], \"histogram\": [{\"marker\": {\"colorbar\": {\"outlinewidth\": 0, \"ticks\": \"\"}}, \"type\": \"histogram\"}], \"histogram2d\": [{\"colorbar\": {\"outlinewidth\": 0, \"ticks\": \"\"}, \"colorscale\": [[0.0, \"#0d0887\"], [0.1111111111111111, \"#46039f\"], [0.2222222222222222, \"#7201a8\"], [0.3333333333333333, \"#9c179e\"], [0.4444444444444444, \"#bd3786\"], [0.5555555555555556, \"#d8576b\"], [0.6666666666666666, \"#ed7953\"], [0.7777777777777778, \"#fb9f3a\"], [0.8888888888888888, \"#fdca26\"], [1.0, \"#f0f921\"]], \"type\": \"histogram2d\"}], \"histogram2dcontour\": [{\"colorbar\": {\"outlinewidth\": 0, \"ticks\": \"\"}, \"colorscale\": [[0.0, \"#0d0887\"], [0.1111111111111111, \"#46039f\"], [0.2222222222222222, \"#7201a8\"], [0.3333333333333333, \"#9c179e\"], [0.4444444444444444, \"#bd3786\"], [0.5555555555555556, \"#d8576b\"], [0.6666666666666666, \"#ed7953\"], [0.7777777777777778, \"#fb9f3a\"], [0.8888888888888888, \"#fdca26\"], [1.0, \"#f0f921\"]], \"type\": \"histogram2dcontour\"}], \"mesh3d\": [{\"colorbar\": {\"outlinewidth\": 0, \"ticks\": \"\"}, \"type\": \"mesh3d\"}], \"parcoords\": [{\"line\": {\"colorbar\": {\"outlinewidth\": 0, \"ticks\": \"\"}}, \"type\": \"parcoords\"}], \"pie\": [{\"automargin\": true, \"type\": \"pie\"}], \"scatter\": [{\"marker\": {\"colorbar\": {\"outlinewidth\": 0, \"ticks\": \"\"}}, \"type\": \"scatter\"}], \"scatter3d\": [{\"line\": {\"colorbar\": {\"outlinewidth\": 0, \"ticks\": \"\"}}, \"marker\": {\"colorbar\": {\"outlinewidth\": 0, \"ticks\": \"\"}}, \"type\": \"scatter3d\"}], \"scattercarpet\": [{\"marker\": {\"colorbar\": {\"outlinewidth\": 0, \"ticks\": \"\"}}, \"type\": \"scattercarpet\"}], \"scattergeo\": [{\"marker\": {\"colorbar\": {\"outlinewidth\": 0, \"ticks\": \"\"}}, \"type\": \"scattergeo\"}], \"scattergl\": [{\"marker\": {\"colorbar\": {\"outlinewidth\": 0, \"ticks\": \"\"}}, \"type\": \"scattergl\"}], \"scattermapbox\": [{\"marker\": {\"colorbar\": {\"outlinewidth\": 0, \"ticks\": \"\"}}, \"type\": \"scattermapbox\"}], \"scatterpolar\": [{\"marker\": {\"colorbar\": {\"outlinewidth\": 0, \"ticks\": \"\"}}, \"type\": \"scatterpolar\"}], \"scatterpolargl\": [{\"marker\": {\"colorbar\": {\"outlinewidth\": 0, \"ticks\": \"\"}}, \"type\": \"scatterpolargl\"}], \"scatterternary\": [{\"marker\": {\"colorbar\": {\"outlinewidth\": 0, \"ticks\": \"\"}}, \"type\": \"scatterternary\"}], \"surface\": [{\"colorbar\": {\"outlinewidth\": 0, \"ticks\": \"\"}, \"colorscale\": [[0.0, \"#0d0887\"], [0.1111111111111111, \"#46039f\"], [0.2222222222222222, \"#7201a8\"], [0.3333333333333333, \"#9c179e\"], [0.4444444444444444, \"#bd3786\"], [0.5555555555555556, \"#d8576b\"], [0.6666666666666666, \"#ed7953\"], [0.7777777777777778, \"#fb9f3a\"], [0.8888888888888888, \"#fdca26\"], [1.0, \"#f0f921\"]], \"type\": \"surface\"}], \"table\": [{\"cells\": {\"fill\": {\"color\": \"#EBF0F8\"}, \"line\": {\"color\": \"white\"}}, \"header\": {\"fill\": {\"color\": \"#C8D4E3\"}, \"line\": {\"color\": \"white\"}}, \"type\": \"table\"}]}, \"layout\": {\"annotationdefaults\": {\"arrowcolor\": \"#2a3f5f\", \"arrowhead\": 0, \"arrowwidth\": 1}, \"coloraxis\": {\"colorbar\": {\"outlinewidth\": 0, \"ticks\": \"\"}}, \"colorscale\": {\"diverging\": [[0, \"#8e0152\"], [0.1, \"#c51b7d\"], [0.2, \"#de77ae\"], [0.3, \"#f1b6da\"], [0.4, \"#fde0ef\"], [0.5, \"#f7f7f7\"], [0.6, \"#e6f5d0\"], [0.7, \"#b8e186\"], [0.8, \"#7fbc41\"], [0.9, \"#4d9221\"], [1, \"#276419\"]], \"sequential\": [[0.0, \"#0d0887\"], [0.1111111111111111, \"#46039f\"], [0.2222222222222222, \"#7201a8\"], [0.3333333333333333, \"#9c179e\"], [0.4444444444444444, \"#bd3786\"], [0.5555555555555556, \"#d8576b\"], [0.6666666666666666, \"#ed7953\"], [0.7777777777777778, \"#fb9f3a\"], [0.8888888888888888, \"#fdca26\"], [1.0, \"#f0f921\"]], \"sequentialminus\": [[0.0, \"#0d0887\"], [0.1111111111111111, \"#46039f\"], [0.2222222222222222, \"#7201a8\"], [0.3333333333333333, \"#9c179e\"], [0.4444444444444444, \"#bd3786\"], [0.5555555555555556, \"#d8576b\"], [0.6666666666666666, \"#ed7953\"], [0.7777777777777778, \"#fb9f3a\"], [0.8888888888888888, \"#fdca26\"], [1.0, \"#f0f921\"]]}, \"colorway\": [\"#636efa\", \"#EF553B\", \"#00cc96\", \"#ab63fa\", \"#FFA15A\", \"#19d3f3\", \"#FF6692\", \"#B6E880\", \"#FF97FF\", \"#FECB52\"], \"font\": {\"color\": \"#2a3f5f\"}, \"geo\": {\"bgcolor\": \"white\", \"lakecolor\": \"white\", \"landcolor\": \"#E5ECF6\", \"showlakes\": true, \"showland\": true, \"subunitcolor\": \"white\"}, \"hoverlabel\": {\"align\": \"left\"}, \"hovermode\": \"closest\", \"mapbox\": {\"style\": \"light\"}, \"paper_bgcolor\": \"white\", \"plot_bgcolor\": \"#E5ECF6\", \"polar\": {\"angularaxis\": {\"gridcolor\": \"white\", \"linecolor\": \"white\", \"ticks\": \"\"}, \"bgcolor\": \"#E5ECF6\", \"radialaxis\": {\"gridcolor\": \"white\", \"linecolor\": \"white\", \"ticks\": \"\"}}, \"scene\": {\"xaxis\": {\"backgroundcolor\": \"#E5ECF6\", \"gridcolor\": \"white\", \"gridwidth\": 2, \"linecolor\": \"white\", \"showbackground\": true, \"ticks\": \"\", \"zerolinecolor\": \"white\"}, \"yaxis\": {\"backgroundcolor\": \"#E5ECF6\", \"gridcolor\": \"white\", \"gridwidth\": 2, \"linecolor\": \"white\", \"showbackground\": true, \"ticks\": \"\", \"zerolinecolor\": \"white\"}, \"zaxis\": {\"backgroundcolor\": \"#E5ECF6\", \"gridcolor\": \"white\", \"gridwidth\": 2, \"linecolor\": \"white\", \"showbackground\": true, \"ticks\": \"\", \"zerolinecolor\": \"white\"}}, \"shapedefaults\": {\"line\": {\"color\": \"#2a3f5f\"}}, \"ternary\": {\"aaxis\": {\"gridcolor\": \"white\", \"linecolor\": \"white\", \"ticks\": \"\"}, \"baxis\": {\"gridcolor\": \"white\", \"linecolor\": \"white\", \"ticks\": \"\"}, \"bgcolor\": \"#E5ECF6\", \"caxis\": {\"gridcolor\": \"white\", \"linecolor\": \"white\", \"ticks\": \"\"}}, \"title\": {\"x\": 0.05}, \"xaxis\": {\"automargin\": true, \"gridcolor\": \"white\", \"linecolor\": \"white\", \"ticks\": \"\", \"title\": {\"standoff\": 15}, \"zerolinecolor\": \"white\", \"zerolinewidth\": 2}, \"yaxis\": {\"automargin\": true, \"gridcolor\": \"white\", \"linecolor\": \"white\", \"ticks\": \"\", \"title\": {\"standoff\": 15}, \"zerolinecolor\": \"white\", \"zerolinewidth\": 2}}}, \"title\": {\"text\": \"Amount of type\"}, \"updatemenus\": [{\"buttons\": [{\"args\": [{\"visible\": [true, false, false, false, false, false]}], \"label\": \"Frontend web\", \"method\": \"update\"}, {\"args\": [{\"visible\": [false, true, false, false, false, false]}], \"label\": \"Script/Python\", \"method\": \"update\"}, {\"args\": [{\"visible\": [false, false, true, false, false, false]}], \"label\": \"C#\", \"method\": \"update\"}, {\"args\": [{\"visible\": [false, false, false, true, false, false]}], \"label\": \"Java\", \"method\": \"update\"}, {\"args\": [{\"visible\": [false, false, false, false, true, false]}], \"label\": \"Backend web\", \"method\": \"update\"}, {\"args\": [{\"visible\": [false, false, false, false, false, true]}], \"label\": \"Low-level\", \"method\": \"update\"}], \"direction\": \"left\", \"pad\": {\"r\": 10, \"t\": 10}, \"showactive\": true, \"type\": \"buttons\", \"x\": 0.15, \"xanchor\": \"left\", \"y\": 1.2, \"yanchor\": \"top\"}]},\n",
       "                        {\"responsive\": true}\n",
       "                    ).then(function(){\n",
       "                            \n",
       "var gd = document.getElementById('6085fe27-d10e-4a2a-adb4-d8e7419b3b5a');\n",
       "var x = new MutationObserver(function (mutations, observer) {{\n",
       "        var display = window.getComputedStyle(gd).display;\n",
       "        if (!display || display === 'none') {{\n",
       "            console.log([gd, 'removed!']);\n",
       "            Plotly.purge(gd);\n",
       "            observer.disconnect();\n",
       "        }}\n",
       "}});\n",
       "\n",
       "// Listen for the removal of the full notebook cells\n",
       "var notebookContainer = gd.closest('#notebook-container');\n",
       "if (notebookContainer) {{\n",
       "    x.observe(notebookContainer, {childList: true});\n",
       "}}\n",
       "\n",
       "// Listen for the clearing of the current output cell\n",
       "var outputEl = gd.closest('.output');\n",
       "if (outputEl) {{\n",
       "    x.observe(outputEl, {childList: true});\n",
       "}}\n",
       "\n",
       "                        })\n",
       "                };\n",
       "                });\n",
       "            </script>\n",
       "        </div>"
      ]
     },
     "metadata": {},
     "output_type": "display_data"
    }
   ],
   "source": [
    "\"\"\"Plot the country scores for each programmer type\"\"\"\n",
    "import plotly.graph_objects as go\n",
    "\n",
    "fig = go.Figure()\n",
    "\n",
    "for i in range(6):\n",
    "    fig.add_trace(go.Choropleth(\n",
    "        locations=type_by_country[survey_data.groupby(\"Country\").count().Age > 500].index, # Spatial coordinates\n",
    "        z = type_by_country[survey_data.groupby(\"Country\").count().Age > 500][i], # Data to be color-coded\n",
    "        #text=type_by_country[df19.groupby(\"Country\").count().Age > 500][0],\n",
    "        colorscale = 'Blues',\n",
    "        colorbar_title = \"Amount of type\",\n",
    "        name=\"2\",\n",
    "        visible=(i==0)\n",
    "    ))\n",
    "\n",
    "fig.update_layout(\n",
    "    title_text = 'Amount of type'\n",
    ")\n",
    "\n",
    "# Add dropdown\n",
    "prog_labels = [\"Frontend web\", \"Script/Python\", \"C#\", \"Java\", \"Backend web\", \"Low-level\"]\n",
    "fig.update_layout(\n",
    "    updatemenus=[\n",
    "        go.layout.Updatemenu(\n",
    "            type = \"buttons\",\n",
    "            direction = \"left\",\n",
    "            buttons=list([dict(\n",
    "                    args=[{\"visible\" : [j==i for j in range(6)]}],\n",
    "                    label=prog_labels[i],\n",
    "                    method=\"update\"\n",
    "                ) for i in range(6) ]),\n",
    "            pad={\"r\": 10, \"t\": 10},\n",
    "            showactive=True,\n",
    "            x=0.15,\n",
    "            xanchor=\"left\",\n",
    "            y=1.2,\n",
    "            yanchor=\"top\"\n",
    "        ),\n",
    "    ]\n",
    ")\n",
    "\n",
    "# Add annotation\n",
    "fig.update_layout(\n",
    "    annotations=[\n",
    "        go.layout.Annotation(text=\"Programmer type:\", showarrow=False,\n",
    "                             x=0, y=1.15, yref=\"paper\", align=\"left\")\n",
    "    ]\n",
    ")\n",
    "\n",
    "fig.show()"
   ]
  },
  {
   "cell_type": "code",
   "execution_count": 12,
   "metadata": {},
   "outputs": [
    {
     "data": {
      "image/png": "[encoded data removed]",
      "text/plain": [
       "<Figure size 432x288 with 1 Axes>"
      ]
     },
     "metadata": {
      "needs_background": "light"
     },
     "output_type": "display_data"
    }
   ],
   "source": [
    "plt.figure()\n",
    "satisfaction_hobby_yes = df19[df19.Hobby==\"Yes\"].groupby(\"JobSatisfaction\").count().apply(lambda x: x/len(df19[df19.Hobby==\"Yes\"])).Gender\n",
    "satisfaction_hobby_no = df19[df19.Hobby==\"No\"].groupby(\"JobSatisfaction\").count().apply(lambda x: x/len(df19[df19.Hobby==\"No\"])).Gender\n",
    "plt.bar(satisfaction_hobby_yes.index,satisfaction_hobby_yes, width=0.4)\n",
    "plt.bar(satisfaction_hobby_no.index+0.4,satisfaction_hobby_no, width=0.4)\n",
    "plt.legend([\"Hobby: Yes\", \"Hobby: No\"])\n",
    "plt.show()"
   ]
  },
  {
   "cell_type": "code",
   "execution_count": 13,
   "metadata": {},
   "outputs": [
    {
     "data": {
      "text/plain": [
       "<matplotlib.axes._subplots.AxesSubplot at 0x7fafcb024110>"
      ]
     },
     "execution_count": 13,
     "metadata": {},
     "output_type": "execute_result"
    },
    {
     "data": {
      "image/png": "[encoded data removed]",
      "text/plain": [
       "<Figure size 432x288 with 1 Axes>"
      ]
     },
     "metadata": {
      "needs_background": "light"
     },
     "output_type": "display_data"
    }
   ],
   "source": [
    "df19.groupby(\"StackOverflowVisit\").mean().JobSatisfaction.drop(\"NA\").plot.barh()"
   ]
  },
  {
   "cell_type": "code",
   "execution_count": 14,
   "metadata": {},
   "outputs": [
    {
     "data": {
      "text/plain": [
       "<matplotlib.axes._subplots.AxesSubplot at 0x7fafc8c32cd0>"
      ]
     },
     "execution_count": 14,
     "metadata": {},
     "output_type": "execute_result"
    },
    {
     "data": {
      "image/png": "[encoded data removed]",
      "text/plain": [
       "<Figure size 432x288 with 1 Axes>"
      ]
     },
     "metadata": {
      "needs_background": "light"
     },
     "output_type": "display_data"
    }
   ],
   "source": [
    "df19.groupby(\"StackOverflowVisit\").mean().ConvertedSalary.drop(\"NA\").plot.barh()"
   ]
  },
  {
   "cell_type": "code",
   "execution_count": 51,
   "metadata": {},
   "outputs": [],
   "source": []
  },
  {
   "cell_type": "code",
   "execution_count": 57,
   "metadata": {},
   "outputs": [
    {
     "data": {
      "text/plain": [
       "<matplotlib.axes._subplots.AxesSubplot at 0x7fafbc2fe090>"
      ]
     },
     "execution_count": 57,
     "metadata": {},
     "output_type": "execute_result"
    },
    {
     "data": {
      "image/png": "[encoded data removed]",
      "text/plain": [
       "<Figure size 432x288 with 1 Axes>"
      ]
     },
     "metadata": {
      "needs_background": "light"
     },
     "output_type": "display_data"
    }
   ],
   "source": [
    "df18.groupby(\"JobSatisfaction\").count().Age.plot.bar()"
   ]
  }
 ],
 "metadata": {
  "kernelspec": {
   "display_name": "Python [conda env:ada] *",
   "language": "python",
   "name": "conda-env-ada-py"
  },
  "language_info": {
   "codemirror_mode": {
    "name": "ipython",
    "version": 3
   },
   "file_extension": ".py",
   "mimetype": "text/x-python",
   "name": "python",
   "nbconvert_exporter": "python",
   "pygments_lexer": "ipython3",
   "version": "3.7.4"
  }
 },
 "nbformat": 4,
 "nbformat_minor": 4
}
