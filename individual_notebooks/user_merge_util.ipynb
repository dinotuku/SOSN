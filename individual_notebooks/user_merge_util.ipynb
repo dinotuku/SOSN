{
 "cells": [
  {
   "cell_type": "code",
   "execution_count": 1,
   "metadata": {},
   "outputs": [],
   "source": [
    "%matplotlib inline\n",
    "import pandas as pd\n",
    "import numpy as np\n",
    "import re\n",
    "import matplotlib.pyplot as plt"
   ]
  },
  {
   "cell_type": "code",
   "execution_count": 2,
   "metadata": {},
   "outputs": [],
   "source": [
    "# load in all the users with some sort of valid country field, \n",
    "# and also the questions and answers in year 2016 to 2019\n",
    "allUsers = pd.read_csv('user data/stackoverflow_users_all_notext_clean.csv')\n",
    "# questions = pd.read_csv('user data/stackoverflow_questions_2016-2019_notext.csv')\n",
    "# answers = pd.read_csv('user data/stackoverflow_answers_2016-2019_notext.csv')"
   ]
  },
  {
   "cell_type": "code",
   "execution_count": 5,
   "metadata": {},
   "outputs": [
    {
     "data": {
      "text/html": [
       "<div>\n",
       "<style scoped>\n",
       "    .dataframe tbody tr th:only-of-type {\n",
       "        vertical-align: middle;\n",
       "    }\n",
       "\n",
       "    .dataframe tbody tr th {\n",
       "        vertical-align: top;\n",
       "    }\n",
       "\n",
       "    .dataframe thead th {\n",
       "        text-align: right;\n",
       "    }\n",
       "</style>\n",
       "<table border=\"1\" class=\"dataframe\">\n",
       "  <thead>\n",
       "    <tr style=\"text-align: right;\">\n",
       "      <th></th>\n",
       "      <th>Unnamed: 0</th>\n",
       "      <th>id</th>\n",
       "      <th>age</th>\n",
       "      <th>creation_date</th>\n",
       "      <th>reputation</th>\n",
       "      <th>up_votes</th>\n",
       "      <th>down_votes</th>\n",
       "      <th>country_iso3</th>\n",
       "    </tr>\n",
       "  </thead>\n",
       "  <tbody>\n",
       "    <tr>\n",
       "      <th>792684</th>\n",
       "      <td>792684</td>\n",
       "      <td>22656</td>\n",
       "      <td>NaN</td>\n",
       "      <td>2008-09-26 12:05:05.15 UTC</td>\n",
       "      <td>1128126</td>\n",
       "      <td>16420</td>\n",
       "      <td>6921</td>\n",
       "      <td>GBR</td>\n",
       "    </tr>\n",
       "  </tbody>\n",
       "</table>\n",
       "</div>"
      ],
      "text/plain": [
       "        Unnamed: 0     id  age               creation_date  reputation  \\\n",
       "792684      792684  22656  NaN  2008-09-26 12:05:05.15 UTC     1128126   \n",
       "\n",
       "        up_votes  down_votes country_iso3  \n",
       "792684     16420        6921          GBR  "
      ]
     },
     "execution_count": 5,
     "metadata": {},
     "output_type": "execute_result"
    }
   ],
   "source": [
    "allUsers[allUsers.id == 22656]"
   ]
  },
  {
   "cell_type": "markdown",
   "metadata": {},
   "source": [
    "# Merging user data with questions"
   ]
  },
  {
   "cell_type": "code",
   "execution_count": 3,
   "metadata": {},
   "outputs": [
    {
     "name": "stdout",
     "output_type": "stream",
     "text": [
      "2785261\n"
     ]
    },
    {
     "data": {
      "text/html": [
       "<div>\n",
       "<style scoped>\n",
       "    .dataframe tbody tr th:only-of-type {\n",
       "        vertical-align: middle;\n",
       "    }\n",
       "\n",
       "    .dataframe tbody tr th {\n",
       "        vertical-align: top;\n",
       "    }\n",
       "\n",
       "    .dataframe thead th {\n",
       "        text-align: right;\n",
       "    }\n",
       "</style>\n",
       "<table border=\"1\" class=\"dataframe\">\n",
       "  <thead>\n",
       "    <tr style=\"text-align: right;\">\n",
       "      <th></th>\n",
       "      <th>user_id</th>\n",
       "      <th>age</th>\n",
       "      <th>creation_date</th>\n",
       "      <th>user_reputation</th>\n",
       "      <th>up_votes</th>\n",
       "      <th>down_votes</th>\n",
       "      <th>country_iso3</th>\n",
       "    </tr>\n",
       "  </thead>\n",
       "  <tbody>\n",
       "    <tr>\n",
       "      <th>0</th>\n",
       "      <td>7019478</td>\n",
       "      <td>NaN</td>\n",
       "      <td>2016-10-14 13:36:30.96 UTC</td>\n",
       "      <td>1</td>\n",
       "      <td>0</td>\n",
       "      <td>0</td>\n",
       "      <td>SGP</td>\n",
       "    </tr>\n",
       "    <tr>\n",
       "      <th>1</th>\n",
       "      <td>7074992</td>\n",
       "      <td>NaN</td>\n",
       "      <td>2016-10-26 12:11:08.41 UTC</td>\n",
       "      <td>1</td>\n",
       "      <td>0</td>\n",
       "      <td>0</td>\n",
       "      <td>EGY</td>\n",
       "    </tr>\n",
       "    <tr>\n",
       "      <th>2</th>\n",
       "      <td>7093392</td>\n",
       "      <td>NaN</td>\n",
       "      <td>2016-10-31 02:19:04.64 UTC</td>\n",
       "      <td>1</td>\n",
       "      <td>0</td>\n",
       "      <td>0</td>\n",
       "      <td>USA</td>\n",
       "    </tr>\n",
       "  </tbody>\n",
       "</table>\n",
       "</div>"
      ],
      "text/plain": [
       "   user_id  age               creation_date  user_reputation  up_votes  \\\n",
       "0  7019478  NaN  2016-10-14 13:36:30.96 UTC                1         0   \n",
       "1  7074992  NaN  2016-10-26 12:11:08.41 UTC                1         0   \n",
       "2  7093392  NaN  2016-10-31 02:19:04.64 UTC                1         0   \n",
       "\n",
       "   down_votes country_iso3  \n",
       "0           0          SGP  \n",
       "1           0          EGY  \n",
       "2           0          USA  "
      ]
     },
     "execution_count": 3,
     "metadata": {},
     "output_type": "execute_result"
    }
   ],
   "source": [
    "# take a look at the data\n",
    "print(allUsers.shape[0])\n",
    "allUsers.rename(columns={'id': 'user_id', 'reputation': 'user_reputation'}, inplace=True)\n",
    "allUsers.drop(columns='Unnamed: 0', inplace=True)\n",
    "allUsers.head(3)"
   ]
  },
  {
   "cell_type": "code",
   "execution_count": 4,
   "metadata": {},
   "outputs": [],
   "source": [
    "user_id_count = allUsers.user_id.value_counts()\n",
    "duplicated_id = list(user_id_count[user_id_count > 1].index) # 344 duplicated entries"
   ]
  },
  {
   "cell_type": "markdown",
   "metadata": {},
   "source": [
    "Those entries with duplicated ids are the same. Therefore, we can just keep the distinct users."
   ]
  },
  {
   "cell_type": "code",
   "execution_count": 12,
   "metadata": {},
   "outputs": [
    {
     "data": {
      "text/plain": [
       "2784917"
      ]
     },
     "execution_count": 12,
     "metadata": {},
     "output_type": "execute_result"
    }
   ],
   "source": [
    "# drop duplicated user entries    \n",
    "allUsers.drop_duplicates(subset='user_id', inplace=True)\n",
    "allUsers.shape[0]"
   ]
  },
  {
   "cell_type": "code",
   "execution_count": 6,
   "metadata": {},
   "outputs": [
    {
     "name": "stdout",
     "output_type": "stream",
     "text": [
      "7797470\n"
     ]
    },
    {
     "data": {
      "text/html": [
       "<div>\n",
       "<style scoped>\n",
       "    .dataframe tbody tr th:only-of-type {\n",
       "        vertical-align: middle;\n",
       "    }\n",
       "\n",
       "    .dataframe tbody tr th {\n",
       "        vertical-align: top;\n",
       "    }\n",
       "\n",
       "    .dataframe thead th {\n",
       "        text-align: right;\n",
       "    }\n",
       "</style>\n",
       "<table border=\"1\" class=\"dataframe\">\n",
       "  <thead>\n",
       "    <tr style=\"text-align: right;\">\n",
       "      <th></th>\n",
       "      <th>Id</th>\n",
       "      <th>answer_count</th>\n",
       "      <th>comment_count</th>\n",
       "      <th>creation_date</th>\n",
       "      <th>owner_user_id</th>\n",
       "      <th>score</th>\n",
       "      <th>view_count</th>\n",
       "      <th>favorite_count</th>\n",
       "      <th>tags</th>\n",
       "    </tr>\n",
       "  </thead>\n",
       "  <tbody>\n",
       "    <tr>\n",
       "      <th>0</th>\n",
       "      <td>34553230</td>\n",
       "      <td>1</td>\n",
       "      <td>0</td>\n",
       "      <td>2016-01-01 03:06:31.22 UTC</td>\n",
       "      <td>401226.0</td>\n",
       "      <td>0</td>\n",
       "      <td>256</td>\n",
       "      <td>NaN</td>\n",
       "      <td>pythonmacports</td>\n",
       "    </tr>\n",
       "    <tr>\n",
       "      <th>1</th>\n",
       "      <td>34558566</td>\n",
       "      <td>1</td>\n",
       "      <td>0</td>\n",
       "      <td>2016-01-01 17:56:58.5 UTC</td>\n",
       "      <td>2702781.0</td>\n",
       "      <td>1</td>\n",
       "      <td>256</td>\n",
       "      <td>NaN</td>\n",
       "      <td>scalasbtsbt-plugin</td>\n",
       "    </tr>\n",
       "    <tr>\n",
       "      <th>2</th>\n",
       "      <td>34577016</td>\n",
       "      <td>1</td>\n",
       "      <td>0</td>\n",
       "      <td>2016-01-03 13:26:04.52 UTC</td>\n",
       "      <td>4675736.0</td>\n",
       "      <td>0</td>\n",
       "      <td>256</td>\n",
       "      <td>NaN</td>\n",
       "      <td>phpcodeigniterlaravel-5.1</td>\n",
       "    </tr>\n",
       "  </tbody>\n",
       "</table>\n",
       "</div>"
      ],
      "text/plain": [
       "         Id  answer_count  comment_count               creation_date  \\\n",
       "0  34553230             1              0  2016-01-01 03:06:31.22 UTC   \n",
       "1  34558566             1              0   2016-01-01 17:56:58.5 UTC   \n",
       "2  34577016             1              0  2016-01-03 13:26:04.52 UTC   \n",
       "\n",
       "   owner_user_id  score  view_count  favorite_count                       tags  \n",
       "0       401226.0      0         256             NaN             pythonmacports  \n",
       "1      2702781.0      1         256             NaN         scalasbtsbt-plugin  \n",
       "2      4675736.0      0         256             NaN  phpcodeigniterlaravel-5.1  "
      ]
     },
     "execution_count": 6,
     "metadata": {},
     "output_type": "execute_result"
    }
   ],
   "source": [
    "print(questions.shape[0])\n",
    "questions.head(3)"
   ]
  },
  {
   "cell_type": "code",
   "execution_count": 10,
   "metadata": {},
   "outputs": [
    {
     "data": {
      "text/plain": [
       "2126958"
      ]
     },
     "execution_count": 10,
     "metadata": {},
     "output_type": "execute_result"
    }
   ],
   "source": [
    "questions[['Id', 'owner_user_id']].groupby('owner_user_id').agg('count').shape[0]"
   ]
  },
  {
   "cell_type": "code",
   "execution_count": 18,
   "metadata": {},
   "outputs": [
    {
     "data": {
      "text/plain": [
       "781545"
      ]
     },
     "execution_count": 18,
     "metadata": {},
     "output_type": "execute_result"
    }
   ],
   "source": [
    "questions.loc[questions.owner_user_id.isin(allUsers.user_id), ['Id', 'owner_user_id']]\\\n",
    "         .groupby('owner_user_id').agg('count').shape[0]"
   ]
  },
  {
   "cell_type": "markdown",
   "metadata": {},
   "source": [
    "Only 781545 in the user subset we focused in (those who has a valid country field) actually asked a question in the past 4 years in stackoverflow, which is around 28% of the users."
   ]
  },
  {
   "cell_type": "code",
   "execution_count": 19,
   "metadata": {},
   "outputs": [],
   "source": [
    "# link the question to the user info, age field is not included as they are all na values\n",
    "quesWithLocation = allUsers[['user_id', 'user_reputation', 'country_iso3']]\\\n",
    "                            .merge(questions, left_on='user_id', right_on='owner_user_id', how='inner')\n",
    "# drop favourite count as the majority is NaN, tags is dropped as it is difficult to process\n",
    "quesWithLocation.drop(columns=['owner_user_id', 'tags', 'favorite_count'], inplace=True)\n",
    "quesWithLocation.rename(columns={'Id': 'question_id', 'creation_date': 'question_creation_date'\\\n",
    "                                 , 'score': 'question_score'}, inplace=True)"
   ]
  },
  {
   "cell_type": "code",
   "execution_count": 21,
   "metadata": {},
   "outputs": [
    {
     "data": {
      "text/html": [
       "<div>\n",
       "<style scoped>\n",
       "    .dataframe tbody tr th:only-of-type {\n",
       "        vertical-align: middle;\n",
       "    }\n",
       "\n",
       "    .dataframe tbody tr th {\n",
       "        vertical-align: top;\n",
       "    }\n",
       "\n",
       "    .dataframe thead th {\n",
       "        text-align: right;\n",
       "    }\n",
       "</style>\n",
       "<table border=\"1\" class=\"dataframe\">\n",
       "  <thead>\n",
       "    <tr style=\"text-align: right;\">\n",
       "      <th></th>\n",
       "      <th>user_id</th>\n",
       "      <th>user_reputation</th>\n",
       "      <th>country_iso3</th>\n",
       "      <th>question_id</th>\n",
       "      <th>answer_count</th>\n",
       "      <th>comment_count</th>\n",
       "      <th>question_creation_date</th>\n",
       "      <th>question_score</th>\n",
       "      <th>view_count</th>\n",
       "    </tr>\n",
       "  </thead>\n",
       "  <tbody>\n",
       "    <tr>\n",
       "      <th>0</th>\n",
       "      <td>7019478</td>\n",
       "      <td>1</td>\n",
       "      <td>SGP</td>\n",
       "      <td>40044740</td>\n",
       "      <td>2</td>\n",
       "      <td>0</td>\n",
       "      <td>2016-10-14 13:44:25.71 UTC</td>\n",
       "      <td>-6</td>\n",
       "      <td>381</td>\n",
       "    </tr>\n",
       "    <tr>\n",
       "      <th>1</th>\n",
       "      <td>7019478</td>\n",
       "      <td>1</td>\n",
       "      <td>SGP</td>\n",
       "      <td>42085965</td>\n",
       "      <td>0</td>\n",
       "      <td>2</td>\n",
       "      <td>2017-02-07 09:21:01.72 UTC</td>\n",
       "      <td>0</td>\n",
       "      <td>40</td>\n",
       "    </tr>\n",
       "    <tr>\n",
       "      <th>2</th>\n",
       "      <td>7019478</td>\n",
       "      <td>1</td>\n",
       "      <td>SGP</td>\n",
       "      <td>51300090</td>\n",
       "      <td>1</td>\n",
       "      <td>3</td>\n",
       "      <td>2018-07-12 07:50:10.133 UTC</td>\n",
       "      <td>0</td>\n",
       "      <td>439</td>\n",
       "    </tr>\n",
       "    <tr>\n",
       "      <th>3</th>\n",
       "      <td>7093392</td>\n",
       "      <td>1</td>\n",
       "      <td>USA</td>\n",
       "      <td>40711004</td>\n",
       "      <td>1</td>\n",
       "      <td>2</td>\n",
       "      <td>2016-11-21 00:13:00.823 UTC</td>\n",
       "      <td>0</td>\n",
       "      <td>44</td>\n",
       "    </tr>\n",
       "    <tr>\n",
       "      <th>4</th>\n",
       "      <td>7497308</td>\n",
       "      <td>1</td>\n",
       "      <td>NOR</td>\n",
       "      <td>41967673</td>\n",
       "      <td>0</td>\n",
       "      <td>6</td>\n",
       "      <td>2017-01-31 21:18:44.88 UTC</td>\n",
       "      <td>0</td>\n",
       "      <td>207</td>\n",
       "    </tr>\n",
       "  </tbody>\n",
       "</table>\n",
       "</div>"
      ],
      "text/plain": [
       "   user_id  user_reputation country_iso3  question_id  answer_count  \\\n",
       "0  7019478                1          SGP     40044740             2   \n",
       "1  7019478                1          SGP     42085965             0   \n",
       "2  7019478                1          SGP     51300090             1   \n",
       "3  7093392                1          USA     40711004             1   \n",
       "4  7497308                1          NOR     41967673             0   \n",
       "\n",
       "   comment_count       question_creation_date  question_score  view_count  \n",
       "0              0   2016-10-14 13:44:25.71 UTC              -6         381  \n",
       "1              2   2017-02-07 09:21:01.72 UTC               0          40  \n",
       "2              3  2018-07-12 07:50:10.133 UTC               0         439  \n",
       "3              2  2016-11-21 00:13:00.823 UTC               0          44  \n",
       "4              6   2017-01-31 21:18:44.88 UTC               0         207  "
      ]
     },
     "execution_count": 21,
     "metadata": {},
     "output_type": "execute_result"
    }
   ],
   "source": [
    "quesWithLocation.head()"
   ]
  },
  {
   "cell_type": "code",
   "execution_count": 23,
   "metadata": {},
   "outputs": [
    {
     "data": {
      "text/plain": [
       "3414419"
      ]
     },
     "execution_count": 23,
     "metadata": {},
     "output_type": "execute_result"
    }
   ],
   "source": [
    "quesWithLocation.shape[0]"
   ]
  },
  {
   "cell_type": "code",
   "execution_count": 24,
   "metadata": {},
   "outputs": [],
   "source": [
    "# quesWithLocation[quesWithLocation.country_iso3.isna()].shape[0]  # only 129291 fields are empty in country_iso\n",
    "# drop the rows with empty country field\n",
    "quesWithLocation = quesWithLocation[~quesWithLocation.country_iso3.isna()] # remaining 3285128"
   ]
  },
  {
   "cell_type": "code",
   "execution_count": 25,
   "metadata": {},
   "outputs": [
    {
     "data": {
      "text/html": [
       "<div>\n",
       "<style scoped>\n",
       "    .dataframe tbody tr th:only-of-type {\n",
       "        vertical-align: middle;\n",
       "    }\n",
       "\n",
       "    .dataframe tbody tr th {\n",
       "        vertical-align: top;\n",
       "    }\n",
       "\n",
       "    .dataframe thead th {\n",
       "        text-align: right;\n",
       "    }\n",
       "</style>\n",
       "<table border=\"1\" class=\"dataframe\">\n",
       "  <thead>\n",
       "    <tr style=\"text-align: right;\">\n",
       "      <th></th>\n",
       "      <th>user_id</th>\n",
       "      <th>user_reputation</th>\n",
       "      <th>country_iso3</th>\n",
       "      <th>question_id</th>\n",
       "      <th>answer_count</th>\n",
       "      <th>comment_count</th>\n",
       "      <th>question_creation_date</th>\n",
       "      <th>question_score</th>\n",
       "      <th>view_count</th>\n",
       "    </tr>\n",
       "  </thead>\n",
       "  <tbody>\n",
       "    <tr>\n",
       "      <th>0</th>\n",
       "      <td>7019478</td>\n",
       "      <td>1</td>\n",
       "      <td>SGP</td>\n",
       "      <td>40044740</td>\n",
       "      <td>2</td>\n",
       "      <td>0</td>\n",
       "      <td>2016-10-14 13:44:25.71 UTC</td>\n",
       "      <td>-6</td>\n",
       "      <td>381</td>\n",
       "    </tr>\n",
       "    <tr>\n",
       "      <th>1</th>\n",
       "      <td>7019478</td>\n",
       "      <td>1</td>\n",
       "      <td>SGP</td>\n",
       "      <td>42085965</td>\n",
       "      <td>0</td>\n",
       "      <td>2</td>\n",
       "      <td>2017-02-07 09:21:01.72 UTC</td>\n",
       "      <td>0</td>\n",
       "      <td>40</td>\n",
       "    </tr>\n",
       "    <tr>\n",
       "      <th>2</th>\n",
       "      <td>7019478</td>\n",
       "      <td>1</td>\n",
       "      <td>SGP</td>\n",
       "      <td>51300090</td>\n",
       "      <td>1</td>\n",
       "      <td>3</td>\n",
       "      <td>2018-07-12 07:50:10.133 UTC</td>\n",
       "      <td>0</td>\n",
       "      <td>439</td>\n",
       "    </tr>\n",
       "    <tr>\n",
       "      <th>3</th>\n",
       "      <td>7093392</td>\n",
       "      <td>1</td>\n",
       "      <td>USA</td>\n",
       "      <td>40711004</td>\n",
       "      <td>1</td>\n",
       "      <td>2</td>\n",
       "      <td>2016-11-21 00:13:00.823 UTC</td>\n",
       "      <td>0</td>\n",
       "      <td>44</td>\n",
       "    </tr>\n",
       "    <tr>\n",
       "      <th>4</th>\n",
       "      <td>7497308</td>\n",
       "      <td>1</td>\n",
       "      <td>NOR</td>\n",
       "      <td>41967673</td>\n",
       "      <td>0</td>\n",
       "      <td>6</td>\n",
       "      <td>2017-01-31 21:18:44.88 UTC</td>\n",
       "      <td>0</td>\n",
       "      <td>207</td>\n",
       "    </tr>\n",
       "  </tbody>\n",
       "</table>\n",
       "</div>"
      ],
      "text/plain": [
       "   user_id  user_reputation country_iso3  question_id  answer_count  \\\n",
       "0  7019478                1          SGP     40044740             2   \n",
       "1  7019478                1          SGP     42085965             0   \n",
       "2  7019478                1          SGP     51300090             1   \n",
       "3  7093392                1          USA     40711004             1   \n",
       "4  7497308                1          NOR     41967673             0   \n",
       "\n",
       "   comment_count       question_creation_date  question_score  view_count  \n",
       "0              0   2016-10-14 13:44:25.71 UTC              -6         381  \n",
       "1              2   2017-02-07 09:21:01.72 UTC               0          40  \n",
       "2              3  2018-07-12 07:50:10.133 UTC               0         439  \n",
       "3              2  2016-11-21 00:13:00.823 UTC               0          44  \n",
       "4              6   2017-01-31 21:18:44.88 UTC               0         207  "
      ]
     },
     "execution_count": 25,
     "metadata": {},
     "output_type": "execute_result"
    }
   ],
   "source": [
    "quesWithLocation.head(5)"
   ]
  },
  {
   "cell_type": "code",
   "execution_count": 31,
   "metadata": {},
   "outputs": [
    {
     "data": {
      "text/html": [
       "<div>\n",
       "<style scoped>\n",
       "    .dataframe tbody tr th:only-of-type {\n",
       "        vertical-align: middle;\n",
       "    }\n",
       "\n",
       "    .dataframe tbody tr th {\n",
       "        vertical-align: top;\n",
       "    }\n",
       "\n",
       "    .dataframe thead th {\n",
       "        text-align: right;\n",
       "    }\n",
       "</style>\n",
       "<table border=\"1\" class=\"dataframe\">\n",
       "  <thead>\n",
       "    <tr style=\"text-align: right;\">\n",
       "      <th></th>\n",
       "      <th></th>\n",
       "      <th>question_id</th>\n",
       "    </tr>\n",
       "    <tr>\n",
       "      <th>country_iso3</th>\n",
       "      <th>user_id</th>\n",
       "      <th></th>\n",
       "    </tr>\n",
       "  </thead>\n",
       "  <tbody>\n",
       "    <tr>\n",
       "      <th>USA</th>\n",
       "      <th>1223975</th>\n",
       "      <td>1219</td>\n",
       "    </tr>\n",
       "    <tr>\n",
       "      <th>RUS</th>\n",
       "      <th>258483</th>\n",
       "      <td>703</td>\n",
       "    </tr>\n",
       "    <tr>\n",
       "      <th>GBR</th>\n",
       "      <th>6703783</th>\n",
       "      <td>646</td>\n",
       "    </tr>\n",
       "    <tr>\n",
       "      <th>USA</th>\n",
       "      <th>995862</th>\n",
       "      <td>632</td>\n",
       "    </tr>\n",
       "    <tr>\n",
       "      <th>CHE</th>\n",
       "      <th>1743843</th>\n",
       "      <td>631</td>\n",
       "    </tr>\n",
       "    <tr>\n",
       "      <th>...</th>\n",
       "      <th>...</th>\n",
       "      <td>...</td>\n",
       "    </tr>\n",
       "    <tr>\n",
       "      <th rowspan=\"5\" valign=\"top\">IND</th>\n",
       "      <th>8790882</th>\n",
       "      <td>1</td>\n",
       "    </tr>\n",
       "    <tr>\n",
       "      <th>8790640</th>\n",
       "      <td>1</td>\n",
       "    </tr>\n",
       "    <tr>\n",
       "      <th>8790573</th>\n",
       "      <td>1</td>\n",
       "    </tr>\n",
       "    <tr>\n",
       "      <th>8790558</th>\n",
       "      <td>1</td>\n",
       "    </tr>\n",
       "    <tr>\n",
       "      <th>10159067</th>\n",
       "      <td>1</td>\n",
       "    </tr>\n",
       "  </tbody>\n",
       "</table>\n",
       "<p>753244 rows × 1 columns</p>\n",
       "</div>"
      ],
      "text/plain": [
       "                       question_id\n",
       "country_iso3 user_id              \n",
       "USA          1223975          1219\n",
       "RUS          258483            703\n",
       "GBR          6703783           646\n",
       "USA          995862            632\n",
       "CHE          1743843           631\n",
       "...                            ...\n",
       "IND          8790882             1\n",
       "             8790640             1\n",
       "             8790573             1\n",
       "             8790558             1\n",
       "             10159067            1\n",
       "\n",
       "[753244 rows x 1 columns]"
      ]
     },
     "execution_count": 31,
     "metadata": {},
     "output_type": "execute_result"
    }
   ],
   "source": [
    "quesWithLocation[['user_id', 'question_id', 'country_iso3']].groupby(['country_iso3', 'user_id']).agg('count')\\\n",
    "                                            .sort_values(by='question_id', ascending=False)"
   ]
  },
  {
   "cell_type": "code",
   "execution_count": 32,
   "metadata": {},
   "outputs": [],
   "source": [
    "# saving the merged dataframe into pkl \n",
    "quesWithLocation.to_pickle('./question_with_location.pkl')"
   ]
  },
  {
   "cell_type": "markdown",
   "metadata": {},
   "source": [
    "# Merging user data with answers"
   ]
  },
  {
   "cell_type": "code",
   "execution_count": 33,
   "metadata": {},
   "outputs": [
    {
     "name": "stdout",
     "output_type": "stream",
     "text": [
      "10238155\n"
     ]
    },
    {
     "data": {
      "text/html": [
       "<div>\n",
       "<style scoped>\n",
       "    .dataframe tbody tr th:only-of-type {\n",
       "        vertical-align: middle;\n",
       "    }\n",
       "\n",
       "    .dataframe tbody tr th {\n",
       "        vertical-align: top;\n",
       "    }\n",
       "\n",
       "    .dataframe thead th {\n",
       "        text-align: right;\n",
       "    }\n",
       "</style>\n",
       "<table border=\"1\" class=\"dataframe\">\n",
       "  <thead>\n",
       "    <tr style=\"text-align: right;\">\n",
       "      <th></th>\n",
       "      <th>Id</th>\n",
       "      <th>comment_count</th>\n",
       "      <th>creation_date</th>\n",
       "      <th>owner_user_id</th>\n",
       "      <th>score</th>\n",
       "      <th>parent_id</th>\n",
       "    </tr>\n",
       "  </thead>\n",
       "  <tbody>\n",
       "    <tr>\n",
       "      <th>0</th>\n",
       "      <td>56292528</td>\n",
       "      <td>0</td>\n",
       "      <td>2019-05-24 12:16:17.087 UTC</td>\n",
       "      <td>5674777.0</td>\n",
       "      <td>2</td>\n",
       "      <td>56275396</td>\n",
       "    </tr>\n",
       "    <tr>\n",
       "      <th>1</th>\n",
       "      <td>56292773</td>\n",
       "      <td>0</td>\n",
       "      <td>2019-05-24 12:31:26.12 UTC</td>\n",
       "      <td>8245406.0</td>\n",
       "      <td>2</td>\n",
       "      <td>56292148</td>\n",
       "    </tr>\n",
       "    <tr>\n",
       "      <th>2</th>\n",
       "      <td>56292786</td>\n",
       "      <td>0</td>\n",
       "      <td>2019-05-24 12:32:31.437 UTC</td>\n",
       "      <td>8199990.0</td>\n",
       "      <td>2</td>\n",
       "      <td>49432666</td>\n",
       "    </tr>\n",
       "  </tbody>\n",
       "</table>\n",
       "</div>"
      ],
      "text/plain": [
       "         Id  comment_count                creation_date  owner_user_id  score  \\\n",
       "0  56292528              0  2019-05-24 12:16:17.087 UTC      5674777.0      2   \n",
       "1  56292773              0   2019-05-24 12:31:26.12 UTC      8245406.0      2   \n",
       "2  56292786              0  2019-05-24 12:32:31.437 UTC      8199990.0      2   \n",
       "\n",
       "   parent_id  \n",
       "0   56275396  \n",
       "1   56292148  \n",
       "2   49432666  "
      ]
     },
     "execution_count": 33,
     "metadata": {},
     "output_type": "execute_result"
    }
   ],
   "source": [
    "print(answers.shape[0])\n",
    "answers.head(3)"
   ]
  },
  {
   "cell_type": "code",
   "execution_count": 38,
   "metadata": {
    "collapsed": true,
    "jupyter": {
     "outputs_hidden": true
    }
   },
   "outputs": [
    {
     "data": {
      "text/plain": [
       "10172809"
      ]
     },
     "execution_count": 38,
     "metadata": {},
     "output_type": "execute_result"
    }
   ],
   "source": [
    "# there are 65346 na field in the owner id, they should be removed first\n",
    "answers = answers[~answers.owner_user_id.isna()]\n",
    "answers.shape[0] # 10172809 entries"
   ]
  },
  {
   "cell_type": "code",
   "execution_count": 39,
   "metadata": {},
   "outputs": [
    {
     "data": {
      "text/plain": [
       "2784917"
      ]
     },
     "execution_count": 39,
     "metadata": {},
     "output_type": "execute_result"
    }
   ],
   "source": [
    "allUsers.shape[0]"
   ]
  },
  {
   "cell_type": "code",
   "execution_count": 41,
   "metadata": {
    "collapsed": true,
    "jupyter": {
     "outputs_hidden": true
    }
   },
   "outputs": [
    {
     "data": {
      "text/plain": [
       "1319455"
      ]
     },
     "execution_count": 41,
     "metadata": {},
     "output_type": "execute_result"
    }
   ],
   "source": [
    "# distinct users count of all the answers\n",
    "answers[['Id', 'owner_user_id']].groupby('owner_user_id').agg('count').shape[0]"
   ]
  },
  {
   "cell_type": "code",
   "execution_count": 44,
   "metadata": {},
   "outputs": [
    {
     "data": {
      "text/html": [
       "<div>\n",
       "<style scoped>\n",
       "    .dataframe tbody tr th:only-of-type {\n",
       "        vertical-align: middle;\n",
       "    }\n",
       "\n",
       "    .dataframe tbody tr th {\n",
       "        vertical-align: top;\n",
       "    }\n",
       "\n",
       "    .dataframe thead th {\n",
       "        text-align: right;\n",
       "    }\n",
       "</style>\n",
       "<table border=\"1\" class=\"dataframe\">\n",
       "  <thead>\n",
       "    <tr style=\"text-align: right;\">\n",
       "      <th></th>\n",
       "      <th>Id</th>\n",
       "    </tr>\n",
       "    <tr>\n",
       "      <th>parent_id</th>\n",
       "      <th></th>\n",
       "    </tr>\n",
       "  </thead>\n",
       "  <tbody>\n",
       "    <tr>\n",
       "      <th>20915266</th>\n",
       "      <td>61</td>\n",
       "    </tr>\n",
       "    <tr>\n",
       "      <th>17054000</th>\n",
       "      <td>60</td>\n",
       "    </tr>\n",
       "    <tr>\n",
       "      <th>114543</th>\n",
       "      <td>58</td>\n",
       "    </tr>\n",
       "    <tr>\n",
       "      <th>46267621</th>\n",
       "      <td>58</td>\n",
       "    </tr>\n",
       "    <tr>\n",
       "      <th>50718018</th>\n",
       "      <td>57</td>\n",
       "    </tr>\n",
       "  </tbody>\n",
       "</table>\n",
       "</div>"
      ],
      "text/plain": [
       "           Id\n",
       "parent_id    \n",
       "20915266   61\n",
       "17054000   60\n",
       "114543     58\n",
       "46267621   58\n",
       "50718018   57"
      ]
     },
     "execution_count": 44,
     "metadata": {},
     "output_type": "execute_result"
    }
   ],
   "source": [
    "# grouping the popular questions out\n",
    "answers[['parent_id', 'Id']].groupby('parent_id').agg('count').sort_values(by='Id', ascending=False).head(5)"
   ]
  },
  {
   "cell_type": "code",
   "execution_count": 45,
   "metadata": {},
   "outputs": [
    {
     "data": {
      "text/plain": [
       "677103"
      ]
     },
     "execution_count": 45,
     "metadata": {},
     "output_type": "execute_result"
    }
   ],
   "source": [
    "quesWithLocation[quesWithLocation.answer_count < 1].shape[0]"
   ]
  },
  {
   "cell_type": "markdown",
   "metadata": {},
   "source": [
    "There are very popular questions that got over 60 answers. However, there are still a significant portion (~ 20%) of the questions that does not receive any answers in the past 4 years."
   ]
  },
  {
   "cell_type": "code",
   "execution_count": 40,
   "metadata": {},
   "outputs": [
    {
     "data": {
      "text/plain": [
       "610070"
      ]
     },
     "execution_count": 40,
     "metadata": {},
     "output_type": "execute_result"
    }
   ],
   "source": [
    "# unique user count with location count\n",
    "answers.loc[answers.owner_user_id.isin(allUsers.user_id), ['Id', 'owner_user_id']]\\\n",
    "         .groupby('owner_user_id').agg('count').shape[0]"
   ]
  },
  {
   "cell_type": "markdown",
   "metadata": {},
   "source": [
    "Only 610070 in the user subset we focused in (those who has a valid country field) actually provide an answer in the past 4 years in stackoverflow, which is around 22% of the users in focus."
   ]
  },
  {
   "cell_type": "code",
   "execution_count": 46,
   "metadata": {},
   "outputs": [
    {
     "data": {
      "text/html": [
       "<div>\n",
       "<style scoped>\n",
       "    .dataframe tbody tr th:only-of-type {\n",
       "        vertical-align: middle;\n",
       "    }\n",
       "\n",
       "    .dataframe tbody tr th {\n",
       "        vertical-align: top;\n",
       "    }\n",
       "\n",
       "    .dataframe thead th {\n",
       "        text-align: right;\n",
       "    }\n",
       "</style>\n",
       "<table border=\"1\" class=\"dataframe\">\n",
       "  <thead>\n",
       "    <tr style=\"text-align: right;\">\n",
       "      <th></th>\n",
       "      <th>user_id</th>\n",
       "      <th>age</th>\n",
       "      <th>creation_date</th>\n",
       "      <th>user_reputation</th>\n",
       "      <th>up_votes</th>\n",
       "      <th>down_votes</th>\n",
       "      <th>country_iso3</th>\n",
       "    </tr>\n",
       "  </thead>\n",
       "  <tbody>\n",
       "    <tr>\n",
       "      <th>0</th>\n",
       "      <td>7019478</td>\n",
       "      <td>NaN</td>\n",
       "      <td>2016-10-14 13:36:30.96 UTC</td>\n",
       "      <td>1</td>\n",
       "      <td>0</td>\n",
       "      <td>0</td>\n",
       "      <td>SGP</td>\n",
       "    </tr>\n",
       "    <tr>\n",
       "      <th>1</th>\n",
       "      <td>7074992</td>\n",
       "      <td>NaN</td>\n",
       "      <td>2016-10-26 12:11:08.41 UTC</td>\n",
       "      <td>1</td>\n",
       "      <td>0</td>\n",
       "      <td>0</td>\n",
       "      <td>EGY</td>\n",
       "    </tr>\n",
       "    <tr>\n",
       "      <th>2</th>\n",
       "      <td>7093392</td>\n",
       "      <td>NaN</td>\n",
       "      <td>2016-10-31 02:19:04.64 UTC</td>\n",
       "      <td>1</td>\n",
       "      <td>0</td>\n",
       "      <td>0</td>\n",
       "      <td>USA</td>\n",
       "    </tr>\n",
       "  </tbody>\n",
       "</table>\n",
       "</div>"
      ],
      "text/plain": [
       "   user_id  age               creation_date  user_reputation  up_votes  \\\n",
       "0  7019478  NaN  2016-10-14 13:36:30.96 UTC                1         0   \n",
       "1  7074992  NaN  2016-10-26 12:11:08.41 UTC                1         0   \n",
       "2  7093392  NaN  2016-10-31 02:19:04.64 UTC                1         0   \n",
       "\n",
       "   down_votes country_iso3  \n",
       "0           0          SGP  \n",
       "1           0          EGY  \n",
       "2           0          USA  "
      ]
     },
     "execution_count": 46,
     "metadata": {},
     "output_type": "execute_result"
    }
   ],
   "source": [
    "allUsers.head(3)"
   ]
  },
  {
   "cell_type": "code",
   "execution_count": 49,
   "metadata": {},
   "outputs": [
    {
     "data": {
      "text/html": [
       "<div>\n",
       "<style scoped>\n",
       "    .dataframe tbody tr th:only-of-type {\n",
       "        vertical-align: middle;\n",
       "    }\n",
       "\n",
       "    .dataframe tbody tr th {\n",
       "        vertical-align: top;\n",
       "    }\n",
       "\n",
       "    .dataframe thead th {\n",
       "        text-align: right;\n",
       "    }\n",
       "</style>\n",
       "<table border=\"1\" class=\"dataframe\">\n",
       "  <thead>\n",
       "    <tr style=\"text-align: right;\">\n",
       "      <th></th>\n",
       "      <th>Id</th>\n",
       "      <th>comment_count</th>\n",
       "      <th>creation_date</th>\n",
       "      <th>owner_user_id</th>\n",
       "      <th>score</th>\n",
       "      <th>parent_id</th>\n",
       "    </tr>\n",
       "  </thead>\n",
       "  <tbody>\n",
       "    <tr>\n",
       "      <th>0</th>\n",
       "      <td>56292528</td>\n",
       "      <td>0</td>\n",
       "      <td>2019-05-24 12:16:17.087 UTC</td>\n",
       "      <td>5674777.0</td>\n",
       "      <td>2</td>\n",
       "      <td>56275396</td>\n",
       "    </tr>\n",
       "    <tr>\n",
       "      <th>1</th>\n",
       "      <td>56292773</td>\n",
       "      <td>0</td>\n",
       "      <td>2019-05-24 12:31:26.12 UTC</td>\n",
       "      <td>8245406.0</td>\n",
       "      <td>2</td>\n",
       "      <td>56292148</td>\n",
       "    </tr>\n",
       "    <tr>\n",
       "      <th>2</th>\n",
       "      <td>56292786</td>\n",
       "      <td>0</td>\n",
       "      <td>2019-05-24 12:32:31.437 UTC</td>\n",
       "      <td>8199990.0</td>\n",
       "      <td>2</td>\n",
       "      <td>49432666</td>\n",
       "    </tr>\n",
       "  </tbody>\n",
       "</table>\n",
       "</div>"
      ],
      "text/plain": [
       "         Id  comment_count                creation_date  owner_user_id  score  \\\n",
       "0  56292528              0  2019-05-24 12:16:17.087 UTC      5674777.0      2   \n",
       "1  56292773              0   2019-05-24 12:31:26.12 UTC      8245406.0      2   \n",
       "2  56292786              0  2019-05-24 12:32:31.437 UTC      8199990.0      2   \n",
       "\n",
       "   parent_id  \n",
       "0   56275396  \n",
       "1   56292148  \n",
       "2   49432666  "
      ]
     },
     "execution_count": 49,
     "metadata": {},
     "output_type": "execute_result"
    }
   ],
   "source": [
    "answers.head(3)"
   ]
  },
  {
   "cell_type": "code",
   "execution_count": 54,
   "metadata": {},
   "outputs": [],
   "source": [
    "# link the answers to the user info\n",
    "ansWithLocation = allUsers[['user_id', 'user_reputation', 'country_iso3']]\\\n",
    "                            .merge(answers, left_on='user_id', right_on='owner_user_id', how='inner') \n",
    "ansWithLocation.drop(columns='owner_user_id', inplace=True)\n",
    "ansWithLocation.rename(columns={'parent_id': 'question_id', 'score': 'answer_score', 'Id': 'answer_id'}, inplace=True)\n",
    "# 7171637 rows in ansWithLocation"
   ]
  },
  {
   "cell_type": "code",
   "execution_count": 61,
   "metadata": {},
   "outputs": [
    {
     "data": {
      "text/html": [
       "<div>\n",
       "<style scoped>\n",
       "    .dataframe tbody tr th:only-of-type {\n",
       "        vertical-align: middle;\n",
       "    }\n",
       "\n",
       "    .dataframe tbody tr th {\n",
       "        vertical-align: top;\n",
       "    }\n",
       "\n",
       "    .dataframe thead th {\n",
       "        text-align: right;\n",
       "    }\n",
       "</style>\n",
       "<table border=\"1\" class=\"dataframe\">\n",
       "  <thead>\n",
       "    <tr style=\"text-align: right;\">\n",
       "      <th></th>\n",
       "      <th>user_id</th>\n",
       "      <th>user_reputation</th>\n",
       "      <th>country_iso3</th>\n",
       "      <th>answer_id</th>\n",
       "      <th>comment_count</th>\n",
       "      <th>creation_date</th>\n",
       "      <th>answer_score</th>\n",
       "      <th>question_id</th>\n",
       "    </tr>\n",
       "  </thead>\n",
       "  <tbody>\n",
       "    <tr>\n",
       "      <th>0</th>\n",
       "      <td>7573797</td>\n",
       "      <td>1</td>\n",
       "      <td>IRN</td>\n",
       "      <td>44882800</td>\n",
       "      <td>0</td>\n",
       "      <td>2017-07-03 10:03:45.947 UTC</td>\n",
       "      <td>0</td>\n",
       "      <td>9783740</td>\n",
       "    </tr>\n",
       "    <tr>\n",
       "      <th>1</th>\n",
       "      <td>7573797</td>\n",
       "      <td>1</td>\n",
       "      <td>IRN</td>\n",
       "      <td>45163140</td>\n",
       "      <td>0</td>\n",
       "      <td>2017-07-18 09:47:13.027 UTC</td>\n",
       "      <td>0</td>\n",
       "      <td>24985627</td>\n",
       "    </tr>\n",
       "    <tr>\n",
       "      <th>2</th>\n",
       "      <td>4796241</td>\n",
       "      <td>1</td>\n",
       "      <td>FIN</td>\n",
       "      <td>57655419</td>\n",
       "      <td>0</td>\n",
       "      <td>2019-08-26 09:42:51.17 UTC</td>\n",
       "      <td>0</td>\n",
       "      <td>56212126</td>\n",
       "    </tr>\n",
       "  </tbody>\n",
       "</table>\n",
       "</div>"
      ],
      "text/plain": [
       "   user_id  user_reputation country_iso3  answer_id  comment_count  \\\n",
       "0  7573797                1          IRN   44882800              0   \n",
       "1  7573797                1          IRN   45163140              0   \n",
       "2  4796241                1          FIN   57655419              0   \n",
       "\n",
       "                 creation_date  answer_score  question_id  \n",
       "0  2017-07-03 10:03:45.947 UTC             0      9783740  \n",
       "1  2017-07-18 09:47:13.027 UTC             0     24985627  \n",
       "2   2019-08-26 09:42:51.17 UTC             0     56212126  "
      ]
     },
     "execution_count": 61,
     "metadata": {},
     "output_type": "execute_result"
    }
   ],
   "source": [
    "ansWithLocation.head(3)"
   ]
  },
  {
   "cell_type": "code",
   "execution_count": 64,
   "metadata": {},
   "outputs": [
    {
     "data": {
      "text/plain": [
       "6899309"
      ]
     },
     "execution_count": 64,
     "metadata": {},
     "output_type": "execute_result"
    }
   ],
   "source": [
    "# again drop the rows that have country_iso3 is empty\n",
    "# ansWithLocation[ansWithLocation.country_iso3.isna()].shape[0]       # 272328 rows have country field na\n",
    "\n",
    "ansWithLocation = ansWithLocation[~ansWithLocation.country_iso3.isna()]\n",
    "ansWithLocation.shape[0]                 # 6899309 rows are left after removing na country rows"
   ]
  },
  {
   "cell_type": "code",
   "execution_count": 66,
   "metadata": {},
   "outputs": [],
   "source": [
    "# save the answers with location dataframe to pkl\n",
    "ansWithLocation.to_pickle('./answer_with_location.pkl's)"
   ]
  },
  {
   "cell_type": "markdown",
   "metadata": {},
   "source": [
    "# Separator"
   ]
  },
  {
   "cell_type": "code",
   "execution_count": 56,
   "metadata": {},
   "outputs": [
    {
     "data": {
      "text/plain": [
       "3457140"
      ]
     },
     "execution_count": 56,
     "metadata": {},
     "output_type": "execute_result"
    }
   ],
   "source": [
    "ansWithLocation[ansWithLocation.comment_count > 0].shape[0]"
   ]
  },
  {
   "cell_type": "code",
   "execution_count": 67,
   "metadata": {},
   "outputs": [
    {
     "data": {
      "text/plain": [
       "user_id            False\n",
       "age                 True\n",
       "creation_date      False\n",
       "user_reputation    False\n",
       "up_votes           False\n",
       "down_votes         False\n",
       "country_iso3        True\n",
       "dtype: bool"
      ]
     },
     "execution_count": 67,
     "metadata": {},
     "output_type": "execute_result"
    }
   ],
   "source": [
    "allUsers.isna().any()"
   ]
  },
  {
   "cell_type": "code",
   "execution_count": 70,
   "metadata": {},
   "outputs": [
    {
     "data": {
      "text/plain": [
       "2665796"
      ]
     },
     "execution_count": 70,
     "metadata": {},
     "output_type": "execute_result"
    }
   ],
   "source": [
    "allUsers[~allUsers.country_iso3.isna()].shape[0]"
   ]
  },
  {
   "cell_type": "code",
   "execution_count": 71,
   "metadata": {},
   "outputs": [],
   "source": [
    "allUsers[~allUsers.country_iso3.isna()].to_pickle('./user_without_null_country.pkl')"
   ]
  },
  {
   "cell_type": "code",
   "execution_count": null,
   "metadata": {},
   "outputs": [],
   "source": []
  }
 ],
 "metadata": {
  "kernelspec": {
   "display_name": "Python 3",
   "language": "python",
   "name": "python3"
  },
  "language_info": {
   "codemirror_mode": {
    "name": "ipython",
    "version": 3
   },
   "file_extension": ".py",
   "mimetype": "text/x-python",
   "name": "python",
   "nbconvert_exporter": "python",
   "pygments_lexer": "ipython3",
   "version": "3.7.3"
  }
 },
 "nbformat": 4,
 "nbformat_minor": 4
}
